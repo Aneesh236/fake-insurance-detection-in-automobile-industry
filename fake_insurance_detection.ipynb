{
  "nbformat": 4,
  "nbformat_minor": 0,
  "metadata": {
    "colab": {
      "provenance": [],
      "mount_file_id": "1ytyUV40l7u_8jfzgaPZ_DQRYeoxURARD",
      "authorship_tag": "ABX9TyNcZBCVV0KkZlf1Lc5JXdB/",
      "include_colab_link": true
    },
    "kernelspec": {
      "name": "python3",
      "display_name": "Python 3"
    },
    "language_info": {
      "name": "python"
    }
  },
  "cells": [
    {
      "cell_type": "markdown",
      "metadata": {
        "id": "view-in-github",
        "colab_type": "text"
      },
      "source": [
        "<a href=\"https://colab.research.google.com/github/Aneesh236/fake-insurance-detection-using-ADASYN-and-SMOTE/blob/main/fake_insurance_detection.ipynb\" target=\"_parent\"><img src=\"https://colab.research.google.com/assets/colab-badge.svg\" alt=\"Open In Colab\"/></a>"
      ]
    },
    {
      "cell_type": "markdown",
      "source": [
        "**Importing** **libraries**"
      ],
      "metadata": {
        "id": "aD8IKBfMg1Oa"
      }
    },
    {
      "cell_type": "code",
      "execution_count": null,
      "metadata": {
        "id": "O9qqEy4DahTD"
      },
      "outputs": [],
      "source": [
        "#Importing the essential datasets\n",
        "\n",
        "import pandas as pd\n",
        "import numpy as np\n",
        "import matplotlib.pyplot as plt\n",
        "import seaborn as sns\n",
        "from sklearn.preprocessing import LabelEncoder\n",
        "from sklearn.model_selection import train_test_split\n",
        "from imblearn.over_sampling import ADASYN\n",
        "from collections import Counter\n",
        "from xgboost import XGBClassifier\n",
        "from sklearn.ensemble import RandomForestClassifier\n",
        "from sklearn.metrics import accuracy_score, confusion_matrix, classification_report\n",
        "from sklearn.svm import SVC\n",
        "from sklearn.tree import DecisionTreeClassifier\n",
        "from imblearn.over_sampling import SMOTE\n",
        "from sklearn.pipeline import make_pipeline\n",
        "from imblearn.pipeline import make_pipeline as make_pipeline_imb\n",
        "from imblearn.pipeline import make_pipeline as imbalanced_make_pipeline\n"
      ]
    },
    {
      "cell_type": "code",
      "source": [
        "#Reading the file\n",
        "\n",
        "df = pd.read_csv(\"/content/drive/MyDrive/US_claims.csv\")\n",
        "df"
      ],
      "metadata": {
        "id": "iDqvan4_awLZ",
        "colab": {
          "base_uri": "https://localhost:8080/",
          "height": 488
        },
        "outputId": "7233845c-cf41-40b1-fdd3-8e7dfccaf736"
      },
      "execution_count": null,
      "outputs": [
        {
          "output_type": "execute_result",
          "data": {
            "text/plain": [
              "     months_as_customer  age  policy_number policy_bind_date policy_state  \\\n",
              "0                   328   48         521585       2014-10-17           OH   \n",
              "1                   228   42         342868       2006-06-27           IN   \n",
              "2                   134   29         687698       2000-09-06           OH   \n",
              "3                   256   41         227811       1990-05-25           IL   \n",
              "4                   228   44         367455       2014-06-06           IL   \n",
              "..                  ...  ...            ...              ...          ...   \n",
              "995                   3   38         941851       1991-07-16           OH   \n",
              "996                 285   41         186934       2014-01-05           IL   \n",
              "997                 130   34         918516       2003-02-17           OH   \n",
              "998                 458   62         533940       2011-11-18           IL   \n",
              "999                 456   60         556080       1996-11-11           OH   \n",
              "\n",
              "    policy_csl  policy_deductable  policy_annual_premium  umbrella_limit  \\\n",
              "0      250/500               1000                1406.91               0   \n",
              "1      250/500               2000                1197.22         5000000   \n",
              "2      100/300               2000                1413.14         5000000   \n",
              "3      250/500               2000                1415.74         6000000   \n",
              "4     500/1000               1000                1583.91         6000000   \n",
              "..         ...                ...                    ...             ...   \n",
              "995   500/1000               1000                1310.80               0   \n",
              "996    100/300               1000                1436.79               0   \n",
              "997    250/500                500                1383.49         3000000   \n",
              "998   500/1000               2000                1356.92         5000000   \n",
              "999    250/500               1000                 766.19               0   \n",
              "\n",
              "     insured_zip  ... police_report_available total_claim_amount injury_claim  \\\n",
              "0         466132  ...                     YES              71610         6510   \n",
              "1         468176  ...                       ?               5070          780   \n",
              "2         430632  ...                      NO              34650         7700   \n",
              "3         608117  ...                      NO              63400         6340   \n",
              "4         610706  ...                      NO               6500         1300   \n",
              "..           ...  ...                     ...                ...          ...   \n",
              "995       431289  ...                       ?              87200        17440   \n",
              "996       608177  ...                       ?             108480        18080   \n",
              "997       442797  ...                     YES              67500         7500   \n",
              "998       441714  ...                     YES              46980         5220   \n",
              "999       612260  ...                       ?               5060          460   \n",
              "\n",
              "    property_claim vehicle_claim   auto_make  auto_model auto_year  \\\n",
              "0            13020         52080        Saab         92x      2004   \n",
              "1              780          3510    Mercedes        E400      2007   \n",
              "2             3850         23100       Dodge         RAM      2007   \n",
              "3             6340         50720   Chevrolet       Tahoe      2014   \n",
              "4              650          4550      Accura         RSX      2009   \n",
              "..             ...           ...         ...         ...       ...   \n",
              "995           8720         61040       Honda      Accord      2006   \n",
              "996          18080         72320  Volkswagen      Passat      2015   \n",
              "997           7500         52500      Suburu     Impreza      1996   \n",
              "998           5220         36540        Audi          A5      1998   \n",
              "999            920          3680    Mercedes        E400      2007   \n",
              "\n",
              "    fraud_reported _c39  \n",
              "0                Y  NaN  \n",
              "1                Y  NaN  \n",
              "2                N  NaN  \n",
              "3                Y  NaN  \n",
              "4                N  NaN  \n",
              "..             ...  ...  \n",
              "995              N  NaN  \n",
              "996              N  NaN  \n",
              "997              N  NaN  \n",
              "998              N  NaN  \n",
              "999              N  NaN  \n",
              "\n",
              "[1000 rows x 40 columns]"
            ],
            "text/html": [
              "\n",
              "  <div id=\"df-b53ae9eb-af0a-4d1a-9b5e-3e0c5d5c8d03\">\n",
              "    <div class=\"colab-df-container\">\n",
              "      <div>\n",
              "<style scoped>\n",
              "    .dataframe tbody tr th:only-of-type {\n",
              "        vertical-align: middle;\n",
              "    }\n",
              "\n",
              "    .dataframe tbody tr th {\n",
              "        vertical-align: top;\n",
              "    }\n",
              "\n",
              "    .dataframe thead th {\n",
              "        text-align: right;\n",
              "    }\n",
              "</style>\n",
              "<table border=\"1\" class=\"dataframe\">\n",
              "  <thead>\n",
              "    <tr style=\"text-align: right;\">\n",
              "      <th></th>\n",
              "      <th>months_as_customer</th>\n",
              "      <th>age</th>\n",
              "      <th>policy_number</th>\n",
              "      <th>policy_bind_date</th>\n",
              "      <th>policy_state</th>\n",
              "      <th>policy_csl</th>\n",
              "      <th>policy_deductable</th>\n",
              "      <th>policy_annual_premium</th>\n",
              "      <th>umbrella_limit</th>\n",
              "      <th>insured_zip</th>\n",
              "      <th>...</th>\n",
              "      <th>police_report_available</th>\n",
              "      <th>total_claim_amount</th>\n",
              "      <th>injury_claim</th>\n",
              "      <th>property_claim</th>\n",
              "      <th>vehicle_claim</th>\n",
              "      <th>auto_make</th>\n",
              "      <th>auto_model</th>\n",
              "      <th>auto_year</th>\n",
              "      <th>fraud_reported</th>\n",
              "      <th>_c39</th>\n",
              "    </tr>\n",
              "  </thead>\n",
              "  <tbody>\n",
              "    <tr>\n",
              "      <th>0</th>\n",
              "      <td>328</td>\n",
              "      <td>48</td>\n",
              "      <td>521585</td>\n",
              "      <td>2014-10-17</td>\n",
              "      <td>OH</td>\n",
              "      <td>250/500</td>\n",
              "      <td>1000</td>\n",
              "      <td>1406.91</td>\n",
              "      <td>0</td>\n",
              "      <td>466132</td>\n",
              "      <td>...</td>\n",
              "      <td>YES</td>\n",
              "      <td>71610</td>\n",
              "      <td>6510</td>\n",
              "      <td>13020</td>\n",
              "      <td>52080</td>\n",
              "      <td>Saab</td>\n",
              "      <td>92x</td>\n",
              "      <td>2004</td>\n",
              "      <td>Y</td>\n",
              "      <td>NaN</td>\n",
              "    </tr>\n",
              "    <tr>\n",
              "      <th>1</th>\n",
              "      <td>228</td>\n",
              "      <td>42</td>\n",
              "      <td>342868</td>\n",
              "      <td>2006-06-27</td>\n",
              "      <td>IN</td>\n",
              "      <td>250/500</td>\n",
              "      <td>2000</td>\n",
              "      <td>1197.22</td>\n",
              "      <td>5000000</td>\n",
              "      <td>468176</td>\n",
              "      <td>...</td>\n",
              "      <td>?</td>\n",
              "      <td>5070</td>\n",
              "      <td>780</td>\n",
              "      <td>780</td>\n",
              "      <td>3510</td>\n",
              "      <td>Mercedes</td>\n",
              "      <td>E400</td>\n",
              "      <td>2007</td>\n",
              "      <td>Y</td>\n",
              "      <td>NaN</td>\n",
              "    </tr>\n",
              "    <tr>\n",
              "      <th>2</th>\n",
              "      <td>134</td>\n",
              "      <td>29</td>\n",
              "      <td>687698</td>\n",
              "      <td>2000-09-06</td>\n",
              "      <td>OH</td>\n",
              "      <td>100/300</td>\n",
              "      <td>2000</td>\n",
              "      <td>1413.14</td>\n",
              "      <td>5000000</td>\n",
              "      <td>430632</td>\n",
              "      <td>...</td>\n",
              "      <td>NO</td>\n",
              "      <td>34650</td>\n",
              "      <td>7700</td>\n",
              "      <td>3850</td>\n",
              "      <td>23100</td>\n",
              "      <td>Dodge</td>\n",
              "      <td>RAM</td>\n",
              "      <td>2007</td>\n",
              "      <td>N</td>\n",
              "      <td>NaN</td>\n",
              "    </tr>\n",
              "    <tr>\n",
              "      <th>3</th>\n",
              "      <td>256</td>\n",
              "      <td>41</td>\n",
              "      <td>227811</td>\n",
              "      <td>1990-05-25</td>\n",
              "      <td>IL</td>\n",
              "      <td>250/500</td>\n",
              "      <td>2000</td>\n",
              "      <td>1415.74</td>\n",
              "      <td>6000000</td>\n",
              "      <td>608117</td>\n",
              "      <td>...</td>\n",
              "      <td>NO</td>\n",
              "      <td>63400</td>\n",
              "      <td>6340</td>\n",
              "      <td>6340</td>\n",
              "      <td>50720</td>\n",
              "      <td>Chevrolet</td>\n",
              "      <td>Tahoe</td>\n",
              "      <td>2014</td>\n",
              "      <td>Y</td>\n",
              "      <td>NaN</td>\n",
              "    </tr>\n",
              "    <tr>\n",
              "      <th>4</th>\n",
              "      <td>228</td>\n",
              "      <td>44</td>\n",
              "      <td>367455</td>\n",
              "      <td>2014-06-06</td>\n",
              "      <td>IL</td>\n",
              "      <td>500/1000</td>\n",
              "      <td>1000</td>\n",
              "      <td>1583.91</td>\n",
              "      <td>6000000</td>\n",
              "      <td>610706</td>\n",
              "      <td>...</td>\n",
              "      <td>NO</td>\n",
              "      <td>6500</td>\n",
              "      <td>1300</td>\n",
              "      <td>650</td>\n",
              "      <td>4550</td>\n",
              "      <td>Accura</td>\n",
              "      <td>RSX</td>\n",
              "      <td>2009</td>\n",
              "      <td>N</td>\n",
              "      <td>NaN</td>\n",
              "    </tr>\n",
              "    <tr>\n",
              "      <th>...</th>\n",
              "      <td>...</td>\n",
              "      <td>...</td>\n",
              "      <td>...</td>\n",
              "      <td>...</td>\n",
              "      <td>...</td>\n",
              "      <td>...</td>\n",
              "      <td>...</td>\n",
              "      <td>...</td>\n",
              "      <td>...</td>\n",
              "      <td>...</td>\n",
              "      <td>...</td>\n",
              "      <td>...</td>\n",
              "      <td>...</td>\n",
              "      <td>...</td>\n",
              "      <td>...</td>\n",
              "      <td>...</td>\n",
              "      <td>...</td>\n",
              "      <td>...</td>\n",
              "      <td>...</td>\n",
              "      <td>...</td>\n",
              "      <td>...</td>\n",
              "    </tr>\n",
              "    <tr>\n",
              "      <th>995</th>\n",
              "      <td>3</td>\n",
              "      <td>38</td>\n",
              "      <td>941851</td>\n",
              "      <td>1991-07-16</td>\n",
              "      <td>OH</td>\n",
              "      <td>500/1000</td>\n",
              "      <td>1000</td>\n",
              "      <td>1310.80</td>\n",
              "      <td>0</td>\n",
              "      <td>431289</td>\n",
              "      <td>...</td>\n",
              "      <td>?</td>\n",
              "      <td>87200</td>\n",
              "      <td>17440</td>\n",
              "      <td>8720</td>\n",
              "      <td>61040</td>\n",
              "      <td>Honda</td>\n",
              "      <td>Accord</td>\n",
              "      <td>2006</td>\n",
              "      <td>N</td>\n",
              "      <td>NaN</td>\n",
              "    </tr>\n",
              "    <tr>\n",
              "      <th>996</th>\n",
              "      <td>285</td>\n",
              "      <td>41</td>\n",
              "      <td>186934</td>\n",
              "      <td>2014-01-05</td>\n",
              "      <td>IL</td>\n",
              "      <td>100/300</td>\n",
              "      <td>1000</td>\n",
              "      <td>1436.79</td>\n",
              "      <td>0</td>\n",
              "      <td>608177</td>\n",
              "      <td>...</td>\n",
              "      <td>?</td>\n",
              "      <td>108480</td>\n",
              "      <td>18080</td>\n",
              "      <td>18080</td>\n",
              "      <td>72320</td>\n",
              "      <td>Volkswagen</td>\n",
              "      <td>Passat</td>\n",
              "      <td>2015</td>\n",
              "      <td>N</td>\n",
              "      <td>NaN</td>\n",
              "    </tr>\n",
              "    <tr>\n",
              "      <th>997</th>\n",
              "      <td>130</td>\n",
              "      <td>34</td>\n",
              "      <td>918516</td>\n",
              "      <td>2003-02-17</td>\n",
              "      <td>OH</td>\n",
              "      <td>250/500</td>\n",
              "      <td>500</td>\n",
              "      <td>1383.49</td>\n",
              "      <td>3000000</td>\n",
              "      <td>442797</td>\n",
              "      <td>...</td>\n",
              "      <td>YES</td>\n",
              "      <td>67500</td>\n",
              "      <td>7500</td>\n",
              "      <td>7500</td>\n",
              "      <td>52500</td>\n",
              "      <td>Suburu</td>\n",
              "      <td>Impreza</td>\n",
              "      <td>1996</td>\n",
              "      <td>N</td>\n",
              "      <td>NaN</td>\n",
              "    </tr>\n",
              "    <tr>\n",
              "      <th>998</th>\n",
              "      <td>458</td>\n",
              "      <td>62</td>\n",
              "      <td>533940</td>\n",
              "      <td>2011-11-18</td>\n",
              "      <td>IL</td>\n",
              "      <td>500/1000</td>\n",
              "      <td>2000</td>\n",
              "      <td>1356.92</td>\n",
              "      <td>5000000</td>\n",
              "      <td>441714</td>\n",
              "      <td>...</td>\n",
              "      <td>YES</td>\n",
              "      <td>46980</td>\n",
              "      <td>5220</td>\n",
              "      <td>5220</td>\n",
              "      <td>36540</td>\n",
              "      <td>Audi</td>\n",
              "      <td>A5</td>\n",
              "      <td>1998</td>\n",
              "      <td>N</td>\n",
              "      <td>NaN</td>\n",
              "    </tr>\n",
              "    <tr>\n",
              "      <th>999</th>\n",
              "      <td>456</td>\n",
              "      <td>60</td>\n",
              "      <td>556080</td>\n",
              "      <td>1996-11-11</td>\n",
              "      <td>OH</td>\n",
              "      <td>250/500</td>\n",
              "      <td>1000</td>\n",
              "      <td>766.19</td>\n",
              "      <td>0</td>\n",
              "      <td>612260</td>\n",
              "      <td>...</td>\n",
              "      <td>?</td>\n",
              "      <td>5060</td>\n",
              "      <td>460</td>\n",
              "      <td>920</td>\n",
              "      <td>3680</td>\n",
              "      <td>Mercedes</td>\n",
              "      <td>E400</td>\n",
              "      <td>2007</td>\n",
              "      <td>N</td>\n",
              "      <td>NaN</td>\n",
              "    </tr>\n",
              "  </tbody>\n",
              "</table>\n",
              "<p>1000 rows × 40 columns</p>\n",
              "</div>\n",
              "      <button class=\"colab-df-convert\" onclick=\"convertToInteractive('df-b53ae9eb-af0a-4d1a-9b5e-3e0c5d5c8d03')\"\n",
              "              title=\"Convert this dataframe to an interactive table.\"\n",
              "              style=\"display:none;\">\n",
              "        \n",
              "  <svg xmlns=\"http://www.w3.org/2000/svg\" height=\"24px\"viewBox=\"0 0 24 24\"\n",
              "       width=\"24px\">\n",
              "    <path d=\"M0 0h24v24H0V0z\" fill=\"none\"/>\n",
              "    <path d=\"M18.56 5.44l.94 2.06.94-2.06 2.06-.94-2.06-.94-.94-2.06-.94 2.06-2.06.94zm-11 1L8.5 8.5l.94-2.06 2.06-.94-2.06-.94L8.5 2.5l-.94 2.06-2.06.94zm10 10l.94 2.06.94-2.06 2.06-.94-2.06-.94-.94-2.06-.94 2.06-2.06.94z\"/><path d=\"M17.41 7.96l-1.37-1.37c-.4-.4-.92-.59-1.43-.59-.52 0-1.04.2-1.43.59L10.3 9.45l-7.72 7.72c-.78.78-.78 2.05 0 2.83L4 21.41c.39.39.9.59 1.41.59.51 0 1.02-.2 1.41-.59l7.78-7.78 2.81-2.81c.8-.78.8-2.07 0-2.86zM5.41 20L4 18.59l7.72-7.72 1.47 1.35L5.41 20z\"/>\n",
              "  </svg>\n",
              "      </button>\n",
              "      \n",
              "  <style>\n",
              "    .colab-df-container {\n",
              "      display:flex;\n",
              "      flex-wrap:wrap;\n",
              "      gap: 12px;\n",
              "    }\n",
              "\n",
              "    .colab-df-convert {\n",
              "      background-color: #E8F0FE;\n",
              "      border: none;\n",
              "      border-radius: 50%;\n",
              "      cursor: pointer;\n",
              "      display: none;\n",
              "      fill: #1967D2;\n",
              "      height: 32px;\n",
              "      padding: 0 0 0 0;\n",
              "      width: 32px;\n",
              "    }\n",
              "\n",
              "    .colab-df-convert:hover {\n",
              "      background-color: #E2EBFA;\n",
              "      box-shadow: 0px 1px 2px rgba(60, 64, 67, 0.3), 0px 1px 3px 1px rgba(60, 64, 67, 0.15);\n",
              "      fill: #174EA6;\n",
              "    }\n",
              "\n",
              "    [theme=dark] .colab-df-convert {\n",
              "      background-color: #3B4455;\n",
              "      fill: #D2E3FC;\n",
              "    }\n",
              "\n",
              "    [theme=dark] .colab-df-convert:hover {\n",
              "      background-color: #434B5C;\n",
              "      box-shadow: 0px 1px 3px 1px rgba(0, 0, 0, 0.15);\n",
              "      filter: drop-shadow(0px 1px 2px rgba(0, 0, 0, 0.3));\n",
              "      fill: #FFFFFF;\n",
              "    }\n",
              "  </style>\n",
              "\n",
              "      <script>\n",
              "        const buttonEl =\n",
              "          document.querySelector('#df-b53ae9eb-af0a-4d1a-9b5e-3e0c5d5c8d03 button.colab-df-convert');\n",
              "        buttonEl.style.display =\n",
              "          google.colab.kernel.accessAllowed ? 'block' : 'none';\n",
              "\n",
              "        async function convertToInteractive(key) {\n",
              "          const element = document.querySelector('#df-b53ae9eb-af0a-4d1a-9b5e-3e0c5d5c8d03');\n",
              "          const dataTable =\n",
              "            await google.colab.kernel.invokeFunction('convertToInteractive',\n",
              "                                                     [key], {});\n",
              "          if (!dataTable) return;\n",
              "\n",
              "          const docLinkHtml = 'Like what you see? Visit the ' +\n",
              "            '<a target=\"_blank\" href=https://colab.research.google.com/notebooks/data_table.ipynb>data table notebook</a>'\n",
              "            + ' to learn more about interactive tables.';\n",
              "          element.innerHTML = '';\n",
              "          dataTable['output_type'] = 'display_data';\n",
              "          await google.colab.output.renderOutput(dataTable, element);\n",
              "          const docLink = document.createElement('div');\n",
              "          docLink.innerHTML = docLinkHtml;\n",
              "          element.appendChild(docLink);\n",
              "        }\n",
              "      </script>\n",
              "    </div>\n",
              "  </div>\n",
              "  "
            ]
          },
          "metadata": {},
          "execution_count": 2
        }
      ]
    },
    {
      "cell_type": "code",
      "source": [
        "df.fraud_reported.value_counts()"
      ],
      "metadata": {
        "colab": {
          "base_uri": "https://localhost:8080/"
        },
        "id": "eOeZtflf1q-q",
        "outputId": "adaa8eb1-37eb-4f57-c260-6d2da0fef6c7"
      },
      "execution_count": null,
      "outputs": [
        {
          "output_type": "execute_result",
          "data": {
            "text/plain": [
              "N    753\n",
              "Y    247\n",
              "Name: fraud_reported, dtype: int64"
            ]
          },
          "metadata": {},
          "execution_count": 3
        }
      ]
    },
    {
      "cell_type": "markdown",
      "source": [
        "**Data preprocessing**"
      ],
      "metadata": {
        "id": "UuNdECsChB9t"
      }
    },
    {
      "cell_type": "markdown",
      "source": [
        "Data Formatting\n",
        "\n"
      ],
      "metadata": {
        "id": "LvAeHUHKv1Xf"
      }
    },
    {
      "cell_type": "code",
      "source": [
        "df.info()"
      ],
      "metadata": {
        "colab": {
          "base_uri": "https://localhost:8080/"
        },
        "id": "VoqiwEcU0Eg3",
        "outputId": "b026f451-229f-4233-cf8c-bb94391be8c7"
      },
      "execution_count": null,
      "outputs": [
        {
          "output_type": "stream",
          "name": "stdout",
          "text": [
            "<class 'pandas.core.frame.DataFrame'>\n",
            "RangeIndex: 1000 entries, 0 to 999\n",
            "Data columns (total 40 columns):\n",
            " #   Column                       Non-Null Count  Dtype  \n",
            "---  ------                       --------------  -----  \n",
            " 0   months_as_customer           1000 non-null   int64  \n",
            " 1   age                          1000 non-null   int64  \n",
            " 2   policy_number                1000 non-null   int64  \n",
            " 3   policy_bind_date             1000 non-null   object \n",
            " 4   policy_state                 1000 non-null   object \n",
            " 5   policy_csl                   1000 non-null   object \n",
            " 6   policy_deductable            1000 non-null   int64  \n",
            " 7   policy_annual_premium        1000 non-null   float64\n",
            " 8   umbrella_limit               1000 non-null   int64  \n",
            " 9   insured_zip                  1000 non-null   int64  \n",
            " 10  insured_sex                  1000 non-null   object \n",
            " 11  insured_education_level      1000 non-null   object \n",
            " 12  insured_occupation           1000 non-null   object \n",
            " 13  insured_hobbies              1000 non-null   object \n",
            " 14  insured_relationship         1000 non-null   object \n",
            " 15  capital-gains                1000 non-null   int64  \n",
            " 16  capital-loss                 1000 non-null   int64  \n",
            " 17  incident_date                1000 non-null   object \n",
            " 18  incident_type                1000 non-null   object \n",
            " 19  collision_type               1000 non-null   object \n",
            " 20  incident_severity            1000 non-null   object \n",
            " 21  authorities_contacted        1000 non-null   object \n",
            " 22  incident_state               1000 non-null   object \n",
            " 23  incident_city                1000 non-null   object \n",
            " 24  incident_location            1000 non-null   object \n",
            " 25  incident_hour_of_the_day     1000 non-null   int64  \n",
            " 26  number_of_vehicles_involved  1000 non-null   int64  \n",
            " 27  property_damage              1000 non-null   object \n",
            " 28  bodily_injuries              1000 non-null   int64  \n",
            " 29  witnesses                    1000 non-null   int64  \n",
            " 30  police_report_available      1000 non-null   object \n",
            " 31  total_claim_amount           1000 non-null   int64  \n",
            " 32  injury_claim                 1000 non-null   int64  \n",
            " 33  property_claim               1000 non-null   int64  \n",
            " 34  vehicle_claim                1000 non-null   int64  \n",
            " 35  auto_make                    1000 non-null   object \n",
            " 36  auto_model                   1000 non-null   object \n",
            " 37  auto_year                    1000 non-null   int64  \n",
            " 38  fraud_reported               1000 non-null   object \n",
            " 39  _c39                         0 non-null      float64\n",
            "dtypes: float64(2), int64(17), object(21)\n",
            "memory usage: 312.6+ KB\n"
          ]
        }
      ]
    },
    {
      "cell_type": "code",
      "source": [
        "#Replacing the rows with ? to NaN\n",
        "df.replace('?', np.nan, inplace = True)\n"
      ],
      "metadata": {
        "id": "liQPRyiKawHZ"
      },
      "execution_count": null,
      "outputs": []
    },
    {
      "cell_type": "code",
      "source": [
        "df.info()"
      ],
      "metadata": {
        "id": "u5ZIwckZawCv",
        "colab": {
          "base_uri": "https://localhost:8080/"
        },
        "outputId": "5649987f-2bc8-436c-e3b8-f8a8e634eec7"
      },
      "execution_count": null,
      "outputs": [
        {
          "output_type": "stream",
          "name": "stdout",
          "text": [
            "<class 'pandas.core.frame.DataFrame'>\n",
            "RangeIndex: 1000 entries, 0 to 999\n",
            "Data columns (total 40 columns):\n",
            " #   Column                       Non-Null Count  Dtype  \n",
            "---  ------                       --------------  -----  \n",
            " 0   months_as_customer           1000 non-null   int64  \n",
            " 1   age                          1000 non-null   int64  \n",
            " 2   policy_number                1000 non-null   int64  \n",
            " 3   policy_bind_date             1000 non-null   object \n",
            " 4   policy_state                 1000 non-null   object \n",
            " 5   policy_csl                   1000 non-null   object \n",
            " 6   policy_deductable            1000 non-null   int64  \n",
            " 7   policy_annual_premium        1000 non-null   float64\n",
            " 8   umbrella_limit               1000 non-null   int64  \n",
            " 9   insured_zip                  1000 non-null   int64  \n",
            " 10  insured_sex                  1000 non-null   object \n",
            " 11  insured_education_level      1000 non-null   object \n",
            " 12  insured_occupation           1000 non-null   object \n",
            " 13  insured_hobbies              1000 non-null   object \n",
            " 14  insured_relationship         1000 non-null   object \n",
            " 15  capital-gains                1000 non-null   int64  \n",
            " 16  capital-loss                 1000 non-null   int64  \n",
            " 17  incident_date                1000 non-null   object \n",
            " 18  incident_type                1000 non-null   object \n",
            " 19  collision_type               822 non-null    object \n",
            " 20  incident_severity            1000 non-null   object \n",
            " 21  authorities_contacted        1000 non-null   object \n",
            " 22  incident_state               1000 non-null   object \n",
            " 23  incident_city                1000 non-null   object \n",
            " 24  incident_location            1000 non-null   object \n",
            " 25  incident_hour_of_the_day     1000 non-null   int64  \n",
            " 26  number_of_vehicles_involved  1000 non-null   int64  \n",
            " 27  property_damage              640 non-null    object \n",
            " 28  bodily_injuries              1000 non-null   int64  \n",
            " 29  witnesses                    1000 non-null   int64  \n",
            " 30  police_report_available      657 non-null    object \n",
            " 31  total_claim_amount           1000 non-null   int64  \n",
            " 32  injury_claim                 1000 non-null   int64  \n",
            " 33  property_claim               1000 non-null   int64  \n",
            " 34  vehicle_claim                1000 non-null   int64  \n",
            " 35  auto_make                    1000 non-null   object \n",
            " 36  auto_model                   1000 non-null   object \n",
            " 37  auto_year                    1000 non-null   int64  \n",
            " 38  fraud_reported               1000 non-null   object \n",
            " 39  _c39                         0 non-null      float64\n",
            "dtypes: float64(2), int64(17), object(21)\n",
            "memory usage: 312.6+ KB\n"
          ]
        }
      ]
    },
    {
      "cell_type": "code",
      "source": [
        "# finding the missing values, values with NaN\n",
        "df.isna().sum()"
      ],
      "metadata": {
        "colab": {
          "base_uri": "https://localhost:8080/"
        },
        "id": "cEal6iPDv2KH",
        "outputId": "ab673c01-381e-4de1-e02e-4cb8ee14578d"
      },
      "execution_count": null,
      "outputs": [
        {
          "output_type": "execute_result",
          "data": {
            "text/plain": [
              "months_as_customer                0\n",
              "age                               0\n",
              "policy_number                     0\n",
              "policy_bind_date                  0\n",
              "policy_state                      0\n",
              "policy_csl                        0\n",
              "policy_deductable                 0\n",
              "policy_annual_premium             0\n",
              "umbrella_limit                    0\n",
              "insured_zip                       0\n",
              "insured_sex                       0\n",
              "insured_education_level           0\n",
              "insured_occupation                0\n",
              "insured_hobbies                   0\n",
              "insured_relationship              0\n",
              "capital-gains                     0\n",
              "capital-loss                      0\n",
              "incident_date                     0\n",
              "incident_type                     0\n",
              "collision_type                  178\n",
              "incident_severity                 0\n",
              "authorities_contacted             0\n",
              "incident_state                    0\n",
              "incident_city                     0\n",
              "incident_location                 0\n",
              "incident_hour_of_the_day          0\n",
              "number_of_vehicles_involved       0\n",
              "property_damage                 360\n",
              "bodily_injuries                   0\n",
              "witnesses                         0\n",
              "police_report_available         343\n",
              "total_claim_amount                0\n",
              "injury_claim                      0\n",
              "property_claim                    0\n",
              "vehicle_claim                     0\n",
              "auto_make                         0\n",
              "auto_model                        0\n",
              "auto_year                         0\n",
              "fraud_reported                    0\n",
              "_c39                           1000\n",
              "dtype: int64"
            ]
          },
          "metadata": {},
          "execution_count": 7
        }
      ]
    },
    {
      "cell_type": "code",
      "execution_count": null,
      "metadata": {
        "colab": {
          "base_uri": "https://localhost:8080/"
        },
        "id": "s3ODTAGjWE-b",
        "outputId": "257a5e5c-abc3-4ee2-d101-0f33a4fe19e4"
      },
      "outputs": [
        {
          "output_type": "execute_result",
          "data": {
            "text/plain": [
              "(19611, 75)"
            ]
          },
          "metadata": {},
          "execution_count": 14
        }
      ],
      "source": [
        "#checking for duplicate columns\n",
        "df = df.loc[: ,~df.columns.duplicated()]\n",
        "df.shape"
      ]
    },
    {
      "cell_type": "code",
      "execution_count": null,
      "metadata": {
        "colab": {
          "base_uri": "https://localhost:8080/"
        },
        "id": "LvvL0HHyRsLs",
        "outputId": "90b9a087-44c4-4da3-ff01-b54d5e3dfa29"
      },
      "outputs": [
        {
          "output_type": "execute_result",
          "data": {
            "text/plain": [
              "(13841, 75)"
            ]
          },
          "metadata": {},
          "execution_count": 15
        }
      ],
      "source": [
        "#Deeting duplicated rows\n",
        "df.transpose()\n",
        "df.drop_duplicates(keep=False,inplace=True)\n",
        "df.transpose()\n",
        "df.shape"
      ]
    },
    {
      "cell_type": "markdown",
      "source": [
        "**Data cleaning**"
      ],
      "metadata": {
        "id": "jQu6dUR7ijo4"
      }
    },
    {
      "cell_type": "markdown",
      "source": [
        "Filling the NaN rows with mode of that column"
      ],
      "metadata": {
        "id": "VAu5kM-fv_Xd"
      }
    },
    {
      "cell_type": "code",
      "source": [
        "df['collision_type'] = df['collision_type'].fillna(df['collision_type'].mode()[0])"
      ],
      "metadata": {
        "id": "ioZV8M9Wv2GT"
      },
      "execution_count": null,
      "outputs": []
    },
    {
      "cell_type": "code",
      "source": [
        "df['property_damage'] = df['property_damage'].fillna(df['property_damage'].mode()[0])"
      ],
      "metadata": {
        "id": "3s_IKrzQv2EQ"
      },
      "execution_count": null,
      "outputs": []
    },
    {
      "cell_type": "code",
      "source": [
        "df['police_report_available'] = df['police_report_available'].fillna(df['police_report_available'].mode()[0])"
      ],
      "metadata": {
        "id": "_-SgmMVzv2BZ"
      },
      "execution_count": null,
      "outputs": []
    },
    {
      "cell_type": "code",
      "source": [
        "#Rechecking for missing values\n",
        "df.isna().sum()"
      ],
      "metadata": {
        "colab": {
          "base_uri": "https://localhost:8080/"
        },
        "id": "dyuURsqav1_4",
        "outputId": "5e47b412-206d-4334-a7db-9b01347938d4"
      },
      "execution_count": null,
      "outputs": [
        {
          "output_type": "execute_result",
          "data": {
            "text/plain": [
              "months_as_customer                0\n",
              "age                               0\n",
              "policy_number                     0\n",
              "policy_bind_date                  0\n",
              "policy_state                      0\n",
              "policy_csl                        0\n",
              "policy_deductable                 0\n",
              "policy_annual_premium             0\n",
              "umbrella_limit                    0\n",
              "insured_zip                       0\n",
              "insured_sex                       0\n",
              "insured_education_level           0\n",
              "insured_occupation                0\n",
              "insured_hobbies                   0\n",
              "insured_relationship              0\n",
              "capital-gains                     0\n",
              "capital-loss                      0\n",
              "incident_date                     0\n",
              "incident_type                     0\n",
              "collision_type                    0\n",
              "incident_severity                 0\n",
              "authorities_contacted             0\n",
              "incident_state                    0\n",
              "incident_city                     0\n",
              "incident_location                 0\n",
              "incident_hour_of_the_day          0\n",
              "number_of_vehicles_involved       0\n",
              "property_damage                   0\n",
              "bodily_injuries                   0\n",
              "witnesses                         0\n",
              "police_report_available           0\n",
              "total_claim_amount                0\n",
              "injury_claim                      0\n",
              "property_claim                    0\n",
              "vehicle_claim                     0\n",
              "auto_make                         0\n",
              "auto_model                        0\n",
              "auto_year                         0\n",
              "fraud_reported                    0\n",
              "_c39                           1000\n",
              "dtype: int64"
            ]
          },
          "metadata": {},
          "execution_count": 11
        }
      ]
    },
    {
      "cell_type": "code",
      "source": [
        "#CHECKING THE RELEVANCE OF THE COLUMNS BY ITS UNIQUENESS IN THE VALUE\n",
        "df.nunique()"
      ],
      "metadata": {
        "colab": {
          "base_uri": "https://localhost:8080/"
        },
        "id": "8EDejI-zZtyZ",
        "outputId": "d9755019-3a0b-4b02-f361-81d3fbb54caf"
      },
      "execution_count": null,
      "outputs": [
        {
          "output_type": "execute_result",
          "data": {
            "text/plain": [
              "months_as_customer              391\n",
              "age                              46\n",
              "policy_number                  1000\n",
              "policy_bind_date                951\n",
              "policy_state                      3\n",
              "policy_csl                        3\n",
              "policy_deductable                 3\n",
              "policy_annual_premium           991\n",
              "umbrella_limit                   11\n",
              "insured_zip                     995\n",
              "insured_sex                       2\n",
              "insured_education_level           7\n",
              "insured_occupation               14\n",
              "insured_hobbies                  20\n",
              "insured_relationship              6\n",
              "capital-gains                   338\n",
              "capital-loss                    354\n",
              "incident_date                    60\n",
              "incident_type                     4\n",
              "collision_type                    3\n",
              "incident_severity                 4\n",
              "authorities_contacted             5\n",
              "incident_state                    7\n",
              "incident_city                     7\n",
              "incident_location              1000\n",
              "incident_hour_of_the_day         24\n",
              "number_of_vehicles_involved       4\n",
              "property_damage                   2\n",
              "bodily_injuries                   3\n",
              "witnesses                         4\n",
              "police_report_available           2\n",
              "total_claim_amount              763\n",
              "injury_claim                    638\n",
              "property_claim                  626\n",
              "vehicle_claim                   726\n",
              "auto_make                        14\n",
              "auto_model                       39\n",
              "auto_year                        21\n",
              "fraud_reported                    2\n",
              "_c39                              0\n",
              "dtype: int64"
            ]
          },
          "metadata": {},
          "execution_count": 12
        }
      ]
    },
    {
      "cell_type": "code",
      "source": [
        "#DROPPING THE UNNECESSARY COLUMNS based on self understanding\n",
        "to_drop = ['policy_number','policy_bind_date','policy_state','policy_deductable','insured_zip','incident_location','incident_date','insured_sex',\n",
        "           'incident_state','incident_city','insured_hobbies','auto_make','auto_model','auto_year', '_c39']\n",
        "\n",
        "df.drop(to_drop, inplace = True, axis = 1)"
      ],
      "metadata": {
        "id": "T342qL67ZaLn"
      },
      "execution_count": null,
      "outputs": []
    },
    {
      "cell_type": "code",
      "source": [
        "df.info()"
      ],
      "metadata": {
        "colab": {
          "base_uri": "https://localhost:8080/"
        },
        "id": "VVSB77FUeE8d",
        "outputId": "23b6cfe9-4307-471f-db77-4cf0fd9f37b0"
      },
      "execution_count": null,
      "outputs": [
        {
          "output_type": "stream",
          "name": "stdout",
          "text": [
            "<class 'pandas.core.frame.DataFrame'>\n",
            "RangeIndex: 1000 entries, 0 to 999\n",
            "Data columns (total 25 columns):\n",
            " #   Column                       Non-Null Count  Dtype  \n",
            "---  ------                       --------------  -----  \n",
            " 0   months_as_customer           1000 non-null   int64  \n",
            " 1   age                          1000 non-null   int64  \n",
            " 2   policy_csl                   1000 non-null   object \n",
            " 3   policy_annual_premium        1000 non-null   float64\n",
            " 4   umbrella_limit               1000 non-null   int64  \n",
            " 5   insured_education_level      1000 non-null   object \n",
            " 6   insured_occupation           1000 non-null   object \n",
            " 7   insured_relationship         1000 non-null   object \n",
            " 8   capital-gains                1000 non-null   int64  \n",
            " 9   capital-loss                 1000 non-null   int64  \n",
            " 10  incident_type                1000 non-null   object \n",
            " 11  collision_type               1000 non-null   object \n",
            " 12  incident_severity            1000 non-null   object \n",
            " 13  authorities_contacted        1000 non-null   object \n",
            " 14  incident_hour_of_the_day     1000 non-null   int64  \n",
            " 15  number_of_vehicles_involved  1000 non-null   int64  \n",
            " 16  property_damage              1000 non-null   object \n",
            " 17  bodily_injuries              1000 non-null   int64  \n",
            " 18  witnesses                    1000 non-null   int64  \n",
            " 19  police_report_available      1000 non-null   object \n",
            " 20  total_claim_amount           1000 non-null   int64  \n",
            " 21  injury_claim                 1000 non-null   int64  \n",
            " 22  property_claim               1000 non-null   int64  \n",
            " 23  vehicle_claim                1000 non-null   int64  \n",
            " 24  fraud_reported               1000 non-null   object \n",
            "dtypes: float64(1), int64(13), object(11)\n",
            "memory usage: 195.4+ KB\n"
          ]
        }
      ]
    },
    {
      "cell_type": "markdown",
      "source": [
        "**Dimensionality Reduction**"
      ],
      "metadata": {
        "id": "kFtUGH4gwl1E"
      }
    },
    {
      "cell_type": "markdown",
      "source": [
        "Finding the correlation among the columns\n",
        "\n",
        "\n"
      ],
      "metadata": {
        "id": "jmg-Tj8qdfw9"
      }
    },
    {
      "cell_type": "code",
      "source": [
        "\n",
        "plt.figure(figsize = (12, 7))\n",
        "\n",
        "corr = df.corr()\n",
        "\n",
        "sns.heatmap(data = corr, annot = True, fmt = '.2g', linewidth = 1,cmap='Greens')\n",
        "plt.show()"
      ],
      "metadata": {
        "id": "DWtNEivZv19D",
        "colab": {
          "base_uri": "https://localhost:8080/",
          "height": 569
        },
        "outputId": "25e3a82d-c704-4194-bd9a-d458b65a95a1"
      },
      "execution_count": null,
      "outputs": [
        {
          "output_type": "display_data",
          "data": {
            "text/plain": [
              "<Figure size 864x504 with 2 Axes>"
            ],
            "image/png": "[encoded data removed]"
          },
          "metadata": {
            "needs_background": "light"
          }
        }
      ]
    },
    {
      "cell_type": "markdown",
      "source": [
        "From the above plot, we can see that there is high correlation between age and months_as_customer.We will drop the \"Age\" column. Also there is high correlation between total_clam_amount, injury_claim, property_claim, vehicle_claim as total claim is the sum of all others. So we will drop the total claim column."
      ],
      "metadata": {
        "id": "WBssuQAmyb4p"
      }
    },
    {
      "cell_type": "code",
      "source": [],
      "metadata": {
        "id": "fzOfJ6rIRECj"
      },
      "execution_count": null,
      "outputs": []
    },
    {
      "cell_type": "code",
      "source": [
        "df.drop(columns = ['age', 'total_claim_amount'], inplace = True, axis = 1)"
      ],
      "metadata": {
        "id": "56g8e7zCydIh"
      },
      "execution_count": null,
      "outputs": []
    },
    {
      "cell_type": "code",
      "source": [
        "df.info()"
      ],
      "metadata": {
        "colab": {
          "base_uri": "https://localhost:8080/"
        },
        "id": "o3lOSNmjxO2-",
        "outputId": "6c1933d3-6bce-40cb-d861-f06c8eff2b5c"
      },
      "execution_count": null,
      "outputs": [
        {
          "output_type": "stream",
          "name": "stdout",
          "text": [
            "<class 'pandas.core.frame.DataFrame'>\n",
            "RangeIndex: 1000 entries, 0 to 999\n",
            "Data columns (total 23 columns):\n",
            " #   Column                       Non-Null Count  Dtype  \n",
            "---  ------                       --------------  -----  \n",
            " 0   months_as_customer           1000 non-null   int64  \n",
            " 1   policy_csl                   1000 non-null   object \n",
            " 2   policy_annual_premium        1000 non-null   float64\n",
            " 3   umbrella_limit               1000 non-null   int64  \n",
            " 4   insured_education_level      1000 non-null   object \n",
            " 5   insured_occupation           1000 non-null   object \n",
            " 6   insured_relationship         1000 non-null   object \n",
            " 7   capital-gains                1000 non-null   int64  \n",
            " 8   capital-loss                 1000 non-null   int64  \n",
            " 9   incident_type                1000 non-null   object \n",
            " 10  collision_type               1000 non-null   object \n",
            " 11  incident_severity            1000 non-null   object \n",
            " 12  authorities_contacted        1000 non-null   object \n",
            " 13  incident_hour_of_the_day     1000 non-null   int64  \n",
            " 14  number_of_vehicles_involved  1000 non-null   int64  \n",
            " 15  property_damage              1000 non-null   object \n",
            " 16  bodily_injuries              1000 non-null   int64  \n",
            " 17  witnesses                    1000 non-null   int64  \n",
            " 18  police_report_available      1000 non-null   object \n",
            " 19  injury_claim                 1000 non-null   int64  \n",
            " 20  property_claim               1000 non-null   int64  \n",
            " 21  vehicle_claim                1000 non-null   int64  \n",
            " 22  fraud_reported               1000 non-null   object \n",
            "dtypes: float64(1), int64(11), object(11)\n",
            "memory usage: 179.8+ KB\n"
          ]
        }
      ]
    },
    {
      "cell_type": "markdown",
      "source": [
        "**Splitting dataset into training and testing sets**"
      ],
      "metadata": {
        "id": "29ctvwGOhnXx"
      }
    },
    {
      "cell_type": "code",
      "source": [
        "\n",
        "le = LabelEncoder()\n",
        "df['fraud_reported'] = le.fit_transform(df['fraud_reported'])\n"
      ],
      "metadata": {
        "id": "NOjWvQJOUoBY"
      },
      "execution_count": null,
      "outputs": []
    },
    {
      "cell_type": "code",
      "source": [
        "\n",
        "X = df.drop('fraud_reported', axis = 1)\n",
        "y = df['fraud_reported']"
      ],
      "metadata": {
        "id": "PE48-pTmyfHn"
      },
      "execution_count": null,
      "outputs": []
    },
    {
      "cell_type": "markdown",
      "source": [
        "**Data Transformation**"
      ],
      "metadata": {
        "id": "_dNcT2m-h8vg"
      }
    },
    {
      "cell_type": "code",
      "source": [
        "# extracting categorical columns\n",
        "cat_df = X.select_dtypes(include = ['object'])"
      ],
      "metadata": {
        "id": "C-DayH5oy1SA"
      },
      "execution_count": null,
      "outputs": []
    },
    {
      "cell_type": "code",
      "source": [
        "# printing unique values of each column\n",
        "for col in cat_df.columns:\n",
        "    print(f\"{col}: \\n{cat_df[col].unique()}\\n\")"
      ],
      "metadata": {
        "id": "2DO8X04Jy1N9",
        "colab": {
          "base_uri": "https://localhost:8080/"
        },
        "outputId": "3aaa12c8-c144-463a-a365-945e7c778452"
      },
      "execution_count": null,
      "outputs": [
        {
          "output_type": "stream",
          "name": "stdout",
          "text": [
            "policy_csl: \n",
            "['250/500' '100/300' '500/1000']\n",
            "\n",
            "insured_education_level: \n",
            "['MD' 'PhD' 'Associate' 'Masters' 'High School' 'College' 'JD']\n",
            "\n",
            "insured_occupation: \n",
            "['craft-repair' 'machine-op-inspct' 'sales' 'armed-forces' 'tech-support'\n",
            " 'prof-specialty' 'other-service' 'priv-house-serv' 'exec-managerial'\n",
            " 'protective-serv' 'transport-moving' 'handlers-cleaners' 'adm-clerical'\n",
            " 'farming-fishing']\n",
            "\n",
            "insured_relationship: \n",
            "['husband' 'other-relative' 'own-child' 'unmarried' 'wife' 'not-in-family']\n",
            "\n",
            "incident_type: \n",
            "['Single Vehicle Collision' 'Vehicle Theft' 'Multi-vehicle Collision'\n",
            " 'Parked Car']\n",
            "\n",
            "collision_type: \n",
            "['Side Collision' 'Rear Collision' 'Front Collision']\n",
            "\n",
            "incident_severity: \n",
            "['Major Damage' 'Minor Damage' 'Total Loss' 'Trivial Damage']\n",
            "\n",
            "authorities_contacted: \n",
            "['Police' 'None' 'Fire' 'Other' 'Ambulance']\n",
            "\n",
            "property_damage: \n",
            "['YES' 'NO']\n",
            "\n",
            "police_report_available: \n",
            "['YES' 'NO']\n",
            "\n"
          ]
        }
      ]
    },
    {
      "cell_type": "code",
      "source": [
        "#Adding dummy values to the categorical columns\n",
        "cat_df = pd.get_dummies(cat_df, drop_first = True)\n",
        "cat_df.head()"
      ],
      "metadata": {
        "id": "GHH8jia6y1Mg",
        "colab": {
          "base_uri": "https://localhost:8080/",
          "height": 317
        },
        "outputId": "d2aa06ac-4a0e-4d5b-87b7-dc095b143a75"
      },
      "execution_count": null,
      "outputs": [
        {
          "output_type": "execute_result",
          "data": {
            "text/plain": [
              "   policy_csl_250/500  policy_csl_500/1000  insured_education_level_College  \\\n",
              "0                   1                    0                                0   \n",
              "1                   1                    0                                0   \n",
              "2                   0                    0                                0   \n",
              "3                   1                    0                                0   \n",
              "4                   0                    1                                0   \n",
              "\n",
              "   insured_education_level_High School  insured_education_level_JD  \\\n",
              "0                                    0                           0   \n",
              "1                                    0                           0   \n",
              "2                                    0                           0   \n",
              "3                                    0                           0   \n",
              "4                                    0                           0   \n",
              "\n",
              "   insured_education_level_MD  insured_education_level_Masters  \\\n",
              "0                           1                                0   \n",
              "1                           1                                0   \n",
              "2                           0                                0   \n",
              "3                           0                                0   \n",
              "4                           0                                0   \n",
              "\n",
              "   insured_education_level_PhD  insured_occupation_armed-forces  \\\n",
              "0                            0                                0   \n",
              "1                            0                                0   \n",
              "2                            1                                0   \n",
              "3                            1                                1   \n",
              "4                            0                                0   \n",
              "\n",
              "   insured_occupation_craft-repair  ...  collision_type_Side Collision  \\\n",
              "0                                1  ...                              1   \n",
              "1                                0  ...                              0   \n",
              "2                                0  ...                              0   \n",
              "3                                0  ...                              0   \n",
              "4                                0  ...                              0   \n",
              "\n",
              "   incident_severity_Minor Damage  incident_severity_Total Loss  \\\n",
              "0                               0                             0   \n",
              "1                               1                             0   \n",
              "2                               1                             0   \n",
              "3                               0                             0   \n",
              "4                               1                             0   \n",
              "\n",
              "   incident_severity_Trivial Damage  authorities_contacted_Fire  \\\n",
              "0                                 0                           0   \n",
              "1                                 0                           0   \n",
              "2                                 0                           0   \n",
              "3                                 0                           0   \n",
              "4                                 0                           0   \n",
              "\n",
              "   authorities_contacted_None  authorities_contacted_Other  \\\n",
              "0                           0                            0   \n",
              "1                           0                            0   \n",
              "2                           0                            0   \n",
              "3                           0                            0   \n",
              "4                           1                            0   \n",
              "\n",
              "   authorities_contacted_Police  property_damage_YES  \\\n",
              "0                             1                    1   \n",
              "1                             1                    0   \n",
              "2                             1                    0   \n",
              "3                             1                    0   \n",
              "4                             0                    0   \n",
              "\n",
              "   police_report_available_YES  \n",
              "0                            1  \n",
              "1                            0  \n",
              "2                            0  \n",
              "3                            0  \n",
              "4                            0  \n",
              "\n",
              "[5 rows x 40 columns]"
            ],
            "text/html": [
              "\n",
              "  <div id=\"df-5ee4c9f8-af95-405f-a5a1-6e8b715cdcd5\">\n",
              "    <div class=\"colab-df-container\">\n",
              "      <div>\n",
              "<style scoped>\n",
              "    .dataframe tbody tr th:only-of-type {\n",
              "        vertical-align: middle;\n",
              "    }\n",
              "\n",
              "    .dataframe tbody tr th {\n",
              "        vertical-align: top;\n",
              "    }\n",
              "\n",
              "    .dataframe thead th {\n",
              "        text-align: right;\n",
              "    }\n",
              "</style>\n",
              "<table border=\"1\" class=\"dataframe\">\n",
              "  <thead>\n",
              "    <tr style=\"text-align: right;\">\n",
              "      <th></th>\n",
              "      <th>policy_csl_250/500</th>\n",
              "      <th>policy_csl_500/1000</th>\n",
              "      <th>insured_education_level_College</th>\n",
              "      <th>insured_education_level_High School</th>\n",
              "      <th>insured_education_level_JD</th>\n",
              "      <th>insured_education_level_MD</th>\n",
              "      <th>insured_education_level_Masters</th>\n",
              "      <th>insured_education_level_PhD</th>\n",
              "      <th>insured_occupation_armed-forces</th>\n",
              "      <th>insured_occupation_craft-repair</th>\n",
              "      <th>...</th>\n",
              "      <th>collision_type_Side Collision</th>\n",
              "      <th>incident_severity_Minor Damage</th>\n",
              "      <th>incident_severity_Total Loss</th>\n",
              "      <th>incident_severity_Trivial Damage</th>\n",
              "      <th>authorities_contacted_Fire</th>\n",
              "      <th>authorities_contacted_None</th>\n",
              "      <th>authorities_contacted_Other</th>\n",
              "      <th>authorities_contacted_Police</th>\n",
              "      <th>property_damage_YES</th>\n",
              "      <th>police_report_available_YES</th>\n",
              "    </tr>\n",
              "  </thead>\n",
              "  <tbody>\n",
              "    <tr>\n",
              "      <th>0</th>\n",
              "      <td>1</td>\n",
              "      <td>0</td>\n",
              "      <td>0</td>\n",
              "      <td>0</td>\n",
              "      <td>0</td>\n",
              "      <td>1</td>\n",
              "      <td>0</td>\n",
              "      <td>0</td>\n",
              "      <td>0</td>\n",
              "      <td>1</td>\n",
              "      <td>...</td>\n",
              "      <td>1</td>\n",
              "      <td>0</td>\n",
              "      <td>0</td>\n",
              "      <td>0</td>\n",
              "      <td>0</td>\n",
              "      <td>0</td>\n",
              "      <td>0</td>\n",
              "      <td>1</td>\n",
              "      <td>1</td>\n",
              "      <td>1</td>\n",
              "    </tr>\n",
              "    <tr>\n",
              "      <th>1</th>\n",
              "      <td>1</td>\n",
              "      <td>0</td>\n",
              "      <td>0</td>\n",
              "      <td>0</td>\n",
              "      <td>0</td>\n",
              "      <td>1</td>\n",
              "      <td>0</td>\n",
              "      <td>0</td>\n",
              "      <td>0</td>\n",
              "      <td>0</td>\n",
              "      <td>...</td>\n",
              "      <td>0</td>\n",
              "      <td>1</td>\n",
              "      <td>0</td>\n",
              "      <td>0</td>\n",
              "      <td>0</td>\n",
              "      <td>0</td>\n",
              "      <td>0</td>\n",
              "      <td>1</td>\n",
              "      <td>0</td>\n",
              "      <td>0</td>\n",
              "    </tr>\n",
              "    <tr>\n",
              "      <th>2</th>\n",
              "      <td>0</td>\n",
              "      <td>0</td>\n",
              "      <td>0</td>\n",
              "      <td>0</td>\n",
              "      <td>0</td>\n",
              "      <td>0</td>\n",
              "      <td>0</td>\n",
              "      <td>1</td>\n",
              "      <td>0</td>\n",
              "      <td>0</td>\n",
              "      <td>...</td>\n",
              "      <td>0</td>\n",
              "      <td>1</td>\n",
              "      <td>0</td>\n",
              "      <td>0</td>\n",
              "      <td>0</td>\n",
              "      <td>0</td>\n",
              "      <td>0</td>\n",
              "      <td>1</td>\n",
              "      <td>0</td>\n",
              "      <td>0</td>\n",
              "    </tr>\n",
              "    <tr>\n",
              "      <th>3</th>\n",
              "      <td>1</td>\n",
              "      <td>0</td>\n",
              "      <td>0</td>\n",
              "      <td>0</td>\n",
              "      <td>0</td>\n",
              "      <td>0</td>\n",
              "      <td>0</td>\n",
              "      <td>1</td>\n",
              "      <td>1</td>\n",
              "      <td>0</td>\n",
              "      <td>...</td>\n",
              "      <td>0</td>\n",
              "      <td>0</td>\n",
              "      <td>0</td>\n",
              "      <td>0</td>\n",
              "      <td>0</td>\n",
              "      <td>0</td>\n",
              "      <td>0</td>\n",
              "      <td>1</td>\n",
              "      <td>0</td>\n",
              "      <td>0</td>\n",
              "    </tr>\n",
              "    <tr>\n",
              "      <th>4</th>\n",
              "      <td>0</td>\n",
              "      <td>1</td>\n",
              "      <td>0</td>\n",
              "      <td>0</td>\n",
              "      <td>0</td>\n",
              "      <td>0</td>\n",
              "      <td>0</td>\n",
              "      <td>0</td>\n",
              "      <td>0</td>\n",
              "      <td>0</td>\n",
              "      <td>...</td>\n",
              "      <td>0</td>\n",
              "      <td>1</td>\n",
              "      <td>0</td>\n",
              "      <td>0</td>\n",
              "      <td>0</td>\n",
              "      <td>1</td>\n",
              "      <td>0</td>\n",
              "      <td>0</td>\n",
              "      <td>0</td>\n",
              "      <td>0</td>\n",
              "    </tr>\n",
              "  </tbody>\n",
              "</table>\n",
              "<p>5 rows × 40 columns</p>\n",
              "</div>\n",
              "      <button class=\"colab-df-convert\" onclick=\"convertToInteractive('df-5ee4c9f8-af95-405f-a5a1-6e8b715cdcd5')\"\n",
              "              title=\"Convert this dataframe to an interactive table.\"\n",
              "              style=\"display:none;\">\n",
              "        \n",
              "  <svg xmlns=\"http://www.w3.org/2000/svg\" height=\"24px\"viewBox=\"0 0 24 24\"\n",
              "       width=\"24px\">\n",
              "    <path d=\"M0 0h24v24H0V0z\" fill=\"none\"/>\n",
              "    <path d=\"M18.56 5.44l.94 2.06.94-2.06 2.06-.94-2.06-.94-.94-2.06-.94 2.06-2.06.94zm-11 1L8.5 8.5l.94-2.06 2.06-.94-2.06-.94L8.5 2.5l-.94 2.06-2.06.94zm10 10l.94 2.06.94-2.06 2.06-.94-2.06-.94-.94-2.06-.94 2.06-2.06.94z\"/><path d=\"M17.41 7.96l-1.37-1.37c-.4-.4-.92-.59-1.43-.59-.52 0-1.04.2-1.43.59L10.3 9.45l-7.72 7.72c-.78.78-.78 2.05 0 2.83L4 21.41c.39.39.9.59 1.41.59.51 0 1.02-.2 1.41-.59l7.78-7.78 2.81-2.81c.8-.78.8-2.07 0-2.86zM5.41 20L4 18.59l7.72-7.72 1.47 1.35L5.41 20z\"/>\n",
              "  </svg>\n",
              "      </button>\n",
              "      \n",
              "  <style>\n",
              "    .colab-df-container {\n",
              "      display:flex;\n",
              "      flex-wrap:wrap;\n",
              "      gap: 12px;\n",
              "    }\n",
              "\n",
              "    .colab-df-convert {\n",
              "      background-color: #E8F0FE;\n",
              "      border: none;\n",
              "      border-radius: 50%;\n",
              "      cursor: pointer;\n",
              "      display: none;\n",
              "      fill: #1967D2;\n",
              "      height: 32px;\n",
              "      padding: 0 0 0 0;\n",
              "      width: 32px;\n",
              "    }\n",
              "\n",
              "    .colab-df-convert:hover {\n",
              "      background-color: #E2EBFA;\n",
              "      box-shadow: 0px 1px 2px rgba(60, 64, 67, 0.3), 0px 1px 3px 1px rgba(60, 64, 67, 0.15);\n",
              "      fill: #174EA6;\n",
              "    }\n",
              "\n",
              "    [theme=dark] .colab-df-convert {\n",
              "      background-color: #3B4455;\n",
              "      fill: #D2E3FC;\n",
              "    }\n",
              "\n",
              "    [theme=dark] .colab-df-convert:hover {\n",
              "      background-color: #434B5C;\n",
              "      box-shadow: 0px 1px 3px 1px rgba(0, 0, 0, 0.15);\n",
              "      filter: drop-shadow(0px 1px 2px rgba(0, 0, 0, 0.3));\n",
              "      fill: #FFFFFF;\n",
              "    }\n",
              "  </style>\n",
              "\n",
              "      <script>\n",
              "        const buttonEl =\n",
              "          document.querySelector('#df-5ee4c9f8-af95-405f-a5a1-6e8b715cdcd5 button.colab-df-convert');\n",
              "        buttonEl.style.display =\n",
              "          google.colab.kernel.accessAllowed ? 'block' : 'none';\n",
              "\n",
              "        async function convertToInteractive(key) {\n",
              "          const element = document.querySelector('#df-5ee4c9f8-af95-405f-a5a1-6e8b715cdcd5');\n",
              "          const dataTable =\n",
              "            await google.colab.kernel.invokeFunction('convertToInteractive',\n",
              "                                                     [key], {});\n",
              "          if (!dataTable) return;\n",
              "\n",
              "          const docLinkHtml = 'Like what you see? Visit the ' +\n",
              "            '<a target=\"_blank\" href=https://colab.research.google.com/notebooks/data_table.ipynb>data table notebook</a>'\n",
              "            + ' to learn more about interactive tables.';\n",
              "          element.innerHTML = '';\n",
              "          dataTable['output_type'] = 'display_data';\n",
              "          await google.colab.output.renderOutput(dataTable, element);\n",
              "          const docLink = document.createElement('div');\n",
              "          docLink.innerHTML = docLinkHtml;\n",
              "          element.appendChild(docLink);\n",
              "        }\n",
              "      </script>\n",
              "    </div>\n",
              "  </div>\n",
              "  "
            ]
          },
          "metadata": {},
          "execution_count": 22
        }
      ]
    },
    {
      "cell_type": "code",
      "source": [
        "# extracting the numerical columns\n",
        "\n",
        "num_df = X.select_dtypes(include = ['int64'])\n",
        "num_df.head()"
      ],
      "metadata": {
        "id": "YbAu2Fu43mdh",
        "colab": {
          "base_uri": "https://localhost:8080/",
          "height": 250
        },
        "outputId": "3480f549-39fe-4e77-a077-5820562f864f"
      },
      "execution_count": null,
      "outputs": [
        {
          "output_type": "execute_result",
          "data": {
            "text/plain": [
              "   months_as_customer  umbrella_limit  capital-gains  capital-loss  \\\n",
              "0                 328               0          53300             0   \n",
              "1                 228         5000000              0             0   \n",
              "2                 134         5000000          35100             0   \n",
              "3                 256         6000000          48900        -62400   \n",
              "4                 228         6000000          66000        -46000   \n",
              "\n",
              "   incident_hour_of_the_day  number_of_vehicles_involved  bodily_injuries  \\\n",
              "0                         5                            1                1   \n",
              "1                         8                            1                0   \n",
              "2                         7                            3                2   \n",
              "3                         5                            1                1   \n",
              "4                        20                            1                0   \n",
              "\n",
              "   witnesses  injury_claim  property_claim  vehicle_claim  \n",
              "0          2          6510           13020          52080  \n",
              "1          0           780             780           3510  \n",
              "2          3          7700            3850          23100  \n",
              "3          2          6340            6340          50720  \n",
              "4          1          1300             650           4550  "
            ],
            "text/html": [
              "\n",
              "  <div id=\"df-3b987c37-b51f-4918-83f2-286c71aff08e\">\n",
              "    <div class=\"colab-df-container\">\n",
              "      <div>\n",
              "<style scoped>\n",
              "    .dataframe tbody tr th:only-of-type {\n",
              "        vertical-align: middle;\n",
              "    }\n",
              "\n",
              "    .dataframe tbody tr th {\n",
              "        vertical-align: top;\n",
              "    }\n",
              "\n",
              "    .dataframe thead th {\n",
              "        text-align: right;\n",
              "    }\n",
              "</style>\n",
              "<table border=\"1\" class=\"dataframe\">\n",
              "  <thead>\n",
              "    <tr style=\"text-align: right;\">\n",
              "      <th></th>\n",
              "      <th>months_as_customer</th>\n",
              "      <th>umbrella_limit</th>\n",
              "      <th>capital-gains</th>\n",
              "      <th>capital-loss</th>\n",
              "      <th>incident_hour_of_the_day</th>\n",
              "      <th>number_of_vehicles_involved</th>\n",
              "      <th>bodily_injuries</th>\n",
              "      <th>witnesses</th>\n",
              "      <th>injury_claim</th>\n",
              "      <th>property_claim</th>\n",
              "      <th>vehicle_claim</th>\n",
              "    </tr>\n",
              "  </thead>\n",
              "  <tbody>\n",
              "    <tr>\n",
              "      <th>0</th>\n",
              "      <td>328</td>\n",
              "      <td>0</td>\n",
              "      <td>53300</td>\n",
              "      <td>0</td>\n",
              "      <td>5</td>\n",
              "      <td>1</td>\n",
              "      <td>1</td>\n",
              "      <td>2</td>\n",
              "      <td>6510</td>\n",
              "      <td>13020</td>\n",
              "      <td>52080</td>\n",
              "    </tr>\n",
              "    <tr>\n",
              "      <th>1</th>\n",
              "      <td>228</td>\n",
              "      <td>5000000</td>\n",
              "      <td>0</td>\n",
              "      <td>0</td>\n",
              "      <td>8</td>\n",
              "      <td>1</td>\n",
              "      <td>0</td>\n",
              "      <td>0</td>\n",
              "      <td>780</td>\n",
              "      <td>780</td>\n",
              "      <td>3510</td>\n",
              "    </tr>\n",
              "    <tr>\n",
              "      <th>2</th>\n",
              "      <td>134</td>\n",
              "      <td>5000000</td>\n",
              "      <td>35100</td>\n",
              "      <td>0</td>\n",
              "      <td>7</td>\n",
              "      <td>3</td>\n",
              "      <td>2</td>\n",
              "      <td>3</td>\n",
              "      <td>7700</td>\n",
              "      <td>3850</td>\n",
              "      <td>23100</td>\n",
              "    </tr>\n",
              "    <tr>\n",
              "      <th>3</th>\n",
              "      <td>256</td>\n",
              "      <td>6000000</td>\n",
              "      <td>48900</td>\n",
              "      <td>-62400</td>\n",
              "      <td>5</td>\n",
              "      <td>1</td>\n",
              "      <td>1</td>\n",
              "      <td>2</td>\n",
              "      <td>6340</td>\n",
              "      <td>6340</td>\n",
              "      <td>50720</td>\n",
              "    </tr>\n",
              "    <tr>\n",
              "      <th>4</th>\n",
              "      <td>228</td>\n",
              "      <td>6000000</td>\n",
              "      <td>66000</td>\n",
              "      <td>-46000</td>\n",
              "      <td>20</td>\n",
              "      <td>1</td>\n",
              "      <td>0</td>\n",
              "      <td>1</td>\n",
              "      <td>1300</td>\n",
              "      <td>650</td>\n",
              "      <td>4550</td>\n",
              "    </tr>\n",
              "  </tbody>\n",
              "</table>\n",
              "</div>\n",
              "      <button class=\"colab-df-convert\" onclick=\"convertToInteractive('df-3b987c37-b51f-4918-83f2-286c71aff08e')\"\n",
              "              title=\"Convert this dataframe to an interactive table.\"\n",
              "              style=\"display:none;\">\n",
              "        \n",
              "  <svg xmlns=\"http://www.w3.org/2000/svg\" height=\"24px\"viewBox=\"0 0 24 24\"\n",
              "       width=\"24px\">\n",
              "    <path d=\"M0 0h24v24H0V0z\" fill=\"none\"/>\n",
              "    <path d=\"M18.56 5.44l.94 2.06.94-2.06 2.06-.94-2.06-.94-.94-2.06-.94 2.06-2.06.94zm-11 1L8.5 8.5l.94-2.06 2.06-.94-2.06-.94L8.5 2.5l-.94 2.06-2.06.94zm10 10l.94 2.06.94-2.06 2.06-.94-2.06-.94-.94-2.06-.94 2.06-2.06.94z\"/><path d=\"M17.41 7.96l-1.37-1.37c-.4-.4-.92-.59-1.43-.59-.52 0-1.04.2-1.43.59L10.3 9.45l-7.72 7.72c-.78.78-.78 2.05 0 2.83L4 21.41c.39.39.9.59 1.41.59.51 0 1.02-.2 1.41-.59l7.78-7.78 2.81-2.81c.8-.78.8-2.07 0-2.86zM5.41 20L4 18.59l7.72-7.72 1.47 1.35L5.41 20z\"/>\n",
              "  </svg>\n",
              "      </button>\n",
              "      \n",
              "  <style>\n",
              "    .colab-df-container {\n",
              "      display:flex;\n",
              "      flex-wrap:wrap;\n",
              "      gap: 12px;\n",
              "    }\n",
              "\n",
              "    .colab-df-convert {\n",
              "      background-color: #E8F0FE;\n",
              "      border: none;\n",
              "      border-radius: 50%;\n",
              "      cursor: pointer;\n",
              "      display: none;\n",
              "      fill: #1967D2;\n",
              "      height: 32px;\n",
              "      padding: 0 0 0 0;\n",
              "      width: 32px;\n",
              "    }\n",
              "\n",
              "    .colab-df-convert:hover {\n",
              "      background-color: #E2EBFA;\n",
              "      box-shadow: 0px 1px 2px rgba(60, 64, 67, 0.3), 0px 1px 3px 1px rgba(60, 64, 67, 0.15);\n",
              "      fill: #174EA6;\n",
              "    }\n",
              "\n",
              "    [theme=dark] .colab-df-convert {\n",
              "      background-color: #3B4455;\n",
              "      fill: #D2E3FC;\n",
              "    }\n",
              "\n",
              "    [theme=dark] .colab-df-convert:hover {\n",
              "      background-color: #434B5C;\n",
              "      box-shadow: 0px 1px 3px 1px rgba(0, 0, 0, 0.15);\n",
              "      filter: drop-shadow(0px 1px 2px rgba(0, 0, 0, 0.3));\n",
              "      fill: #FFFFFF;\n",
              "    }\n",
              "  </style>\n",
              "\n",
              "      <script>\n",
              "        const buttonEl =\n",
              "          document.querySelector('#df-3b987c37-b51f-4918-83f2-286c71aff08e button.colab-df-convert');\n",
              "        buttonEl.style.display =\n",
              "          google.colab.kernel.accessAllowed ? 'block' : 'none';\n",
              "\n",
              "        async function convertToInteractive(key) {\n",
              "          const element = document.querySelector('#df-3b987c37-b51f-4918-83f2-286c71aff08e');\n",
              "          const dataTable =\n",
              "            await google.colab.kernel.invokeFunction('convertToInteractive',\n",
              "                                                     [key], {});\n",
              "          if (!dataTable) return;\n",
              "\n",
              "          const docLinkHtml = 'Like what you see? Visit the ' +\n",
              "            '<a target=\"_blank\" href=https://colab.research.google.com/notebooks/data_table.ipynb>data table notebook</a>'\n",
              "            + ' to learn more about interactive tables.';\n",
              "          element.innerHTML = '';\n",
              "          dataTable['output_type'] = 'display_data';\n",
              "          await google.colab.output.renderOutput(dataTable, element);\n",
              "          const docLink = document.createElement('div');\n",
              "          docLink.innerHTML = docLinkHtml;\n",
              "          element.appendChild(docLink);\n",
              "        }\n",
              "      </script>\n",
              "    </div>\n",
              "  </div>\n",
              "  "
            ]
          },
          "metadata": {},
          "execution_count": 23
        }
      ]
    },
    {
      "cell_type": "code",
      "source": [
        "#Combining the numerical and categorical columns after encoding\n",
        "X = pd.concat([num_df, cat_df], axis = 1)"
      ],
      "metadata": {
        "id": "JRA6MfoJ3mZ2"
      },
      "execution_count": null,
      "outputs": []
    },
    {
      "cell_type": "code",
      "source": [
        "X.head()"
      ],
      "metadata": {
        "id": "A336Jc__3mYR",
        "colab": {
          "base_uri": "https://localhost:8080/",
          "height": 317
        },
        "outputId": "556e8ae2-c914-4b9c-e2ad-9ebc45ce01ba"
      },
      "execution_count": null,
      "outputs": [
        {
          "output_type": "execute_result",
          "data": {
            "text/plain": [
              "   months_as_customer  umbrella_limit  capital-gains  capital-loss  \\\n",
              "0                 328               0          53300             0   \n",
              "1                 228         5000000              0             0   \n",
              "2                 134         5000000          35100             0   \n",
              "3                 256         6000000          48900        -62400   \n",
              "4                 228         6000000          66000        -46000   \n",
              "\n",
              "   incident_hour_of_the_day  number_of_vehicles_involved  bodily_injuries  \\\n",
              "0                         5                            1                1   \n",
              "1                         8                            1                0   \n",
              "2                         7                            3                2   \n",
              "3                         5                            1                1   \n",
              "4                        20                            1                0   \n",
              "\n",
              "   witnesses  injury_claim  property_claim  ...  \\\n",
              "0          2          6510           13020  ...   \n",
              "1          0           780             780  ...   \n",
              "2          3          7700            3850  ...   \n",
              "3          2          6340            6340  ...   \n",
              "4          1          1300             650  ...   \n",
              "\n",
              "   collision_type_Side Collision  incident_severity_Minor Damage  \\\n",
              "0                              1                               0   \n",
              "1                              0                               1   \n",
              "2                              0                               1   \n",
              "3                              0                               0   \n",
              "4                              0                               1   \n",
              "\n",
              "   incident_severity_Total Loss  incident_severity_Trivial Damage  \\\n",
              "0                             0                                 0   \n",
              "1                             0                                 0   \n",
              "2                             0                                 0   \n",
              "3                             0                                 0   \n",
              "4                             0                                 0   \n",
              "\n",
              "   authorities_contacted_Fire  authorities_contacted_None  \\\n",
              "0                           0                           0   \n",
              "1                           0                           0   \n",
              "2                           0                           0   \n",
              "3                           0                           0   \n",
              "4                           0                           1   \n",
              "\n",
              "   authorities_contacted_Other  authorities_contacted_Police  \\\n",
              "0                            0                             1   \n",
              "1                            0                             1   \n",
              "2                            0                             1   \n",
              "3                            0                             1   \n",
              "4                            0                             0   \n",
              "\n",
              "   property_damage_YES  police_report_available_YES  \n",
              "0                    1                            1  \n",
              "1                    0                            0  \n",
              "2                    0                            0  \n",
              "3                    0                            0  \n",
              "4                    0                            0  \n",
              "\n",
              "[5 rows x 51 columns]"
            ],
            "text/html": [
              "\n",
              "  <div id=\"df-e805dbd9-9672-4fbd-b127-99264f3272a2\">\n",
              "    <div class=\"colab-df-container\">\n",
              "      <div>\n",
              "<style scoped>\n",
              "    .dataframe tbody tr th:only-of-type {\n",
              "        vertical-align: middle;\n",
              "    }\n",
              "\n",
              "    .dataframe tbody tr th {\n",
              "        vertical-align: top;\n",
              "    }\n",
              "\n",
              "    .dataframe thead th {\n",
              "        text-align: right;\n",
              "    }\n",
              "</style>\n",
              "<table border=\"1\" class=\"dataframe\">\n",
              "  <thead>\n",
              "    <tr style=\"text-align: right;\">\n",
              "      <th></th>\n",
              "      <th>months_as_customer</th>\n",
              "      <th>umbrella_limit</th>\n",
              "      <th>capital-gains</th>\n",
              "      <th>capital-loss</th>\n",
              "      <th>incident_hour_of_the_day</th>\n",
              "      <th>number_of_vehicles_involved</th>\n",
              "      <th>bodily_injuries</th>\n",
              "      <th>witnesses</th>\n",
              "      <th>injury_claim</th>\n",
              "      <th>property_claim</th>\n",
              "      <th>...</th>\n",
              "      <th>collision_type_Side Collision</th>\n",
              "      <th>incident_severity_Minor Damage</th>\n",
              "      <th>incident_severity_Total Loss</th>\n",
              "      <th>incident_severity_Trivial Damage</th>\n",
              "      <th>authorities_contacted_Fire</th>\n",
              "      <th>authorities_contacted_None</th>\n",
              "      <th>authorities_contacted_Other</th>\n",
              "      <th>authorities_contacted_Police</th>\n",
              "      <th>property_damage_YES</th>\n",
              "      <th>police_report_available_YES</th>\n",
              "    </tr>\n",
              "  </thead>\n",
              "  <tbody>\n",
              "    <tr>\n",
              "      <th>0</th>\n",
              "      <td>328</td>\n",
              "      <td>0</td>\n",
              "      <td>53300</td>\n",
              "      <td>0</td>\n",
              "      <td>5</td>\n",
              "      <td>1</td>\n",
              "      <td>1</td>\n",
              "      <td>2</td>\n",
              "      <td>6510</td>\n",
              "      <td>13020</td>\n",
              "      <td>...</td>\n",
              "      <td>1</td>\n",
              "      <td>0</td>\n",
              "      <td>0</td>\n",
              "      <td>0</td>\n",
              "      <td>0</td>\n",
              "      <td>0</td>\n",
              "      <td>0</td>\n",
              "      <td>1</td>\n",
              "      <td>1</td>\n",
              "      <td>1</td>\n",
              "    </tr>\n",
              "    <tr>\n",
              "      <th>1</th>\n",
              "      <td>228</td>\n",
              "      <td>5000000</td>\n",
              "      <td>0</td>\n",
              "      <td>0</td>\n",
              "      <td>8</td>\n",
              "      <td>1</td>\n",
              "      <td>0</td>\n",
              "      <td>0</td>\n",
              "      <td>780</td>\n",
              "      <td>780</td>\n",
              "      <td>...</td>\n",
              "      <td>0</td>\n",
              "      <td>1</td>\n",
              "      <td>0</td>\n",
              "      <td>0</td>\n",
              "      <td>0</td>\n",
              "      <td>0</td>\n",
              "      <td>0</td>\n",
              "      <td>1</td>\n",
              "      <td>0</td>\n",
              "      <td>0</td>\n",
              "    </tr>\n",
              "    <tr>\n",
              "      <th>2</th>\n",
              "      <td>134</td>\n",
              "      <td>5000000</td>\n",
              "      <td>35100</td>\n",
              "      <td>0</td>\n",
              "      <td>7</td>\n",
              "      <td>3</td>\n",
              "      <td>2</td>\n",
              "      <td>3</td>\n",
              "      <td>7700</td>\n",
              "      <td>3850</td>\n",
              "      <td>...</td>\n",
              "      <td>0</td>\n",
              "      <td>1</td>\n",
              "      <td>0</td>\n",
              "      <td>0</td>\n",
              "      <td>0</td>\n",
              "      <td>0</td>\n",
              "      <td>0</td>\n",
              "      <td>1</td>\n",
              "      <td>0</td>\n",
              "      <td>0</td>\n",
              "    </tr>\n",
              "    <tr>\n",
              "      <th>3</th>\n",
              "      <td>256</td>\n",
              "      <td>6000000</td>\n",
              "      <td>48900</td>\n",
              "      <td>-62400</td>\n",
              "      <td>5</td>\n",
              "      <td>1</td>\n",
              "      <td>1</td>\n",
              "      <td>2</td>\n",
              "      <td>6340</td>\n",
              "      <td>6340</td>\n",
              "      <td>...</td>\n",
              "      <td>0</td>\n",
              "      <td>0</td>\n",
              "      <td>0</td>\n",
              "      <td>0</td>\n",
              "      <td>0</td>\n",
              "      <td>0</td>\n",
              "      <td>0</td>\n",
              "      <td>1</td>\n",
              "      <td>0</td>\n",
              "      <td>0</td>\n",
              "    </tr>\n",
              "    <tr>\n",
              "      <th>4</th>\n",
              "      <td>228</td>\n",
              "      <td>6000000</td>\n",
              "      <td>66000</td>\n",
              "      <td>-46000</td>\n",
              "      <td>20</td>\n",
              "      <td>1</td>\n",
              "      <td>0</td>\n",
              "      <td>1</td>\n",
              "      <td>1300</td>\n",
              "      <td>650</td>\n",
              "      <td>...</td>\n",
              "      <td>0</td>\n",
              "      <td>1</td>\n",
              "      <td>0</td>\n",
              "      <td>0</td>\n",
              "      <td>0</td>\n",
              "      <td>1</td>\n",
              "      <td>0</td>\n",
              "      <td>0</td>\n",
              "      <td>0</td>\n",
              "      <td>0</td>\n",
              "    </tr>\n",
              "  </tbody>\n",
              "</table>\n",
              "<p>5 rows × 51 columns</p>\n",
              "</div>\n",
              "      <button class=\"colab-df-convert\" onclick=\"convertToInteractive('df-e805dbd9-9672-4fbd-b127-99264f3272a2')\"\n",
              "              title=\"Convert this dataframe to an interactive table.\"\n",
              "              style=\"display:none;\">\n",
              "        \n",
              "  <svg xmlns=\"http://www.w3.org/2000/svg\" height=\"24px\"viewBox=\"0 0 24 24\"\n",
              "       width=\"24px\">\n",
              "    <path d=\"M0 0h24v24H0V0z\" fill=\"none\"/>\n",
              "    <path d=\"M18.56 5.44l.94 2.06.94-2.06 2.06-.94-2.06-.94-.94-2.06-.94 2.06-2.06.94zm-11 1L8.5 8.5l.94-2.06 2.06-.94-2.06-.94L8.5 2.5l-.94 2.06-2.06.94zm10 10l.94 2.06.94-2.06 2.06-.94-2.06-.94-.94-2.06-.94 2.06-2.06.94z\"/><path d=\"M17.41 7.96l-1.37-1.37c-.4-.4-.92-.59-1.43-.59-.52 0-1.04.2-1.43.59L10.3 9.45l-7.72 7.72c-.78.78-.78 2.05 0 2.83L4 21.41c.39.39.9.59 1.41.59.51 0 1.02-.2 1.41-.59l7.78-7.78 2.81-2.81c.8-.78.8-2.07 0-2.86zM5.41 20L4 18.59l7.72-7.72 1.47 1.35L5.41 20z\"/>\n",
              "  </svg>\n",
              "      </button>\n",
              "      \n",
              "  <style>\n",
              "    .colab-df-container {\n",
              "      display:flex;\n",
              "      flex-wrap:wrap;\n",
              "      gap: 12px;\n",
              "    }\n",
              "\n",
              "    .colab-df-convert {\n",
              "      background-color: #E8F0FE;\n",
              "      border: none;\n",
              "      border-radius: 50%;\n",
              "      cursor: pointer;\n",
              "      display: none;\n",
              "      fill: #1967D2;\n",
              "      height: 32px;\n",
              "      padding: 0 0 0 0;\n",
              "      width: 32px;\n",
              "    }\n",
              "\n",
              "    .colab-df-convert:hover {\n",
              "      background-color: #E2EBFA;\n",
              "      box-shadow: 0px 1px 2px rgba(60, 64, 67, 0.3), 0px 1px 3px 1px rgba(60, 64, 67, 0.15);\n",
              "      fill: #174EA6;\n",
              "    }\n",
              "\n",
              "    [theme=dark] .colab-df-convert {\n",
              "      background-color: #3B4455;\n",
              "      fill: #D2E3FC;\n",
              "    }\n",
              "\n",
              "    [theme=dark] .colab-df-convert:hover {\n",
              "      background-color: #434B5C;\n",
              "      box-shadow: 0px 1px 3px 1px rgba(0, 0, 0, 0.15);\n",
              "      filter: drop-shadow(0px 1px 2px rgba(0, 0, 0, 0.3));\n",
              "      fill: #FFFFFF;\n",
              "    }\n",
              "  </style>\n",
              "\n",
              "      <script>\n",
              "        const buttonEl =\n",
              "          document.querySelector('#df-e805dbd9-9672-4fbd-b127-99264f3272a2 button.colab-df-convert');\n",
              "        buttonEl.style.display =\n",
              "          google.colab.kernel.accessAllowed ? 'block' : 'none';\n",
              "\n",
              "        async function convertToInteractive(key) {\n",
              "          const element = document.querySelector('#df-e805dbd9-9672-4fbd-b127-99264f3272a2');\n",
              "          const dataTable =\n",
              "            await google.colab.kernel.invokeFunction('convertToInteractive',\n",
              "                                                     [key], {});\n",
              "          if (!dataTable) return;\n",
              "\n",
              "          const docLinkHtml = 'Like what you see? Visit the ' +\n",
              "            '<a target=\"_blank\" href=https://colab.research.google.com/notebooks/data_table.ipynb>data table notebook</a>'\n",
              "            + ' to learn more about interactive tables.';\n",
              "          element.innerHTML = '';\n",
              "          dataTable['output_type'] = 'display_data';\n",
              "          await google.colab.output.renderOutput(dataTable, element);\n",
              "          const docLink = document.createElement('div');\n",
              "          docLink.innerHTML = docLinkHtml;\n",
              "          element.appendChild(docLink);\n",
              "        }\n",
              "      </script>\n",
              "    </div>\n",
              "  </div>\n",
              "  "
            ]
          },
          "metadata": {},
          "execution_count": 25
        }
      ]
    },
    {
      "cell_type": "code",
      "source": [
        "# splitting data into training set and test set\n",
        "\n",
        "\n",
        "X_train, X_test, y_train, y_test = train_test_split(X, y, test_size = 0.25)"
      ],
      "metadata": {
        "id": "D2JrgcBt31di"
      },
      "execution_count": null,
      "outputs": []
    },
    {
      "cell_type": "code",
      "source": [
        "X_train.head()"
      ],
      "metadata": {
        "id": "hthzcYpj31ZO",
        "colab": {
          "base_uri": "https://localhost:8080/",
          "height": 317
        },
        "outputId": "e0c7323a-62d9-46aa-9de1-e5634dc87463"
      },
      "execution_count": null,
      "outputs": [
        {
          "output_type": "execute_result",
          "data": {
            "text/plain": [
              "     months_as_customer  umbrella_limit  capital-gains  capital-loss  \\\n",
              "653                 109         6000000              0             0   \n",
              "31                  166         8000000          27500             0   \n",
              "953                 229               0          42600        -44400   \n",
              "529                  15               0          33500        -58900   \n",
              "618                  97               0              0        -32600   \n",
              "\n",
              "     incident_hour_of_the_day  number_of_vehicles_involved  bodily_injuries  \\\n",
              "653                        17                            3                1   \n",
              "31                         10                            3                2   \n",
              "953                         3                            1                1   \n",
              "529                        10                            1                1   \n",
              "618                        22                            1                1   \n",
              "\n",
              "     witnesses  injury_claim  property_claim  ...  \\\n",
              "653          3         16560           16560  ...   \n",
              "31           2          7460            7460  ...   \n",
              "953          0           420             840  ...   \n",
              "529          3          6870           13740  ...   \n",
              "618          0         10060           10060  ...   \n",
              "\n",
              "     collision_type_Side Collision  incident_severity_Minor Damage  \\\n",
              "653                              1                               1   \n",
              "31                               1                               0   \n",
              "953                              0                               1   \n",
              "529                              0                               0   \n",
              "618                              0                               0   \n",
              "\n",
              "     incident_severity_Total Loss  incident_severity_Trivial Damage  \\\n",
              "653                             0                                 0   \n",
              "31                              0                                 0   \n",
              "953                             0                                 0   \n",
              "529                             0                                 0   \n",
              "618                             1                                 0   \n",
              "\n",
              "     authorities_contacted_Fire  authorities_contacted_None  \\\n",
              "653                           0                           0   \n",
              "31                            0                           0   \n",
              "953                           0                           1   \n",
              "529                           0                           0   \n",
              "618                           0                           0   \n",
              "\n",
              "     authorities_contacted_Other  authorities_contacted_Police  \\\n",
              "653                            0                             1   \n",
              "31                             0                             1   \n",
              "953                            0                             0   \n",
              "529                            0                             1   \n",
              "618                            0                             0   \n",
              "\n",
              "     property_damage_YES  police_report_available_YES  \n",
              "653                    0                            1  \n",
              "31                     0                            0  \n",
              "953                    0                            1  \n",
              "529                    1                            0  \n",
              "618                    0                            0  \n",
              "\n",
              "[5 rows x 51 columns]"
            ],
            "text/html": [
              "\n",
              "  <div id=\"df-b29c55bd-86d7-4b6d-a722-c1493d46cf96\">\n",
              "    <div class=\"colab-df-container\">\n",
              "      <div>\n",
              "<style scoped>\n",
              "    .dataframe tbody tr th:only-of-type {\n",
              "        vertical-align: middle;\n",
              "    }\n",
              "\n",
              "    .dataframe tbody tr th {\n",
              "        vertical-align: top;\n",
              "    }\n",
              "\n",
              "    .dataframe thead th {\n",
              "        text-align: right;\n",
              "    }\n",
              "</style>\n",
              "<table border=\"1\" class=\"dataframe\">\n",
              "  <thead>\n",
              "    <tr style=\"text-align: right;\">\n",
              "      <th></th>\n",
              "      <th>months_as_customer</th>\n",
              "      <th>umbrella_limit</th>\n",
              "      <th>capital-gains</th>\n",
              "      <th>capital-loss</th>\n",
              "      <th>incident_hour_of_the_day</th>\n",
              "      <th>number_of_vehicles_involved</th>\n",
              "      <th>bodily_injuries</th>\n",
              "      <th>witnesses</th>\n",
              "      <th>injury_claim</th>\n",
              "      <th>property_claim</th>\n",
              "      <th>...</th>\n",
              "      <th>collision_type_Side Collision</th>\n",
              "      <th>incident_severity_Minor Damage</th>\n",
              "      <th>incident_severity_Total Loss</th>\n",
              "      <th>incident_severity_Trivial Damage</th>\n",
              "      <th>authorities_contacted_Fire</th>\n",
              "      <th>authorities_contacted_None</th>\n",
              "      <th>authorities_contacted_Other</th>\n",
              "      <th>authorities_contacted_Police</th>\n",
              "      <th>property_damage_YES</th>\n",
              "      <th>police_report_available_YES</th>\n",
              "    </tr>\n",
              "  </thead>\n",
              "  <tbody>\n",
              "    <tr>\n",
              "      <th>653</th>\n",
              "      <td>109</td>\n",
              "      <td>6000000</td>\n",
              "      <td>0</td>\n",
              "      <td>0</td>\n",
              "      <td>17</td>\n",
              "      <td>3</td>\n",
              "      <td>1</td>\n",
              "      <td>3</td>\n",
              "      <td>16560</td>\n",
              "      <td>16560</td>\n",
              "      <td>...</td>\n",
              "      <td>1</td>\n",
              "      <td>1</td>\n",
              "      <td>0</td>\n",
              "      <td>0</td>\n",
              "      <td>0</td>\n",
              "      <td>0</td>\n",
              "      <td>0</td>\n",
              "      <td>1</td>\n",
              "      <td>0</td>\n",
              "      <td>1</td>\n",
              "    </tr>\n",
              "    <tr>\n",
              "      <th>31</th>\n",
              "      <td>166</td>\n",
              "      <td>8000000</td>\n",
              "      <td>27500</td>\n",
              "      <td>0</td>\n",
              "      <td>10</td>\n",
              "      <td>3</td>\n",
              "      <td>2</td>\n",
              "      <td>2</td>\n",
              "      <td>7460</td>\n",
              "      <td>7460</td>\n",
              "      <td>...</td>\n",
              "      <td>1</td>\n",
              "      <td>0</td>\n",
              "      <td>0</td>\n",
              "      <td>0</td>\n",
              "      <td>0</td>\n",
              "      <td>0</td>\n",
              "      <td>0</td>\n",
              "      <td>1</td>\n",
              "      <td>0</td>\n",
              "      <td>0</td>\n",
              "    </tr>\n",
              "    <tr>\n",
              "      <th>953</th>\n",
              "      <td>229</td>\n",
              "      <td>0</td>\n",
              "      <td>42600</td>\n",
              "      <td>-44400</td>\n",
              "      <td>3</td>\n",
              "      <td>1</td>\n",
              "      <td>1</td>\n",
              "      <td>0</td>\n",
              "      <td>420</td>\n",
              "      <td>840</td>\n",
              "      <td>...</td>\n",
              "      <td>0</td>\n",
              "      <td>1</td>\n",
              "      <td>0</td>\n",
              "      <td>0</td>\n",
              "      <td>0</td>\n",
              "      <td>1</td>\n",
              "      <td>0</td>\n",
              "      <td>0</td>\n",
              "      <td>0</td>\n",
              "      <td>1</td>\n",
              "    </tr>\n",
              "    <tr>\n",
              "      <th>529</th>\n",
              "      <td>15</td>\n",
              "      <td>0</td>\n",
              "      <td>33500</td>\n",
              "      <td>-58900</td>\n",
              "      <td>10</td>\n",
              "      <td>1</td>\n",
              "      <td>1</td>\n",
              "      <td>3</td>\n",
              "      <td>6870</td>\n",
              "      <td>13740</td>\n",
              "      <td>...</td>\n",
              "      <td>0</td>\n",
              "      <td>0</td>\n",
              "      <td>0</td>\n",
              "      <td>0</td>\n",
              "      <td>0</td>\n",
              "      <td>0</td>\n",
              "      <td>0</td>\n",
              "      <td>1</td>\n",
              "      <td>1</td>\n",
              "      <td>0</td>\n",
              "    </tr>\n",
              "    <tr>\n",
              "      <th>618</th>\n",
              "      <td>97</td>\n",
              "      <td>0</td>\n",
              "      <td>0</td>\n",
              "      <td>-32600</td>\n",
              "      <td>22</td>\n",
              "      <td>1</td>\n",
              "      <td>1</td>\n",
              "      <td>0</td>\n",
              "      <td>10060</td>\n",
              "      <td>10060</td>\n",
              "      <td>...</td>\n",
              "      <td>0</td>\n",
              "      <td>0</td>\n",
              "      <td>1</td>\n",
              "      <td>0</td>\n",
              "      <td>0</td>\n",
              "      <td>0</td>\n",
              "      <td>0</td>\n",
              "      <td>0</td>\n",
              "      <td>0</td>\n",
              "      <td>0</td>\n",
              "    </tr>\n",
              "  </tbody>\n",
              "</table>\n",
              "<p>5 rows × 51 columns</p>\n",
              "</div>\n",
              "      <button class=\"colab-df-convert\" onclick=\"convertToInteractive('df-b29c55bd-86d7-4b6d-a722-c1493d46cf96')\"\n",
              "              title=\"Convert this dataframe to an interactive table.\"\n",
              "              style=\"display:none;\">\n",
              "        \n",
              "  <svg xmlns=\"http://www.w3.org/2000/svg\" height=\"24px\"viewBox=\"0 0 24 24\"\n",
              "       width=\"24px\">\n",
              "    <path d=\"M0 0h24v24H0V0z\" fill=\"none\"/>\n",
              "    <path d=\"M18.56 5.44l.94 2.06.94-2.06 2.06-.94-2.06-.94-.94-2.06-.94 2.06-2.06.94zm-11 1L8.5 8.5l.94-2.06 2.06-.94-2.06-.94L8.5 2.5l-.94 2.06-2.06.94zm10 10l.94 2.06.94-2.06 2.06-.94-2.06-.94-.94-2.06-.94 2.06-2.06.94z\"/><path d=\"M17.41 7.96l-1.37-1.37c-.4-.4-.92-.59-1.43-.59-.52 0-1.04.2-1.43.59L10.3 9.45l-7.72 7.72c-.78.78-.78 2.05 0 2.83L4 21.41c.39.39.9.59 1.41.59.51 0 1.02-.2 1.41-.59l7.78-7.78 2.81-2.81c.8-.78.8-2.07 0-2.86zM5.41 20L4 18.59l7.72-7.72 1.47 1.35L5.41 20z\"/>\n",
              "  </svg>\n",
              "      </button>\n",
              "      \n",
              "  <style>\n",
              "    .colab-df-container {\n",
              "      display:flex;\n",
              "      flex-wrap:wrap;\n",
              "      gap: 12px;\n",
              "    }\n",
              "\n",
              "    .colab-df-convert {\n",
              "      background-color: #E8F0FE;\n",
              "      border: none;\n",
              "      border-radius: 50%;\n",
              "      cursor: pointer;\n",
              "      display: none;\n",
              "      fill: #1967D2;\n",
              "      height: 32px;\n",
              "      padding: 0 0 0 0;\n",
              "      width: 32px;\n",
              "    }\n",
              "\n",
              "    .colab-df-convert:hover {\n",
              "      background-color: #E2EBFA;\n",
              "      box-shadow: 0px 1px 2px rgba(60, 64, 67, 0.3), 0px 1px 3px 1px rgba(60, 64, 67, 0.15);\n",
              "      fill: #174EA6;\n",
              "    }\n",
              "\n",
              "    [theme=dark] .colab-df-convert {\n",
              "      background-color: #3B4455;\n",
              "      fill: #D2E3FC;\n",
              "    }\n",
              "\n",
              "    [theme=dark] .colab-df-convert:hover {\n",
              "      background-color: #434B5C;\n",
              "      box-shadow: 0px 1px 3px 1px rgba(0, 0, 0, 0.15);\n",
              "      filter: drop-shadow(0px 1px 2px rgba(0, 0, 0, 0.3));\n",
              "      fill: #FFFFFF;\n",
              "    }\n",
              "  </style>\n",
              "\n",
              "      <script>\n",
              "        const buttonEl =\n",
              "          document.querySelector('#df-b29c55bd-86d7-4b6d-a722-c1493d46cf96 button.colab-df-convert');\n",
              "        buttonEl.style.display =\n",
              "          google.colab.kernel.accessAllowed ? 'block' : 'none';\n",
              "\n",
              "        async function convertToInteractive(key) {\n",
              "          const element = document.querySelector('#df-b29c55bd-86d7-4b6d-a722-c1493d46cf96');\n",
              "          const dataTable =\n",
              "            await google.colab.kernel.invokeFunction('convertToInteractive',\n",
              "                                                     [key], {});\n",
              "          if (!dataTable) return;\n",
              "\n",
              "          const docLinkHtml = 'Like what you see? Visit the ' +\n",
              "            '<a target=\"_blank\" href=https://colab.research.google.com/notebooks/data_table.ipynb>data table notebook</a>'\n",
              "            + ' to learn more about interactive tables.';\n",
              "          element.innerHTML = '';\n",
              "          dataTable['output_type'] = 'display_data';\n",
              "          await google.colab.output.renderOutput(dataTable, element);\n",
              "          const docLink = document.createElement('div');\n",
              "          docLink.innerHTML = docLinkHtml;\n",
              "          element.appendChild(docLink);\n",
              "        }\n",
              "      </script>\n",
              "    </div>\n",
              "  </div>\n",
              "  "
            ]
          },
          "metadata": {},
          "execution_count": 27
        }
      ]
    },
    {
      "cell_type": "markdown",
      "source": [
        "**Re-scaling**"
      ],
      "metadata": {
        "id": "DENZeth4FbYD"
      }
    },
    {
      "cell_type": "code",
      "source": [
        "# Scaling the numeric values in the dataset\n",
        "num_df = X_train[['months_as_customer',  'umbrella_limit',\n",
        "       'capital-gains', 'capital-loss', 'incident_hour_of_the_day',\n",
        "       'number_of_vehicles_involved', 'bodily_injuries', 'witnesses', 'injury_claim', 'property_claim',\n",
        "       'vehicle_claim']]\n",
        "\n",
        "\n",
        "from sklearn.preprocessing import StandardScaler\n",
        "\n",
        "scaler = StandardScaler()\n",
        "scaled_data = scaler.fit_transform(num_df)\n"
      ],
      "metadata": {
        "id": "FKtw-DEE31Xj"
      },
      "execution_count": null,
      "outputs": []
    },
    {
      "cell_type": "code",
      "source": [
        "scaled_num_df = pd.DataFrame(data = scaled_data, columns = num_df.columns, index = X_train.index)\n",
        "scaled_num_df.head()\n"
      ],
      "metadata": {
        "id": "ja9USOGh4LNg",
        "colab": {
          "base_uri": "https://localhost:8080/",
          "height": 268
        },
        "outputId": "5a0ec36a-ee70-4420-acda-d8a157649fbb"
      },
      "execution_count": null,
      "outputs": [
        {
          "output_type": "execute_result",
          "data": {
            "text/plain": [
              "     months_as_customer  umbrella_limit  capital-gains  capital-loss  \\\n",
              "653           -0.850675        2.146235      -0.902285      0.945721   \n",
              "31            -0.360133        3.016331       0.088516      0.945721   \n",
              "953            0.182046       -0.464051       0.632556     -0.640308   \n",
              "529           -1.659639       -0.464051       0.304691     -1.158268   \n",
              "618           -0.953947       -0.464051      -0.902285     -0.218796   \n",
              "\n",
              "     incident_hour_of_the_day  number_of_vehicles_involved  bodily_injuries  \\\n",
              "653                  0.767126                     1.094608         0.011443   \n",
              "31                  -0.238721                     1.094608         1.237495   \n",
              "953                 -1.244568                    -0.860049         0.011443   \n",
              "529                 -0.238721                    -0.860049         0.011443   \n",
              "618                  1.485588                    -0.860049         0.011443   \n",
              "\n",
              "     witnesses  injury_claim  property_claim  vehicle_claim  \n",
              "653   1.376481      1.863635        1.855250       1.056040  \n",
              "31    0.478776     -0.004854       -0.002938       0.751556  \n",
              "953  -1.316634     -1.450366       -1.354718      -1.840274  \n",
              "529   1.376481     -0.125998        1.279416       0.896902  \n",
              "618  -1.316634      0.529000        0.527973      -0.684401  "
            ],
            "text/html": [
              "\n",
              "  <div id=\"df-14c3200b-cee3-4e0c-8bd3-4668cff9b347\">\n",
              "    <div class=\"colab-df-container\">\n",
              "      <div>\n",
              "<style scoped>\n",
              "    .dataframe tbody tr th:only-of-type {\n",
              "        vertical-align: middle;\n",
              "    }\n",
              "\n",
              "    .dataframe tbody tr th {\n",
              "        vertical-align: top;\n",
              "    }\n",
              "\n",
              "    .dataframe thead th {\n",
              "        text-align: right;\n",
              "    }\n",
              "</style>\n",
              "<table border=\"1\" class=\"dataframe\">\n",
              "  <thead>\n",
              "    <tr style=\"text-align: right;\">\n",
              "      <th></th>\n",
              "      <th>months_as_customer</th>\n",
              "      <th>umbrella_limit</th>\n",
              "      <th>capital-gains</th>\n",
              "      <th>capital-loss</th>\n",
              "      <th>incident_hour_of_the_day</th>\n",
              "      <th>number_of_vehicles_involved</th>\n",
              "      <th>bodily_injuries</th>\n",
              "      <th>witnesses</th>\n",
              "      <th>injury_claim</th>\n",
              "      <th>property_claim</th>\n",
              "      <th>vehicle_claim</th>\n",
              "    </tr>\n",
              "  </thead>\n",
              "  <tbody>\n",
              "    <tr>\n",
              "      <th>653</th>\n",
              "      <td>-0.850675</td>\n",
              "      <td>2.146235</td>\n",
              "      <td>-0.902285</td>\n",
              "      <td>0.945721</td>\n",
              "      <td>0.767126</td>\n",
              "      <td>1.094608</td>\n",
              "      <td>0.011443</td>\n",
              "      <td>1.376481</td>\n",
              "      <td>1.863635</td>\n",
              "      <td>1.855250</td>\n",
              "      <td>1.056040</td>\n",
              "    </tr>\n",
              "    <tr>\n",
              "      <th>31</th>\n",
              "      <td>-0.360133</td>\n",
              "      <td>3.016331</td>\n",
              "      <td>0.088516</td>\n",
              "      <td>0.945721</td>\n",
              "      <td>-0.238721</td>\n",
              "      <td>1.094608</td>\n",
              "      <td>1.237495</td>\n",
              "      <td>0.478776</td>\n",
              "      <td>-0.004854</td>\n",
              "      <td>-0.002938</td>\n",
              "      <td>0.751556</td>\n",
              "    </tr>\n",
              "    <tr>\n",
              "      <th>953</th>\n",
              "      <td>0.182046</td>\n",
              "      <td>-0.464051</td>\n",
              "      <td>0.632556</td>\n",
              "      <td>-0.640308</td>\n",
              "      <td>-1.244568</td>\n",
              "      <td>-0.860049</td>\n",
              "      <td>0.011443</td>\n",
              "      <td>-1.316634</td>\n",
              "      <td>-1.450366</td>\n",
              "      <td>-1.354718</td>\n",
              "      <td>-1.840274</td>\n",
              "    </tr>\n",
              "    <tr>\n",
              "      <th>529</th>\n",
              "      <td>-1.659639</td>\n",
              "      <td>-0.464051</td>\n",
              "      <td>0.304691</td>\n",
              "      <td>-1.158268</td>\n",
              "      <td>-0.238721</td>\n",
              "      <td>-0.860049</td>\n",
              "      <td>0.011443</td>\n",
              "      <td>1.376481</td>\n",
              "      <td>-0.125998</td>\n",
              "      <td>1.279416</td>\n",
              "      <td>0.896902</td>\n",
              "    </tr>\n",
              "    <tr>\n",
              "      <th>618</th>\n",
              "      <td>-0.953947</td>\n",
              "      <td>-0.464051</td>\n",
              "      <td>-0.902285</td>\n",
              "      <td>-0.218796</td>\n",
              "      <td>1.485588</td>\n",
              "      <td>-0.860049</td>\n",
              "      <td>0.011443</td>\n",
              "      <td>-1.316634</td>\n",
              "      <td>0.529000</td>\n",
              "      <td>0.527973</td>\n",
              "      <td>-0.684401</td>\n",
              "    </tr>\n",
              "  </tbody>\n",
              "</table>\n",
              "</div>\n",
              "      <button class=\"colab-df-convert\" onclick=\"convertToInteractive('df-14c3200b-cee3-4e0c-8bd3-4668cff9b347')\"\n",
              "              title=\"Convert this dataframe to an interactive table.\"\n",
              "              style=\"display:none;\">\n",
              "        \n",
              "  <svg xmlns=\"http://www.w3.org/2000/svg\" height=\"24px\"viewBox=\"0 0 24 24\"\n",
              "       width=\"24px\">\n",
              "    <path d=\"M0 0h24v24H0V0z\" fill=\"none\"/>\n",
              "    <path d=\"M18.56 5.44l.94 2.06.94-2.06 2.06-.94-2.06-.94-.94-2.06-.94 2.06-2.06.94zm-11 1L8.5 8.5l.94-2.06 2.06-.94-2.06-.94L8.5 2.5l-.94 2.06-2.06.94zm10 10l.94 2.06.94-2.06 2.06-.94-2.06-.94-.94-2.06-.94 2.06-2.06.94z\"/><path d=\"M17.41 7.96l-1.37-1.37c-.4-.4-.92-.59-1.43-.59-.52 0-1.04.2-1.43.59L10.3 9.45l-7.72 7.72c-.78.78-.78 2.05 0 2.83L4 21.41c.39.39.9.59 1.41.59.51 0 1.02-.2 1.41-.59l7.78-7.78 2.81-2.81c.8-.78.8-2.07 0-2.86zM5.41 20L4 18.59l7.72-7.72 1.47 1.35L5.41 20z\"/>\n",
              "  </svg>\n",
              "      </button>\n",
              "      \n",
              "  <style>\n",
              "    .colab-df-container {\n",
              "      display:flex;\n",
              "      flex-wrap:wrap;\n",
              "      gap: 12px;\n",
              "    }\n",
              "\n",
              "    .colab-df-convert {\n",
              "      background-color: #E8F0FE;\n",
              "      border: none;\n",
              "      border-radius: 50%;\n",
              "      cursor: pointer;\n",
              "      display: none;\n",
              "      fill: #1967D2;\n",
              "      height: 32px;\n",
              "      padding: 0 0 0 0;\n",
              "      width: 32px;\n",
              "    }\n",
              "\n",
              "    .colab-df-convert:hover {\n",
              "      background-color: #E2EBFA;\n",
              "      box-shadow: 0px 1px 2px rgba(60, 64, 67, 0.3), 0px 1px 3px 1px rgba(60, 64, 67, 0.15);\n",
              "      fill: #174EA6;\n",
              "    }\n",
              "\n",
              "    [theme=dark] .colab-df-convert {\n",
              "      background-color: #3B4455;\n",
              "      fill: #D2E3FC;\n",
              "    }\n",
              "\n",
              "    [theme=dark] .colab-df-convert:hover {\n",
              "      background-color: #434B5C;\n",
              "      box-shadow: 0px 1px 3px 1px rgba(0, 0, 0, 0.15);\n",
              "      filter: drop-shadow(0px 1px 2px rgba(0, 0, 0, 0.3));\n",
              "      fill: #FFFFFF;\n",
              "    }\n",
              "  </style>\n",
              "\n",
              "      <script>\n",
              "        const buttonEl =\n",
              "          document.querySelector('#df-14c3200b-cee3-4e0c-8bd3-4668cff9b347 button.colab-df-convert');\n",
              "        buttonEl.style.display =\n",
              "          google.colab.kernel.accessAllowed ? 'block' : 'none';\n",
              "\n",
              "        async function convertToInteractive(key) {\n",
              "          const element = document.querySelector('#df-14c3200b-cee3-4e0c-8bd3-4668cff9b347');\n",
              "          const dataTable =\n",
              "            await google.colab.kernel.invokeFunction('convertToInteractive',\n",
              "                                                     [key], {});\n",
              "          if (!dataTable) return;\n",
              "\n",
              "          const docLinkHtml = 'Like what you see? Visit the ' +\n",
              "            '<a target=\"_blank\" href=https://colab.research.google.com/notebooks/data_table.ipynb>data table notebook</a>'\n",
              "            + ' to learn more about interactive tables.';\n",
              "          element.innerHTML = '';\n",
              "          dataTable['output_type'] = 'display_data';\n",
              "          await google.colab.output.renderOutput(dataTable, element);\n",
              "          const docLink = document.createElement('div');\n",
              "          docLink.innerHTML = docLinkHtml;\n",
              "          element.appendChild(docLink);\n",
              "        }\n",
              "      </script>\n",
              "    </div>\n",
              "  </div>\n",
              "  "
            ]
          },
          "metadata": {},
          "execution_count": 29
        }
      ]
    },
    {
      "cell_type": "markdown",
      "source": [
        "**Concatenating the scaled data into the training set**"
      ],
      "metadata": {
        "id": "74ia01rTGPJo"
      }
    },
    {
      "cell_type": "code",
      "source": [
        "X_train.drop(columns = scaled_num_df.columns, inplace = True)\n",
        "X_train = pd.concat([scaled_num_df, X_train], axis = 1)\n",
        "X_train"
      ],
      "metadata": {
        "id": "X37xB7y54LLj",
        "colab": {
          "base_uri": "https://localhost:8080/",
          "height": 505
        },
        "outputId": "a52b8114-135a-448f-f952-ed82ea41c00b"
      },
      "execution_count": null,
      "outputs": [
        {
          "output_type": "execute_result",
          "data": {
            "text/plain": [
              "     months_as_customer  umbrella_limit  capital-gains  capital-loss  \\\n",
              "653           -0.850675        2.146235      -0.902285      0.945721   \n",
              "31            -0.360133        3.016331       0.088516      0.945721   \n",
              "953            0.182046       -0.464051       0.632556     -0.640308   \n",
              "529           -1.659639       -0.464051       0.304691     -1.158268   \n",
              "618           -0.953947       -0.464051      -0.902285     -0.218796   \n",
              "..                  ...             ...            ...           ...   \n",
              "26             0.423014       -0.464051      -0.902285     -0.097343   \n",
              "892            0.061562       -0.464051       0.538881     -0.604587   \n",
              "169           -1.384247       -0.464051       1.814312      0.945721   \n",
              "856            0.707012       -0.464051       1.057700      0.945721   \n",
              "150           -0.635525       -0.464051      -0.902285      0.945721   \n",
              "\n",
              "     incident_hour_of_the_day  number_of_vehicles_involved  bodily_injuries  \\\n",
              "653                  0.767126                     1.094608         0.011443   \n",
              "31                  -0.238721                     1.094608         1.237495   \n",
              "953                 -1.244568                    -0.860049         0.011443   \n",
              "529                 -0.238721                    -0.860049         0.011443   \n",
              "618                  1.485588                    -0.860049         0.011443   \n",
              "..                        ...                          ...              ...   \n",
              "26                  -1.100876                    -0.860049         0.011443   \n",
              "892                 -0.813491                    -0.860049         1.237495   \n",
              "169                  0.910818                    -0.860049         0.011443   \n",
              "856                  1.485588                     1.094608        -1.214609   \n",
              "150                  0.767126                    -0.860049         0.011443   \n",
              "\n",
              "     witnesses  injury_claim  property_claim  ...  \\\n",
              "653   1.376481      1.863635        1.855250  ...   \n",
              "31    0.478776     -0.004854       -0.002938  ...   \n",
              "953  -1.316634     -1.450366       -1.354718  ...   \n",
              "529   1.376481     -0.125998        1.279416  ...   \n",
              "618  -1.316634      0.529000        0.527973  ...   \n",
              "..         ...           ...             ...  ...   \n",
              "26    1.376481     -1.199865       -1.358802  ...   \n",
              "892  -0.418929     -1.491432       -1.436397  ...   \n",
              "169  -1.316634     -1.399034       -1.389432  ...   \n",
              "856  -0.418929     -0.177330       -0.174463  ...   \n",
              "150  -1.316634      0.007466        1.544871  ...   \n",
              "\n",
              "     collision_type_Side Collision  incident_severity_Minor Damage  \\\n",
              "653                              1                               1   \n",
              "31                               1                               0   \n",
              "953                              0                               1   \n",
              "529                              0                               0   \n",
              "618                              0                               0   \n",
              "..                             ...                             ...   \n",
              "26                               0                               1   \n",
              "892                              0                               0   \n",
              "169                              0                               1   \n",
              "856                              1                               1   \n",
              "150                              1                               0   \n",
              "\n",
              "     incident_severity_Total Loss  incident_severity_Trivial Damage  \\\n",
              "653                             0                                 0   \n",
              "31                              0                                 0   \n",
              "953                             0                                 0   \n",
              "529                             0                                 0   \n",
              "618                             1                                 0   \n",
              "..                            ...                               ...   \n",
              "26                              0                                 0   \n",
              "892                             0                                 1   \n",
              "169                             0                                 0   \n",
              "856                             0                                 0   \n",
              "150                             1                                 0   \n",
              "\n",
              "     authorities_contacted_Fire  authorities_contacted_None  \\\n",
              "653                           0                           0   \n",
              "31                            0                           0   \n",
              "953                           0                           1   \n",
              "529                           0                           0   \n",
              "618                           0                           0   \n",
              "..                          ...                         ...   \n",
              "26                            0                           0   \n",
              "892                           0                           1   \n",
              "169                           0                           1   \n",
              "856                           1                           0   \n",
              "150                           0                           0   \n",
              "\n",
              "     authorities_contacted_Other  authorities_contacted_Police  \\\n",
              "653                            0                             1   \n",
              "31                             0                             1   \n",
              "953                            0                             0   \n",
              "529                            0                             1   \n",
              "618                            0                             0   \n",
              "..                           ...                           ...   \n",
              "26                             0                             1   \n",
              "892                            0                             0   \n",
              "169                            0                             0   \n",
              "856                            0                             0   \n",
              "150                            1                             0   \n",
              "\n",
              "     property_damage_YES  police_report_available_YES  \n",
              "653                    0                            1  \n",
              "31                     0                            0  \n",
              "953                    0                            1  \n",
              "529                    1                            0  \n",
              "618                    0                            0  \n",
              "..                   ...                          ...  \n",
              "26                     1                            1  \n",
              "892                    0                            0  \n",
              "169                    0                            0  \n",
              "856                    0                            0  \n",
              "150                    0                            0  \n",
              "\n",
              "[750 rows x 51 columns]"
            ],
            "text/html": [
              "\n",
              "  <div id=\"df-2aeb9a8a-ace6-44bc-9be8-ef28ceda68fa\">\n",
              "    <div class=\"colab-df-container\">\n",
              "      <div>\n",
              "<style scoped>\n",
              "    .dataframe tbody tr th:only-of-type {\n",
              "        vertical-align: middle;\n",
              "    }\n",
              "\n",
              "    .dataframe tbody tr th {\n",
              "        vertical-align: top;\n",
              "    }\n",
              "\n",
              "    .dataframe thead th {\n",
              "        text-align: right;\n",
              "    }\n",
              "</style>\n",
              "<table border=\"1\" class=\"dataframe\">\n",
              "  <thead>\n",
              "    <tr style=\"text-align: right;\">\n",
              "      <th></th>\n",
              "      <th>months_as_customer</th>\n",
              "      <th>umbrella_limit</th>\n",
              "      <th>capital-gains</th>\n",
              "      <th>capital-loss</th>\n",
              "      <th>incident_hour_of_the_day</th>\n",
              "      <th>number_of_vehicles_involved</th>\n",
              "      <th>bodily_injuries</th>\n",
              "      <th>witnesses</th>\n",
              "      <th>injury_claim</th>\n",
              "      <th>property_claim</th>\n",
              "      <th>...</th>\n",
              "      <th>collision_type_Side Collision</th>\n",
              "      <th>incident_severity_Minor Damage</th>\n",
              "      <th>incident_severity_Total Loss</th>\n",
              "      <th>incident_severity_Trivial Damage</th>\n",
              "      <th>authorities_contacted_Fire</th>\n",
              "      <th>authorities_contacted_None</th>\n",
              "      <th>authorities_contacted_Other</th>\n",
              "      <th>authorities_contacted_Police</th>\n",
              "      <th>property_damage_YES</th>\n",
              "      <th>police_report_available_YES</th>\n",
              "    </tr>\n",
              "  </thead>\n",
              "  <tbody>\n",
              "    <tr>\n",
              "      <th>653</th>\n",
              "      <td>-0.850675</td>\n",
              "      <td>2.146235</td>\n",
              "      <td>-0.902285</td>\n",
              "      <td>0.945721</td>\n",
              "      <td>0.767126</td>\n",
              "      <td>1.094608</td>\n",
              "      <td>0.011443</td>\n",
              "      <td>1.376481</td>\n",
              "      <td>1.863635</td>\n",
              "      <td>1.855250</td>\n",
              "      <td>...</td>\n",
              "      <td>1</td>\n",
              "      <td>1</td>\n",
              "      <td>0</td>\n",
              "      <td>0</td>\n",
              "      <td>0</td>\n",
              "      <td>0</td>\n",
              "      <td>0</td>\n",
              "      <td>1</td>\n",
              "      <td>0</td>\n",
              "      <td>1</td>\n",
              "    </tr>\n",
              "    <tr>\n",
              "      <th>31</th>\n",
              "      <td>-0.360133</td>\n",
              "      <td>3.016331</td>\n",
              "      <td>0.088516</td>\n",
              "      <td>0.945721</td>\n",
              "      <td>-0.238721</td>\n",
              "      <td>1.094608</td>\n",
              "      <td>1.237495</td>\n",
              "      <td>0.478776</td>\n",
              "      <td>-0.004854</td>\n",
              "      <td>-0.002938</td>\n",
              "      <td>...</td>\n",
              "      <td>1</td>\n",
              "      <td>0</td>\n",
              "      <td>0</td>\n",
              "      <td>0</td>\n",
              "      <td>0</td>\n",
              "      <td>0</td>\n",
              "      <td>0</td>\n",
              "      <td>1</td>\n",
              "      <td>0</td>\n",
              "      <td>0</td>\n",
              "    </tr>\n",
              "    <tr>\n",
              "      <th>953</th>\n",
              "      <td>0.182046</td>\n",
              "      <td>-0.464051</td>\n",
              "      <td>0.632556</td>\n",
              "      <td>-0.640308</td>\n",
              "      <td>-1.244568</td>\n",
              "      <td>-0.860049</td>\n",
              "      <td>0.011443</td>\n",
              "      <td>-1.316634</td>\n",
              "      <td>-1.450366</td>\n",
              "      <td>-1.354718</td>\n",
              "      <td>...</td>\n",
              "      <td>0</td>\n",
              "      <td>1</td>\n",
              "      <td>0</td>\n",
              "      <td>0</td>\n",
              "      <td>0</td>\n",
              "      <td>1</td>\n",
              "      <td>0</td>\n",
              "      <td>0</td>\n",
              "      <td>0</td>\n",
              "      <td>1</td>\n",
              "    </tr>\n",
              "    <tr>\n",
              "      <th>529</th>\n",
              "      <td>-1.659639</td>\n",
              "      <td>-0.464051</td>\n",
              "      <td>0.304691</td>\n",
              "      <td>-1.158268</td>\n",
              "      <td>-0.238721</td>\n",
              "      <td>-0.860049</td>\n",
              "      <td>0.011443</td>\n",
              "      <td>1.376481</td>\n",
              "      <td>-0.125998</td>\n",
              "      <td>1.279416</td>\n",
              "      <td>...</td>\n",
              "      <td>0</td>\n",
              "      <td>0</td>\n",
              "      <td>0</td>\n",
              "      <td>0</td>\n",
              "      <td>0</td>\n",
              "      <td>0</td>\n",
              "      <td>0</td>\n",
              "      <td>1</td>\n",
              "      <td>1</td>\n",
              "      <td>0</td>\n",
              "    </tr>\n",
              "    <tr>\n",
              "      <th>618</th>\n",
              "      <td>-0.953947</td>\n",
              "      <td>-0.464051</td>\n",
              "      <td>-0.902285</td>\n",
              "      <td>-0.218796</td>\n",
              "      <td>1.485588</td>\n",
              "      <td>-0.860049</td>\n",
              "      <td>0.011443</td>\n",
              "      <td>-1.316634</td>\n",
              "      <td>0.529000</td>\n",
              "      <td>0.527973</td>\n",
              "      <td>...</td>\n",
              "      <td>0</td>\n",
              "      <td>0</td>\n",
              "      <td>1</td>\n",
              "      <td>0</td>\n",
              "      <td>0</td>\n",
              "      <td>0</td>\n",
              "      <td>0</td>\n",
              "      <td>0</td>\n",
              "      <td>0</td>\n",
              "      <td>0</td>\n",
              "    </tr>\n",
              "    <tr>\n",
              "      <th>...</th>\n",
              "      <td>...</td>\n",
              "      <td>...</td>\n",
              "      <td>...</td>\n",
              "      <td>...</td>\n",
              "      <td>...</td>\n",
              "      <td>...</td>\n",
              "      <td>...</td>\n",
              "      <td>...</td>\n",
              "      <td>...</td>\n",
              "      <td>...</td>\n",
              "      <td>...</td>\n",
              "      <td>...</td>\n",
              "      <td>...</td>\n",
              "      <td>...</td>\n",
              "      <td>...</td>\n",
              "      <td>...</td>\n",
              "      <td>...</td>\n",
              "      <td>...</td>\n",
              "      <td>...</td>\n",
              "      <td>...</td>\n",
              "      <td>...</td>\n",
              "    </tr>\n",
              "    <tr>\n",
              "      <th>26</th>\n",
              "      <td>0.423014</td>\n",
              "      <td>-0.464051</td>\n",
              "      <td>-0.902285</td>\n",
              "      <td>-0.097343</td>\n",
              "      <td>-1.100876</td>\n",
              "      <td>-0.860049</td>\n",
              "      <td>0.011443</td>\n",
              "      <td>1.376481</td>\n",
              "      <td>-1.199865</td>\n",
              "      <td>-1.358802</td>\n",
              "      <td>...</td>\n",
              "      <td>0</td>\n",
              "      <td>1</td>\n",
              "      <td>0</td>\n",
              "      <td>0</td>\n",
              "      <td>0</td>\n",
              "      <td>0</td>\n",
              "      <td>0</td>\n",
              "      <td>1</td>\n",
              "      <td>1</td>\n",
              "      <td>1</td>\n",
              "    </tr>\n",
              "    <tr>\n",
              "      <th>892</th>\n",
              "      <td>0.061562</td>\n",
              "      <td>-0.464051</td>\n",
              "      <td>0.538881</td>\n",
              "      <td>-0.604587</td>\n",
              "      <td>-0.813491</td>\n",
              "      <td>-0.860049</td>\n",
              "      <td>1.237495</td>\n",
              "      <td>-0.418929</td>\n",
              "      <td>-1.491432</td>\n",
              "      <td>-1.436397</td>\n",
              "      <td>...</td>\n",
              "      <td>0</td>\n",
              "      <td>0</td>\n",
              "      <td>0</td>\n",
              "      <td>1</td>\n",
              "      <td>0</td>\n",
              "      <td>1</td>\n",
              "      <td>0</td>\n",
              "      <td>0</td>\n",
              "      <td>0</td>\n",
              "      <td>0</td>\n",
              "    </tr>\n",
              "    <tr>\n",
              "      <th>169</th>\n",
              "      <td>-1.384247</td>\n",
              "      <td>-0.464051</td>\n",
              "      <td>1.814312</td>\n",
              "      <td>0.945721</td>\n",
              "      <td>0.910818</td>\n",
              "      <td>-0.860049</td>\n",
              "      <td>0.011443</td>\n",
              "      <td>-1.316634</td>\n",
              "      <td>-1.399034</td>\n",
              "      <td>-1.389432</td>\n",
              "      <td>...</td>\n",
              "      <td>0</td>\n",
              "      <td>1</td>\n",
              "      <td>0</td>\n",
              "      <td>0</td>\n",
              "      <td>0</td>\n",
              "      <td>1</td>\n",
              "      <td>0</td>\n",
              "      <td>0</td>\n",
              "      <td>0</td>\n",
              "      <td>0</td>\n",
              "    </tr>\n",
              "    <tr>\n",
              "      <th>856</th>\n",
              "      <td>0.707012</td>\n",
              "      <td>-0.464051</td>\n",
              "      <td>1.057700</td>\n",
              "      <td>0.945721</td>\n",
              "      <td>1.485588</td>\n",
              "      <td>1.094608</td>\n",
              "      <td>-1.214609</td>\n",
              "      <td>-0.418929</td>\n",
              "      <td>-0.177330</td>\n",
              "      <td>-0.174463</td>\n",
              "      <td>...</td>\n",
              "      <td>1</td>\n",
              "      <td>1</td>\n",
              "      <td>0</td>\n",
              "      <td>0</td>\n",
              "      <td>1</td>\n",
              "      <td>0</td>\n",
              "      <td>0</td>\n",
              "      <td>0</td>\n",
              "      <td>0</td>\n",
              "      <td>0</td>\n",
              "    </tr>\n",
              "    <tr>\n",
              "      <th>150</th>\n",
              "      <td>-0.635525</td>\n",
              "      <td>-0.464051</td>\n",
              "      <td>-0.902285</td>\n",
              "      <td>0.945721</td>\n",
              "      <td>0.767126</td>\n",
              "      <td>-0.860049</td>\n",
              "      <td>0.011443</td>\n",
              "      <td>-1.316634</td>\n",
              "      <td>0.007466</td>\n",
              "      <td>1.544871</td>\n",
              "      <td>...</td>\n",
              "      <td>1</td>\n",
              "      <td>0</td>\n",
              "      <td>1</td>\n",
              "      <td>0</td>\n",
              "      <td>0</td>\n",
              "      <td>0</td>\n",
              "      <td>1</td>\n",
              "      <td>0</td>\n",
              "      <td>0</td>\n",
              "      <td>0</td>\n",
              "    </tr>\n",
              "  </tbody>\n",
              "</table>\n",
              "<p>750 rows × 51 columns</p>\n",
              "</div>\n",
              "      <button class=\"colab-df-convert\" onclick=\"convertToInteractive('df-2aeb9a8a-ace6-44bc-9be8-ef28ceda68fa')\"\n",
              "              title=\"Convert this dataframe to an interactive table.\"\n",
              "              style=\"display:none;\">\n",
              "        \n",
              "  <svg xmlns=\"http://www.w3.org/2000/svg\" height=\"24px\"viewBox=\"0 0 24 24\"\n",
              "       width=\"24px\">\n",
              "    <path d=\"M0 0h24v24H0V0z\" fill=\"none\"/>\n",
              "    <path d=\"M18.56 5.44l.94 2.06.94-2.06 2.06-.94-2.06-.94-.94-2.06-.94 2.06-2.06.94zm-11 1L8.5 8.5l.94-2.06 2.06-.94-2.06-.94L8.5 2.5l-.94 2.06-2.06.94zm10 10l.94 2.06.94-2.06 2.06-.94-2.06-.94-.94-2.06-.94 2.06-2.06.94z\"/><path d=\"M17.41 7.96l-1.37-1.37c-.4-.4-.92-.59-1.43-.59-.52 0-1.04.2-1.43.59L10.3 9.45l-7.72 7.72c-.78.78-.78 2.05 0 2.83L4 21.41c.39.39.9.59 1.41.59.51 0 1.02-.2 1.41-.59l7.78-7.78 2.81-2.81c.8-.78.8-2.07 0-2.86zM5.41 20L4 18.59l7.72-7.72 1.47 1.35L5.41 20z\"/>\n",
              "  </svg>\n",
              "      </button>\n",
              "      \n",
              "  <style>\n",
              "    .colab-df-container {\n",
              "      display:flex;\n",
              "      flex-wrap:wrap;\n",
              "      gap: 12px;\n",
              "    }\n",
              "\n",
              "    .colab-df-convert {\n",
              "      background-color: #E8F0FE;\n",
              "      border: none;\n",
              "      border-radius: 50%;\n",
              "      cursor: pointer;\n",
              "      display: none;\n",
              "      fill: #1967D2;\n",
              "      height: 32px;\n",
              "      padding: 0 0 0 0;\n",
              "      width: 32px;\n",
              "    }\n",
              "\n",
              "    .colab-df-convert:hover {\n",
              "      background-color: #E2EBFA;\n",
              "      box-shadow: 0px 1px 2px rgba(60, 64, 67, 0.3), 0px 1px 3px 1px rgba(60, 64, 67, 0.15);\n",
              "      fill: #174EA6;\n",
              "    }\n",
              "\n",
              "    [theme=dark] .colab-df-convert {\n",
              "      background-color: #3B4455;\n",
              "      fill: #D2E3FC;\n",
              "    }\n",
              "\n",
              "    [theme=dark] .colab-df-convert:hover {\n",
              "      background-color: #434B5C;\n",
              "      box-shadow: 0px 1px 3px 1px rgba(0, 0, 0, 0.15);\n",
              "      filter: drop-shadow(0px 1px 2px rgba(0, 0, 0, 0.3));\n",
              "      fill: #FFFFFF;\n",
              "    }\n",
              "  </style>\n",
              "\n",
              "      <script>\n",
              "        const buttonEl =\n",
              "          document.querySelector('#df-2aeb9a8a-ace6-44bc-9be8-ef28ceda68fa button.colab-df-convert');\n",
              "        buttonEl.style.display =\n",
              "          google.colab.kernel.accessAllowed ? 'block' : 'none';\n",
              "\n",
              "        async function convertToInteractive(key) {\n",
              "          const element = document.querySelector('#df-2aeb9a8a-ace6-44bc-9be8-ef28ceda68fa');\n",
              "          const dataTable =\n",
              "            await google.colab.kernel.invokeFunction('convertToInteractive',\n",
              "                                                     [key], {});\n",
              "          if (!dataTable) return;\n",
              "\n",
              "          const docLinkHtml = 'Like what you see? Visit the ' +\n",
              "            '<a target=\"_blank\" href=https://colab.research.google.com/notebooks/data_table.ipynb>data table notebook</a>'\n",
              "            + ' to learn more about interactive tables.';\n",
              "          element.innerHTML = '';\n",
              "          dataTable['output_type'] = 'display_data';\n",
              "          await google.colab.output.renderOutput(dataTable, element);\n",
              "          const docLink = document.createElement('div');\n",
              "          docLink.innerHTML = docLinkHtml;\n",
              "          element.appendChild(docLink);\n",
              "        }\n",
              "      </script>\n",
              "    </div>\n",
              "  </div>\n",
              "  "
            ]
          },
          "metadata": {},
          "execution_count": 30
        }
      ]
    },
    {
      "cell_type": "code",
      "source": [],
      "metadata": {
        "id": "PQMNzH1aMvp2"
      },
      "execution_count": null,
      "outputs": []
    },
    {
      "cell_type": "code",
      "source": [
        "# Scaling the numeric values in the dataset\n",
        "num_df1 = X_test[['months_as_customer', 'umbrella_limit',\n",
        "       'capital-gains', 'capital-loss', 'incident_hour_of_the_day',\n",
        "       'number_of_vehicles_involved', 'bodily_injuries', 'witnesses', 'injury_claim', 'property_claim',\n",
        "       'vehicle_claim']]\n",
        "\n",
        "\n",
        "scaled_data1 = scaler.transform(num_df1)\n"
      ],
      "metadata": {
        "id": "d6ZgIJ9IM2Yi"
      },
      "execution_count": null,
      "outputs": []
    },
    {
      "cell_type": "code",
      "source": [
        "scaled_num_df1 = pd.DataFrame(data = scaled_data1, columns = num_df1.columns, index = X_test.index)\n",
        "scaled_num_df1.head()\n"
      ],
      "metadata": {
        "colab": {
          "base_uri": "https://localhost:8080/",
          "height": 268
        },
        "outputId": "f2088df2-ef5a-42b5-e827-916fc31045c0",
        "id": "hcWRqyZjM2Yj"
      },
      "execution_count": null,
      "outputs": [
        {
          "output_type": "execute_result",
          "data": {
            "text/plain": [
              "     months_as_customer  umbrella_limit  capital-gains  capital-loss  \\\n",
              "435           -0.910917       -0.464051       1.086523      0.945721   \n",
              "589           -1.143279       -0.464051      -0.902285      0.945721   \n",
              "988            0.750042       -0.464051      -0.902285      0.945721   \n",
              "771            0.009926       -0.464051       1.540490      0.945721   \n",
              "36            -1.255157       -0.464051      -0.902285      0.945721   \n",
              "\n",
              "     incident_hour_of_the_day  number_of_vehicles_involved  bodily_injuries  \\\n",
              "435                 -0.813491                    -0.860049         0.011443   \n",
              "589                  1.629281                     0.117279         1.237495   \n",
              "988                 -0.957183                    -0.860049         0.011443   \n",
              "771                  1.485588                    -0.860049         0.011443   \n",
              "36                  -1.244568                    -0.860049         0.011443   \n",
              "\n",
              "     witnesses  injury_claim  property_claim  vehicle_claim  \n",
              "435  -1.316634     -0.029493       -0.027441       1.096355  \n",
              "589   1.376481     -0.199916       -0.196924       0.744129  \n",
              "988  -0.418929      0.956083       -0.286771       0.235418  \n",
              "771  -0.418929      0.188155       -0.668618      -0.681748  \n",
              "36   -0.418929     -0.300527       -0.296981       0.536189  "
            ],
            "text/html": [
              "\n",
              "  <div id=\"df-d01c73e7-6ef7-4701-852b-873b4dc03ecd\">\n",
              "    <div class=\"colab-df-container\">\n",
              "      <div>\n",
              "<style scoped>\n",
              "    .dataframe tbody tr th:only-of-type {\n",
              "        vertical-align: middle;\n",
              "    }\n",
              "\n",
              "    .dataframe tbody tr th {\n",
              "        vertical-align: top;\n",
              "    }\n",
              "\n",
              "    .dataframe thead th {\n",
              "        text-align: right;\n",
              "    }\n",
              "</style>\n",
              "<table border=\"1\" class=\"dataframe\">\n",
              "  <thead>\n",
              "    <tr style=\"text-align: right;\">\n",
              "      <th></th>\n",
              "      <th>months_as_customer</th>\n",
              "      <th>umbrella_limit</th>\n",
              "      <th>capital-gains</th>\n",
              "      <th>capital-loss</th>\n",
              "      <th>incident_hour_of_the_day</th>\n",
              "      <th>number_of_vehicles_involved</th>\n",
              "      <th>bodily_injuries</th>\n",
              "      <th>witnesses</th>\n",
              "      <th>injury_claim</th>\n",
              "      <th>property_claim</th>\n",
              "      <th>vehicle_claim</th>\n",
              "    </tr>\n",
              "  </thead>\n",
              "  <tbody>\n",
              "    <tr>\n",
              "      <th>435</th>\n",
              "      <td>-0.910917</td>\n",
              "      <td>-0.464051</td>\n",
              "      <td>1.086523</td>\n",
              "      <td>0.945721</td>\n",
              "      <td>-0.813491</td>\n",
              "      <td>-0.860049</td>\n",
              "      <td>0.011443</td>\n",
              "      <td>-1.316634</td>\n",
              "      <td>-0.029493</td>\n",
              "      <td>-0.027441</td>\n",
              "      <td>1.096355</td>\n",
              "    </tr>\n",
              "    <tr>\n",
              "      <th>589</th>\n",
              "      <td>-1.143279</td>\n",
              "      <td>-0.464051</td>\n",
              "      <td>-0.902285</td>\n",
              "      <td>0.945721</td>\n",
              "      <td>1.629281</td>\n",
              "      <td>0.117279</td>\n",
              "      <td>1.237495</td>\n",
              "      <td>1.376481</td>\n",
              "      <td>-0.199916</td>\n",
              "      <td>-0.196924</td>\n",
              "      <td>0.744129</td>\n",
              "    </tr>\n",
              "    <tr>\n",
              "      <th>988</th>\n",
              "      <td>0.750042</td>\n",
              "      <td>-0.464051</td>\n",
              "      <td>-0.902285</td>\n",
              "      <td>0.945721</td>\n",
              "      <td>-0.957183</td>\n",
              "      <td>-0.860049</td>\n",
              "      <td>0.011443</td>\n",
              "      <td>-0.418929</td>\n",
              "      <td>0.956083</td>\n",
              "      <td>-0.286771</td>\n",
              "      <td>0.235418</td>\n",
              "    </tr>\n",
              "    <tr>\n",
              "      <th>771</th>\n",
              "      <td>0.009926</td>\n",
              "      <td>-0.464051</td>\n",
              "      <td>1.540490</td>\n",
              "      <td>0.945721</td>\n",
              "      <td>1.485588</td>\n",
              "      <td>-0.860049</td>\n",
              "      <td>0.011443</td>\n",
              "      <td>-0.418929</td>\n",
              "      <td>0.188155</td>\n",
              "      <td>-0.668618</td>\n",
              "      <td>-0.681748</td>\n",
              "    </tr>\n",
              "    <tr>\n",
              "      <th>36</th>\n",
              "      <td>-1.255157</td>\n",
              "      <td>-0.464051</td>\n",
              "      <td>-0.902285</td>\n",
              "      <td>0.945721</td>\n",
              "      <td>-1.244568</td>\n",
              "      <td>-0.860049</td>\n",
              "      <td>0.011443</td>\n",
              "      <td>-0.418929</td>\n",
              "      <td>-0.300527</td>\n",
              "      <td>-0.296981</td>\n",
              "      <td>0.536189</td>\n",
              "    </tr>\n",
              "  </tbody>\n",
              "</table>\n",
              "</div>\n",
              "      <button class=\"colab-df-convert\" onclick=\"convertToInteractive('df-d01c73e7-6ef7-4701-852b-873b4dc03ecd')\"\n",
              "              title=\"Convert this dataframe to an interactive table.\"\n",
              "              style=\"display:none;\">\n",
              "        \n",
              "  <svg xmlns=\"http://www.w3.org/2000/svg\" height=\"24px\"viewBox=\"0 0 24 24\"\n",
              "       width=\"24px\">\n",
              "    <path d=\"M0 0h24v24H0V0z\" fill=\"none\"/>\n",
              "    <path d=\"M18.56 5.44l.94 2.06.94-2.06 2.06-.94-2.06-.94-.94-2.06-.94 2.06-2.06.94zm-11 1L8.5 8.5l.94-2.06 2.06-.94-2.06-.94L8.5 2.5l-.94 2.06-2.06.94zm10 10l.94 2.06.94-2.06 2.06-.94-2.06-.94-.94-2.06-.94 2.06-2.06.94z\"/><path d=\"M17.41 7.96l-1.37-1.37c-.4-.4-.92-.59-1.43-.59-.52 0-1.04.2-1.43.59L10.3 9.45l-7.72 7.72c-.78.78-.78 2.05 0 2.83L4 21.41c.39.39.9.59 1.41.59.51 0 1.02-.2 1.41-.59l7.78-7.78 2.81-2.81c.8-.78.8-2.07 0-2.86zM5.41 20L4 18.59l7.72-7.72 1.47 1.35L5.41 20z\"/>\n",
              "  </svg>\n",
              "      </button>\n",
              "      \n",
              "  <style>\n",
              "    .colab-df-container {\n",
              "      display:flex;\n",
              "      flex-wrap:wrap;\n",
              "      gap: 12px;\n",
              "    }\n",
              "\n",
              "    .colab-df-convert {\n",
              "      background-color: #E8F0FE;\n",
              "      border: none;\n",
              "      border-radius: 50%;\n",
              "      cursor: pointer;\n",
              "      display: none;\n",
              "      fill: #1967D2;\n",
              "      height: 32px;\n",
              "      padding: 0 0 0 0;\n",
              "      width: 32px;\n",
              "    }\n",
              "\n",
              "    .colab-df-convert:hover {\n",
              "      background-color: #E2EBFA;\n",
              "      box-shadow: 0px 1px 2px rgba(60, 64, 67, 0.3), 0px 1px 3px 1px rgba(60, 64, 67, 0.15);\n",
              "      fill: #174EA6;\n",
              "    }\n",
              "\n",
              "    [theme=dark] .colab-df-convert {\n",
              "      background-color: #3B4455;\n",
              "      fill: #D2E3FC;\n",
              "    }\n",
              "\n",
              "    [theme=dark] .colab-df-convert:hover {\n",
              "      background-color: #434B5C;\n",
              "      box-shadow: 0px 1px 3px 1px rgba(0, 0, 0, 0.15);\n",
              "      filter: drop-shadow(0px 1px 2px rgba(0, 0, 0, 0.3));\n",
              "      fill: #FFFFFF;\n",
              "    }\n",
              "  </style>\n",
              "\n",
              "      <script>\n",
              "        const buttonEl =\n",
              "          document.querySelector('#df-d01c73e7-6ef7-4701-852b-873b4dc03ecd button.colab-df-convert');\n",
              "        buttonEl.style.display =\n",
              "          google.colab.kernel.accessAllowed ? 'block' : 'none';\n",
              "\n",
              "        async function convertToInteractive(key) {\n",
              "          const element = document.querySelector('#df-d01c73e7-6ef7-4701-852b-873b4dc03ecd');\n",
              "          const dataTable =\n",
              "            await google.colab.kernel.invokeFunction('convertToInteractive',\n",
              "                                                     [key], {});\n",
              "          if (!dataTable) return;\n",
              "\n",
              "          const docLinkHtml = 'Like what you see? Visit the ' +\n",
              "            '<a target=\"_blank\" href=https://colab.research.google.com/notebooks/data_table.ipynb>data table notebook</a>'\n",
              "            + ' to learn more about interactive tables.';\n",
              "          element.innerHTML = '';\n",
              "          dataTable['output_type'] = 'display_data';\n",
              "          await google.colab.output.renderOutput(dataTable, element);\n",
              "          const docLink = document.createElement('div');\n",
              "          docLink.innerHTML = docLinkHtml;\n",
              "          element.appendChild(docLink);\n",
              "        }\n",
              "      </script>\n",
              "    </div>\n",
              "  </div>\n",
              "  "
            ]
          },
          "metadata": {},
          "execution_count": 32
        }
      ]
    },
    {
      "cell_type": "code",
      "source": [
        "X_test.drop(columns = scaled_num_df1.columns, inplace = True)\n",
        "X_test = pd.concat([scaled_num_df1, X_test], axis = 1)\n",
        "X_test"
      ],
      "metadata": {
        "id": "Ou_-c_YCNHmv",
        "colab": {
          "base_uri": "https://localhost:8080/",
          "height": 505
        },
        "outputId": "5f306517-20af-4065-dcc4-67fa305f2ce6"
      },
      "execution_count": null,
      "outputs": [
        {
          "output_type": "execute_result",
          "data": {
            "text/plain": [
              "     months_as_customer  umbrella_limit  capital-gains  capital-loss  \\\n",
              "435           -0.910917       -0.464051       1.086523      0.945721   \n",
              "589           -1.143279       -0.464051      -0.902285      0.945721   \n",
              "988            0.750042       -0.464051      -0.902285      0.945721   \n",
              "771            0.009926       -0.464051       1.540490      0.945721   \n",
              "36            -1.255157       -0.464051      -0.902285      0.945721   \n",
              "..                  ...             ...            ...           ...   \n",
              "822            1.533188       -0.464051       0.423587      0.945721   \n",
              "980            0.319742       -0.464051       0.513660      0.945721   \n",
              "118           -0.377345       -0.464051       0.693806      0.945721   \n",
              "894           -1.401459       -0.464051      -0.902285      0.945721   \n",
              "939            0.612346        2.146235       1.299095     -0.150925   \n",
              "\n",
              "     incident_hour_of_the_day  number_of_vehicles_involved  bodily_injuries  \\\n",
              "435                 -0.813491                    -0.860049         0.011443   \n",
              "589                  1.629281                     0.117279         1.237495   \n",
              "988                 -0.957183                    -0.860049         0.011443   \n",
              "771                  1.485588                    -0.860049         0.011443   \n",
              "36                  -1.244568                    -0.860049         0.011443   \n",
              "..                        ...                          ...              ...   \n",
              "822                  0.623434                    -0.860049         1.237495   \n",
              "980                  0.048664                    -0.860049        -1.214609   \n",
              "118                 -1.100876                    -0.860049         0.011443   \n",
              "894                 -0.813491                    -0.860049         0.011443   \n",
              "939                  1.341896                     1.094608         0.011443   \n",
              "\n",
              "     witnesses  injury_claim  property_claim  ...  \\\n",
              "435  -1.316634     -0.029493       -0.027441  ...   \n",
              "589   1.376481     -0.199916       -0.196924  ...   \n",
              "988  -0.418929      0.956083       -0.286771  ...   \n",
              "771  -0.418929      0.188155       -0.668618  ...   \n",
              "36   -0.418929     -0.300527       -0.296981  ...   \n",
              "..         ...           ...             ...  ...   \n",
              "822   1.376481      0.951977       -0.288813  ...   \n",
              "980   0.478776     -0.002801       -0.000896  ...   \n",
              "118   1.376481      2.159308        0.311525  ...   \n",
              "894   1.376481     -1.331276       -1.322047  ...   \n",
              "939  -1.316634      0.742542        0.740337  ...   \n",
              "\n",
              "     collision_type_Side Collision  incident_severity_Minor Damage  \\\n",
              "435                              1                               0   \n",
              "589                              1                               0   \n",
              "988                              0                               1   \n",
              "771                              1                               1   \n",
              "36                               0                               0   \n",
              "..                             ...                             ...   \n",
              "822                              0                               1   \n",
              "980                              0                               1   \n",
              "118                              0                               1   \n",
              "894                              0                               1   \n",
              "939                              0                               0   \n",
              "\n",
              "     incident_severity_Total Loss  incident_severity_Trivial Damage  \\\n",
              "435                             1                                 0   \n",
              "589                             1                                 0   \n",
              "988                             0                                 0   \n",
              "771                             0                                 0   \n",
              "36                              1                                 0   \n",
              "..                            ...                               ...   \n",
              "822                             0                                 0   \n",
              "980                             0                                 0   \n",
              "118                             0                                 0   \n",
              "894                             0                                 0   \n",
              "939                             0                                 0   \n",
              "\n",
              "     authorities_contacted_Fire  authorities_contacted_None  \\\n",
              "435                           0                           0   \n",
              "589                           0                           0   \n",
              "988                           1                           0   \n",
              "771                           1                           0   \n",
              "36                            0                           0   \n",
              "..                          ...                         ...   \n",
              "822                           0                           0   \n",
              "980                           0                           0   \n",
              "118                           1                           0   \n",
              "894                           0                           1   \n",
              "939                           0                           0   \n",
              "\n",
              "     authorities_contacted_Other  authorities_contacted_Police  \\\n",
              "435                            0                             1   \n",
              "589                            1                             0   \n",
              "988                            0                             0   \n",
              "771                            0                             0   \n",
              "36                             0                             1   \n",
              "..                           ...                           ...   \n",
              "822                            0                             1   \n",
              "980                            0                             0   \n",
              "118                            0                             0   \n",
              "894                            0                             0   \n",
              "939                            1                             0   \n",
              "\n",
              "     property_damage_YES  police_report_available_YES  \n",
              "435                    0                            0  \n",
              "589                    0                            1  \n",
              "988                    1                            0  \n",
              "771                    0                            0  \n",
              "36                     0                            1  \n",
              "..                   ...                          ...  \n",
              "822                    0                            1  \n",
              "980                    1                            1  \n",
              "118                    0                            1  \n",
              "894                    0                            0  \n",
              "939                    0                            0  \n",
              "\n",
              "[250 rows x 51 columns]"
            ],
            "text/html": [
              "\n",
              "  <div id=\"df-aa975455-9db3-4334-9792-1d61bec74523\">\n",
              "    <div class=\"colab-df-container\">\n",
              "      <div>\n",
              "<style scoped>\n",
              "    .dataframe tbody tr th:only-of-type {\n",
              "        vertical-align: middle;\n",
              "    }\n",
              "\n",
              "    .dataframe tbody tr th {\n",
              "        vertical-align: top;\n",
              "    }\n",
              "\n",
              "    .dataframe thead th {\n",
              "        text-align: right;\n",
              "    }\n",
              "</style>\n",
              "<table border=\"1\" class=\"dataframe\">\n",
              "  <thead>\n",
              "    <tr style=\"text-align: right;\">\n",
              "      <th></th>\n",
              "      <th>months_as_customer</th>\n",
              "      <th>umbrella_limit</th>\n",
              "      <th>capital-gains</th>\n",
              "      <th>capital-loss</th>\n",
              "      <th>incident_hour_of_the_day</th>\n",
              "      <th>number_of_vehicles_involved</th>\n",
              "      <th>bodily_injuries</th>\n",
              "      <th>witnesses</th>\n",
              "      <th>injury_claim</th>\n",
              "      <th>property_claim</th>\n",
              "      <th>...</th>\n",
              "      <th>collision_type_Side Collision</th>\n",
              "      <th>incident_severity_Minor Damage</th>\n",
              "      <th>incident_severity_Total Loss</th>\n",
              "      <th>incident_severity_Trivial Damage</th>\n",
              "      <th>authorities_contacted_Fire</th>\n",
              "      <th>authorities_contacted_None</th>\n",
              "      <th>authorities_contacted_Other</th>\n",
              "      <th>authorities_contacted_Police</th>\n",
              "      <th>property_damage_YES</th>\n",
              "      <th>police_report_available_YES</th>\n",
              "    </tr>\n",
              "  </thead>\n",
              "  <tbody>\n",
              "    <tr>\n",
              "      <th>435</th>\n",
              "      <td>-0.910917</td>\n",
              "      <td>-0.464051</td>\n",
              "      <td>1.086523</td>\n",
              "      <td>0.945721</td>\n",
              "      <td>-0.813491</td>\n",
              "      <td>-0.860049</td>\n",
              "      <td>0.011443</td>\n",
              "      <td>-1.316634</td>\n",
              "      <td>-0.029493</td>\n",
              "      <td>-0.027441</td>\n",
              "      <td>...</td>\n",
              "      <td>1</td>\n",
              "      <td>0</td>\n",
              "      <td>1</td>\n",
              "      <td>0</td>\n",
              "      <td>0</td>\n",
              "      <td>0</td>\n",
              "      <td>0</td>\n",
              "      <td>1</td>\n",
              "      <td>0</td>\n",
              "      <td>0</td>\n",
              "    </tr>\n",
              "    <tr>\n",
              "      <th>589</th>\n",
              "      <td>-1.143279</td>\n",
              "      <td>-0.464051</td>\n",
              "      <td>-0.902285</td>\n",
              "      <td>0.945721</td>\n",
              "      <td>1.629281</td>\n",
              "      <td>0.117279</td>\n",
              "      <td>1.237495</td>\n",
              "      <td>1.376481</td>\n",
              "      <td>-0.199916</td>\n",
              "      <td>-0.196924</td>\n",
              "      <td>...</td>\n",
              "      <td>1</td>\n",
              "      <td>0</td>\n",
              "      <td>1</td>\n",
              "      <td>0</td>\n",
              "      <td>0</td>\n",
              "      <td>0</td>\n",
              "      <td>1</td>\n",
              "      <td>0</td>\n",
              "      <td>0</td>\n",
              "      <td>1</td>\n",
              "    </tr>\n",
              "    <tr>\n",
              "      <th>988</th>\n",
              "      <td>0.750042</td>\n",
              "      <td>-0.464051</td>\n",
              "      <td>-0.902285</td>\n",
              "      <td>0.945721</td>\n",
              "      <td>-0.957183</td>\n",
              "      <td>-0.860049</td>\n",
              "      <td>0.011443</td>\n",
              "      <td>-0.418929</td>\n",
              "      <td>0.956083</td>\n",
              "      <td>-0.286771</td>\n",
              "      <td>...</td>\n",
              "      <td>0</td>\n",
              "      <td>1</td>\n",
              "      <td>0</td>\n",
              "      <td>0</td>\n",
              "      <td>1</td>\n",
              "      <td>0</td>\n",
              "      <td>0</td>\n",
              "      <td>0</td>\n",
              "      <td>1</td>\n",
              "      <td>0</td>\n",
              "    </tr>\n",
              "    <tr>\n",
              "      <th>771</th>\n",
              "      <td>0.009926</td>\n",
              "      <td>-0.464051</td>\n",
              "      <td>1.540490</td>\n",
              "      <td>0.945721</td>\n",
              "      <td>1.485588</td>\n",
              "      <td>-0.860049</td>\n",
              "      <td>0.011443</td>\n",
              "      <td>-0.418929</td>\n",
              "      <td>0.188155</td>\n",
              "      <td>-0.668618</td>\n",
              "      <td>...</td>\n",
              "      <td>1</td>\n",
              "      <td>1</td>\n",
              "      <td>0</td>\n",
              "      <td>0</td>\n",
              "      <td>1</td>\n",
              "      <td>0</td>\n",
              "      <td>0</td>\n",
              "      <td>0</td>\n",
              "      <td>0</td>\n",
              "      <td>0</td>\n",
              "    </tr>\n",
              "    <tr>\n",
              "      <th>36</th>\n",
              "      <td>-1.255157</td>\n",
              "      <td>-0.464051</td>\n",
              "      <td>-0.902285</td>\n",
              "      <td>0.945721</td>\n",
              "      <td>-1.244568</td>\n",
              "      <td>-0.860049</td>\n",
              "      <td>0.011443</td>\n",
              "      <td>-0.418929</td>\n",
              "      <td>-0.300527</td>\n",
              "      <td>-0.296981</td>\n",
              "      <td>...</td>\n",
              "      <td>0</td>\n",
              "      <td>0</td>\n",
              "      <td>1</td>\n",
              "      <td>0</td>\n",
              "      <td>0</td>\n",
              "      <td>0</td>\n",
              "      <td>0</td>\n",
              "      <td>1</td>\n",
              "      <td>0</td>\n",
              "      <td>1</td>\n",
              "    </tr>\n",
              "    <tr>\n",
              "      <th>...</th>\n",
              "      <td>...</td>\n",
              "      <td>...</td>\n",
              "      <td>...</td>\n",
              "      <td>...</td>\n",
              "      <td>...</td>\n",
              "      <td>...</td>\n",
              "      <td>...</td>\n",
              "      <td>...</td>\n",
              "      <td>...</td>\n",
              "      <td>...</td>\n",
              "      <td>...</td>\n",
              "      <td>...</td>\n",
              "      <td>...</td>\n",
              "      <td>...</td>\n",
              "      <td>...</td>\n",
              "      <td>...</td>\n",
              "      <td>...</td>\n",
              "      <td>...</td>\n",
              "      <td>...</td>\n",
              "      <td>...</td>\n",
              "      <td>...</td>\n",
              "    </tr>\n",
              "    <tr>\n",
              "      <th>822</th>\n",
              "      <td>1.533188</td>\n",
              "      <td>-0.464051</td>\n",
              "      <td>0.423587</td>\n",
              "      <td>0.945721</td>\n",
              "      <td>0.623434</td>\n",
              "      <td>-0.860049</td>\n",
              "      <td>1.237495</td>\n",
              "      <td>1.376481</td>\n",
              "      <td>0.951977</td>\n",
              "      <td>-0.288813</td>\n",
              "      <td>...</td>\n",
              "      <td>0</td>\n",
              "      <td>1</td>\n",
              "      <td>0</td>\n",
              "      <td>0</td>\n",
              "      <td>0</td>\n",
              "      <td>0</td>\n",
              "      <td>0</td>\n",
              "      <td>1</td>\n",
              "      <td>0</td>\n",
              "      <td>1</td>\n",
              "    </tr>\n",
              "    <tr>\n",
              "      <th>980</th>\n",
              "      <td>0.319742</td>\n",
              "      <td>-0.464051</td>\n",
              "      <td>0.513660</td>\n",
              "      <td>0.945721</td>\n",
              "      <td>0.048664</td>\n",
              "      <td>-0.860049</td>\n",
              "      <td>-1.214609</td>\n",
              "      <td>0.478776</td>\n",
              "      <td>-0.002801</td>\n",
              "      <td>-0.000896</td>\n",
              "      <td>...</td>\n",
              "      <td>0</td>\n",
              "      <td>1</td>\n",
              "      <td>0</td>\n",
              "      <td>0</td>\n",
              "      <td>0</td>\n",
              "      <td>0</td>\n",
              "      <td>0</td>\n",
              "      <td>0</td>\n",
              "      <td>1</td>\n",
              "      <td>1</td>\n",
              "    </tr>\n",
              "    <tr>\n",
              "      <th>118</th>\n",
              "      <td>-0.377345</td>\n",
              "      <td>-0.464051</td>\n",
              "      <td>0.693806</td>\n",
              "      <td>0.945721</td>\n",
              "      <td>-1.100876</td>\n",
              "      <td>-0.860049</td>\n",
              "      <td>0.011443</td>\n",
              "      <td>1.376481</td>\n",
              "      <td>2.159308</td>\n",
              "      <td>0.311525</td>\n",
              "      <td>...</td>\n",
              "      <td>0</td>\n",
              "      <td>1</td>\n",
              "      <td>0</td>\n",
              "      <td>0</td>\n",
              "      <td>1</td>\n",
              "      <td>0</td>\n",
              "      <td>0</td>\n",
              "      <td>0</td>\n",
              "      <td>0</td>\n",
              "      <td>1</td>\n",
              "    </tr>\n",
              "    <tr>\n",
              "      <th>894</th>\n",
              "      <td>-1.401459</td>\n",
              "      <td>-0.464051</td>\n",
              "      <td>-0.902285</td>\n",
              "      <td>0.945721</td>\n",
              "      <td>-0.813491</td>\n",
              "      <td>-0.860049</td>\n",
              "      <td>0.011443</td>\n",
              "      <td>1.376481</td>\n",
              "      <td>-1.331276</td>\n",
              "      <td>-1.322047</td>\n",
              "      <td>...</td>\n",
              "      <td>0</td>\n",
              "      <td>1</td>\n",
              "      <td>0</td>\n",
              "      <td>0</td>\n",
              "      <td>0</td>\n",
              "      <td>1</td>\n",
              "      <td>0</td>\n",
              "      <td>0</td>\n",
              "      <td>0</td>\n",
              "      <td>0</td>\n",
              "    </tr>\n",
              "    <tr>\n",
              "      <th>939</th>\n",
              "      <td>0.612346</td>\n",
              "      <td>2.146235</td>\n",
              "      <td>1.299095</td>\n",
              "      <td>-0.150925</td>\n",
              "      <td>1.341896</td>\n",
              "      <td>1.094608</td>\n",
              "      <td>0.011443</td>\n",
              "      <td>-1.316634</td>\n",
              "      <td>0.742542</td>\n",
              "      <td>0.740337</td>\n",
              "      <td>...</td>\n",
              "      <td>0</td>\n",
              "      <td>0</td>\n",
              "      <td>0</td>\n",
              "      <td>0</td>\n",
              "      <td>0</td>\n",
              "      <td>0</td>\n",
              "      <td>1</td>\n",
              "      <td>0</td>\n",
              "      <td>0</td>\n",
              "      <td>0</td>\n",
              "    </tr>\n",
              "  </tbody>\n",
              "</table>\n",
              "<p>250 rows × 51 columns</p>\n",
              "</div>\n",
              "      <button class=\"colab-df-convert\" onclick=\"convertToInteractive('df-aa975455-9db3-4334-9792-1d61bec74523')\"\n",
              "              title=\"Convert this dataframe to an interactive table.\"\n",
              "              style=\"display:none;\">\n",
              "        \n",
              "  <svg xmlns=\"http://www.w3.org/2000/svg\" height=\"24px\"viewBox=\"0 0 24 24\"\n",
              "       width=\"24px\">\n",
              "    <path d=\"M0 0h24v24H0V0z\" fill=\"none\"/>\n",
              "    <path d=\"M18.56 5.44l.94 2.06.94-2.06 2.06-.94-2.06-.94-.94-2.06-.94 2.06-2.06.94zm-11 1L8.5 8.5l.94-2.06 2.06-.94-2.06-.94L8.5 2.5l-.94 2.06-2.06.94zm10 10l.94 2.06.94-2.06 2.06-.94-2.06-.94-.94-2.06-.94 2.06-2.06.94z\"/><path d=\"M17.41 7.96l-1.37-1.37c-.4-.4-.92-.59-1.43-.59-.52 0-1.04.2-1.43.59L10.3 9.45l-7.72 7.72c-.78.78-.78 2.05 0 2.83L4 21.41c.39.39.9.59 1.41.59.51 0 1.02-.2 1.41-.59l7.78-7.78 2.81-2.81c.8-.78.8-2.07 0-2.86zM5.41 20L4 18.59l7.72-7.72 1.47 1.35L5.41 20z\"/>\n",
              "  </svg>\n",
              "      </button>\n",
              "      \n",
              "  <style>\n",
              "    .colab-df-container {\n",
              "      display:flex;\n",
              "      flex-wrap:wrap;\n",
              "      gap: 12px;\n",
              "    }\n",
              "\n",
              "    .colab-df-convert {\n",
              "      background-color: #E8F0FE;\n",
              "      border: none;\n",
              "      border-radius: 50%;\n",
              "      cursor: pointer;\n",
              "      display: none;\n",
              "      fill: #1967D2;\n",
              "      height: 32px;\n",
              "      padding: 0 0 0 0;\n",
              "      width: 32px;\n",
              "    }\n",
              "\n",
              "    .colab-df-convert:hover {\n",
              "      background-color: #E2EBFA;\n",
              "      box-shadow: 0px 1px 2px rgba(60, 64, 67, 0.3), 0px 1px 3px 1px rgba(60, 64, 67, 0.15);\n",
              "      fill: #174EA6;\n",
              "    }\n",
              "\n",
              "    [theme=dark] .colab-df-convert {\n",
              "      background-color: #3B4455;\n",
              "      fill: #D2E3FC;\n",
              "    }\n",
              "\n",
              "    [theme=dark] .colab-df-convert:hover {\n",
              "      background-color: #434B5C;\n",
              "      box-shadow: 0px 1px 3px 1px rgba(0, 0, 0, 0.15);\n",
              "      filter: drop-shadow(0px 1px 2px rgba(0, 0, 0, 0.3));\n",
              "      fill: #FFFFFF;\n",
              "    }\n",
              "  </style>\n",
              "\n",
              "      <script>\n",
              "        const buttonEl =\n",
              "          document.querySelector('#df-aa975455-9db3-4334-9792-1d61bec74523 button.colab-df-convert');\n",
              "        buttonEl.style.display =\n",
              "          google.colab.kernel.accessAllowed ? 'block' : 'none';\n",
              "\n",
              "        async function convertToInteractive(key) {\n",
              "          const element = document.querySelector('#df-aa975455-9db3-4334-9792-1d61bec74523');\n",
              "          const dataTable =\n",
              "            await google.colab.kernel.invokeFunction('convertToInteractive',\n",
              "                                                     [key], {});\n",
              "          if (!dataTable) return;\n",
              "\n",
              "          const docLinkHtml = 'Like what you see? Visit the ' +\n",
              "            '<a target=\"_blank\" href=https://colab.research.google.com/notebooks/data_table.ipynb>data table notebook</a>'\n",
              "            + ' to learn more about interactive tables.';\n",
              "          element.innerHTML = '';\n",
              "          dataTable['output_type'] = 'display_data';\n",
              "          await google.colab.output.renderOutput(dataTable, element);\n",
              "          const docLink = document.createElement('div');\n",
              "          docLink.innerHTML = docLinkHtml;\n",
              "          element.appendChild(docLink);\n",
              "        }\n",
              "      </script>\n",
              "    </div>\n",
              "  </div>\n",
              "  "
            ]
          },
          "metadata": {},
          "execution_count": 33
        }
      ]
    },
    {
      "cell_type": "code",
      "source": [
        "y_train"
      ],
      "metadata": {
        "colab": {
          "base_uri": "https://localhost:8080/"
        },
        "id": "64iJ0E_O3EZd",
        "outputId": "bffc58b9-e7ab-4a80-9d5d-f7c52eeb760d"
      },
      "execution_count": null,
      "outputs": [
        {
          "output_type": "execute_result",
          "data": {
            "text/plain": [
              "653    0\n",
              "31     1\n",
              "953    0\n",
              "529    1\n",
              "618    0\n",
              "      ..\n",
              "26     0\n",
              "892    0\n",
              "169    0\n",
              "856    0\n",
              "150    0\n",
              "Name: fraud_reported, Length: 750, dtype: int64"
            ]
          },
          "metadata": {},
          "execution_count": 34
        }
      ]
    },
    {
      "cell_type": "code",
      "source": [
        "y_test"
      ],
      "metadata": {
        "colab": {
          "base_uri": "https://localhost:8080/"
        },
        "id": "zmtD0LuT3GKt",
        "outputId": "5debe8d1-fd4e-4c53-a403-990d3d87dd38"
      },
      "execution_count": null,
      "outputs": [
        {
          "output_type": "execute_result",
          "data": {
            "text/plain": [
              "435    0\n",
              "589    0\n",
              "988    0\n",
              "771    0\n",
              "36     1\n",
              "      ..\n",
              "822    0\n",
              "980    0\n",
              "118    0\n",
              "894    0\n",
              "939    1\n",
              "Name: fraud_reported, Length: 250, dtype: int64"
            ]
          },
          "metadata": {},
          "execution_count": 35
        }
      ]
    },
    {
      "cell_type": "code",
      "source": [
        "# from sklearn.decomposition import PCA\n",
        "\n",
        "# pca = PCA(n_components = 2)\n",
        "\n",
        "# X_train = pca.fit_transform(X_train)\n",
        "# X_test = pca.transform(X_test)"
      ],
      "metadata": {
        "id": "7avK8O3gWN4B"
      },
      "execution_count": null,
      "outputs": []
    },
    {
      "cell_type": "markdown",
      "source": [
        "***Building the model***"
      ],
      "metadata": {
        "id": "BWfI1FZNGsSh"
      }
    },
    {
      "cell_type": "markdown",
      "source": [
        "**Decision Tree**"
      ],
      "metadata": {
        "id": "TUFvTGRy5D2C"
      }
    },
    {
      "cell_type": "code",
      "source": [
        "\n",
        "dtc = DecisionTreeClassifier()\n",
        "dtc.fit(X_train, y_train)\n",
        "\n",
        "y_pred = dtc.predict(X_test)"
      ],
      "metadata": {
        "id": "MmqyoCaZnnR0"
      },
      "execution_count": null,
      "outputs": []
    },
    {
      "cell_type": "code",
      "source": [
        "from sklearn.metrics import accuracy_score, confusion_matrix, classification_report\n",
        "\n",
        "dtc_train_acc = accuracy_score(y_train, dtc.predict(X_train))\n",
        "dtc_test_acc = accuracy_score(y_test, y_pred)\n",
        "\n",
        "print(f\"Training accuracy of Decision Tree is : {dtc_train_acc}\")\n",
        "print(f\"Test accuracy of Decision Tree is : {dtc_test_acc}\")\n"
      ],
      "metadata": {
        "colab": {
          "base_uri": "https://localhost:8080/"
        },
        "id": "W4ktYBkBnof3",
        "outputId": "753db08c-1c03-4ad6-933a-6e5b37418f16"
      },
      "execution_count": null,
      "outputs": [
        {
          "output_type": "stream",
          "name": "stdout",
          "text": [
            "Training accuracy of Decision Tree is : 1.0\n",
            "Test accuracy of Decision Tree is : 0.732\n"
          ]
        }
      ]
    },
    {
      "cell_type": "code",
      "source": [
        "cm0 =confusion_matrix(y_test, y_pred)\n",
        "print(cm0)\n",
        "print(classification_report(y_test, y_pred))\n",
        "sensitivity0=cm0[0,0]/(cm0[0,0]+cm0[0,1])\n",
        "print('Sensitivity : ', sensitivity0 )\n",
        "\n",
        "specificity0 = cm0[1,1]/(cm0[1,0]+cm0[1,1])\n",
        "print('Specificity : ', specificity0)"
      ],
      "metadata": {
        "colab": {
          "base_uri": "https://localhost:8080/"
        },
        "id": "5qIUSw_VoNqn",
        "outputId": "d0360dda-ef7d-4dba-cfdc-5eab54341a6b"
      },
      "execution_count": null,
      "outputs": [
        {
          "output_type": "stream",
          "name": "stdout",
          "text": [
            "[[160  32]\n",
            " [ 35  23]]\n",
            "              precision    recall  f1-score   support\n",
            "\n",
            "           0       0.82      0.83      0.83       192\n",
            "           1       0.42      0.40      0.41        58\n",
            "\n",
            "    accuracy                           0.73       250\n",
            "   macro avg       0.62      0.61      0.62       250\n",
            "weighted avg       0.73      0.73      0.73       250\n",
            "\n",
            "Sensitivity :  0.8333333333333334\n",
            "Specificity :  0.39655172413793105\n"
          ]
        }
      ]
    },
    {
      "cell_type": "code",
      "source": [
        "sns.heatmap(cm0, annot=True, fmt='d', cmap='Spectral')\n",
        "plt.show()"
      ],
      "metadata": {
        "colab": {
          "base_uri": "https://localhost:8080/",
          "height": 269
        },
        "id": "Eem-q1NekFQJ",
        "outputId": "7c0d4d41-09ef-496f-f8cb-1a6e81683eb8"
      },
      "execution_count": null,
      "outputs": [
        {
          "output_type": "display_data",
          "data": {
            "text/plain": [
              "<Figure size 432x288 with 2 Axes>"
            ],
            "image/png": "[encoded data removed]"
          },
          "metadata": {
            "needs_background": "light"
          }
        }
      ]
    },
    {
      "cell_type": "markdown",
      "source": [
        "**Support vector machine**"
      ],
      "metadata": {
        "id": "edP93-8r22zf"
      }
    },
    {
      "cell_type": "code",
      "source": [
        "\n",
        "\n",
        "svc = SVC()\n",
        "svc.fit(X_train, y_train)\n",
        "\n",
        "y_pred = svc.predict(X_test)\n",
        "# accuracy_score, confusion_matrix and classification_report\n"
      ],
      "metadata": {
        "id": "Y2x71hiS21Bi"
      },
      "execution_count": null,
      "outputs": []
    },
    {
      "cell_type": "code",
      "source": [
        "\n",
        "\n",
        "svc_train_acc = accuracy_score(y_train, svc.predict(X_train))\n",
        "svc_test_acc = accuracy_score(y_test, y_pred)\n",
        "\n",
        "print(f\"Training accuracy of Support Vector Classifier is : {svc_train_acc}\")\n",
        "print(f\"Test accuracy of Support Vector Classifier is : {svc_test_acc}\")\n",
        "\n",
        "cm1 =(confusion_matrix(y_test, y_pred))\n",
        "print(cm1)\n",
        "print(classification_report(y_test, y_pred))\n",
        "sensitivity1=cm1[0,0]/(cm1[0,0]+cm1[0,1])\n",
        "print('Sensitivity : ', sensitivity1 )\n",
        "\n",
        "specificity1 = cm1[1,1]/(cm1[1,0]+cm1[1,1])\n",
        "print('Specificity : ', specificity1)"
      ],
      "metadata": {
        "colab": {
          "base_uri": "https://localhost:8080/"
        },
        "id": "4NlLJkzb3Dyf",
        "outputId": "b9866c97-a363-4a80-cb7b-9bd350e1f953"
      },
      "execution_count": null,
      "outputs": [
        {
          "output_type": "stream",
          "name": "stdout",
          "text": [
            "Training accuracy of Support Vector Classifier is : 0.8626666666666667\n",
            "Test accuracy of Support Vector Classifier is : 0.78\n",
            "[[190   2]\n",
            " [ 53   5]]\n",
            "              precision    recall  f1-score   support\n",
            "\n",
            "           0       0.78      0.99      0.87       192\n",
            "           1       0.71      0.09      0.15        58\n",
            "\n",
            "    accuracy                           0.78       250\n",
            "   macro avg       0.75      0.54      0.51       250\n",
            "weighted avg       0.77      0.78      0.71       250\n",
            "\n",
            "Sensitivity :  0.9895833333333334\n",
            "Specificity :  0.08620689655172414\n"
          ]
        }
      ]
    },
    {
      "cell_type": "code",
      "source": [
        "sns.heatmap(cm1, annot=True, fmt='d', cmap='Set3')\n",
        "plt.show()"
      ],
      "metadata": {
        "colab": {
          "base_uri": "https://localhost:8080/",
          "height": 265
        },
        "id": "g-SJCqr2Btuy",
        "outputId": "fc11d37d-e504-4ea6-dfbb-b6b94d668449"
      },
      "execution_count": null,
      "outputs": [
        {
          "output_type": "display_data",
          "data": {
            "text/plain": [
              "<Figure size 432x288 with 2 Axes>"
            ],
            "image/png": "[encoded data removed]"
          },
          "metadata": {
            "needs_background": "light"
          }
        }
      ]
    },
    {
      "cell_type": "markdown",
      "source": [
        "**RANDOM FOREST CLASSIFIERS**"
      ],
      "metadata": {
        "id": "U90K3eTznkBF"
      }
    },
    {
      "cell_type": "code",
      "source": [
        "\n",
        "randomforest = RandomForestClassifier(criterion= 'entropy', max_depth= 10, max_features= 'sqrt', min_samples_leaf= 1, min_samples_split= 3, n_estimators= 140)\n",
        "randomforest.fit(X_train, y_train)\n",
        "\n",
        "y_pred = randomforest.predict(X_test)\n",
        "# accuracy_score, confusion_matrix and classification_report\n",
        "\n",
        "from sklearn.metrics import accuracy_score, confusion_matrix, classification_report\n",
        "\n",
        "randomforest_train_acc = accuracy_score(y_train, randomforest.predict(X_train))\n",
        "randomforest_test_acc = accuracy_score(y_test, y_pred)\n",
        "\n",
        "print(f\"Training accuracy of Random Forest is : {randomforest_train_acc}\")\n",
        "print(f\"Test accuracy of Random Forest is : {randomforest_test_acc}\")\n",
        "\n",
        "cm2 =(confusion_matrix(y_test, y_pred))\n",
        "print(cm2)\n",
        "print(classification_report(y_test, y_pred))\n",
        "sensitivity2=cm2[0,0]/(cm2[0,0]+cm2[0,1])\n",
        "print('Sensitivity : ', sensitivity2 )\n",
        "\n",
        "specificity2 = cm2[1,1]/(cm2[1,0]+cm2[1,1])\n",
        "print('Specificity : ', specificity2)"
      ],
      "metadata": {
        "colab": {
          "base_uri": "https://localhost:8080/"
        },
        "id": "3nJkAm8Lkxvn",
        "outputId": "7073ee8f-e978-47e1-9453-5d55c9bcdbfd"
      },
      "execution_count": null,
      "outputs": [
        {
          "output_type": "stream",
          "name": "stdout",
          "text": [
            "Training accuracy of Random Forest is : 0.96\n",
            "Test accuracy of Random Forest is : 0.768\n",
            "[[188   4]\n",
            " [ 54   4]]\n",
            "              precision    recall  f1-score   support\n",
            "\n",
            "           0       0.78      0.98      0.87       192\n",
            "           1       0.50      0.07      0.12        58\n",
            "\n",
            "    accuracy                           0.77       250\n",
            "   macro avg       0.64      0.52      0.49       250\n",
            "weighted avg       0.71      0.77      0.69       250\n",
            "\n",
            "Sensitivity :  0.9791666666666666\n",
            "Specificity :  0.06896551724137931\n"
          ]
        }
      ]
    },
    {
      "cell_type": "code",
      "source": [
        "sns.heatmap(cm2, annot=True, fmt='d', cmap='Set3')\n",
        "plt.show()"
      ],
      "metadata": {
        "colab": {
          "base_uri": "https://localhost:8080/",
          "height": 265
        },
        "id": "5tTWZ6YmmKST",
        "outputId": "acb59c1d-7a39-4bbf-913f-52778b57e168"
      },
      "execution_count": null,
      "outputs": [
        {
          "output_type": "display_data",
          "data": {
            "text/plain": [
              "<Figure size 432x288 with 2 Axes>"
            ],
            "image/png": "[encoded data removed]"
          },
          "metadata": {
            "needs_background": "light"
          }
        }
      ]
    },
    {
      "cell_type": "markdown",
      "source": [
        "**XGB CLASSIFIERS**"
      ],
      "metadata": {
        "id": "jFqstokFmeNZ"
      }
    },
    {
      "cell_type": "code",
      "source": [
        "\n",
        "\n",
        "\n",
        "xgb = XGBClassifier()\n",
        "xgb.fit(X_train, y_train)\n",
        "\n",
        "y_pred = xgb.predict(X_test)"
      ],
      "metadata": {
        "id": "384u_PecB52Q"
      },
      "execution_count": null,
      "outputs": []
    },
    {
      "cell_type": "code",
      "source": [
        "xgb_train_acc = accuracy_score(y_train, xgb.predict(X_train))\n",
        "xgb_test_acc = accuracy_score(y_test, y_pred)\n",
        "\n",
        "print(f\"Training accuracy of XgBoost is : {xgb_train_acc}\")\n",
        "print(f\"Test accuracy of XgBoost is : {xgb_test_acc}\")\n",
        "\n",
        "cm3 = (confusion_matrix(y_test, y_pred))\n",
        "print(cm3)\n",
        "print(classification_report(y_test, y_pred))\n",
        "sensitivity3=cm3[0,0]/(cm3[0,0]+cm3[0,1])\n",
        "print('Sensitivity : ', sensitivity3 )\n",
        "\n",
        "specificity3 = cm3[1,1]/(cm3[1,0]+cm3[1,1])\n",
        "print('Specificity : ', specificity3)"
      ],
      "metadata": {
        "id": "aXTqczfOB_PK",
        "colab": {
          "base_uri": "https://localhost:8080/"
        },
        "outputId": "ba87e31f-52eb-42c6-f8b0-b086a2136193"
      },
      "execution_count": null,
      "outputs": [
        {
          "output_type": "stream",
          "name": "stdout",
          "text": [
            "Training accuracy of XgBoost is : 0.8973333333333333\n",
            "Test accuracy of XgBoost is : 0.8\n",
            "[[177  15]\n",
            " [ 35  23]]\n",
            "              precision    recall  f1-score   support\n",
            "\n",
            "           0       0.83      0.92      0.88       192\n",
            "           1       0.61      0.40      0.48        58\n",
            "\n",
            "    accuracy                           0.80       250\n",
            "   macro avg       0.72      0.66      0.68       250\n",
            "weighted avg       0.78      0.80      0.78       250\n",
            "\n",
            "Sensitivity :  0.921875\n",
            "Specificity :  0.39655172413793105\n"
          ]
        }
      ]
    },
    {
      "cell_type": "code",
      "source": [
        "sns.heatmap(cm3, annot=True, fmt='d', cmap='Set3_r')\n",
        "plt.show()"
      ],
      "metadata": {
        "colab": {
          "base_uri": "https://localhost:8080/",
          "height": 265
        },
        "id": "KowCbWs4nMS_",
        "outputId": "4c920f78-6327-4fb8-b064-b2289d10e8e3"
      },
      "execution_count": null,
      "outputs": [
        {
          "output_type": "display_data",
          "data": {
            "text/plain": [
              "<Figure size 432x288 with 2 Axes>"
            ],
            "image/png": "[encoded data removed]"
          },
          "metadata": {
            "needs_background": "light"
          }
        }
      ]
    },
    {
      "cell_type": "markdown",
      "source": [
        "**Plotting the imbalanceness**\n",
        "\n"
      ],
      "metadata": {
        "id": "_04h0VqClFqj"
      }
    },
    {
      "cell_type": "code",
      "source": [
        "df['fraud_reported'].value_counts()"
      ],
      "metadata": {
        "id": "MDrb03l05Kuc",
        "colab": {
          "base_uri": "https://localhost:8080/"
        },
        "outputId": "298ded5b-69b5-48f7-8819-78ce876c67f7"
      },
      "execution_count": null,
      "outputs": [
        {
          "output_type": "execute_result",
          "data": {
            "text/plain": [
              "0    753\n",
              "1    247\n",
              "Name: fraud_reported, dtype: int64"
            ]
          },
          "metadata": {},
          "execution_count": 49
        }
      ]
    },
    {
      "cell_type": "code",
      "source": [
        "plt.style.use('dark_background')\n",
        "ax = sns.countplot(x='fraud_reported', data=df, hue='fraud_reported',color ='red')"
      ],
      "metadata": {
        "id": "PBi9hR3JRgQH",
        "colab": {
          "base_uri": "https://localhost:8080/",
          "height": 280
        },
        "outputId": "11f1d547-4f0c-455b-ac2c-17f0a4ab4b3c"
      },
      "execution_count": null,
      "outputs": [
        {
          "output_type": "display_data",
          "data": {
            "text/plain": [
              "<Figure size 432x288 with 1 Axes>"
            ],
            "image/png": "[encoded data removed]"
          },
          "metadata": {}
        }
      ]
    },
    {
      "cell_type": "markdown",
      "source": [
        "**Applying oversampling to optimize the model - SMOTE**"
      ],
      "metadata": {
        "id": "WjRa2DKVl-SH"
      }
    },
    {
      "cell_type": "markdown",
      "source": [
        "**DECISION TREE WITH SMOTE**"
      ],
      "metadata": {
        "id": "IYNXg1-_m5JV"
      }
    },
    {
      "cell_type": "code",
      "source": [
        "\n",
        "classifier = DecisionTreeClassifier #we will use the Random Forest classifier\n"
      ],
      "metadata": {
        "id": "TvH9n2cAoe8j"
      },
      "execution_count": null,
      "outputs": []
    },
    {
      "cell_type": "code",
      "source": [
        "\n",
        "print(\"normal data distribution: {}\".format(Counter(y_train)))\n",
        "X_smote, y_smote = SMOTE().fit_resample(X_train, y_train)\n",
        "\n",
        "print(\"SMOTE data distribution: {}\".format(Counter(y_smote)))"
      ],
      "metadata": {
        "id": "514Rhy8p6-kN",
        "colab": {
          "base_uri": "https://localhost:8080/"
        },
        "outputId": "9c8d34eb-29ac-4ce9-9ad2-3e2f7334c1a4"
      },
      "execution_count": null,
      "outputs": [
        {
          "output_type": "stream",
          "name": "stdout",
          "text": [
            "normal data distribution: Counter({0: 561, 1: 189})\n",
            "SMOTE data distribution: Counter({0: 561, 1: 561})\n"
          ]
        }
      ]
    },
    {
      "cell_type": "code",
      "source": [
        "DT = DecisionTreeClassifier(criterion= 'entropy', max_depth= 10, max_features= 'sqrt', min_samples_leaf= 1, min_samples_split= 3)\n",
        "DT.fit(X_smote, y_smote)\n",
        "\n",
        "y_pred = DT.predict(X_test)\n",
        "# accuracy_score, confusion_matrix and classification_report\n",
        "\n",
        "from sklearn.metrics import accuracy_score, confusion_matrix, classification_report\n",
        "\n",
        "DTsmote_train_acc = accuracy_score(y_smote, DT.predict(X_smote))\n",
        "DTsmote_test_acc = accuracy_score(y_test, y_pred)\n",
        "\n",
        "print(f\"Training accuracy of Decision tree is : {DTsmote_train_acc}\")\n",
        "print(f\"Test accuracy of Decision tree : {DTsmote_test_acc}\")\n",
        "\n",
        "cm4 =confusion_matrix(y_test, y_pred)\n",
        "print(cm4)\n",
        "print(classification_report(y_test, y_pred))\n",
        "sensitivity4 =cm4[0,0]/(cm4[0,0]+cm4[0,1])\n",
        "print('Sensitivity : ', sensitivity4 )\n",
        "\n",
        "specificity4 = cm4[1,1]/(cm4[1,0]+cm4[1,1])\n",
        "print('Specificity : ', specificity4)"
      ],
      "metadata": {
        "colab": {
          "base_uri": "https://localhost:8080/"
        },
        "id": "d3LamyUuoe8m",
        "outputId": "d6577ecb-049a-4784-dddc-ad5db573f9c5"
      },
      "execution_count": null,
      "outputs": [
        {
          "output_type": "stream",
          "name": "stdout",
          "text": [
            "Training accuracy of Decision tree is : 0.8698752228163993\n",
            "Test accuracy of Decision tree : 0.62\n",
            "[[129  63]\n",
            " [ 32  26]]\n",
            "              precision    recall  f1-score   support\n",
            "\n",
            "           0       0.80      0.67      0.73       192\n",
            "           1       0.29      0.45      0.35        58\n",
            "\n",
            "    accuracy                           0.62       250\n",
            "   macro avg       0.55      0.56      0.54       250\n",
            "weighted avg       0.68      0.62      0.64       250\n",
            "\n",
            "Sensitivity :  0.671875\n",
            "Specificity :  0.4482758620689655\n"
          ]
        }
      ]
    },
    {
      "cell_type": "code",
      "source": [
        "sns.heatmap(cm4, annot=True, fmt='d', cmap='brg')\n",
        "plt.show()"
      ],
      "metadata": {
        "colab": {
          "base_uri": "https://localhost:8080/",
          "height": 265
        },
        "id": "5IBp56yhkiaF",
        "outputId": "581dadc3-1082-4d4e-bed0-d11fd652d11e"
      },
      "execution_count": null,
      "outputs": [
        {
          "output_type": "display_data",
          "data": {
            "text/plain": [
              "<Figure size 432x288 with 2 Axes>"
            ],
            "image/png": "[encoded data removed]"
          },
          "metadata": {}
        }
      ]
    },
    {
      "cell_type": "markdown",
      "source": [
        "**SVC WITH SMOTE**"
      ],
      "metadata": {
        "id": "9J0z96C7E1hK"
      }
    },
    {
      "cell_type": "code",
      "source": [
        "from sklearn.svm import SVC\n",
        "from imblearn.over_sampling import SMOTE\n",
        "\n",
        "\n",
        "classifier = SVC #we will use the Random Forest classifier\n"
      ],
      "metadata": {
        "id": "_U-Mr3Ok3yzc"
      },
      "execution_count": null,
      "outputs": []
    },
    {
      "cell_type": "code",
      "source": [
        "from collections import Counter\n",
        "print(\"normal data distribution: {}\".format(Counter(y_train)))\n",
        "X_smote, y_smote = SMOTE().fit_resample(X_train, y_train)\n",
        "\n",
        "print(\"SMOTE data distribution: {}\".format(Counter(y_smote)))"
      ],
      "metadata": {
        "colab": {
          "base_uri": "https://localhost:8080/"
        },
        "outputId": "d38d503a-4a0a-492e-d5c1-3ee2e4e874f9",
        "id": "XRkR3PFd3yzd"
      },
      "execution_count": null,
      "outputs": [
        {
          "output_type": "stream",
          "name": "stdout",
          "text": [
            "normal data distribution: Counter({0: 561, 1: 189})\n",
            "SMOTE data distribution: Counter({0: 561, 1: 561})\n"
          ]
        }
      ]
    },
    {
      "cell_type": "code",
      "source": [
        "SV = SVC()\n",
        "SV.fit(X_smote, y_smote)\n",
        "\n",
        "y_pred = SV.predict(X_test)\n",
        "# accuracy_score, confusion_matrix and classification_report\n",
        "\n",
        "from sklearn.metrics import accuracy_score, confusion_matrix, classification_report\n",
        "\n",
        "SVsmote_train_acc = accuracy_score(y_smote, SV.predict(X_smote))\n",
        "SVsmote_test_acc = accuracy_score(y_test, y_pred)\n",
        "\n",
        "print(f\"Training accuracy of SVM is : {SVsmote_train_acc}\")\n",
        "print(f\"Test accuracy of SVM is : {SVsmote_test_acc}\")\n",
        "\n",
        "cm5 =confusion_matrix(y_test, y_pred)\n",
        "print(cm5)\n",
        "print(classification_report(y_test, y_pred))\n",
        "sensitivity5=cm5[0,0]/(cm5[0,0]+cm5[0,1])\n",
        "print('Sensitivity : ', sensitivity5 )\n",
        "\n",
        "specificity5 = cm5[1,1]/(cm5[1,0]+cm5[1,1])\n",
        "print('Specificity : ', specificity5)"
      ],
      "metadata": {
        "colab": {
          "base_uri": "https://localhost:8080/"
        },
        "outputId": "19424d12-7019-48e6-f0a4-ad3dffe64ea2",
        "id": "qR8lMoaQ3yze"
      },
      "execution_count": null,
      "outputs": [
        {
          "output_type": "stream",
          "name": "stdout",
          "text": [
            "Training accuracy of SVM is : 0.9536541889483066\n",
            "Test accuracy of SVM is : 0.788\n",
            "[[182  10]\n",
            " [ 43  15]]\n",
            "              precision    recall  f1-score   support\n",
            "\n",
            "           0       0.81      0.95      0.87       192\n",
            "           1       0.60      0.26      0.36        58\n",
            "\n",
            "    accuracy                           0.79       250\n",
            "   macro avg       0.70      0.60      0.62       250\n",
            "weighted avg       0.76      0.79      0.75       250\n",
            "\n",
            "Sensitivity :  0.9479166666666666\n",
            "Specificity :  0.25862068965517243\n"
          ]
        }
      ]
    },
    {
      "cell_type": "code",
      "source": [
        "sns.heatmap(cm5, annot=True, fmt='d', cmap='coolwarm')\n",
        "plt.show()"
      ],
      "metadata": {
        "colab": {
          "base_uri": "https://localhost:8080/",
          "height": 267
        },
        "outputId": "482d3404-f0bd-49c9-d943-edb480ab9ef0",
        "id": "6VFOQLqp3yze"
      },
      "execution_count": null,
      "outputs": [
        {
          "output_type": "display_data",
          "data": {
            "text/plain": [
              "<Figure size 432x288 with 2 Axes>"
            ],
            "image/png": "[encoded data removed]"
          },
          "metadata": {}
        }
      ]
    },
    {
      "cell_type": "markdown",
      "source": [
        "**RANDOM FOREST WITH SMOTE**"
      ],
      "metadata": {
        "id": "zJIvg30P5JT5"
      }
    },
    {
      "cell_type": "code",
      "source": [
        "from sklearn.ensemble import RandomForestClassifier\n",
        "from imblearn.over_sampling import SMOTE\n",
        "\n",
        "classifier = RandomForestClassifier #we will use the Random Forest classifier\n",
        "\n"
      ],
      "metadata": {
        "id": "8_WrGK0JNlUr"
      },
      "execution_count": null,
      "outputs": []
    },
    {
      "cell_type": "code",
      "source": [
        "from collections import Counter\n",
        "print(\"normal data distribution: {}\".format(Counter(y_train)))\n",
        "X_smote, y_smote = SMOTE().fit_resample(X_train, y_train)\n",
        "\n",
        "print(\"SMOTE data distribution: {}\".format(Counter(y_smote)))"
      ],
      "metadata": {
        "id": "GgsxsTCGNz4F",
        "colab": {
          "base_uri": "https://localhost:8080/"
        },
        "outputId": "68e5f43e-60b3-4628-b43a-7b96aba44862"
      },
      "execution_count": null,
      "outputs": [
        {
          "output_type": "stream",
          "name": "stdout",
          "text": [
            "normal data distribution: Counter({0: 561, 1: 189})\n",
            "SMOTE data distribution: Counter({0: 561, 1: 561})\n"
          ]
        }
      ]
    },
    {
      "cell_type": "code",
      "source": [
        "X_smote"
      ],
      "metadata": {
        "id": "PsyFI-2C2XOK",
        "colab": {
          "base_uri": "https://localhost:8080/",
          "height": 505
        },
        "outputId": "eeff7dfc-6450-4595-940a-21654c9d6a68"
      },
      "execution_count": null,
      "outputs": [
        {
          "output_type": "execute_result",
          "data": {
            "text/plain": [
              "      months_as_customer  umbrella_limit  capital-gains  capital-loss  \\\n",
              "0              -0.850675        2.146235      -0.902285      0.945721   \n",
              "1              -0.360133        3.016331       0.088516      0.945721   \n",
              "2               0.182046       -0.464051       0.632556     -0.640308   \n",
              "3              -1.659639       -0.464051       0.304691     -1.158268   \n",
              "4              -0.953947       -0.464051      -0.902285     -0.218796   \n",
              "...                  ...             ...            ...           ...   \n",
              "1117            1.607985       -0.464051       0.873316      0.945721   \n",
              "1118           -0.521294       -0.464051      -0.902285      0.800803   \n",
              "1119            0.926112       -0.464051       0.866870      0.945721   \n",
              "1120            1.722609       -0.464051      -0.902285     -0.576788   \n",
              "1121            0.052949       -0.464051       1.678695      0.945721   \n",
              "\n",
              "      incident_hour_of_the_day  number_of_vehicles_involved  bodily_injuries  \\\n",
              "0                     0.767126                     1.094608         0.011443   \n",
              "1                    -0.238721                     1.094608         1.237495   \n",
              "2                    -1.244568                    -0.860049         0.011443   \n",
              "3                    -0.238721                    -0.860049         0.011443   \n",
              "4                     1.485588                    -0.860049         0.011443   \n",
              "...                        ...                          ...              ...   \n",
              "1117                 -0.093133                    -0.860049        -1.214609   \n",
              "1118                  0.975421                     1.094608         0.011443   \n",
              "1119                  0.940780                     1.313467        -0.263114   \n",
              "1120                 -0.055706                    -0.860049        -1.214609   \n",
              "1121                 -0.264501                     1.094608         1.111734   \n",
              "\n",
              "      witnesses  injury_claim  property_claim  ...  \\\n",
              "0      1.376481      1.863635        1.855250  ...   \n",
              "1      0.478776     -0.004854       -0.002938  ...   \n",
              "2     -1.316634     -1.450366       -1.354718  ...   \n",
              "3      1.376481     -0.125998        1.279416  ...   \n",
              "4     -1.316634      0.529000        0.527973  ...   \n",
              "...         ...           ...             ...  ...   \n",
              "1117  -0.646315     -0.210296       -0.207247  ...   \n",
              "1118  -0.650897      0.444832       -0.262917  ...   \n",
              "1119  -1.316634      0.091229       -0.476290  ...   \n",
              "1120  -1.316634     -0.381834       -0.377840  ...   \n",
              "1121  -0.234766     -0.500695        0.534153  ...   \n",
              "\n",
              "      collision_type_Side Collision  incident_severity_Minor Damage  \\\n",
              "0                                 1                               1   \n",
              "1                                 1                               0   \n",
              "2                                 0                               1   \n",
              "3                                 0                               0   \n",
              "4                                 0                               0   \n",
              "...                             ...                             ...   \n",
              "1117                              1                               0   \n",
              "1118                              0                               0   \n",
              "1119                              0                               0   \n",
              "1120                              0                               0   \n",
              "1121                              0                               0   \n",
              "\n",
              "      incident_severity_Total Loss  incident_severity_Trivial Damage  \\\n",
              "0                                0                                 0   \n",
              "1                                0                                 0   \n",
              "2                                0                                 0   \n",
              "3                                0                                 0   \n",
              "4                                1                                 0   \n",
              "...                            ...                               ...   \n",
              "1117                             0                                 0   \n",
              "1118                             0                                 0   \n",
              "1119                             0                                 0   \n",
              "1120                             0                                 0   \n",
              "1121                             0                                 0   \n",
              "\n",
              "      authorities_contacted_Fire  authorities_contacted_None  \\\n",
              "0                              0                           0   \n",
              "1                              0                           0   \n",
              "2                              0                           1   \n",
              "3                              0                           0   \n",
              "4                              0                           0   \n",
              "...                          ...                         ...   \n",
              "1117                           0                           0   \n",
              "1118                           1                           0   \n",
              "1119                           0                           0   \n",
              "1120                           0                           0   \n",
              "1121                           0                           0   \n",
              "\n",
              "      authorities_contacted_Other  authorities_contacted_Police  \\\n",
              "0                               0                             1   \n",
              "1                               0                             1   \n",
              "2                               0                             0   \n",
              "3                               0                             1   \n",
              "4                               0                             0   \n",
              "...                           ...                           ...   \n",
              "1117                            0                             1   \n",
              "1118                            0                             0   \n",
              "1119                            0                             0   \n",
              "1120                            0                             1   \n",
              "1121                            0                             0   \n",
              "\n",
              "      property_damage_YES  police_report_available_YES  \n",
              "0                       0                            1  \n",
              "1                       0                            0  \n",
              "2                       0                            1  \n",
              "3                       1                            0  \n",
              "4                       0                            0  \n",
              "...                   ...                          ...  \n",
              "1117                    0                            0  \n",
              "1118                    0                            0  \n",
              "1119                    0                            0  \n",
              "1120                    0                            0  \n",
              "1121                    1                            0  \n",
              "\n",
              "[1122 rows x 51 columns]"
            ],
            "text/html": [
              "\n",
              "  <div id=\"df-c9e59627-f634-49e1-b324-47e9361dd882\">\n",
              "    <div class=\"colab-df-container\">\n",
              "      <div>\n",
              "<style scoped>\n",
              "    .dataframe tbody tr th:only-of-type {\n",
              "        vertical-align: middle;\n",
              "    }\n",
              "\n",
              "    .dataframe tbody tr th {\n",
              "        vertical-align: top;\n",
              "    }\n",
              "\n",
              "    .dataframe thead th {\n",
              "        text-align: right;\n",
              "    }\n",
              "</style>\n",
              "<table border=\"1\" class=\"dataframe\">\n",
              "  <thead>\n",
              "    <tr style=\"text-align: right;\">\n",
              "      <th></th>\n",
              "      <th>months_as_customer</th>\n",
              "      <th>umbrella_limit</th>\n",
              "      <th>capital-gains</th>\n",
              "      <th>capital-loss</th>\n",
              "      <th>incident_hour_of_the_day</th>\n",
              "      <th>number_of_vehicles_involved</th>\n",
              "      <th>bodily_injuries</th>\n",
              "      <th>witnesses</th>\n",
              "      <th>injury_claim</th>\n",
              "      <th>property_claim</th>\n",
              "      <th>...</th>\n",
              "      <th>collision_type_Side Collision</th>\n",
              "      <th>incident_severity_Minor Damage</th>\n",
              "      <th>incident_severity_Total Loss</th>\n",
              "      <th>incident_severity_Trivial Damage</th>\n",
              "      <th>authorities_contacted_Fire</th>\n",
              "      <th>authorities_contacted_None</th>\n",
              "      <th>authorities_contacted_Other</th>\n",
              "      <th>authorities_contacted_Police</th>\n",
              "      <th>property_damage_YES</th>\n",
              "      <th>police_report_available_YES</th>\n",
              "    </tr>\n",
              "  </thead>\n",
              "  <tbody>\n",
              "    <tr>\n",
              "      <th>0</th>\n",
              "      <td>-0.850675</td>\n",
              "      <td>2.146235</td>\n",
              "      <td>-0.902285</td>\n",
              "      <td>0.945721</td>\n",
              "      <td>0.767126</td>\n",
              "      <td>1.094608</td>\n",
              "      <td>0.011443</td>\n",
              "      <td>1.376481</td>\n",
              "      <td>1.863635</td>\n",
              "      <td>1.855250</td>\n",
              "      <td>...</td>\n",
              "      <td>1</td>\n",
              "      <td>1</td>\n",
              "      <td>0</td>\n",
              "      <td>0</td>\n",
              "      <td>0</td>\n",
              "      <td>0</td>\n",
              "      <td>0</td>\n",
              "      <td>1</td>\n",
              "      <td>0</td>\n",
              "      <td>1</td>\n",
              "    </tr>\n",
              "    <tr>\n",
              "      <th>1</th>\n",
              "      <td>-0.360133</td>\n",
              "      <td>3.016331</td>\n",
              "      <td>0.088516</td>\n",
              "      <td>0.945721</td>\n",
              "      <td>-0.238721</td>\n",
              "      <td>1.094608</td>\n",
              "      <td>1.237495</td>\n",
              "      <td>0.478776</td>\n",
              "      <td>-0.004854</td>\n",
              "      <td>-0.002938</td>\n",
              "      <td>...</td>\n",
              "      <td>1</td>\n",
              "      <td>0</td>\n",
              "      <td>0</td>\n",
              "      <td>0</td>\n",
              "      <td>0</td>\n",
              "      <td>0</td>\n",
              "      <td>0</td>\n",
              "      <td>1</td>\n",
              "      <td>0</td>\n",
              "      <td>0</td>\n",
              "    </tr>\n",
              "    <tr>\n",
              "      <th>2</th>\n",
              "      <td>0.182046</td>\n",
              "      <td>-0.464051</td>\n",
              "      <td>0.632556</td>\n",
              "      <td>-0.640308</td>\n",
              "      <td>-1.244568</td>\n",
              "      <td>-0.860049</td>\n",
              "      <td>0.011443</td>\n",
              "      <td>-1.316634</td>\n",
              "      <td>-1.450366</td>\n",
              "      <td>-1.354718</td>\n",
              "      <td>...</td>\n",
              "      <td>0</td>\n",
              "      <td>1</td>\n",
              "      <td>0</td>\n",
              "      <td>0</td>\n",
              "      <td>0</td>\n",
              "      <td>1</td>\n",
              "      <td>0</td>\n",
              "      <td>0</td>\n",
              "      <td>0</td>\n",
              "      <td>1</td>\n",
              "    </tr>\n",
              "    <tr>\n",
              "      <th>3</th>\n",
              "      <td>-1.659639</td>\n",
              "      <td>-0.464051</td>\n",
              "      <td>0.304691</td>\n",
              "      <td>-1.158268</td>\n",
              "      <td>-0.238721</td>\n",
              "      <td>-0.860049</td>\n",
              "      <td>0.011443</td>\n",
              "      <td>1.376481</td>\n",
              "      <td>-0.125998</td>\n",
              "      <td>1.279416</td>\n",
              "      <td>...</td>\n",
              "      <td>0</td>\n",
              "      <td>0</td>\n",
              "      <td>0</td>\n",
              "      <td>0</td>\n",
              "      <td>0</td>\n",
              "      <td>0</td>\n",
              "      <td>0</td>\n",
              "      <td>1</td>\n",
              "      <td>1</td>\n",
              "      <td>0</td>\n",
              "    </tr>\n",
              "    <tr>\n",
              "      <th>4</th>\n",
              "      <td>-0.953947</td>\n",
              "      <td>-0.464051</td>\n",
              "      <td>-0.902285</td>\n",
              "      <td>-0.218796</td>\n",
              "      <td>1.485588</td>\n",
              "      <td>-0.860049</td>\n",
              "      <td>0.011443</td>\n",
              "      <td>-1.316634</td>\n",
              "      <td>0.529000</td>\n",
              "      <td>0.527973</td>\n",
              "      <td>...</td>\n",
              "      <td>0</td>\n",
              "      <td>0</td>\n",
              "      <td>1</td>\n",
              "      <td>0</td>\n",
              "      <td>0</td>\n",
              "      <td>0</td>\n",
              "      <td>0</td>\n",
              "      <td>0</td>\n",
              "      <td>0</td>\n",
              "      <td>0</td>\n",
              "    </tr>\n",
              "    <tr>\n",
              "      <th>...</th>\n",
              "      <td>...</td>\n",
              "      <td>...</td>\n",
              "      <td>...</td>\n",
              "      <td>...</td>\n",
              "      <td>...</td>\n",
              "      <td>...</td>\n",
              "      <td>...</td>\n",
              "      <td>...</td>\n",
              "      <td>...</td>\n",
              "      <td>...</td>\n",
              "      <td>...</td>\n",
              "      <td>...</td>\n",
              "      <td>...</td>\n",
              "      <td>...</td>\n",
              "      <td>...</td>\n",
              "      <td>...</td>\n",
              "      <td>...</td>\n",
              "      <td>...</td>\n",
              "      <td>...</td>\n",
              "      <td>...</td>\n",
              "      <td>...</td>\n",
              "    </tr>\n",
              "    <tr>\n",
              "      <th>1117</th>\n",
              "      <td>1.607985</td>\n",
              "      <td>-0.464051</td>\n",
              "      <td>0.873316</td>\n",
              "      <td>0.945721</td>\n",
              "      <td>-0.093133</td>\n",
              "      <td>-0.860049</td>\n",
              "      <td>-1.214609</td>\n",
              "      <td>-0.646315</td>\n",
              "      <td>-0.210296</td>\n",
              "      <td>-0.207247</td>\n",
              "      <td>...</td>\n",
              "      <td>1</td>\n",
              "      <td>0</td>\n",
              "      <td>0</td>\n",
              "      <td>0</td>\n",
              "      <td>0</td>\n",
              "      <td>0</td>\n",
              "      <td>0</td>\n",
              "      <td>1</td>\n",
              "      <td>0</td>\n",
              "      <td>0</td>\n",
              "    </tr>\n",
              "    <tr>\n",
              "      <th>1118</th>\n",
              "      <td>-0.521294</td>\n",
              "      <td>-0.464051</td>\n",
              "      <td>-0.902285</td>\n",
              "      <td>0.800803</td>\n",
              "      <td>0.975421</td>\n",
              "      <td>1.094608</td>\n",
              "      <td>0.011443</td>\n",
              "      <td>-0.650897</td>\n",
              "      <td>0.444832</td>\n",
              "      <td>-0.262917</td>\n",
              "      <td>...</td>\n",
              "      <td>0</td>\n",
              "      <td>0</td>\n",
              "      <td>0</td>\n",
              "      <td>0</td>\n",
              "      <td>1</td>\n",
              "      <td>0</td>\n",
              "      <td>0</td>\n",
              "      <td>0</td>\n",
              "      <td>0</td>\n",
              "      <td>0</td>\n",
              "    </tr>\n",
              "    <tr>\n",
              "      <th>1119</th>\n",
              "      <td>0.926112</td>\n",
              "      <td>-0.464051</td>\n",
              "      <td>0.866870</td>\n",
              "      <td>0.945721</td>\n",
              "      <td>0.940780</td>\n",
              "      <td>1.313467</td>\n",
              "      <td>-0.263114</td>\n",
              "      <td>-1.316634</td>\n",
              "      <td>0.091229</td>\n",
              "      <td>-0.476290</td>\n",
              "      <td>...</td>\n",
              "      <td>0</td>\n",
              "      <td>0</td>\n",
              "      <td>0</td>\n",
              "      <td>0</td>\n",
              "      <td>0</td>\n",
              "      <td>0</td>\n",
              "      <td>0</td>\n",
              "      <td>0</td>\n",
              "      <td>0</td>\n",
              "      <td>0</td>\n",
              "    </tr>\n",
              "    <tr>\n",
              "      <th>1120</th>\n",
              "      <td>1.722609</td>\n",
              "      <td>-0.464051</td>\n",
              "      <td>-0.902285</td>\n",
              "      <td>-0.576788</td>\n",
              "      <td>-0.055706</td>\n",
              "      <td>-0.860049</td>\n",
              "      <td>-1.214609</td>\n",
              "      <td>-1.316634</td>\n",
              "      <td>-0.381834</td>\n",
              "      <td>-0.377840</td>\n",
              "      <td>...</td>\n",
              "      <td>0</td>\n",
              "      <td>0</td>\n",
              "      <td>0</td>\n",
              "      <td>0</td>\n",
              "      <td>0</td>\n",
              "      <td>0</td>\n",
              "      <td>0</td>\n",
              "      <td>1</td>\n",
              "      <td>0</td>\n",
              "      <td>0</td>\n",
              "    </tr>\n",
              "    <tr>\n",
              "      <th>1121</th>\n",
              "      <td>0.052949</td>\n",
              "      <td>-0.464051</td>\n",
              "      <td>1.678695</td>\n",
              "      <td>0.945721</td>\n",
              "      <td>-0.264501</td>\n",
              "      <td>1.094608</td>\n",
              "      <td>1.111734</td>\n",
              "      <td>-0.234766</td>\n",
              "      <td>-0.500695</td>\n",
              "      <td>0.534153</td>\n",
              "      <td>...</td>\n",
              "      <td>0</td>\n",
              "      <td>0</td>\n",
              "      <td>0</td>\n",
              "      <td>0</td>\n",
              "      <td>0</td>\n",
              "      <td>0</td>\n",
              "      <td>0</td>\n",
              "      <td>0</td>\n",
              "      <td>1</td>\n",
              "      <td>0</td>\n",
              "    </tr>\n",
              "  </tbody>\n",
              "</table>\n",
              "<p>1122 rows × 51 columns</p>\n",
              "</div>\n",
              "      <button class=\"colab-df-convert\" onclick=\"convertToInteractive('df-c9e59627-f634-49e1-b324-47e9361dd882')\"\n",
              "              title=\"Convert this dataframe to an interactive table.\"\n",
              "              style=\"display:none;\">\n",
              "        \n",
              "  <svg xmlns=\"http://www.w3.org/2000/svg\" height=\"24px\"viewBox=\"0 0 24 24\"\n",
              "       width=\"24px\">\n",
              "    <path d=\"M0 0h24v24H0V0z\" fill=\"none\"/>\n",
              "    <path d=\"M18.56 5.44l.94 2.06.94-2.06 2.06-.94-2.06-.94-.94-2.06-.94 2.06-2.06.94zm-11 1L8.5 8.5l.94-2.06 2.06-.94-2.06-.94L8.5 2.5l-.94 2.06-2.06.94zm10 10l.94 2.06.94-2.06 2.06-.94-2.06-.94-.94-2.06-.94 2.06-2.06.94z\"/><path d=\"M17.41 7.96l-1.37-1.37c-.4-.4-.92-.59-1.43-.59-.52 0-1.04.2-1.43.59L10.3 9.45l-7.72 7.72c-.78.78-.78 2.05 0 2.83L4 21.41c.39.39.9.59 1.41.59.51 0 1.02-.2 1.41-.59l7.78-7.78 2.81-2.81c.8-.78.8-2.07 0-2.86zM5.41 20L4 18.59l7.72-7.72 1.47 1.35L5.41 20z\"/>\n",
              "  </svg>\n",
              "      </button>\n",
              "      \n",
              "  <style>\n",
              "    .colab-df-container {\n",
              "      display:flex;\n",
              "      flex-wrap:wrap;\n",
              "      gap: 12px;\n",
              "    }\n",
              "\n",
              "    .colab-df-convert {\n",
              "      background-color: #E8F0FE;\n",
              "      border: none;\n",
              "      border-radius: 50%;\n",
              "      cursor: pointer;\n",
              "      display: none;\n",
              "      fill: #1967D2;\n",
              "      height: 32px;\n",
              "      padding: 0 0 0 0;\n",
              "      width: 32px;\n",
              "    }\n",
              "\n",
              "    .colab-df-convert:hover {\n",
              "      background-color: #E2EBFA;\n",
              "      box-shadow: 0px 1px 2px rgba(60, 64, 67, 0.3), 0px 1px 3px 1px rgba(60, 64, 67, 0.15);\n",
              "      fill: #174EA6;\n",
              "    }\n",
              "\n",
              "    [theme=dark] .colab-df-convert {\n",
              "      background-color: #3B4455;\n",
              "      fill: #D2E3FC;\n",
              "    }\n",
              "\n",
              "    [theme=dark] .colab-df-convert:hover {\n",
              "      background-color: #434B5C;\n",
              "      box-shadow: 0px 1px 3px 1px rgba(0, 0, 0, 0.15);\n",
              "      filter: drop-shadow(0px 1px 2px rgba(0, 0, 0, 0.3));\n",
              "      fill: #FFFFFF;\n",
              "    }\n",
              "  </style>\n",
              "\n",
              "      <script>\n",
              "        const buttonEl =\n",
              "          document.querySelector('#df-c9e59627-f634-49e1-b324-47e9361dd882 button.colab-df-convert');\n",
              "        buttonEl.style.display =\n",
              "          google.colab.kernel.accessAllowed ? 'block' : 'none';\n",
              "\n",
              "        async function convertToInteractive(key) {\n",
              "          const element = document.querySelector('#df-c9e59627-f634-49e1-b324-47e9361dd882');\n",
              "          const dataTable =\n",
              "            await google.colab.kernel.invokeFunction('convertToInteractive',\n",
              "                                                     [key], {});\n",
              "          if (!dataTable) return;\n",
              "\n",
              "          const docLinkHtml = 'Like what you see? Visit the ' +\n",
              "            '<a target=\"_blank\" href=https://colab.research.google.com/notebooks/data_table.ipynb>data table notebook</a>'\n",
              "            + ' to learn more about interactive tables.';\n",
              "          element.innerHTML = '';\n",
              "          dataTable['output_type'] = 'display_data';\n",
              "          await google.colab.output.renderOutput(dataTable, element);\n",
              "          const docLink = document.createElement('div');\n",
              "          docLink.innerHTML = docLinkHtml;\n",
              "          element.appendChild(docLink);\n",
              "        }\n",
              "      </script>\n",
              "    </div>\n",
              "  </div>\n",
              "  "
            ]
          },
          "metadata": {},
          "execution_count": 61
        }
      ]
    },
    {
      "cell_type": "code",
      "source": [
        "y_smote"
      ],
      "metadata": {
        "id": "Fv2TnaUr2c32",
        "colab": {
          "base_uri": "https://localhost:8080/"
        },
        "outputId": "5925fdce-4114-4b3e-ee8b-1f4258779b2d"
      },
      "execution_count": null,
      "outputs": [
        {
          "output_type": "execute_result",
          "data": {
            "text/plain": [
              "0       0\n",
              "1       1\n",
              "2       0\n",
              "3       1\n",
              "4       0\n",
              "       ..\n",
              "1117    1\n",
              "1118    1\n",
              "1119    1\n",
              "1120    1\n",
              "1121    1\n",
              "Name: fraud_reported, Length: 1122, dtype: int64"
            ]
          },
          "metadata": {},
          "execution_count": 62
        }
      ]
    },
    {
      "cell_type": "code",
      "source": [
        "randomforest = RandomForestClassifier(criterion= 'entropy', max_depth= 10, max_features= 'sqrt', min_samples_leaf= 1, min_samples_split= 3, n_estimators= 140)\n",
        "randomforest.fit(X_smote, y_smote)\n",
        "\n",
        "y_pred = randomforest.predict(X_test)\n",
        "# accuracy_score, confusion_matrix and classification_report\n",
        "\n",
        "from sklearn.metrics import accuracy_score, confusion_matrix, classification_report\n",
        "\n",
        "randomforestsmote_train_acc = accuracy_score(y_smote, randomforest.predict(X_smote))\n",
        "randomforestsmote_test_acc = accuracy_score(y_test, y_pred)\n",
        "\n",
        "print(f\"Training accuracy of Random Forest is : {randomforestsmote_train_acc}\")\n",
        "print(f\"Test accuracy of Random Forest is : {randomforestsmote_test_acc}\")\n",
        "\n",
        "cm6 =confusion_matrix(y_test, y_pred)\n",
        "print(cm6)\n",
        "print(classification_report(y_test, y_pred))\n",
        "sensitivity6=cm6[0,0]/(cm6[0,0]+cm6[0,1])\n",
        "print('Sensitivity : ', sensitivity6 )\n",
        "\n",
        "specificity6 = cm6[1,1]/(cm6[1,0]+cm6[1,1])\n",
        "print('Specificity : ', specificity6)"
      ],
      "metadata": {
        "id": "msGRiog32KQP",
        "colab": {
          "base_uri": "https://localhost:8080/"
        },
        "outputId": "e7ab60d9-3096-4266-81f0-3150f385349c"
      },
      "execution_count": null,
      "outputs": [
        {
          "output_type": "stream",
          "name": "stdout",
          "text": [
            "Training accuracy of Random Forest is : 0.9723707664884136\n",
            "Test accuracy of Random Forest is : 0.788\n",
            "[[172  20]\n",
            " [ 33  25]]\n",
            "              precision    recall  f1-score   support\n",
            "\n",
            "           0       0.84      0.90      0.87       192\n",
            "           1       0.56      0.43      0.49        58\n",
            "\n",
            "    accuracy                           0.79       250\n",
            "   macro avg       0.70      0.66      0.68       250\n",
            "weighted avg       0.77      0.79      0.78       250\n",
            "\n",
            "Sensitivity :  0.8958333333333334\n",
            "Specificity :  0.43103448275862066\n"
          ]
        }
      ]
    },
    {
      "cell_type": "code",
      "source": [
        "sns.heatmap(cm6, annot=True, fmt='d', cmap='Oranges')\n",
        "plt.show()"
      ],
      "metadata": {
        "id": "UUK1LCY64bu6",
        "colab": {
          "base_uri": "https://localhost:8080/",
          "height": 265
        },
        "outputId": "cb676008-595a-4a9c-a1ab-b3bdf6a30427"
      },
      "execution_count": null,
      "outputs": [
        {
          "output_type": "display_data",
          "data": {
            "text/plain": [
              "<Figure size 432x288 with 2 Axes>"
            ],
            "image/png": "[encoded data removed]"
          },
          "metadata": {}
        }
      ]
    },
    {
      "cell_type": "markdown",
      "source": [
        "**XGBOOST USING SMOTE**"
      ],
      "metadata": {
        "id": "hgklDRu5D3qp"
      }
    },
    {
      "cell_type": "code",
      "source": [
        "from xgboost import XGBClassifier\n",
        "from imblearn.over_sampling import SMOTE\n",
        "\n",
        "\n",
        "classifier = XGBClassifier\n"
      ],
      "metadata": {
        "id": "-wcDviwrCPWS"
      },
      "execution_count": null,
      "outputs": []
    },
    {
      "cell_type": "code",
      "source": [
        "from collections import Counter\n",
        "print(\"normal data distribution: {}\".format(Counter(y_train)))\n",
        "X_smote, y_smote = SMOTE().fit_resample(X_train, y_train)\n",
        "\n",
        "print(\"SMOTE data distribution: {}\".format(Counter(y_smote)))"
      ],
      "metadata": {
        "id": "83aiC3wFCPWT",
        "colab": {
          "base_uri": "https://localhost:8080/"
        },
        "outputId": "0f22ff4c-0365-401c-e337-38764f2e3a82"
      },
      "execution_count": null,
      "outputs": [
        {
          "output_type": "stream",
          "name": "stdout",
          "text": [
            "normal data distribution: Counter({0: 561, 1: 189})\n",
            "SMOTE data distribution: Counter({0: 561, 1: 561})\n"
          ]
        }
      ]
    },
    {
      "cell_type": "code",
      "source": [
        "xgb = XGBClassifier()\n",
        "xgb.fit(X_smote, y_smote)\n",
        "\n",
        "y_pred = xgb.predict(X_test)\n",
        "# accuracy_score, confusion_matrix and classification_report\n",
        "\n",
        "from sklearn.metrics import accuracy_score, confusion_matrix, classification_report\n",
        "\n",
        "XGBsmote_train_acc = accuracy_score(y_smote, xgb.predict(X_smote))\n",
        "XGBsmote_test_acc = accuracy_score(y_test, y_pred)\n",
        "\n",
        "print(f\"Training accuracy of XGBOOST Classifier is : {XGBsmote_train_acc}\")\n",
        "print(f\"Test accuracy of XGBOOST Classifier is : {XGBsmote_test_acc}\")\n",
        "\n",
        "cm7 = (confusion_matrix(y_test, y_pred))\n",
        "print(cm7)\n",
        "print(classification_report(y_test, y_pred))\n",
        "sensitivity7=cm7[0,0]/(cm7[0,0]+cm7[0,1])\n",
        "print('Sensitivity : ', sensitivity7 )\n",
        "\n",
        "specificity7 = cm7[1,1]/(cm7[1,0]+cm7[1,1])\n",
        "print('Specificity : ', specificity7)"
      ],
      "metadata": {
        "id": "IB_sZ2eNCPWT",
        "colab": {
          "base_uri": "https://localhost:8080/"
        },
        "outputId": "87f64467-5a72-4dc3-cebd-070d9354e219"
      },
      "execution_count": null,
      "outputs": [
        {
          "output_type": "stream",
          "name": "stdout",
          "text": [
            "Training accuracy of XGBOOST Classifier is : 0.9180035650623886\n",
            "Test accuracy of XGBOOST Classifier is : 0.808\n",
            "[[174  18]\n",
            " [ 30  28]]\n",
            "              precision    recall  f1-score   support\n",
            "\n",
            "           0       0.85      0.91      0.88       192\n",
            "           1       0.61      0.48      0.54        58\n",
            "\n",
            "    accuracy                           0.81       250\n",
            "   macro avg       0.73      0.69      0.71       250\n",
            "weighted avg       0.80      0.81      0.80       250\n",
            "\n",
            "Sensitivity :  0.90625\n",
            "Specificity :  0.4827586206896552\n"
          ]
        }
      ]
    },
    {
      "cell_type": "code",
      "source": [
        "sns.heatmap(cm7, annot=True, fmt='d', cmap='Purples')\n",
        "plt.show()"
      ],
      "metadata": {
        "colab": {
          "base_uri": "https://localhost:8080/",
          "height": 265
        },
        "id": "zhcas8fyn-Ww",
        "outputId": "86acfb24-1e05-4f94-e1e5-9d7a91adbce1"
      },
      "execution_count": null,
      "outputs": [
        {
          "output_type": "display_data",
          "data": {
            "text/plain": [
              "<Figure size 432x288 with 2 Axes>"
            ],
            "image/png": "[encoded data removed]"
          },
          "metadata": {}
        }
      ]
    },
    {
      "cell_type": "markdown",
      "source": [
        "**ADASYN**"
      ],
      "metadata": {
        "id": "7lQKSKIdxb1P"
      }
    },
    {
      "cell_type": "markdown",
      "source": [
        "**DT with ADASYN**"
      ],
      "metadata": {
        "id": "C9OP4ICIxif9"
      }
    },
    {
      "cell_type": "code",
      "source": [
        "from sklearn.tree import DecisionTreeClassifier\n",
        "\n",
        "\n",
        "classifier = DecisionTreeClassifier #we will use the Random Forest classifier\n"
      ],
      "metadata": {
        "id": "C6u9qHJKuCnJ"
      },
      "execution_count": null,
      "outputs": []
    },
    {
      "cell_type": "code",
      "source": [
        "from imblearn.over_sampling import ADASYN\n",
        "from collections import Counter\n",
        "print(\"normal data distribution: {}\".format(Counter(y_train)))\n",
        "ada = ADASYN(random_state = 120)\n",
        "X_train_ada,y_train_ada = ada.fit_resample(X_train,y_train)\n",
        "\n",
        "print(\"ADASYN data distribution: {}\".format(Counter(y_train_ada)))\n",
        "\n",
        "\n"
      ],
      "metadata": {
        "colab": {
          "base_uri": "https://localhost:8080/"
        },
        "id": "gpBv_s5TpQsr",
        "outputId": "3f90cee2-b944-4051-c311-febedc5bb7b3"
      },
      "execution_count": null,
      "outputs": [
        {
          "output_type": "stream",
          "name": "stdout",
          "text": [
            "normal data distribution: Counter({0: 561, 1: 189})\n",
            "ADASYN data distribution: Counter({0: 561, 1: 559})\n"
          ]
        }
      ]
    },
    {
      "cell_type": "code",
      "source": [
        "DT = DecisionTreeClassifier(criterion= 'entropy', max_depth= 10, max_features= 'sqrt', min_samples_leaf= 1, min_samples_split= 3)\n",
        "DT.fit(X_train_ada, y_train_ada)\n",
        "\n",
        "y_pred = DT.predict(X_test)\n",
        "# accuracy_score, confusion_matrix and classification_report\n",
        "\n",
        "from sklearn.metrics import accuracy_score, confusion_matrix, classification_report\n",
        "\n",
        "DTadasyn_train_acc = accuracy_score(y_train_ada, DT.predict(X_train_ada))\n",
        "DTadasyn_test_acc = accuracy_score(y_test, y_pred)\n",
        "\n",
        "print(f\"Training accuracy of Decision tree is : {DTadasyn_train_acc}\")\n",
        "print(f\"Test accuracy of Decision tree is : {DTadasyn_test_acc}\")\n",
        "\n",
        "cm8 =confusion_matrix(y_test, y_pred)\n",
        "print(cm8)\n",
        "print(classification_report(y_test, y_pred))\n",
        "sensitivity8=cm8[0,0]/(cm8[0,0]+cm8[0,1])\n",
        "print('Sensitivity : ', sensitivity8 )\n",
        "\n",
        "specificity8 = cm8[1,1]/(cm8[1,0]+cm8[1,1])\n",
        "print('Specificity : ', specificity8)"
      ],
      "metadata": {
        "colab": {
          "base_uri": "https://localhost:8080/"
        },
        "id": "MsADV7mkub3V",
        "outputId": "42cdfa4d-3564-4513-c6fe-8037482a2913"
      },
      "execution_count": null,
      "outputs": [
        {
          "output_type": "stream",
          "name": "stdout",
          "text": [
            "Training accuracy of Decision tree is : 0.8741071428571429\n",
            "Test accuracy of Decision tree is : 0.712\n",
            "[[154  38]\n",
            " [ 34  24]]\n",
            "              precision    recall  f1-score   support\n",
            "\n",
            "           0       0.82      0.80      0.81       192\n",
            "           1       0.39      0.41      0.40        58\n",
            "\n",
            "    accuracy                           0.71       250\n",
            "   macro avg       0.60      0.61      0.61       250\n",
            "weighted avg       0.72      0.71      0.72       250\n",
            "\n",
            "Sensitivity :  0.8020833333333334\n",
            "Specificity :  0.41379310344827586\n"
          ]
        }
      ]
    },
    {
      "cell_type": "code",
      "source": [
        "sns.heatmap(cm8, annot=True, fmt='d', cmap='Paired')\n",
        "plt.show()"
      ],
      "metadata": {
        "id": "ScgPxfWBx0KP",
        "colab": {
          "base_uri": "https://localhost:8080/",
          "height": 265
        },
        "outputId": "5d2a6bce-b1e3-46d9-91f5-15aa2ddafcd7"
      },
      "execution_count": null,
      "outputs": [
        {
          "output_type": "display_data",
          "data": {
            "text/plain": [
              "<Figure size 432x288 with 2 Axes>"
            ],
            "image/png": "[encoded data removed]"
          },
          "metadata": {}
        }
      ]
    },
    {
      "cell_type": "markdown",
      "source": [
        "**SVM with ADASYN**"
      ],
      "metadata": {
        "id": "eJAPmJLmyRPZ"
      }
    },
    {
      "cell_type": "code",
      "source": [
        "from sklearn.svm import SVC\n",
        "from imblearn.over_sampling import ADASYN\n",
        "\n",
        "classifier = SVC #we will use the Random Forest classifier\n"
      ],
      "metadata": {
        "id": "iS7NdoF1yW-1"
      },
      "execution_count": null,
      "outputs": []
    },
    {
      "cell_type": "code",
      "source": [
        "from imblearn.over_sampling import ADASYN\n",
        "from collections import Counter\n",
        "print(\"normal data distribution: {}\".format(Counter(y_train)))\n",
        "ada = ADASYN(random_state = 120)\n",
        "X_train_ada,y_train_ada = ada.fit_resample(X_train,y_train)\n",
        "\n",
        "print(\"ADASYN data distribution: {}\".format(Counter(y_train_ada)))\n",
        "\n",
        "\n"
      ],
      "metadata": {
        "colab": {
          "base_uri": "https://localhost:8080/"
        },
        "outputId": "1cb2b74f-82d1-4907-ce59-54794b7e4b45",
        "id": "cZ7S3pX4yW-3"
      },
      "execution_count": null,
      "outputs": [
        {
          "output_type": "stream",
          "name": "stdout",
          "text": [
            "normal data distribution: Counter({0: 561, 1: 189})\n",
            "ADASYN data distribution: Counter({0: 561, 1: 559})\n"
          ]
        }
      ]
    },
    {
      "cell_type": "code",
      "source": [
        "svc_ada = SVC()\n",
        "svc_ada.fit(X_train_ada, y_train_ada)\n",
        "\n",
        "y_pred = svc_ada.predict(X_test)\n",
        "# accuracy_score, confusion_matrix and classification_report\n",
        "\n",
        "from sklearn.metrics import accuracy_score, confusion_matrix, classification_report\n",
        "\n",
        "svcadasyn_train_acc = accuracy_score(y_train_ada, svc.predict(X_train_ada))\n",
        "svcadasyn_test_acc = accuracy_score(y_test, y_pred)\n",
        "\n",
        "print(f\"Training accuracy of Support vector machine is : {svcadasyn_train_acc}\")\n",
        "print(f\"Test accuracy ofSupport vector machine is : {svcadasyn_test_acc}\")\n",
        "\n",
        "cm9 =confusion_matrix(y_test, y_pred)\n",
        "print(cm9)\n",
        "print(classification_report(y_test, y_pred))\n",
        "sensitivity9=cm9[0,0]/(cm9[0,0]+cm9[0,1])\n",
        "print('Sensitivity : ', sensitivity9 )\n",
        "\n",
        "specificity9 = cm9[1,1]/(cm9[1,0]+cm9[1,1])\n",
        "print('Specificity : ', specificity9)"
      ],
      "metadata": {
        "colab": {
          "base_uri": "https://localhost:8080/"
        },
        "outputId": "0b51931c-f352-4a80-d0c7-59831e673619",
        "id": "n1HqXdxyyW-3"
      },
      "execution_count": null,
      "outputs": [
        {
          "output_type": "stream",
          "name": "stdout",
          "text": [
            "Training accuracy of Support vector machine is : 0.7053571428571429\n",
            "Test accuracy ofSupport vector machine is : 0.776\n",
            "[[179  13]\n",
            " [ 43  15]]\n",
            "              precision    recall  f1-score   support\n",
            "\n",
            "           0       0.81      0.93      0.86       192\n",
            "           1       0.54      0.26      0.35        58\n",
            "\n",
            "    accuracy                           0.78       250\n",
            "   macro avg       0.67      0.60      0.61       250\n",
            "weighted avg       0.74      0.78      0.75       250\n",
            "\n",
            "Sensitivity :  0.9322916666666666\n",
            "Specificity :  0.25862068965517243\n"
          ]
        }
      ]
    },
    {
      "cell_type": "code",
      "source": [
        "sns.heatmap(cm9, annot=True, fmt='d', cmap='PuBu')\n",
        "plt.show()"
      ],
      "metadata": {
        "colab": {
          "base_uri": "https://localhost:8080/",
          "height": 265
        },
        "id": "5UfzeEczyW-4",
        "outputId": "d3df4d4d-1a95-4c9c-c24f-5ae9bbb5f294"
      },
      "execution_count": null,
      "outputs": [
        {
          "output_type": "display_data",
          "data": {
            "text/plain": [
              "<Figure size 432x288 with 2 Axes>"
            ],
            "image/png": "[encoded data removed]"
          },
          "metadata": {}
        }
      ]
    },
    {
      "cell_type": "markdown",
      "source": [
        "**RF with ADASYN**"
      ],
      "metadata": {
        "id": "4RLvNmr6zjMo"
      }
    },
    {
      "cell_type": "code",
      "source": [
        "from sklearn.ensemble import RandomForestClassifier\n",
        "from imblearn.over_sampling import ADASYN\n",
        "classifier = RandomForestClassifier #we will use the Random Forest classifier\n"
      ],
      "metadata": {
        "id": "KFRpLb5uznRj"
      },
      "execution_count": null,
      "outputs": []
    },
    {
      "cell_type": "code",
      "source": [
        "from imblearn.over_sampling import ADASYN\n",
        "from collections import Counter\n",
        "print(\"normal data distribution: {}\".format(Counter(y_train)))\n",
        "ada = ADASYN(random_state = 120)\n",
        "X_train_ada,y_train_ada = ada.fit_resample(X_train,y_train)\n",
        "\n",
        "print(\"ADASYN data distribution: {}\".format(Counter(y_train_ada)))\n",
        "\n",
        "\n"
      ],
      "metadata": {
        "colab": {
          "base_uri": "https://localhost:8080/"
        },
        "outputId": "e6875535-55cf-4bf2-d9ed-281c420d7ad0",
        "id": "h_dXFqdLznRl"
      },
      "execution_count": null,
      "outputs": [
        {
          "output_type": "stream",
          "name": "stdout",
          "text": [
            "normal data distribution: Counter({0: 561, 1: 189})\n",
            "ADASYN data distribution: Counter({0: 561, 1: 559})\n"
          ]
        }
      ]
    },
    {
      "cell_type": "code",
      "source": [
        "rf_ada = RandomForestClassifier(criterion= 'entropy', max_depth= 10, max_features= 'sqrt', min_samples_leaf= 1, min_samples_split= 3, n_estimators= 140)\n",
        "rf_ada.fit(X_train_ada, y_train_ada)\n",
        "\n",
        "y_pred = rf_ada.predict(X_test)\n",
        "# accuracy_score, confusion_matrix and classification_report\n",
        "\n",
        "from sklearn.metrics import accuracy_score, confusion_matrix, classification_report\n",
        "\n",
        "rfadasyn_train_acc = accuracy_score(y_train_ada, rf_ada.predict(X_train_ada))\n",
        "rfadasyn_test_acc = accuracy_score(y_test, y_pred)\n",
        "\n",
        "print(f\"Training accuracy of RandomForest is : {rfadasyn_train_acc}\")\n",
        "print(f\"Test accuracy of RandomForest is : {rfadasyn_test_acc}\")\n",
        "\n",
        "cm10 =confusion_matrix(y_test, y_pred)\n",
        "print(cm10)\n",
        "print(classification_report(y_test, y_pred))\n",
        "sensitivity10=cm10[0,0]/(cm10[0,0]+cm10[0,1])\n",
        "print('Sensitivity : ', sensitivity10 )\n",
        "\n",
        "specificity10 = cm10[1,1]/(cm10[1,0]+cm10[1,1])\n",
        "print('Specificity : ', specificity10)"
      ],
      "metadata": {
        "colab": {
          "base_uri": "https://localhost:8080/"
        },
        "outputId": "cdce0dd8-2aeb-4121-c359-622b08e03cb6",
        "id": "7E2RS2EIznRl"
      },
      "execution_count": null,
      "outputs": [
        {
          "output_type": "stream",
          "name": "stdout",
          "text": [
            "Training accuracy of RandomForest is : 0.975\n",
            "Test accuracy of RandomForest is : 0.808\n",
            "[[176  16]\n",
            " [ 32  26]]\n",
            "              precision    recall  f1-score   support\n",
            "\n",
            "           0       0.85      0.92      0.88       192\n",
            "           1       0.62      0.45      0.52        58\n",
            "\n",
            "    accuracy                           0.81       250\n",
            "   macro avg       0.73      0.68      0.70       250\n",
            "weighted avg       0.79      0.81      0.80       250\n",
            "\n",
            "Sensitivity :  0.9166666666666666\n",
            "Specificity :  0.4482758620689655\n"
          ]
        }
      ]
    },
    {
      "cell_type": "code",
      "source": [
        "sns.heatmap(cm10, annot=True, fmt='d', cmap='cividis')\n",
        "plt.show()"
      ],
      "metadata": {
        "colab": {
          "base_uri": "https://localhost:8080/",
          "height": 265
        },
        "outputId": "a6de7638-7d97-4aff-a95e-ed74aea8ecb4",
        "id": "JOwpHoNHznRm"
      },
      "execution_count": null,
      "outputs": [
        {
          "output_type": "display_data",
          "data": {
            "text/plain": [
              "<Figure size 432x288 with 2 Axes>"
            ],
            "image/png": "[encoded data removed]"
          },
          "metadata": {}
        }
      ]
    },
    {
      "cell_type": "markdown",
      "source": [
        "**XGBOOST with ADASYN**"
      ],
      "metadata": {
        "id": "myhwEkVk0xC9"
      }
    },
    {
      "cell_type": "code",
      "source": [
        "from xgboost import XGBClassifier\n",
        "from imblearn.over_sampling import ADASYN\n",
        "\n",
        "classifier = XGBClassifier #we will use the Random Forest classifier\n"
      ],
      "metadata": {
        "id": "kqcdlJA11MfM"
      },
      "execution_count": null,
      "outputs": []
    },
    {
      "cell_type": "code",
      "source": [
        "from imblearn.over_sampling import ADASYN\n",
        "from collections import Counter\n",
        "print(\"normal data distribution: {}\".format(Counter(y_train)))\n",
        "ada = ADASYN(random_state = 120)\n",
        "X_train_ada,y_train_ada = ada.fit_resample(X_train,y_train)\n",
        "\n",
        "print(\"ADASYN data distribution: {}\".format(Counter(y_train_ada)))\n",
        "\n",
        "\n"
      ],
      "metadata": {
        "colab": {
          "base_uri": "https://localhost:8080/"
        },
        "outputId": "a7175a13-cd5c-4e12-f3bc-a82a949761ab",
        "id": "AhDybdlf1MfO"
      },
      "execution_count": null,
      "outputs": [
        {
          "output_type": "stream",
          "name": "stdout",
          "text": [
            "normal data distribution: Counter({0: 561, 1: 189})\n",
            "ADASYN data distribution: Counter({0: 561, 1: 559})\n"
          ]
        }
      ]
    },
    {
      "cell_type": "code",
      "source": [
        "xgb_ada = XGBClassifier()\n",
        "xgb_ada.fit(X_train_ada, y_train_ada)\n",
        "\n",
        "y_pred = xgb_ada.predict(X_test)\n",
        "# accuracy_score, confusion_matrix and classification_report\n",
        "\n",
        "from sklearn.metrics import accuracy_score, confusion_matrix, classification_report\n",
        "\n",
        "xgbadasyn_train_acc = accuracy_score(y_train_ada, xgb_ada.predict(X_train_ada))\n",
        "xgbadasyn_test_acc = accuracy_score(y_test, y_pred)\n",
        "\n",
        "print(f\"Training accuracy of XGBOOST is : {xgbadasyn_train_acc}\")\n",
        "print(f\"Test accuracy of XGBOOST is : {xgbadasyn_test_acc}\")\n",
        "\n",
        "cm11 =confusion_matrix(y_test, y_pred)\n",
        "print(cm11)\n",
        "print(classification_report(y_test, y_pred))\n",
        "sensitivity11=cm11[0,0]/(cm11[0,0]+cm11[0,1])\n",
        "print('Sensitivity : ', sensitivity11 )\n",
        "\n",
        "specificity11 = cm11[1,1]/(cm11[1,0]+cm11[1,1])\n",
        "print('Specificity : ', specificity11)"
      ],
      "metadata": {
        "colab": {
          "base_uri": "https://localhost:8080/"
        },
        "outputId": "afa4a8d9-5ed1-4e12-ba5c-eeb8d1ff4834",
        "id": "bDdbbijh1MfO"
      },
      "execution_count": null,
      "outputs": [
        {
          "output_type": "stream",
          "name": "stdout",
          "text": [
            "Training accuracy of XGBOOST is : 0.9241071428571429\n",
            "Test accuracy of XGBOOST is : 0.8\n",
            "[[172  20]\n",
            " [ 30  28]]\n",
            "              precision    recall  f1-score   support\n",
            "\n",
            "           0       0.85      0.90      0.87       192\n",
            "           1       0.58      0.48      0.53        58\n",
            "\n",
            "    accuracy                           0.80       250\n",
            "   macro avg       0.72      0.69      0.70       250\n",
            "weighted avg       0.79      0.80      0.79       250\n",
            "\n",
            "Sensitivity :  0.8958333333333334\n",
            "Specificity :  0.4827586206896552\n"
          ]
        }
      ]
    },
    {
      "cell_type": "code",
      "source": [
        "sns.heatmap(cm11, annot=True, fmt='d', cmap='afmhot')\n",
        "plt.show()"
      ],
      "metadata": {
        "colab": {
          "base_uri": "https://localhost:8080/",
          "height": 265
        },
        "outputId": "2b02f80d-04e8-4c10-f9c3-2b10944d2679",
        "id": "rNJUZ_6i1MfP"
      },
      "execution_count": null,
      "outputs": [
        {
          "output_type": "display_data",
          "data": {
            "text/plain": [
              "<Figure size 432x288 with 2 Axes>"
            ],
            "image/png": "[encoded data removed]"
          },
          "metadata": {}
        }
      ]
    },
    {
      "cell_type": "markdown",
      "source": [
        "**Tabulating the test accuracies of dataset before and after optimisation**"
      ],
      "metadata": {
        "id": "ZLf7ibFc6Frl"
      }
    },
    {
      "cell_type": "code",
      "source": [
        "model_list = ['Decision Tree','Support Vector Machine','Random Forest','XGBoost']\n",
        "\n",
        "testing_Acc = [dtc_test_acc,svc_test_acc,randomforest_test_acc,xgb_test_acc]\n",
        "testing_Acc_smote = [DTsmote_test_acc,SVsmote_test_acc,randomforestsmote_test_acc,XGBsmote_test_acc]\n",
        "testing_Acc_Adasyn = [DTadasyn_test_acc,svcadasyn_test_acc,rfadasyn_test_acc,xgbadasyn_test_acc]\n",
        "\n",
        "\n",
        "df1 = pd.DataFrame({'Model':model_list,'Accuracy': testing_Acc,'Accuracy after SMOTE oversampling':testing_Acc_smote, 'Accuracy after ADASYN oversampling':testing_Acc_Adasyn\n",
        "})\n",
        "df1"
      ],
      "metadata": {
        "colab": {
          "base_uri": "https://localhost:8080/",
          "height": 175
        },
        "id": "sNhnHdsJ0OmU",
        "outputId": "39cb3b8c-ed06-4d79-cd5c-013e748e3867"
      },
      "execution_count": null,
      "outputs": [
        {
          "output_type": "execute_result",
          "data": {
            "text/plain": [
              "                    Model  Accuracy  Accuracy after SMOTE oversampling  \\\n",
              "0           Decision Tree     0.732                              0.620   \n",
              "1  Support Vector Machine     0.780                              0.788   \n",
              "2           Random Forest     0.768                              0.788   \n",
              "3                 XGBoost     0.800                              0.808   \n",
              "\n",
              "   Accuracy after ADASYN oversampling  \n",
              "0                               0.712  \n",
              "1                               0.776  \n",
              "2                               0.808  \n",
              "3                               0.800  "
            ],
            "text/html": [
              "\n",
              "  <div id=\"df-3df1ab13-d9cf-4ac9-b3aa-113c5ed9cc6a\">\n",
              "    <div class=\"colab-df-container\">\n",
              "      <div>\n",
              "<style scoped>\n",
              "    .dataframe tbody tr th:only-of-type {\n",
              "        vertical-align: middle;\n",
              "    }\n",
              "\n",
              "    .dataframe tbody tr th {\n",
              "        vertical-align: top;\n",
              "    }\n",
              "\n",
              "    .dataframe thead th {\n",
              "        text-align: right;\n",
              "    }\n",
              "</style>\n",
              "<table border=\"1\" class=\"dataframe\">\n",
              "  <thead>\n",
              "    <tr style=\"text-align: right;\">\n",
              "      <th></th>\n",
              "      <th>Model</th>\n",
              "      <th>Accuracy</th>\n",
              "      <th>Accuracy after SMOTE oversampling</th>\n",
              "      <th>Accuracy after ADASYN oversampling</th>\n",
              "    </tr>\n",
              "  </thead>\n",
              "  <tbody>\n",
              "    <tr>\n",
              "      <th>0</th>\n",
              "      <td>Decision Tree</td>\n",
              "      <td>0.732</td>\n",
              "      <td>0.620</td>\n",
              "      <td>0.712</td>\n",
              "    </tr>\n",
              "    <tr>\n",
              "      <th>1</th>\n",
              "      <td>Support Vector Machine</td>\n",
              "      <td>0.780</td>\n",
              "      <td>0.788</td>\n",
              "      <td>0.776</td>\n",
              "    </tr>\n",
              "    <tr>\n",
              "      <th>2</th>\n",
              "      <td>Random Forest</td>\n",
              "      <td>0.768</td>\n",
              "      <td>0.788</td>\n",
              "      <td>0.808</td>\n",
              "    </tr>\n",
              "    <tr>\n",
              "      <th>3</th>\n",
              "      <td>XGBoost</td>\n",
              "      <td>0.800</td>\n",
              "      <td>0.808</td>\n",
              "      <td>0.800</td>\n",
              "    </tr>\n",
              "  </tbody>\n",
              "</table>\n",
              "</div>\n",
              "      <button class=\"colab-df-convert\" onclick=\"convertToInteractive('df-3df1ab13-d9cf-4ac9-b3aa-113c5ed9cc6a')\"\n",
              "              title=\"Convert this dataframe to an interactive table.\"\n",
              "              style=\"display:none;\">\n",
              "        \n",
              "  <svg xmlns=\"http://www.w3.org/2000/svg\" height=\"24px\"viewBox=\"0 0 24 24\"\n",
              "       width=\"24px\">\n",
              "    <path d=\"M0 0h24v24H0V0z\" fill=\"none\"/>\n",
              "    <path d=\"M18.56 5.44l.94 2.06.94-2.06 2.06-.94-2.06-.94-.94-2.06-.94 2.06-2.06.94zm-11 1L8.5 8.5l.94-2.06 2.06-.94-2.06-.94L8.5 2.5l-.94 2.06-2.06.94zm10 10l.94 2.06.94-2.06 2.06-.94-2.06-.94-.94-2.06-.94 2.06-2.06.94z\"/><path d=\"M17.41 7.96l-1.37-1.37c-.4-.4-.92-.59-1.43-.59-.52 0-1.04.2-1.43.59L10.3 9.45l-7.72 7.72c-.78.78-.78 2.05 0 2.83L4 21.41c.39.39.9.59 1.41.59.51 0 1.02-.2 1.41-.59l7.78-7.78 2.81-2.81c.8-.78.8-2.07 0-2.86zM5.41 20L4 18.59l7.72-7.72 1.47 1.35L5.41 20z\"/>\n",
              "  </svg>\n",
              "      </button>\n",
              "      \n",
              "  <style>\n",
              "    .colab-df-container {\n",
              "      display:flex;\n",
              "      flex-wrap:wrap;\n",
              "      gap: 12px;\n",
              "    }\n",
              "\n",
              "    .colab-df-convert {\n",
              "      background-color: #E8F0FE;\n",
              "      border: none;\n",
              "      border-radius: 50%;\n",
              "      cursor: pointer;\n",
              "      display: none;\n",
              "      fill: #1967D2;\n",
              "      height: 32px;\n",
              "      padding: 0 0 0 0;\n",
              "      width: 32px;\n",
              "    }\n",
              "\n",
              "    .colab-df-convert:hover {\n",
              "      background-color: #E2EBFA;\n",
              "      box-shadow: 0px 1px 2px rgba(60, 64, 67, 0.3), 0px 1px 3px 1px rgba(60, 64, 67, 0.15);\n",
              "      fill: #174EA6;\n",
              "    }\n",
              "\n",
              "    [theme=dark] .colab-df-convert {\n",
              "      background-color: #3B4455;\n",
              "      fill: #D2E3FC;\n",
              "    }\n",
              "\n",
              "    [theme=dark] .colab-df-convert:hover {\n",
              "      background-color: #434B5C;\n",
              "      box-shadow: 0px 1px 3px 1px rgba(0, 0, 0, 0.15);\n",
              "      filter: drop-shadow(0px 1px 2px rgba(0, 0, 0, 0.3));\n",
              "      fill: #FFFFFF;\n",
              "    }\n",
              "  </style>\n",
              "\n",
              "      <script>\n",
              "        const buttonEl =\n",
              "          document.querySelector('#df-3df1ab13-d9cf-4ac9-b3aa-113c5ed9cc6a button.colab-df-convert');\n",
              "        buttonEl.style.display =\n",
              "          google.colab.kernel.accessAllowed ? 'block' : 'none';\n",
              "\n",
              "        async function convertToInteractive(key) {\n",
              "          const element = document.querySelector('#df-3df1ab13-d9cf-4ac9-b3aa-113c5ed9cc6a');\n",
              "          const dataTable =\n",
              "            await google.colab.kernel.invokeFunction('convertToInteractive',\n",
              "                                                     [key], {});\n",
              "          if (!dataTable) return;\n",
              "\n",
              "          const docLinkHtml = 'Like what you see? Visit the ' +\n",
              "            '<a target=\"_blank\" href=https://colab.research.google.com/notebooks/data_table.ipynb>data table notebook</a>'\n",
              "            + ' to learn more about interactive tables.';\n",
              "          element.innerHTML = '';\n",
              "          dataTable['output_type'] = 'display_data';\n",
              "          await google.colab.output.renderOutput(dataTable, element);\n",
              "          const docLink = document.createElement('div');\n",
              "          docLink.innerHTML = docLinkHtml;\n",
              "          element.appendChild(docLink);\n",
              "        }\n",
              "      </script>\n",
              "    </div>\n",
              "  </div>\n",
              "  "
            ]
          },
          "metadata": {},
          "execution_count": 85
        }
      ]
    },
    {
      "cell_type": "code",
      "source": [
        "#Accuracy before optimisation\n",
        "import matplotlib.pyplot as plt\n",
        "import seaborn as sns\n",
        "\n",
        "#set seaborn plotting aesthetics\n",
        "sns.set(style='dark')\n",
        "\n",
        "fig = plt.subplots(figsize =(8, 6))\n",
        "\n",
        "bp = sns.barplot(x='Model', y= 'Accuracy', data=df1,\n",
        "         palette=['purple', 'steelblue','green','grey'] )\n",
        "\n",
        "for bar in bp.patches:\n",
        "    bp.annotate(format(bar.get_height(), '.2f'),\n",
        "                   (bar.get_x() + bar.get_width() / 2,\n",
        "                    bar.get_height()), ha='center', va='center',\n",
        "                   size=10, xytext=(0, 8),\n",
        "                   textcoords='offset points')\n",
        "\n",
        "\n",
        "#add overall title\n",
        "plt.title('Accuracy before optimization', fontsize=16)\n",
        "\n",
        "#add axis titles\n",
        "plt.xlabel('Classifiers')\n",
        "plt.ylabel('Test Accuracy')\n",
        "\n",
        "#rotate x-axis labels\n",
        "plt.xticks(rotation=45)"
      ],
      "metadata": {
        "colab": {
          "base_uri": "https://localhost:8080/",
          "height": 519
        },
        "id": "2yMOr0RY_LMJ",
        "outputId": "f6aa2bab-8225-4ac3-91aa-a144608e80c1"
      },
      "execution_count": null,
      "outputs": [
        {
          "output_type": "execute_result",
          "data": {
            "text/plain": [
              "(array([0, 1, 2, 3]), <a list of 4 Text major ticklabel objects>)"
            ]
          },
          "metadata": {},
          "execution_count": 86
        },
        {
          "output_type": "display_data",
          "data": {
            "text/plain": [
              "<Figure size 576x432 with 1 Axes>"
            ],
            "image/png": "[encoded data removed]"
          },
          "metadata": {}
        }
      ]
    },
    {
      "cell_type": "code",
      "source": [
        "#Accuracy after using SMOTE\n",
        "import seaborn as sns\n",
        "import matplotlib.pyplot as plt\n",
        "fig = plt.subplots(figsize =(8, 6))\n",
        "GR = sns.barplot( x = 'Model',y='Accuracy after SMOTE oversampling',data = df1, palette=['blue', 'black','red','pink'])\n",
        "for bar in GR.patches:\n",
        "    GR.annotate(format(bar.get_height(), '.2f'),\n",
        "                   (bar.get_x() + bar.get_width() / 2,\n",
        "                    bar.get_height()), ha='center', va='center',\n",
        "                   size=10, xytext=(0, 8),\n",
        "                   textcoords='offset points')\n",
        "\n",
        "plt.xlabel('Classifiers')\n",
        "plt.title('Test Accuracy after SMOTE oversampling')\n",
        "plt.xticks(rotation=45)"
      ],
      "metadata": {
        "id": "QsQvUDwV7A4i",
        "colab": {
          "base_uri": "https://localhost:8080/",
          "height": 517
        },
        "outputId": "67aa2e8b-060f-442b-9328-df1394f2621d"
      },
      "execution_count": null,
      "outputs": [
        {
          "output_type": "execute_result",
          "data": {
            "text/plain": [
              "(array([0, 1, 2, 3]), <a list of 4 Text major ticklabel objects>)"
            ]
          },
          "metadata": {},
          "execution_count": 87
        },
        {
          "output_type": "display_data",
          "data": {
            "text/plain": [
              "<Figure size 576x432 with 1 Axes>"
            ],
            "image/png": "[encoded data removed]"
          },
          "metadata": {}
        }
      ]
    },
    {
      "cell_type": "code",
      "source": [
        "#Accuracy after using ADASYN\n",
        "import seaborn as sns\n",
        "import matplotlib.pyplot as plt\n",
        "fig = plt.subplots(figsize =(8, 6))\n",
        "GR = sns.barplot( x = 'Model',y='Accuracy after ADASYN oversampling',data = df1, palette=['purple', 'white','green','grey'])\n",
        "for bar in GR.patches:\n",
        "    GR.annotate(format(bar.get_height(), '.2f'),\n",
        "                   (bar.get_x() + bar.get_width() / 2,\n",
        "                    bar.get_height()), ha='center', va='center',\n",
        "                   size=10, xytext=(0, 8),\n",
        "                   textcoords='offset points')\n",
        "\n",
        "plt.xlabel('Classifiers')\n",
        "plt.title('Test Accuracy after ADASYN oversampling')\n",
        "plt.xticks(rotation=45)"
      ],
      "metadata": {
        "id": "FX5PSEC_6qL6",
        "colab": {
          "base_uri": "https://localhost:8080/",
          "height": 517
        },
        "outputId": "db940f72-1571-4124-f953-e4638a2a663e"
      },
      "execution_count": null,
      "outputs": [
        {
          "output_type": "execute_result",
          "data": {
            "text/plain": [
              "(array([0, 1, 2, 3]), <a list of 4 Text major ticklabel objects>)"
            ]
          },
          "metadata": {},
          "execution_count": 88
        },
        {
          "output_type": "display_data",
          "data": {
            "text/plain": [
              "<Figure size 576x432 with 1 Axes>"
            ],
            "image/png": "[encoded data removed]"
          },
          "metadata": {}
        }
      ]
    }
  ]
}