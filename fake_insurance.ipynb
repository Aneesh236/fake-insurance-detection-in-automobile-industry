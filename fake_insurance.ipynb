{
  "nbformat": 4,
  "nbformat_minor": 0,
  "metadata": {
    "colab": {
      "provenance": [],
      "collapsed_sections": []
    },
    "kernelspec": {
      "name": "python3",
      "display_name": "Python 3"
    },
    "language_info": {
      "name": "python"
    }
  },
  "cells": [
    {
      "cell_type": "markdown",
      "source": [
        "**Data** **Selection**"
      ],
      "metadata": {
        "id": "aD8IKBfMg1Oa"
      }
    },
    {
      "cell_type": "code",
      "execution_count": null,
      "metadata": {
        "id": "O9qqEy4DahTD"
      },
      "outputs": [],
      "source": [
        "#Importing the essential datasets\n",
        "\n",
        "import pandas as pd\n",
        "import numpy as np\n",
        "import matplotlib.pyplot as plt\n",
        "import seaborn as sns\n"
      ]
    },
    {
      "cell_type": "code",
      "source": [
        "#Reading the file\n",
        "\n",
        "df = pd.read_csv(\"/content/drive/MyDrive/US_claims.csv\")\n",
        "df"
      ],
      "metadata": {
        "id": "iDqvan4_awLZ",
        "colab": {
          "base_uri": "https://localhost:8080/",
          "height": 488
        },
        "outputId": "6f59e435-2064-4d83-b906-df9f2817d2ce"
      },
      "execution_count": null,
      "outputs": [
        {
          "output_type": "execute_result",
          "data": {
            "text/plain": [
              "     months_as_customer  age  policy_number policy_bind_date policy_state  \\\n",
              "0                   328   48         521585       2014-10-17           OH   \n",
              "1                   228   42         342868       2006-06-27           IN   \n",
              "2                   134   29         687698       2000-09-06           OH   \n",
              "3                   256   41         227811       1990-05-25           IL   \n",
              "4                   228   44         367455       2014-06-06           IL   \n",
              "..                  ...  ...            ...              ...          ...   \n",
              "995                   3   38         941851       1991-07-16           OH   \n",
              "996                 285   41         186934       2014-01-05           IL   \n",
              "997                 130   34         918516       2003-02-17           OH   \n",
              "998                 458   62         533940       2011-11-18           IL   \n",
              "999                 456   60         556080       1996-11-11           OH   \n",
              "\n",
              "    policy_csl  policy_deductable  policy_annual_premium  umbrella_limit  \\\n",
              "0      250/500               1000                1406.91               0   \n",
              "1      250/500               2000                1197.22         5000000   \n",
              "2      100/300               2000                1413.14         5000000   \n",
              "3      250/500               2000                1415.74         6000000   \n",
              "4     500/1000               1000                1583.91         6000000   \n",
              "..         ...                ...                    ...             ...   \n",
              "995   500/1000               1000                1310.80               0   \n",
              "996    100/300               1000                1436.79               0   \n",
              "997    250/500                500                1383.49         3000000   \n",
              "998   500/1000               2000                1356.92         5000000   \n",
              "999    250/500               1000                 766.19               0   \n",
              "\n",
              "     insured_zip  ... police_report_available total_claim_amount injury_claim  \\\n",
              "0         466132  ...                     YES              71610         6510   \n",
              "1         468176  ...                       ?               5070          780   \n",
              "2         430632  ...                      NO              34650         7700   \n",
              "3         608117  ...                      NO              63400         6340   \n",
              "4         610706  ...                      NO               6500         1300   \n",
              "..           ...  ...                     ...                ...          ...   \n",
              "995       431289  ...                       ?              87200        17440   \n",
              "996       608177  ...                       ?             108480        18080   \n",
              "997       442797  ...                     YES              67500         7500   \n",
              "998       441714  ...                     YES              46980         5220   \n",
              "999       612260  ...                       ?               5060          460   \n",
              "\n",
              "    property_claim vehicle_claim   auto_make  auto_model auto_year  \\\n",
              "0            13020         52080        Saab         92x      2004   \n",
              "1              780          3510    Mercedes        E400      2007   \n",
              "2             3850         23100       Dodge         RAM      2007   \n",
              "3             6340         50720   Chevrolet       Tahoe      2014   \n",
              "4              650          4550      Accura         RSX      2009   \n",
              "..             ...           ...         ...         ...       ...   \n",
              "995           8720         61040       Honda      Accord      2006   \n",
              "996          18080         72320  Volkswagen      Passat      2015   \n",
              "997           7500         52500      Suburu     Impreza      1996   \n",
              "998           5220         36540        Audi          A5      1998   \n",
              "999            920          3680    Mercedes        E400      2007   \n",
              "\n",
              "    fraud_reported _c39  \n",
              "0                Y  NaN  \n",
              "1                Y  NaN  \n",
              "2                N  NaN  \n",
              "3                Y  NaN  \n",
              "4                N  NaN  \n",
              "..             ...  ...  \n",
              "995              N  NaN  \n",
              "996              N  NaN  \n",
              "997              N  NaN  \n",
              "998              N  NaN  \n",
              "999              N  NaN  \n",
              "\n",
              "[1000 rows x 40 columns]"
            ],
            "text/html": [
              "\n",
              "  <div id=\"df-f4d3090a-2eca-4b3e-9503-c6f1d2fc8172\">\n",
              "    <div class=\"colab-df-container\">\n",
              "      <div>\n",
              "<style scoped>\n",
              "    .dataframe tbody tr th:only-of-type {\n",
              "        vertical-align: middle;\n",
              "    }\n",
              "\n",
              "    .dataframe tbody tr th {\n",
              "        vertical-align: top;\n",
              "    }\n",
              "\n",
              "    .dataframe thead th {\n",
              "        text-align: right;\n",
              "    }\n",
              "</style>\n",
              "<table border=\"1\" class=\"dataframe\">\n",
              "  <thead>\n",
              "    <tr style=\"text-align: right;\">\n",
              "      <th></th>\n",
              "      <th>months_as_customer</th>\n",
              "      <th>age</th>\n",
              "      <th>policy_number</th>\n",
              "      <th>policy_bind_date</th>\n",
              "      <th>policy_state</th>\n",
              "      <th>policy_csl</th>\n",
              "      <th>policy_deductable</th>\n",
              "      <th>policy_annual_premium</th>\n",
              "      <th>umbrella_limit</th>\n",
              "      <th>insured_zip</th>\n",
              "      <th>...</th>\n",
              "      <th>police_report_available</th>\n",
              "      <th>total_claim_amount</th>\n",
              "      <th>injury_claim</th>\n",
              "      <th>property_claim</th>\n",
              "      <th>vehicle_claim</th>\n",
              "      <th>auto_make</th>\n",
              "      <th>auto_model</th>\n",
              "      <th>auto_year</th>\n",
              "      <th>fraud_reported</th>\n",
              "      <th>_c39</th>\n",
              "    </tr>\n",
              "  </thead>\n",
              "  <tbody>\n",
              "    <tr>\n",
              "      <th>0</th>\n",
              "      <td>328</td>\n",
              "      <td>48</td>\n",
              "      <td>521585</td>\n",
              "      <td>2014-10-17</td>\n",
              "      <td>OH</td>\n",
              "      <td>250/500</td>\n",
              "      <td>1000</td>\n",
              "      <td>1406.91</td>\n",
              "      <td>0</td>\n",
              "      <td>466132</td>\n",
              "      <td>...</td>\n",
              "      <td>YES</td>\n",
              "      <td>71610</td>\n",
              "      <td>6510</td>\n",
              "      <td>13020</td>\n",
              "      <td>52080</td>\n",
              "      <td>Saab</td>\n",
              "      <td>92x</td>\n",
              "      <td>2004</td>\n",
              "      <td>Y</td>\n",
              "      <td>NaN</td>\n",
              "    </tr>\n",
              "    <tr>\n",
              "      <th>1</th>\n",
              "      <td>228</td>\n",
              "      <td>42</td>\n",
              "      <td>342868</td>\n",
              "      <td>2006-06-27</td>\n",
              "      <td>IN</td>\n",
              "      <td>250/500</td>\n",
              "      <td>2000</td>\n",
              "      <td>1197.22</td>\n",
              "      <td>5000000</td>\n",
              "      <td>468176</td>\n",
              "      <td>...</td>\n",
              "      <td>?</td>\n",
              "      <td>5070</td>\n",
              "      <td>780</td>\n",
              "      <td>780</td>\n",
              "      <td>3510</td>\n",
              "      <td>Mercedes</td>\n",
              "      <td>E400</td>\n",
              "      <td>2007</td>\n",
              "      <td>Y</td>\n",
              "      <td>NaN</td>\n",
              "    </tr>\n",
              "    <tr>\n",
              "      <th>2</th>\n",
              "      <td>134</td>\n",
              "      <td>29</td>\n",
              "      <td>687698</td>\n",
              "      <td>2000-09-06</td>\n",
              "      <td>OH</td>\n",
              "      <td>100/300</td>\n",
              "      <td>2000</td>\n",
              "      <td>1413.14</td>\n",
              "      <td>5000000</td>\n",
              "      <td>430632</td>\n",
              "      <td>...</td>\n",
              "      <td>NO</td>\n",
              "      <td>34650</td>\n",
              "      <td>7700</td>\n",
              "      <td>3850</td>\n",
              "      <td>23100</td>\n",
              "      <td>Dodge</td>\n",
              "      <td>RAM</td>\n",
              "      <td>2007</td>\n",
              "      <td>N</td>\n",
              "      <td>NaN</td>\n",
              "    </tr>\n",
              "    <tr>\n",
              "      <th>3</th>\n",
              "      <td>256</td>\n",
              "      <td>41</td>\n",
              "      <td>227811</td>\n",
              "      <td>1990-05-25</td>\n",
              "      <td>IL</td>\n",
              "      <td>250/500</td>\n",
              "      <td>2000</td>\n",
              "      <td>1415.74</td>\n",
              "      <td>6000000</td>\n",
              "      <td>608117</td>\n",
              "      <td>...</td>\n",
              "      <td>NO</td>\n",
              "      <td>63400</td>\n",
              "      <td>6340</td>\n",
              "      <td>6340</td>\n",
              "      <td>50720</td>\n",
              "      <td>Chevrolet</td>\n",
              "      <td>Tahoe</td>\n",
              "      <td>2014</td>\n",
              "      <td>Y</td>\n",
              "      <td>NaN</td>\n",
              "    </tr>\n",
              "    <tr>\n",
              "      <th>4</th>\n",
              "      <td>228</td>\n",
              "      <td>44</td>\n",
              "      <td>367455</td>\n",
              "      <td>2014-06-06</td>\n",
              "      <td>IL</td>\n",
              "      <td>500/1000</td>\n",
              "      <td>1000</td>\n",
              "      <td>1583.91</td>\n",
              "      <td>6000000</td>\n",
              "      <td>610706</td>\n",
              "      <td>...</td>\n",
              "      <td>NO</td>\n",
              "      <td>6500</td>\n",
              "      <td>1300</td>\n",
              "      <td>650</td>\n",
              "      <td>4550</td>\n",
              "      <td>Accura</td>\n",
              "      <td>RSX</td>\n",
              "      <td>2009</td>\n",
              "      <td>N</td>\n",
              "      <td>NaN</td>\n",
              "    </tr>\n",
              "    <tr>\n",
              "      <th>...</th>\n",
              "      <td>...</td>\n",
              "      <td>...</td>\n",
              "      <td>...</td>\n",
              "      <td>...</td>\n",
              "      <td>...</td>\n",
              "      <td>...</td>\n",
              "      <td>...</td>\n",
              "      <td>...</td>\n",
              "      <td>...</td>\n",
              "      <td>...</td>\n",
              "      <td>...</td>\n",
              "      <td>...</td>\n",
              "      <td>...</td>\n",
              "      <td>...</td>\n",
              "      <td>...</td>\n",
              "      <td>...</td>\n",
              "      <td>...</td>\n",
              "      <td>...</td>\n",
              "      <td>...</td>\n",
              "      <td>...</td>\n",
              "      <td>...</td>\n",
              "    </tr>\n",
              "    <tr>\n",
              "      <th>995</th>\n",
              "      <td>3</td>\n",
              "      <td>38</td>\n",
              "      <td>941851</td>\n",
              "      <td>1991-07-16</td>\n",
              "      <td>OH</td>\n",
              "      <td>500/1000</td>\n",
              "      <td>1000</td>\n",
              "      <td>1310.80</td>\n",
              "      <td>0</td>\n",
              "      <td>431289</td>\n",
              "      <td>...</td>\n",
              "      <td>?</td>\n",
              "      <td>87200</td>\n",
              "      <td>17440</td>\n",
              "      <td>8720</td>\n",
              "      <td>61040</td>\n",
              "      <td>Honda</td>\n",
              "      <td>Accord</td>\n",
              "      <td>2006</td>\n",
              "      <td>N</td>\n",
              "      <td>NaN</td>\n",
              "    </tr>\n",
              "    <tr>\n",
              "      <th>996</th>\n",
              "      <td>285</td>\n",
              "      <td>41</td>\n",
              "      <td>186934</td>\n",
              "      <td>2014-01-05</td>\n",
              "      <td>IL</td>\n",
              "      <td>100/300</td>\n",
              "      <td>1000</td>\n",
              "      <td>1436.79</td>\n",
              "      <td>0</td>\n",
              "      <td>608177</td>\n",
              "      <td>...</td>\n",
              "      <td>?</td>\n",
              "      <td>108480</td>\n",
              "      <td>18080</td>\n",
              "      <td>18080</td>\n",
              "      <td>72320</td>\n",
              "      <td>Volkswagen</td>\n",
              "      <td>Passat</td>\n",
              "      <td>2015</td>\n",
              "      <td>N</td>\n",
              "      <td>NaN</td>\n",
              "    </tr>\n",
              "    <tr>\n",
              "      <th>997</th>\n",
              "      <td>130</td>\n",
              "      <td>34</td>\n",
              "      <td>918516</td>\n",
              "      <td>2003-02-17</td>\n",
              "      <td>OH</td>\n",
              "      <td>250/500</td>\n",
              "      <td>500</td>\n",
              "      <td>1383.49</td>\n",
              "      <td>3000000</td>\n",
              "      <td>442797</td>\n",
              "      <td>...</td>\n",
              "      <td>YES</td>\n",
              "      <td>67500</td>\n",
              "      <td>7500</td>\n",
              "      <td>7500</td>\n",
              "      <td>52500</td>\n",
              "      <td>Suburu</td>\n",
              "      <td>Impreza</td>\n",
              "      <td>1996</td>\n",
              "      <td>N</td>\n",
              "      <td>NaN</td>\n",
              "    </tr>\n",
              "    <tr>\n",
              "      <th>998</th>\n",
              "      <td>458</td>\n",
              "      <td>62</td>\n",
              "      <td>533940</td>\n",
              "      <td>2011-11-18</td>\n",
              "      <td>IL</td>\n",
              "      <td>500/1000</td>\n",
              "      <td>2000</td>\n",
              "      <td>1356.92</td>\n",
              "      <td>5000000</td>\n",
              "      <td>441714</td>\n",
              "      <td>...</td>\n",
              "      <td>YES</td>\n",
              "      <td>46980</td>\n",
              "      <td>5220</td>\n",
              "      <td>5220</td>\n",
              "      <td>36540</td>\n",
              "      <td>Audi</td>\n",
              "      <td>A5</td>\n",
              "      <td>1998</td>\n",
              "      <td>N</td>\n",
              "      <td>NaN</td>\n",
              "    </tr>\n",
              "    <tr>\n",
              "      <th>999</th>\n",
              "      <td>456</td>\n",
              "      <td>60</td>\n",
              "      <td>556080</td>\n",
              "      <td>1996-11-11</td>\n",
              "      <td>OH</td>\n",
              "      <td>250/500</td>\n",
              "      <td>1000</td>\n",
              "      <td>766.19</td>\n",
              "      <td>0</td>\n",
              "      <td>612260</td>\n",
              "      <td>...</td>\n",
              "      <td>?</td>\n",
              "      <td>5060</td>\n",
              "      <td>460</td>\n",
              "      <td>920</td>\n",
              "      <td>3680</td>\n",
              "      <td>Mercedes</td>\n",
              "      <td>E400</td>\n",
              "      <td>2007</td>\n",
              "      <td>N</td>\n",
              "      <td>NaN</td>\n",
              "    </tr>\n",
              "  </tbody>\n",
              "</table>\n",
              "<p>1000 rows × 40 columns</p>\n",
              "</div>\n",
              "      <button class=\"colab-df-convert\" onclick=\"convertToInteractive('df-f4d3090a-2eca-4b3e-9503-c6f1d2fc8172')\"\n",
              "              title=\"Convert this dataframe to an interactive table.\"\n",
              "              style=\"display:none;\">\n",
              "        \n",
              "  <svg xmlns=\"http://www.w3.org/2000/svg\" height=\"24px\"viewBox=\"0 0 24 24\"\n",
              "       width=\"24px\">\n",
              "    <path d=\"M0 0h24v24H0V0z\" fill=\"none\"/>\n",
              "    <path d=\"M18.56 5.44l.94 2.06.94-2.06 2.06-.94-2.06-.94-.94-2.06-.94 2.06-2.06.94zm-11 1L8.5 8.5l.94-2.06 2.06-.94-2.06-.94L8.5 2.5l-.94 2.06-2.06.94zm10 10l.94 2.06.94-2.06 2.06-.94-2.06-.94-.94-2.06-.94 2.06-2.06.94z\"/><path d=\"M17.41 7.96l-1.37-1.37c-.4-.4-.92-.59-1.43-.59-.52 0-1.04.2-1.43.59L10.3 9.45l-7.72 7.72c-.78.78-.78 2.05 0 2.83L4 21.41c.39.39.9.59 1.41.59.51 0 1.02-.2 1.41-.59l7.78-7.78 2.81-2.81c.8-.78.8-2.07 0-2.86zM5.41 20L4 18.59l7.72-7.72 1.47 1.35L5.41 20z\"/>\n",
              "  </svg>\n",
              "      </button>\n",
              "      \n",
              "  <style>\n",
              "    .colab-df-container {\n",
              "      display:flex;\n",
              "      flex-wrap:wrap;\n",
              "      gap: 12px;\n",
              "    }\n",
              "\n",
              "    .colab-df-convert {\n",
              "      background-color: #E8F0FE;\n",
              "      border: none;\n",
              "      border-radius: 50%;\n",
              "      cursor: pointer;\n",
              "      display: none;\n",
              "      fill: #1967D2;\n",
              "      height: 32px;\n",
              "      padding: 0 0 0 0;\n",
              "      width: 32px;\n",
              "    }\n",
              "\n",
              "    .colab-df-convert:hover {\n",
              "      background-color: #E2EBFA;\n",
              "      box-shadow: 0px 1px 2px rgba(60, 64, 67, 0.3), 0px 1px 3px 1px rgba(60, 64, 67, 0.15);\n",
              "      fill: #174EA6;\n",
              "    }\n",
              "\n",
              "    [theme=dark] .colab-df-convert {\n",
              "      background-color: #3B4455;\n",
              "      fill: #D2E3FC;\n",
              "    }\n",
              "\n",
              "    [theme=dark] .colab-df-convert:hover {\n",
              "      background-color: #434B5C;\n",
              "      box-shadow: 0px 1px 3px 1px rgba(0, 0, 0, 0.15);\n",
              "      filter: drop-shadow(0px 1px 2px rgba(0, 0, 0, 0.3));\n",
              "      fill: #FFFFFF;\n",
              "    }\n",
              "  </style>\n",
              "\n",
              "      <script>\n",
              "        const buttonEl =\n",
              "          document.querySelector('#df-f4d3090a-2eca-4b3e-9503-c6f1d2fc8172 button.colab-df-convert');\n",
              "        buttonEl.style.display =\n",
              "          google.colab.kernel.accessAllowed ? 'block' : 'none';\n",
              "\n",
              "        async function convertToInteractive(key) {\n",
              "          const element = document.querySelector('#df-f4d3090a-2eca-4b3e-9503-c6f1d2fc8172');\n",
              "          const dataTable =\n",
              "            await google.colab.kernel.invokeFunction('convertToInteractive',\n",
              "                                                     [key], {});\n",
              "          if (!dataTable) return;\n",
              "\n",
              "          const docLinkHtml = 'Like what you see? Visit the ' +\n",
              "            '<a target=\"_blank\" href=https://colab.research.google.com/notebooks/data_table.ipynb>data table notebook</a>'\n",
              "            + ' to learn more about interactive tables.';\n",
              "          element.innerHTML = '';\n",
              "          dataTable['output_type'] = 'display_data';\n",
              "          await google.colab.output.renderOutput(dataTable, element);\n",
              "          const docLink = document.createElement('div');\n",
              "          docLink.innerHTML = docLinkHtml;\n",
              "          element.appendChild(docLink);\n",
              "        }\n",
              "      </script>\n",
              "    </div>\n",
              "  </div>\n",
              "  "
            ]
          },
          "metadata": {},
          "execution_count": 2
        }
      ]
    },
    {
      "cell_type": "code",
      "source": [
        "df.fraud_reported.value_counts()"
      ],
      "metadata": {
        "colab": {
          "base_uri": "https://localhost:8080/"
        },
        "id": "eOeZtflf1q-q",
        "outputId": "61752f6b-a11c-4d05-f20a-f376b5fcb579"
      },
      "execution_count": null,
      "outputs": [
        {
          "output_type": "execute_result",
          "data": {
            "text/plain": [
              "N    753\n",
              "Y    247\n",
              "Name: fraud_reported, dtype: int64"
            ]
          },
          "metadata": {},
          "execution_count": 3
        }
      ]
    },
    {
      "cell_type": "markdown",
      "source": [
        "**Data preprocessing**"
      ],
      "metadata": {
        "id": "UuNdECsChB9t"
      }
    },
    {
      "cell_type": "markdown",
      "source": [
        "Data Formatting\n",
        "\n"
      ],
      "metadata": {
        "id": "LvAeHUHKv1Xf"
      }
    },
    {
      "cell_type": "code",
      "source": [
        "df.info()"
      ],
      "metadata": {
        "colab": {
          "base_uri": "https://localhost:8080/"
        },
        "id": "VoqiwEcU0Eg3",
        "outputId": "e725a2ec-72b0-47bf-d8e9-2949ee5260ab"
      },
      "execution_count": null,
      "outputs": [
        {
          "output_type": "stream",
          "name": "stdout",
          "text": [
            "<class 'pandas.core.frame.DataFrame'>\n",
            "RangeIndex: 1000 entries, 0 to 999\n",
            "Data columns (total 40 columns):\n",
            " #   Column                       Non-Null Count  Dtype  \n",
            "---  ------                       --------------  -----  \n",
            " 0   months_as_customer           1000 non-null   int64  \n",
            " 1   age                          1000 non-null   int64  \n",
            " 2   policy_number                1000 non-null   int64  \n",
            " 3   policy_bind_date             1000 non-null   object \n",
            " 4   policy_state                 1000 non-null   object \n",
            " 5   policy_csl                   1000 non-null   object \n",
            " 6   policy_deductable            1000 non-null   int64  \n",
            " 7   policy_annual_premium        1000 non-null   float64\n",
            " 8   umbrella_limit               1000 non-null   int64  \n",
            " 9   insured_zip                  1000 non-null   int64  \n",
            " 10  insured_sex                  1000 non-null   object \n",
            " 11  insured_education_level      1000 non-null   object \n",
            " 12  insured_occupation           1000 non-null   object \n",
            " 13  insured_hobbies              1000 non-null   object \n",
            " 14  insured_relationship         1000 non-null   object \n",
            " 15  capital-gains                1000 non-null   int64  \n",
            " 16  capital-loss                 1000 non-null   int64  \n",
            " 17  incident_date                1000 non-null   object \n",
            " 18  incident_type                1000 non-null   object \n",
            " 19  collision_type               1000 non-null   object \n",
            " 20  incident_severity            1000 non-null   object \n",
            " 21  authorities_contacted        1000 non-null   object \n",
            " 22  incident_state               1000 non-null   object \n",
            " 23  incident_city                1000 non-null   object \n",
            " 24  incident_location            1000 non-null   object \n",
            " 25  incident_hour_of_the_day     1000 non-null   int64  \n",
            " 26  number_of_vehicles_involved  1000 non-null   int64  \n",
            " 27  property_damage              1000 non-null   object \n",
            " 28  bodily_injuries              1000 non-null   int64  \n",
            " 29  witnesses                    1000 non-null   int64  \n",
            " 30  police_report_available      1000 non-null   object \n",
            " 31  total_claim_amount           1000 non-null   int64  \n",
            " 32  injury_claim                 1000 non-null   int64  \n",
            " 33  property_claim               1000 non-null   int64  \n",
            " 34  vehicle_claim                1000 non-null   int64  \n",
            " 35  auto_make                    1000 non-null   object \n",
            " 36  auto_model                   1000 non-null   object \n",
            " 37  auto_year                    1000 non-null   int64  \n",
            " 38  fraud_reported               1000 non-null   object \n",
            " 39  _c39                         0 non-null      float64\n",
            "dtypes: float64(2), int64(17), object(21)\n",
            "memory usage: 312.6+ KB\n"
          ]
        }
      ]
    },
    {
      "cell_type": "code",
      "source": [
        "#Replacing the rows with ? to NaN \n",
        "df.replace('?', np.nan, inplace = True)\n"
      ],
      "metadata": {
        "id": "liQPRyiKawHZ"
      },
      "execution_count": null,
      "outputs": []
    },
    {
      "cell_type": "code",
      "source": [
        "df.info()"
      ],
      "metadata": {
        "id": "u5ZIwckZawCv",
        "colab": {
          "base_uri": "https://localhost:8080/"
        },
        "outputId": "12b6b680-8e51-4957-e986-20440791b3bc"
      },
      "execution_count": null,
      "outputs": [
        {
          "output_type": "stream",
          "name": "stdout",
          "text": [
            "<class 'pandas.core.frame.DataFrame'>\n",
            "RangeIndex: 1000 entries, 0 to 999\n",
            "Data columns (total 40 columns):\n",
            " #   Column                       Non-Null Count  Dtype  \n",
            "---  ------                       --------------  -----  \n",
            " 0   months_as_customer           1000 non-null   int64  \n",
            " 1   age                          1000 non-null   int64  \n",
            " 2   policy_number                1000 non-null   int64  \n",
            " 3   policy_bind_date             1000 non-null   object \n",
            " 4   policy_state                 1000 non-null   object \n",
            " 5   policy_csl                   1000 non-null   object \n",
            " 6   policy_deductable            1000 non-null   int64  \n",
            " 7   policy_annual_premium        1000 non-null   float64\n",
            " 8   umbrella_limit               1000 non-null   int64  \n",
            " 9   insured_zip                  1000 non-null   int64  \n",
            " 10  insured_sex                  1000 non-null   object \n",
            " 11  insured_education_level      1000 non-null   object \n",
            " 12  insured_occupation           1000 non-null   object \n",
            " 13  insured_hobbies              1000 non-null   object \n",
            " 14  insured_relationship         1000 non-null   object \n",
            " 15  capital-gains                1000 non-null   int64  \n",
            " 16  capital-loss                 1000 non-null   int64  \n",
            " 17  incident_date                1000 non-null   object \n",
            " 18  incident_type                1000 non-null   object \n",
            " 19  collision_type               822 non-null    object \n",
            " 20  incident_severity            1000 non-null   object \n",
            " 21  authorities_contacted        1000 non-null   object \n",
            " 22  incident_state               1000 non-null   object \n",
            " 23  incident_city                1000 non-null   object \n",
            " 24  incident_location            1000 non-null   object \n",
            " 25  incident_hour_of_the_day     1000 non-null   int64  \n",
            " 26  number_of_vehicles_involved  1000 non-null   int64  \n",
            " 27  property_damage              640 non-null    object \n",
            " 28  bodily_injuries              1000 non-null   int64  \n",
            " 29  witnesses                    1000 non-null   int64  \n",
            " 30  police_report_available      657 non-null    object \n",
            " 31  total_claim_amount           1000 non-null   int64  \n",
            " 32  injury_claim                 1000 non-null   int64  \n",
            " 33  property_claim               1000 non-null   int64  \n",
            " 34  vehicle_claim                1000 non-null   int64  \n",
            " 35  auto_make                    1000 non-null   object \n",
            " 36  auto_model                   1000 non-null   object \n",
            " 37  auto_year                    1000 non-null   int64  \n",
            " 38  fraud_reported               1000 non-null   object \n",
            " 39  _c39                         0 non-null      float64\n",
            "dtypes: float64(2), int64(17), object(21)\n",
            "memory usage: 312.6+ KB\n"
          ]
        }
      ]
    },
    {
      "cell_type": "code",
      "source": [
        "# finding the missing values, values with NaN\n",
        "df.isna().sum()"
      ],
      "metadata": {
        "colab": {
          "base_uri": "https://localhost:8080/"
        },
        "id": "cEal6iPDv2KH",
        "outputId": "93582658-dc79-4548-baf9-5d19415c1f43"
      },
      "execution_count": null,
      "outputs": [
        {
          "output_type": "execute_result",
          "data": {
            "text/plain": [
              "months_as_customer                0\n",
              "age                               0\n",
              "policy_number                     0\n",
              "policy_bind_date                  0\n",
              "policy_state                      0\n",
              "policy_csl                        0\n",
              "policy_deductable                 0\n",
              "policy_annual_premium             0\n",
              "umbrella_limit                    0\n",
              "insured_zip                       0\n",
              "insured_sex                       0\n",
              "insured_education_level           0\n",
              "insured_occupation                0\n",
              "insured_hobbies                   0\n",
              "insured_relationship              0\n",
              "capital-gains                     0\n",
              "capital-loss                      0\n",
              "incident_date                     0\n",
              "incident_type                     0\n",
              "collision_type                  178\n",
              "incident_severity                 0\n",
              "authorities_contacted             0\n",
              "incident_state                    0\n",
              "incident_city                     0\n",
              "incident_location                 0\n",
              "incident_hour_of_the_day          0\n",
              "number_of_vehicles_involved       0\n",
              "property_damage                 360\n",
              "bodily_injuries                   0\n",
              "witnesses                         0\n",
              "police_report_available         343\n",
              "total_claim_amount                0\n",
              "injury_claim                      0\n",
              "property_claim                    0\n",
              "vehicle_claim                     0\n",
              "auto_make                         0\n",
              "auto_model                        0\n",
              "auto_year                         0\n",
              "fraud_reported                    0\n",
              "_c39                           1000\n",
              "dtype: int64"
            ]
          },
          "metadata": {},
          "execution_count": 7
        }
      ]
    },
    {
      "cell_type": "markdown",
      "source": [
        "**Data cleaning**"
      ],
      "metadata": {
        "id": "jQu6dUR7ijo4"
      }
    },
    {
      "cell_type": "markdown",
      "source": [
        "Filling the NaN rows with mode of that column"
      ],
      "metadata": {
        "id": "VAu5kM-fv_Xd"
      }
    },
    {
      "cell_type": "code",
      "source": [
        "df['collision_type'] = df['collision_type'].fillna(df['collision_type'].mode()[0])"
      ],
      "metadata": {
        "id": "ioZV8M9Wv2GT"
      },
      "execution_count": null,
      "outputs": []
    },
    {
      "cell_type": "code",
      "source": [
        "df['property_damage'] = df['property_damage'].fillna(df['property_damage'].mode()[0])"
      ],
      "metadata": {
        "id": "3s_IKrzQv2EQ"
      },
      "execution_count": null,
      "outputs": []
    },
    {
      "cell_type": "code",
      "source": [
        "df['police_report_available'] = df['police_report_available'].fillna(df['police_report_available'].mode()[0])"
      ],
      "metadata": {
        "id": "_-SgmMVzv2BZ"
      },
      "execution_count": null,
      "outputs": []
    },
    {
      "cell_type": "code",
      "source": [
        "#Rechecking for missing values\n",
        "df.isna().sum()"
      ],
      "metadata": {
        "colab": {
          "base_uri": "https://localhost:8080/"
        },
        "id": "dyuURsqav1_4",
        "outputId": "79159a71-1d41-4dd6-d66c-e26eecc4a9e3"
      },
      "execution_count": null,
      "outputs": [
        {
          "output_type": "execute_result",
          "data": {
            "text/plain": [
              "months_as_customer                0\n",
              "age                               0\n",
              "policy_number                     0\n",
              "policy_bind_date                  0\n",
              "policy_state                      0\n",
              "policy_csl                        0\n",
              "policy_deductable                 0\n",
              "policy_annual_premium             0\n",
              "umbrella_limit                    0\n",
              "insured_zip                       0\n",
              "insured_sex                       0\n",
              "insured_education_level           0\n",
              "insured_occupation                0\n",
              "insured_hobbies                   0\n",
              "insured_relationship              0\n",
              "capital-gains                     0\n",
              "capital-loss                      0\n",
              "incident_date                     0\n",
              "incident_type                     0\n",
              "collision_type                    0\n",
              "incident_severity                 0\n",
              "authorities_contacted             0\n",
              "incident_state                    0\n",
              "incident_city                     0\n",
              "incident_location                 0\n",
              "incident_hour_of_the_day          0\n",
              "number_of_vehicles_involved       0\n",
              "property_damage                   0\n",
              "bodily_injuries                   0\n",
              "witnesses                         0\n",
              "police_report_available           0\n",
              "total_claim_amount                0\n",
              "injury_claim                      0\n",
              "property_claim                    0\n",
              "vehicle_claim                     0\n",
              "auto_make                         0\n",
              "auto_model                        0\n",
              "auto_year                         0\n",
              "fraud_reported                    0\n",
              "_c39                           1000\n",
              "dtype: int64"
            ]
          },
          "metadata": {},
          "execution_count": 11
        }
      ]
    },
    {
      "cell_type": "code",
      "source": [
        "#CHECKING THE RELEVANCE OF THE COLUMNS BY ITS UNIQUENESS IN THE VALUE\n",
        "df.nunique()"
      ],
      "metadata": {
        "colab": {
          "base_uri": "https://localhost:8080/"
        },
        "id": "8EDejI-zZtyZ",
        "outputId": "6d1decc5-e262-40bf-9839-236a8ea4674e"
      },
      "execution_count": null,
      "outputs": [
        {
          "output_type": "execute_result",
          "data": {
            "text/plain": [
              "months_as_customer              391\n",
              "age                              46\n",
              "policy_number                  1000\n",
              "policy_bind_date                951\n",
              "policy_state                      3\n",
              "policy_csl                        3\n",
              "policy_deductable                 3\n",
              "policy_annual_premium           991\n",
              "umbrella_limit                   11\n",
              "insured_zip                     995\n",
              "insured_sex                       2\n",
              "insured_education_level           7\n",
              "insured_occupation               14\n",
              "insured_hobbies                  20\n",
              "insured_relationship              6\n",
              "capital-gains                   338\n",
              "capital-loss                    354\n",
              "incident_date                    60\n",
              "incident_type                     4\n",
              "collision_type                    3\n",
              "incident_severity                 4\n",
              "authorities_contacted             5\n",
              "incident_state                    7\n",
              "incident_city                     7\n",
              "incident_location              1000\n",
              "incident_hour_of_the_day         24\n",
              "number_of_vehicles_involved       4\n",
              "property_damage                   2\n",
              "bodily_injuries                   3\n",
              "witnesses                         4\n",
              "police_report_available           2\n",
              "total_claim_amount              763\n",
              "injury_claim                    638\n",
              "property_claim                  626\n",
              "vehicle_claim                   726\n",
              "auto_make                        14\n",
              "auto_model                       39\n",
              "auto_year                        21\n",
              "fraud_reported                    2\n",
              "_c39                              0\n",
              "dtype: int64"
            ]
          },
          "metadata": {},
          "execution_count": 12
        }
      ]
    },
    {
      "cell_type": "code",
      "source": [
        "#DROPPING THE UNNECESSARY COLUMNS based on self understanding\n",
        "to_drop = ['policy_number','policy_bind_date','policy_state','insured_zip','incident_location','incident_date','insured_sex',\n",
        "           'incident_state','incident_city','insured_hobbies','auto_make','auto_model','auto_year', '_c39']\n",
        "\n",
        "df.drop(to_drop, inplace = True, axis = 1)"
      ],
      "metadata": {
        "id": "T342qL67ZaLn"
      },
      "execution_count": null,
      "outputs": []
    },
    {
      "cell_type": "code",
      "source": [
        "df.info()"
      ],
      "metadata": {
        "colab": {
          "base_uri": "https://localhost:8080/"
        },
        "id": "VVSB77FUeE8d",
        "outputId": "07faa6d6-f101-40b3-9f1f-41f086dddef3"
      },
      "execution_count": null,
      "outputs": [
        {
          "output_type": "stream",
          "name": "stdout",
          "text": [
            "<class 'pandas.core.frame.DataFrame'>\n",
            "RangeIndex: 1000 entries, 0 to 999\n",
            "Data columns (total 26 columns):\n",
            " #   Column                       Non-Null Count  Dtype  \n",
            "---  ------                       --------------  -----  \n",
            " 0   months_as_customer           1000 non-null   int64  \n",
            " 1   age                          1000 non-null   int64  \n",
            " 2   policy_csl                   1000 non-null   object \n",
            " 3   policy_deductable            1000 non-null   int64  \n",
            " 4   policy_annual_premium        1000 non-null   float64\n",
            " 5   umbrella_limit               1000 non-null   int64  \n",
            " 6   insured_education_level      1000 non-null   object \n",
            " 7   insured_occupation           1000 non-null   object \n",
            " 8   insured_relationship         1000 non-null   object \n",
            " 9   capital-gains                1000 non-null   int64  \n",
            " 10  capital-loss                 1000 non-null   int64  \n",
            " 11  incident_type                1000 non-null   object \n",
            " 12  collision_type               1000 non-null   object \n",
            " 13  incident_severity            1000 non-null   object \n",
            " 14  authorities_contacted        1000 non-null   object \n",
            " 15  incident_hour_of_the_day     1000 non-null   int64  \n",
            " 16  number_of_vehicles_involved  1000 non-null   int64  \n",
            " 17  property_damage              1000 non-null   object \n",
            " 18  bodily_injuries              1000 non-null   int64  \n",
            " 19  witnesses                    1000 non-null   int64  \n",
            " 20  police_report_available      1000 non-null   object \n",
            " 21  total_claim_amount           1000 non-null   int64  \n",
            " 22  injury_claim                 1000 non-null   int64  \n",
            " 23  property_claim               1000 non-null   int64  \n",
            " 24  vehicle_claim                1000 non-null   int64  \n",
            " 25  fraud_reported               1000 non-null   object \n",
            "dtypes: float64(1), int64(14), object(11)\n",
            "memory usage: 203.2+ KB\n"
          ]
        }
      ]
    },
    {
      "cell_type": "markdown",
      "source": [
        "**Dimensionality Reduction**"
      ],
      "metadata": {
        "id": "kFtUGH4gwl1E"
      }
    },
    {
      "cell_type": "markdown",
      "source": [
        "Finding the correlation among the columns\n",
        "\n",
        "\n"
      ],
      "metadata": {
        "id": "jmg-Tj8qdfw9"
      }
    },
    {
      "cell_type": "code",
      "source": [
        "plt.figure(figsize = (12, 7))\n",
        "\n",
        "corr = df.corr()\n",
        "\n",
        "sns.heatmap(data = corr, annot = True, fmt = '.2g', linewidth = 1,cmap='Greens')\n",
        "plt.show()"
      ],
      "metadata": {
        "id": "DWtNEivZv19D",
        "colab": {
          "base_uri": "https://localhost:8080/",
          "height": 569
        },
        "outputId": "e3a4c50b-5f03-4e86-92a6-8d391ed3374e"
      },
      "execution_count": null,
      "outputs": [
        {
          "output_type": "display_data",
          "data": {
            "text/plain": [
              "<Figure size 864x504 with 2 Axes>"
            ],
            "image/png": "[encoded data removed]"
          },
          "metadata": {
            "needs_background": "light"
          }
        }
      ]
    },
    {
      "cell_type": "markdown",
      "source": [
        "From the above plot, we can see that there is high correlation between age and months_as_customer.We will drop the \"Age\" column. Also there is high correlation between total_clam_amount, injury_claim, property_claim, vehicle_claim as total claim is the sum of all others. So we will drop the total claim column."
      ],
      "metadata": {
        "id": "WBssuQAmyb4p"
      }
    },
    {
      "cell_type": "code",
      "source": [
        "df.drop(columns = ['age', 'total_claim_amount'], inplace = True, axis = 1)"
      ],
      "metadata": {
        "id": "56g8e7zCydIh"
      },
      "execution_count": null,
      "outputs": []
    },
    {
      "cell_type": "code",
      "source": [
        "df.info()"
      ],
      "metadata": {
        "colab": {
          "base_uri": "https://localhost:8080/"
        },
        "id": "o3lOSNmjxO2-",
        "outputId": "4346cf1a-7778-455e-94d2-0d528189f32c"
      },
      "execution_count": null,
      "outputs": [
        {
          "output_type": "stream",
          "name": "stdout",
          "text": [
            "<class 'pandas.core.frame.DataFrame'>\n",
            "RangeIndex: 1000 entries, 0 to 999\n",
            "Data columns (total 24 columns):\n",
            " #   Column                       Non-Null Count  Dtype  \n",
            "---  ------                       --------------  -----  \n",
            " 0   months_as_customer           1000 non-null   int64  \n",
            " 1   policy_csl                   1000 non-null   object \n",
            " 2   policy_deductable            1000 non-null   int64  \n",
            " 3   policy_annual_premium        1000 non-null   float64\n",
            " 4   umbrella_limit               1000 non-null   int64  \n",
            " 5   insured_education_level      1000 non-null   object \n",
            " 6   insured_occupation           1000 non-null   object \n",
            " 7   insured_relationship         1000 non-null   object \n",
            " 8   capital-gains                1000 non-null   int64  \n",
            " 9   capital-loss                 1000 non-null   int64  \n",
            " 10  incident_type                1000 non-null   object \n",
            " 11  collision_type               1000 non-null   object \n",
            " 12  incident_severity            1000 non-null   object \n",
            " 13  authorities_contacted        1000 non-null   object \n",
            " 14  incident_hour_of_the_day     1000 non-null   int64  \n",
            " 15  number_of_vehicles_involved  1000 non-null   int64  \n",
            " 16  property_damage              1000 non-null   object \n",
            " 17  bodily_injuries              1000 non-null   int64  \n",
            " 18  witnesses                    1000 non-null   int64  \n",
            " 19  police_report_available      1000 non-null   object \n",
            " 20  injury_claim                 1000 non-null   int64  \n",
            " 21  property_claim               1000 non-null   int64  \n",
            " 22  vehicle_claim                1000 non-null   int64  \n",
            " 23  fraud_reported               1000 non-null   object \n",
            "dtypes: float64(1), int64(12), object(11)\n",
            "memory usage: 187.6+ KB\n"
          ]
        }
      ]
    },
    {
      "cell_type": "markdown",
      "source": [
        "**Splitting dataset into training and testing sets**"
      ],
      "metadata": {
        "id": "29ctvwGOhnXx"
      }
    },
    {
      "cell_type": "code",
      "source": [
        "\n",
        "X = df.drop('fraud_reported', axis = 1)\n",
        "y = df['fraud_reported']"
      ],
      "metadata": {
        "id": "PE48-pTmyfHn"
      },
      "execution_count": null,
      "outputs": []
    },
    {
      "cell_type": "markdown",
      "source": [
        "**Data Transformation**"
      ],
      "metadata": {
        "id": "_dNcT2m-h8vg"
      }
    },
    {
      "cell_type": "code",
      "source": [
        "# extracting categorical columns\n",
        "cat_df = X.select_dtypes(include = ['object'])"
      ],
      "metadata": {
        "id": "C-DayH5oy1SA"
      },
      "execution_count": null,
      "outputs": []
    },
    {
      "cell_type": "code",
      "source": [
        "# printing unique values of each column\n",
        "for col in cat_df.columns:\n",
        "    print(f\"{col}: \\n{cat_df[col].unique()}\\n\")"
      ],
      "metadata": {
        "id": "2DO8X04Jy1N9",
        "colab": {
          "base_uri": "https://localhost:8080/"
        },
        "outputId": "2b5f3668-af53-447b-e298-6df3f97264f9"
      },
      "execution_count": null,
      "outputs": [
        {
          "output_type": "stream",
          "name": "stdout",
          "text": [
            "policy_csl: \n",
            "['250/500' '100/300' '500/1000']\n",
            "\n",
            "insured_education_level: \n",
            "['MD' 'PhD' 'Associate' 'Masters' 'High School' 'College' 'JD']\n",
            "\n",
            "insured_occupation: \n",
            "['craft-repair' 'machine-op-inspct' 'sales' 'armed-forces' 'tech-support'\n",
            " 'prof-specialty' 'other-service' 'priv-house-serv' 'exec-managerial'\n",
            " 'protective-serv' 'transport-moving' 'handlers-cleaners' 'adm-clerical'\n",
            " 'farming-fishing']\n",
            "\n",
            "insured_relationship: \n",
            "['husband' 'other-relative' 'own-child' 'unmarried' 'wife' 'not-in-family']\n",
            "\n",
            "incident_type: \n",
            "['Single Vehicle Collision' 'Vehicle Theft' 'Multi-vehicle Collision'\n",
            " 'Parked Car']\n",
            "\n",
            "collision_type: \n",
            "['Side Collision' 'Rear Collision' 'Front Collision']\n",
            "\n",
            "incident_severity: \n",
            "['Major Damage' 'Minor Damage' 'Total Loss' 'Trivial Damage']\n",
            "\n",
            "authorities_contacted: \n",
            "['Police' 'None' 'Fire' 'Other' 'Ambulance']\n",
            "\n",
            "property_damage: \n",
            "['YES' 'NO']\n",
            "\n",
            "police_report_available: \n",
            "['YES' 'NO']\n",
            "\n"
          ]
        }
      ]
    },
    {
      "cell_type": "code",
      "source": [
        "#Adding dummy values to the categorical columns\n",
        "cat_df = pd.get_dummies(cat_df, drop_first = True)\n",
        "cat_df.head()"
      ],
      "metadata": {
        "id": "GHH8jia6y1Mg",
        "colab": {
          "base_uri": "https://localhost:8080/",
          "height": 317
        },
        "outputId": "a4b5bd70-1132-4cb8-a457-52d148cbc592"
      },
      "execution_count": null,
      "outputs": [
        {
          "output_type": "execute_result",
          "data": {
            "text/plain": [
              "   policy_csl_250/500  policy_csl_500/1000  insured_education_level_College  \\\n",
              "0                   1                    0                                0   \n",
              "1                   1                    0                                0   \n",
              "2                   0                    0                                0   \n",
              "3                   1                    0                                0   \n",
              "4                   0                    1                                0   \n",
              "\n",
              "   insured_education_level_High School  insured_education_level_JD  \\\n",
              "0                                    0                           0   \n",
              "1                                    0                           0   \n",
              "2                                    0                           0   \n",
              "3                                    0                           0   \n",
              "4                                    0                           0   \n",
              "\n",
              "   insured_education_level_MD  insured_education_level_Masters  \\\n",
              "0                           1                                0   \n",
              "1                           1                                0   \n",
              "2                           0                                0   \n",
              "3                           0                                0   \n",
              "4                           0                                0   \n",
              "\n",
              "   insured_education_level_PhD  insured_occupation_armed-forces  \\\n",
              "0                            0                                0   \n",
              "1                            0                                0   \n",
              "2                            1                                0   \n",
              "3                            1                                1   \n",
              "4                            0                                0   \n",
              "\n",
              "   insured_occupation_craft-repair  ...  collision_type_Side Collision  \\\n",
              "0                                1  ...                              1   \n",
              "1                                0  ...                              0   \n",
              "2                                0  ...                              0   \n",
              "3                                0  ...                              0   \n",
              "4                                0  ...                              0   \n",
              "\n",
              "   incident_severity_Minor Damage  incident_severity_Total Loss  \\\n",
              "0                               0                             0   \n",
              "1                               1                             0   \n",
              "2                               1                             0   \n",
              "3                               0                             0   \n",
              "4                               1                             0   \n",
              "\n",
              "   incident_severity_Trivial Damage  authorities_contacted_Fire  \\\n",
              "0                                 0                           0   \n",
              "1                                 0                           0   \n",
              "2                                 0                           0   \n",
              "3                                 0                           0   \n",
              "4                                 0                           0   \n",
              "\n",
              "   authorities_contacted_None  authorities_contacted_Other  \\\n",
              "0                           0                            0   \n",
              "1                           0                            0   \n",
              "2                           0                            0   \n",
              "3                           0                            0   \n",
              "4                           1                            0   \n",
              "\n",
              "   authorities_contacted_Police  property_damage_YES  \\\n",
              "0                             1                    1   \n",
              "1                             1                    0   \n",
              "2                             1                    0   \n",
              "3                             1                    0   \n",
              "4                             0                    0   \n",
              "\n",
              "   police_report_available_YES  \n",
              "0                            1  \n",
              "1                            0  \n",
              "2                            0  \n",
              "3                            0  \n",
              "4                            0  \n",
              "\n",
              "[5 rows x 40 columns]"
            ],
            "text/html": [
              "\n",
              "  <div id=\"df-436e2807-e5c9-423c-ab98-7e3ed968b864\">\n",
              "    <div class=\"colab-df-container\">\n",
              "      <div>\n",
              "<style scoped>\n",
              "    .dataframe tbody tr th:only-of-type {\n",
              "        vertical-align: middle;\n",
              "    }\n",
              "\n",
              "    .dataframe tbody tr th {\n",
              "        vertical-align: top;\n",
              "    }\n",
              "\n",
              "    .dataframe thead th {\n",
              "        text-align: right;\n",
              "    }\n",
              "</style>\n",
              "<table border=\"1\" class=\"dataframe\">\n",
              "  <thead>\n",
              "    <tr style=\"text-align: right;\">\n",
              "      <th></th>\n",
              "      <th>policy_csl_250/500</th>\n",
              "      <th>policy_csl_500/1000</th>\n",
              "      <th>insured_education_level_College</th>\n",
              "      <th>insured_education_level_High School</th>\n",
              "      <th>insured_education_level_JD</th>\n",
              "      <th>insured_education_level_MD</th>\n",
              "      <th>insured_education_level_Masters</th>\n",
              "      <th>insured_education_level_PhD</th>\n",
              "      <th>insured_occupation_armed-forces</th>\n",
              "      <th>insured_occupation_craft-repair</th>\n",
              "      <th>...</th>\n",
              "      <th>collision_type_Side Collision</th>\n",
              "      <th>incident_severity_Minor Damage</th>\n",
              "      <th>incident_severity_Total Loss</th>\n",
              "      <th>incident_severity_Trivial Damage</th>\n",
              "      <th>authorities_contacted_Fire</th>\n",
              "      <th>authorities_contacted_None</th>\n",
              "      <th>authorities_contacted_Other</th>\n",
              "      <th>authorities_contacted_Police</th>\n",
              "      <th>property_damage_YES</th>\n",
              "      <th>police_report_available_YES</th>\n",
              "    </tr>\n",
              "  </thead>\n",
              "  <tbody>\n",
              "    <tr>\n",
              "      <th>0</th>\n",
              "      <td>1</td>\n",
              "      <td>0</td>\n",
              "      <td>0</td>\n",
              "      <td>0</td>\n",
              "      <td>0</td>\n",
              "      <td>1</td>\n",
              "      <td>0</td>\n",
              "      <td>0</td>\n",
              "      <td>0</td>\n",
              "      <td>1</td>\n",
              "      <td>...</td>\n",
              "      <td>1</td>\n",
              "      <td>0</td>\n",
              "      <td>0</td>\n",
              "      <td>0</td>\n",
              "      <td>0</td>\n",
              "      <td>0</td>\n",
              "      <td>0</td>\n",
              "      <td>1</td>\n",
              "      <td>1</td>\n",
              "      <td>1</td>\n",
              "    </tr>\n",
              "    <tr>\n",
              "      <th>1</th>\n",
              "      <td>1</td>\n",
              "      <td>0</td>\n",
              "      <td>0</td>\n",
              "      <td>0</td>\n",
              "      <td>0</td>\n",
              "      <td>1</td>\n",
              "      <td>0</td>\n",
              "      <td>0</td>\n",
              "      <td>0</td>\n",
              "      <td>0</td>\n",
              "      <td>...</td>\n",
              "      <td>0</td>\n",
              "      <td>1</td>\n",
              "      <td>0</td>\n",
              "      <td>0</td>\n",
              "      <td>0</td>\n",
              "      <td>0</td>\n",
              "      <td>0</td>\n",
              "      <td>1</td>\n",
              "      <td>0</td>\n",
              "      <td>0</td>\n",
              "    </tr>\n",
              "    <tr>\n",
              "      <th>2</th>\n",
              "      <td>0</td>\n",
              "      <td>0</td>\n",
              "      <td>0</td>\n",
              "      <td>0</td>\n",
              "      <td>0</td>\n",
              "      <td>0</td>\n",
              "      <td>0</td>\n",
              "      <td>1</td>\n",
              "      <td>0</td>\n",
              "      <td>0</td>\n",
              "      <td>...</td>\n",
              "      <td>0</td>\n",
              "      <td>1</td>\n",
              "      <td>0</td>\n",
              "      <td>0</td>\n",
              "      <td>0</td>\n",
              "      <td>0</td>\n",
              "      <td>0</td>\n",
              "      <td>1</td>\n",
              "      <td>0</td>\n",
              "      <td>0</td>\n",
              "    </tr>\n",
              "    <tr>\n",
              "      <th>3</th>\n",
              "      <td>1</td>\n",
              "      <td>0</td>\n",
              "      <td>0</td>\n",
              "      <td>0</td>\n",
              "      <td>0</td>\n",
              "      <td>0</td>\n",
              "      <td>0</td>\n",
              "      <td>1</td>\n",
              "      <td>1</td>\n",
              "      <td>0</td>\n",
              "      <td>...</td>\n",
              "      <td>0</td>\n",
              "      <td>0</td>\n",
              "      <td>0</td>\n",
              "      <td>0</td>\n",
              "      <td>0</td>\n",
              "      <td>0</td>\n",
              "      <td>0</td>\n",
              "      <td>1</td>\n",
              "      <td>0</td>\n",
              "      <td>0</td>\n",
              "    </tr>\n",
              "    <tr>\n",
              "      <th>4</th>\n",
              "      <td>0</td>\n",
              "      <td>1</td>\n",
              "      <td>0</td>\n",
              "      <td>0</td>\n",
              "      <td>0</td>\n",
              "      <td>0</td>\n",
              "      <td>0</td>\n",
              "      <td>0</td>\n",
              "      <td>0</td>\n",
              "      <td>0</td>\n",
              "      <td>...</td>\n",
              "      <td>0</td>\n",
              "      <td>1</td>\n",
              "      <td>0</td>\n",
              "      <td>0</td>\n",
              "      <td>0</td>\n",
              "      <td>1</td>\n",
              "      <td>0</td>\n",
              "      <td>0</td>\n",
              "      <td>0</td>\n",
              "      <td>0</td>\n",
              "    </tr>\n",
              "  </tbody>\n",
              "</table>\n",
              "<p>5 rows × 40 columns</p>\n",
              "</div>\n",
              "      <button class=\"colab-df-convert\" onclick=\"convertToInteractive('df-436e2807-e5c9-423c-ab98-7e3ed968b864')\"\n",
              "              title=\"Convert this dataframe to an interactive table.\"\n",
              "              style=\"display:none;\">\n",
              "        \n",
              "  <svg xmlns=\"http://www.w3.org/2000/svg\" height=\"24px\"viewBox=\"0 0 24 24\"\n",
              "       width=\"24px\">\n",
              "    <path d=\"M0 0h24v24H0V0z\" fill=\"none\"/>\n",
              "    <path d=\"M18.56 5.44l.94 2.06.94-2.06 2.06-.94-2.06-.94-.94-2.06-.94 2.06-2.06.94zm-11 1L8.5 8.5l.94-2.06 2.06-.94-2.06-.94L8.5 2.5l-.94 2.06-2.06.94zm10 10l.94 2.06.94-2.06 2.06-.94-2.06-.94-.94-2.06-.94 2.06-2.06.94z\"/><path d=\"M17.41 7.96l-1.37-1.37c-.4-.4-.92-.59-1.43-.59-.52 0-1.04.2-1.43.59L10.3 9.45l-7.72 7.72c-.78.78-.78 2.05 0 2.83L4 21.41c.39.39.9.59 1.41.59.51 0 1.02-.2 1.41-.59l7.78-7.78 2.81-2.81c.8-.78.8-2.07 0-2.86zM5.41 20L4 18.59l7.72-7.72 1.47 1.35L5.41 20z\"/>\n",
              "  </svg>\n",
              "      </button>\n",
              "      \n",
              "  <style>\n",
              "    .colab-df-container {\n",
              "      display:flex;\n",
              "      flex-wrap:wrap;\n",
              "      gap: 12px;\n",
              "    }\n",
              "\n",
              "    .colab-df-convert {\n",
              "      background-color: #E8F0FE;\n",
              "      border: none;\n",
              "      border-radius: 50%;\n",
              "      cursor: pointer;\n",
              "      display: none;\n",
              "      fill: #1967D2;\n",
              "      height: 32px;\n",
              "      padding: 0 0 0 0;\n",
              "      width: 32px;\n",
              "    }\n",
              "\n",
              "    .colab-df-convert:hover {\n",
              "      background-color: #E2EBFA;\n",
              "      box-shadow: 0px 1px 2px rgba(60, 64, 67, 0.3), 0px 1px 3px 1px rgba(60, 64, 67, 0.15);\n",
              "      fill: #174EA6;\n",
              "    }\n",
              "\n",
              "    [theme=dark] .colab-df-convert {\n",
              "      background-color: #3B4455;\n",
              "      fill: #D2E3FC;\n",
              "    }\n",
              "\n",
              "    [theme=dark] .colab-df-convert:hover {\n",
              "      background-color: #434B5C;\n",
              "      box-shadow: 0px 1px 3px 1px rgba(0, 0, 0, 0.15);\n",
              "      filter: drop-shadow(0px 1px 2px rgba(0, 0, 0, 0.3));\n",
              "      fill: #FFFFFF;\n",
              "    }\n",
              "  </style>\n",
              "\n",
              "      <script>\n",
              "        const buttonEl =\n",
              "          document.querySelector('#df-436e2807-e5c9-423c-ab98-7e3ed968b864 button.colab-df-convert');\n",
              "        buttonEl.style.display =\n",
              "          google.colab.kernel.accessAllowed ? 'block' : 'none';\n",
              "\n",
              "        async function convertToInteractive(key) {\n",
              "          const element = document.querySelector('#df-436e2807-e5c9-423c-ab98-7e3ed968b864');\n",
              "          const dataTable =\n",
              "            await google.colab.kernel.invokeFunction('convertToInteractive',\n",
              "                                                     [key], {});\n",
              "          if (!dataTable) return;\n",
              "\n",
              "          const docLinkHtml = 'Like what you see? Visit the ' +\n",
              "            '<a target=\"_blank\" href=https://colab.research.google.com/notebooks/data_table.ipynb>data table notebook</a>'\n",
              "            + ' to learn more about interactive tables.';\n",
              "          element.innerHTML = '';\n",
              "          dataTable['output_type'] = 'display_data';\n",
              "          await google.colab.output.renderOutput(dataTable, element);\n",
              "          const docLink = document.createElement('div');\n",
              "          docLink.innerHTML = docLinkHtml;\n",
              "          element.appendChild(docLink);\n",
              "        }\n",
              "      </script>\n",
              "    </div>\n",
              "  </div>\n",
              "  "
            ]
          },
          "metadata": {},
          "execution_count": 21
        }
      ]
    },
    {
      "cell_type": "code",
      "source": [
        "# extracting the numerical columns\n",
        "\n",
        "num_df = X.select_dtypes(include = ['int64'])\n",
        "num_df.head()"
      ],
      "metadata": {
        "id": "YbAu2Fu43mdh",
        "colab": {
          "base_uri": "https://localhost:8080/",
          "height": 287
        },
        "outputId": "56605cae-c982-4324-ef35-43d1fb1174b9"
      },
      "execution_count": null,
      "outputs": [
        {
          "output_type": "execute_result",
          "data": {
            "text/plain": [
              "   months_as_customer  policy_deductable  umbrella_limit  capital-gains  \\\n",
              "0                 328               1000               0          53300   \n",
              "1                 228               2000         5000000              0   \n",
              "2                 134               2000         5000000          35100   \n",
              "3                 256               2000         6000000          48900   \n",
              "4                 228               1000         6000000          66000   \n",
              "\n",
              "   capital-loss  incident_hour_of_the_day  number_of_vehicles_involved  \\\n",
              "0             0                         5                            1   \n",
              "1             0                         8                            1   \n",
              "2             0                         7                            3   \n",
              "3        -62400                         5                            1   \n",
              "4        -46000                        20                            1   \n",
              "\n",
              "   bodily_injuries  witnesses  injury_claim  property_claim  vehicle_claim  \n",
              "0                1          2          6510           13020          52080  \n",
              "1                0          0           780             780           3510  \n",
              "2                2          3          7700            3850          23100  \n",
              "3                1          2          6340            6340          50720  \n",
              "4                0          1          1300             650           4550  "
            ],
            "text/html": [
              "\n",
              "  <div id=\"df-a2467dd4-e0b6-4b6b-ba86-20edfdc436e5\">\n",
              "    <div class=\"colab-df-container\">\n",
              "      <div>\n",
              "<style scoped>\n",
              "    .dataframe tbody tr th:only-of-type {\n",
              "        vertical-align: middle;\n",
              "    }\n",
              "\n",
              "    .dataframe tbody tr th {\n",
              "        vertical-align: top;\n",
              "    }\n",
              "\n",
              "    .dataframe thead th {\n",
              "        text-align: right;\n",
              "    }\n",
              "</style>\n",
              "<table border=\"1\" class=\"dataframe\">\n",
              "  <thead>\n",
              "    <tr style=\"text-align: right;\">\n",
              "      <th></th>\n",
              "      <th>months_as_customer</th>\n",
              "      <th>policy_deductable</th>\n",
              "      <th>umbrella_limit</th>\n",
              "      <th>capital-gains</th>\n",
              "      <th>capital-loss</th>\n",
              "      <th>incident_hour_of_the_day</th>\n",
              "      <th>number_of_vehicles_involved</th>\n",
              "      <th>bodily_injuries</th>\n",
              "      <th>witnesses</th>\n",
              "      <th>injury_claim</th>\n",
              "      <th>property_claim</th>\n",
              "      <th>vehicle_claim</th>\n",
              "    </tr>\n",
              "  </thead>\n",
              "  <tbody>\n",
              "    <tr>\n",
              "      <th>0</th>\n",
              "      <td>328</td>\n",
              "      <td>1000</td>\n",
              "      <td>0</td>\n",
              "      <td>53300</td>\n",
              "      <td>0</td>\n",
              "      <td>5</td>\n",
              "      <td>1</td>\n",
              "      <td>1</td>\n",
              "      <td>2</td>\n",
              "      <td>6510</td>\n",
              "      <td>13020</td>\n",
              "      <td>52080</td>\n",
              "    </tr>\n",
              "    <tr>\n",
              "      <th>1</th>\n",
              "      <td>228</td>\n",
              "      <td>2000</td>\n",
              "      <td>5000000</td>\n",
              "      <td>0</td>\n",
              "      <td>0</td>\n",
              "      <td>8</td>\n",
              "      <td>1</td>\n",
              "      <td>0</td>\n",
              "      <td>0</td>\n",
              "      <td>780</td>\n",
              "      <td>780</td>\n",
              "      <td>3510</td>\n",
              "    </tr>\n",
              "    <tr>\n",
              "      <th>2</th>\n",
              "      <td>134</td>\n",
              "      <td>2000</td>\n",
              "      <td>5000000</td>\n",
              "      <td>35100</td>\n",
              "      <td>0</td>\n",
              "      <td>7</td>\n",
              "      <td>3</td>\n",
              "      <td>2</td>\n",
              "      <td>3</td>\n",
              "      <td>7700</td>\n",
              "      <td>3850</td>\n",
              "      <td>23100</td>\n",
              "    </tr>\n",
              "    <tr>\n",
              "      <th>3</th>\n",
              "      <td>256</td>\n",
              "      <td>2000</td>\n",
              "      <td>6000000</td>\n",
              "      <td>48900</td>\n",
              "      <td>-62400</td>\n",
              "      <td>5</td>\n",
              "      <td>1</td>\n",
              "      <td>1</td>\n",
              "      <td>2</td>\n",
              "      <td>6340</td>\n",
              "      <td>6340</td>\n",
              "      <td>50720</td>\n",
              "    </tr>\n",
              "    <tr>\n",
              "      <th>4</th>\n",
              "      <td>228</td>\n",
              "      <td>1000</td>\n",
              "      <td>6000000</td>\n",
              "      <td>66000</td>\n",
              "      <td>-46000</td>\n",
              "      <td>20</td>\n",
              "      <td>1</td>\n",
              "      <td>0</td>\n",
              "      <td>1</td>\n",
              "      <td>1300</td>\n",
              "      <td>650</td>\n",
              "      <td>4550</td>\n",
              "    </tr>\n",
              "  </tbody>\n",
              "</table>\n",
              "</div>\n",
              "      <button class=\"colab-df-convert\" onclick=\"convertToInteractive('df-a2467dd4-e0b6-4b6b-ba86-20edfdc436e5')\"\n",
              "              title=\"Convert this dataframe to an interactive table.\"\n",
              "              style=\"display:none;\">\n",
              "        \n",
              "  <svg xmlns=\"http://www.w3.org/2000/svg\" height=\"24px\"viewBox=\"0 0 24 24\"\n",
              "       width=\"24px\">\n",
              "    <path d=\"M0 0h24v24H0V0z\" fill=\"none\"/>\n",
              "    <path d=\"M18.56 5.44l.94 2.06.94-2.06 2.06-.94-2.06-.94-.94-2.06-.94 2.06-2.06.94zm-11 1L8.5 8.5l.94-2.06 2.06-.94-2.06-.94L8.5 2.5l-.94 2.06-2.06.94zm10 10l.94 2.06.94-2.06 2.06-.94-2.06-.94-.94-2.06-.94 2.06-2.06.94z\"/><path d=\"M17.41 7.96l-1.37-1.37c-.4-.4-.92-.59-1.43-.59-.52 0-1.04.2-1.43.59L10.3 9.45l-7.72 7.72c-.78.78-.78 2.05 0 2.83L4 21.41c.39.39.9.59 1.41.59.51 0 1.02-.2 1.41-.59l7.78-7.78 2.81-2.81c.8-.78.8-2.07 0-2.86zM5.41 20L4 18.59l7.72-7.72 1.47 1.35L5.41 20z\"/>\n",
              "  </svg>\n",
              "      </button>\n",
              "      \n",
              "  <style>\n",
              "    .colab-df-container {\n",
              "      display:flex;\n",
              "      flex-wrap:wrap;\n",
              "      gap: 12px;\n",
              "    }\n",
              "\n",
              "    .colab-df-convert {\n",
              "      background-color: #E8F0FE;\n",
              "      border: none;\n",
              "      border-radius: 50%;\n",
              "      cursor: pointer;\n",
              "      display: none;\n",
              "      fill: #1967D2;\n",
              "      height: 32px;\n",
              "      padding: 0 0 0 0;\n",
              "      width: 32px;\n",
              "    }\n",
              "\n",
              "    .colab-df-convert:hover {\n",
              "      background-color: #E2EBFA;\n",
              "      box-shadow: 0px 1px 2px rgba(60, 64, 67, 0.3), 0px 1px 3px 1px rgba(60, 64, 67, 0.15);\n",
              "      fill: #174EA6;\n",
              "    }\n",
              "\n",
              "    [theme=dark] .colab-df-convert {\n",
              "      background-color: #3B4455;\n",
              "      fill: #D2E3FC;\n",
              "    }\n",
              "\n",
              "    [theme=dark] .colab-df-convert:hover {\n",
              "      background-color: #434B5C;\n",
              "      box-shadow: 0px 1px 3px 1px rgba(0, 0, 0, 0.15);\n",
              "      filter: drop-shadow(0px 1px 2px rgba(0, 0, 0, 0.3));\n",
              "      fill: #FFFFFF;\n",
              "    }\n",
              "  </style>\n",
              "\n",
              "      <script>\n",
              "        const buttonEl =\n",
              "          document.querySelector('#df-a2467dd4-e0b6-4b6b-ba86-20edfdc436e5 button.colab-df-convert');\n",
              "        buttonEl.style.display =\n",
              "          google.colab.kernel.accessAllowed ? 'block' : 'none';\n",
              "\n",
              "        async function convertToInteractive(key) {\n",
              "          const element = document.querySelector('#df-a2467dd4-e0b6-4b6b-ba86-20edfdc436e5');\n",
              "          const dataTable =\n",
              "            await google.colab.kernel.invokeFunction('convertToInteractive',\n",
              "                                                     [key], {});\n",
              "          if (!dataTable) return;\n",
              "\n",
              "          const docLinkHtml = 'Like what you see? Visit the ' +\n",
              "            '<a target=\"_blank\" href=https://colab.research.google.com/notebooks/data_table.ipynb>data table notebook</a>'\n",
              "            + ' to learn more about interactive tables.';\n",
              "          element.innerHTML = '';\n",
              "          dataTable['output_type'] = 'display_data';\n",
              "          await google.colab.output.renderOutput(dataTable, element);\n",
              "          const docLink = document.createElement('div');\n",
              "          docLink.innerHTML = docLinkHtml;\n",
              "          element.appendChild(docLink);\n",
              "        }\n",
              "      </script>\n",
              "    </div>\n",
              "  </div>\n",
              "  "
            ]
          },
          "metadata": {},
          "execution_count": 22
        }
      ]
    },
    {
      "cell_type": "code",
      "source": [
        "#Combining the numerical and categorical columns after encoding \n",
        "X = pd.concat([num_df, cat_df], axis = 1)"
      ],
      "metadata": {
        "id": "JRA6MfoJ3mZ2"
      },
      "execution_count": null,
      "outputs": []
    },
    {
      "cell_type": "code",
      "source": [
        "X.head()"
      ],
      "metadata": {
        "id": "A336Jc__3mYR",
        "colab": {
          "base_uri": "https://localhost:8080/",
          "height": 317
        },
        "outputId": "b40a3f44-6933-45ef-8544-f551d9b4e349"
      },
      "execution_count": null,
      "outputs": [
        {
          "output_type": "execute_result",
          "data": {
            "text/plain": [
              "   months_as_customer  policy_deductable  umbrella_limit  capital-gains  \\\n",
              "0                 328               1000               0          53300   \n",
              "1                 228               2000         5000000              0   \n",
              "2                 134               2000         5000000          35100   \n",
              "3                 256               2000         6000000          48900   \n",
              "4                 228               1000         6000000          66000   \n",
              "\n",
              "   capital-loss  incident_hour_of_the_day  number_of_vehicles_involved  \\\n",
              "0             0                         5                            1   \n",
              "1             0                         8                            1   \n",
              "2             0                         7                            3   \n",
              "3        -62400                         5                            1   \n",
              "4        -46000                        20                            1   \n",
              "\n",
              "   bodily_injuries  witnesses  injury_claim  ...  \\\n",
              "0                1          2          6510  ...   \n",
              "1                0          0           780  ...   \n",
              "2                2          3          7700  ...   \n",
              "3                1          2          6340  ...   \n",
              "4                0          1          1300  ...   \n",
              "\n",
              "   collision_type_Side Collision  incident_severity_Minor Damage  \\\n",
              "0                              1                               0   \n",
              "1                              0                               1   \n",
              "2                              0                               1   \n",
              "3                              0                               0   \n",
              "4                              0                               1   \n",
              "\n",
              "   incident_severity_Total Loss  incident_severity_Trivial Damage  \\\n",
              "0                             0                                 0   \n",
              "1                             0                                 0   \n",
              "2                             0                                 0   \n",
              "3                             0                                 0   \n",
              "4                             0                                 0   \n",
              "\n",
              "   authorities_contacted_Fire  authorities_contacted_None  \\\n",
              "0                           0                           0   \n",
              "1                           0                           0   \n",
              "2                           0                           0   \n",
              "3                           0                           0   \n",
              "4                           0                           1   \n",
              "\n",
              "   authorities_contacted_Other  authorities_contacted_Police  \\\n",
              "0                            0                             1   \n",
              "1                            0                             1   \n",
              "2                            0                             1   \n",
              "3                            0                             1   \n",
              "4                            0                             0   \n",
              "\n",
              "   property_damage_YES  police_report_available_YES  \n",
              "0                    1                            1  \n",
              "1                    0                            0  \n",
              "2                    0                            0  \n",
              "3                    0                            0  \n",
              "4                    0                            0  \n",
              "\n",
              "[5 rows x 52 columns]"
            ],
            "text/html": [
              "\n",
              "  <div id=\"df-b395b977-ea14-4035-9b34-fdd2a8c0e839\">\n",
              "    <div class=\"colab-df-container\">\n",
              "      <div>\n",
              "<style scoped>\n",
              "    .dataframe tbody tr th:only-of-type {\n",
              "        vertical-align: middle;\n",
              "    }\n",
              "\n",
              "    .dataframe tbody tr th {\n",
              "        vertical-align: top;\n",
              "    }\n",
              "\n",
              "    .dataframe thead th {\n",
              "        text-align: right;\n",
              "    }\n",
              "</style>\n",
              "<table border=\"1\" class=\"dataframe\">\n",
              "  <thead>\n",
              "    <tr style=\"text-align: right;\">\n",
              "      <th></th>\n",
              "      <th>months_as_customer</th>\n",
              "      <th>policy_deductable</th>\n",
              "      <th>umbrella_limit</th>\n",
              "      <th>capital-gains</th>\n",
              "      <th>capital-loss</th>\n",
              "      <th>incident_hour_of_the_day</th>\n",
              "      <th>number_of_vehicles_involved</th>\n",
              "      <th>bodily_injuries</th>\n",
              "      <th>witnesses</th>\n",
              "      <th>injury_claim</th>\n",
              "      <th>...</th>\n",
              "      <th>collision_type_Side Collision</th>\n",
              "      <th>incident_severity_Minor Damage</th>\n",
              "      <th>incident_severity_Total Loss</th>\n",
              "      <th>incident_severity_Trivial Damage</th>\n",
              "      <th>authorities_contacted_Fire</th>\n",
              "      <th>authorities_contacted_None</th>\n",
              "      <th>authorities_contacted_Other</th>\n",
              "      <th>authorities_contacted_Police</th>\n",
              "      <th>property_damage_YES</th>\n",
              "      <th>police_report_available_YES</th>\n",
              "    </tr>\n",
              "  </thead>\n",
              "  <tbody>\n",
              "    <tr>\n",
              "      <th>0</th>\n",
              "      <td>328</td>\n",
              "      <td>1000</td>\n",
              "      <td>0</td>\n",
              "      <td>53300</td>\n",
              "      <td>0</td>\n",
              "      <td>5</td>\n",
              "      <td>1</td>\n",
              "      <td>1</td>\n",
              "      <td>2</td>\n",
              "      <td>6510</td>\n",
              "      <td>...</td>\n",
              "      <td>1</td>\n",
              "      <td>0</td>\n",
              "      <td>0</td>\n",
              "      <td>0</td>\n",
              "      <td>0</td>\n",
              "      <td>0</td>\n",
              "      <td>0</td>\n",
              "      <td>1</td>\n",
              "      <td>1</td>\n",
              "      <td>1</td>\n",
              "    </tr>\n",
              "    <tr>\n",
              "      <th>1</th>\n",
              "      <td>228</td>\n",
              "      <td>2000</td>\n",
              "      <td>5000000</td>\n",
              "      <td>0</td>\n",
              "      <td>0</td>\n",
              "      <td>8</td>\n",
              "      <td>1</td>\n",
              "      <td>0</td>\n",
              "      <td>0</td>\n",
              "      <td>780</td>\n",
              "      <td>...</td>\n",
              "      <td>0</td>\n",
              "      <td>1</td>\n",
              "      <td>0</td>\n",
              "      <td>0</td>\n",
              "      <td>0</td>\n",
              "      <td>0</td>\n",
              "      <td>0</td>\n",
              "      <td>1</td>\n",
              "      <td>0</td>\n",
              "      <td>0</td>\n",
              "    </tr>\n",
              "    <tr>\n",
              "      <th>2</th>\n",
              "      <td>134</td>\n",
              "      <td>2000</td>\n",
              "      <td>5000000</td>\n",
              "      <td>35100</td>\n",
              "      <td>0</td>\n",
              "      <td>7</td>\n",
              "      <td>3</td>\n",
              "      <td>2</td>\n",
              "      <td>3</td>\n",
              "      <td>7700</td>\n",
              "      <td>...</td>\n",
              "      <td>0</td>\n",
              "      <td>1</td>\n",
              "      <td>0</td>\n",
              "      <td>0</td>\n",
              "      <td>0</td>\n",
              "      <td>0</td>\n",
              "      <td>0</td>\n",
              "      <td>1</td>\n",
              "      <td>0</td>\n",
              "      <td>0</td>\n",
              "    </tr>\n",
              "    <tr>\n",
              "      <th>3</th>\n",
              "      <td>256</td>\n",
              "      <td>2000</td>\n",
              "      <td>6000000</td>\n",
              "      <td>48900</td>\n",
              "      <td>-62400</td>\n",
              "      <td>5</td>\n",
              "      <td>1</td>\n",
              "      <td>1</td>\n",
              "      <td>2</td>\n",
              "      <td>6340</td>\n",
              "      <td>...</td>\n",
              "      <td>0</td>\n",
              "      <td>0</td>\n",
              "      <td>0</td>\n",
              "      <td>0</td>\n",
              "      <td>0</td>\n",
              "      <td>0</td>\n",
              "      <td>0</td>\n",
              "      <td>1</td>\n",
              "      <td>0</td>\n",
              "      <td>0</td>\n",
              "    </tr>\n",
              "    <tr>\n",
              "      <th>4</th>\n",
              "      <td>228</td>\n",
              "      <td>1000</td>\n",
              "      <td>6000000</td>\n",
              "      <td>66000</td>\n",
              "      <td>-46000</td>\n",
              "      <td>20</td>\n",
              "      <td>1</td>\n",
              "      <td>0</td>\n",
              "      <td>1</td>\n",
              "      <td>1300</td>\n",
              "      <td>...</td>\n",
              "      <td>0</td>\n",
              "      <td>1</td>\n",
              "      <td>0</td>\n",
              "      <td>0</td>\n",
              "      <td>0</td>\n",
              "      <td>1</td>\n",
              "      <td>0</td>\n",
              "      <td>0</td>\n",
              "      <td>0</td>\n",
              "      <td>0</td>\n",
              "    </tr>\n",
              "  </tbody>\n",
              "</table>\n",
              "<p>5 rows × 52 columns</p>\n",
              "</div>\n",
              "      <button class=\"colab-df-convert\" onclick=\"convertToInteractive('df-b395b977-ea14-4035-9b34-fdd2a8c0e839')\"\n",
              "              title=\"Convert this dataframe to an interactive table.\"\n",
              "              style=\"display:none;\">\n",
              "        \n",
              "  <svg xmlns=\"http://www.w3.org/2000/svg\" height=\"24px\"viewBox=\"0 0 24 24\"\n",
              "       width=\"24px\">\n",
              "    <path d=\"M0 0h24v24H0V0z\" fill=\"none\"/>\n",
              "    <path d=\"M18.56 5.44l.94 2.06.94-2.06 2.06-.94-2.06-.94-.94-2.06-.94 2.06-2.06.94zm-11 1L8.5 8.5l.94-2.06 2.06-.94-2.06-.94L8.5 2.5l-.94 2.06-2.06.94zm10 10l.94 2.06.94-2.06 2.06-.94-2.06-.94-.94-2.06-.94 2.06-2.06.94z\"/><path d=\"M17.41 7.96l-1.37-1.37c-.4-.4-.92-.59-1.43-.59-.52 0-1.04.2-1.43.59L10.3 9.45l-7.72 7.72c-.78.78-.78 2.05 0 2.83L4 21.41c.39.39.9.59 1.41.59.51 0 1.02-.2 1.41-.59l7.78-7.78 2.81-2.81c.8-.78.8-2.07 0-2.86zM5.41 20L4 18.59l7.72-7.72 1.47 1.35L5.41 20z\"/>\n",
              "  </svg>\n",
              "      </button>\n",
              "      \n",
              "  <style>\n",
              "    .colab-df-container {\n",
              "      display:flex;\n",
              "      flex-wrap:wrap;\n",
              "      gap: 12px;\n",
              "    }\n",
              "\n",
              "    .colab-df-convert {\n",
              "      background-color: #E8F0FE;\n",
              "      border: none;\n",
              "      border-radius: 50%;\n",
              "      cursor: pointer;\n",
              "      display: none;\n",
              "      fill: #1967D2;\n",
              "      height: 32px;\n",
              "      padding: 0 0 0 0;\n",
              "      width: 32px;\n",
              "    }\n",
              "\n",
              "    .colab-df-convert:hover {\n",
              "      background-color: #E2EBFA;\n",
              "      box-shadow: 0px 1px 2px rgba(60, 64, 67, 0.3), 0px 1px 3px 1px rgba(60, 64, 67, 0.15);\n",
              "      fill: #174EA6;\n",
              "    }\n",
              "\n",
              "    [theme=dark] .colab-df-convert {\n",
              "      background-color: #3B4455;\n",
              "      fill: #D2E3FC;\n",
              "    }\n",
              "\n",
              "    [theme=dark] .colab-df-convert:hover {\n",
              "      background-color: #434B5C;\n",
              "      box-shadow: 0px 1px 3px 1px rgba(0, 0, 0, 0.15);\n",
              "      filter: drop-shadow(0px 1px 2px rgba(0, 0, 0, 0.3));\n",
              "      fill: #FFFFFF;\n",
              "    }\n",
              "  </style>\n",
              "\n",
              "      <script>\n",
              "        const buttonEl =\n",
              "          document.querySelector('#df-b395b977-ea14-4035-9b34-fdd2a8c0e839 button.colab-df-convert');\n",
              "        buttonEl.style.display =\n",
              "          google.colab.kernel.accessAllowed ? 'block' : 'none';\n",
              "\n",
              "        async function convertToInteractive(key) {\n",
              "          const element = document.querySelector('#df-b395b977-ea14-4035-9b34-fdd2a8c0e839');\n",
              "          const dataTable =\n",
              "            await google.colab.kernel.invokeFunction('convertToInteractive',\n",
              "                                                     [key], {});\n",
              "          if (!dataTable) return;\n",
              "\n",
              "          const docLinkHtml = 'Like what you see? Visit the ' +\n",
              "            '<a target=\"_blank\" href=https://colab.research.google.com/notebooks/data_table.ipynb>data table notebook</a>'\n",
              "            + ' to learn more about interactive tables.';\n",
              "          element.innerHTML = '';\n",
              "          dataTable['output_type'] = 'display_data';\n",
              "          await google.colab.output.renderOutput(dataTable, element);\n",
              "          const docLink = document.createElement('div');\n",
              "          docLink.innerHTML = docLinkHtml;\n",
              "          element.appendChild(docLink);\n",
              "        }\n",
              "      </script>\n",
              "    </div>\n",
              "  </div>\n",
              "  "
            ]
          },
          "metadata": {},
          "execution_count": 24
        }
      ]
    },
    {
      "cell_type": "code",
      "source": [
        "# splitting data into training set and test set\n",
        "\n",
        "from sklearn.model_selection import train_test_split\n",
        "\n",
        "X_train, X_test, y_train, y_test = train_test_split(X, y, test_size = 0.25)"
      ],
      "metadata": {
        "id": "D2JrgcBt31di"
      },
      "execution_count": null,
      "outputs": []
    },
    {
      "cell_type": "code",
      "source": [
        "X_train.head()"
      ],
      "metadata": {
        "id": "hthzcYpj31ZO",
        "colab": {
          "base_uri": "https://localhost:8080/",
          "height": 317
        },
        "outputId": "31e67691-dd17-4616-b284-08b0afc683b9"
      },
      "execution_count": null,
      "outputs": [
        {
          "output_type": "execute_result",
          "data": {
            "text/plain": [
              "     months_as_customer  policy_deductable  umbrella_limit  capital-gains  \\\n",
              "876                 247                500               0              0   \n",
              "656                 107                500         4000000          82100   \n",
              "454                 126               2000               0          46500   \n",
              "954                 246               1000               0              0   \n",
              "665                 435                500         5000000          73500   \n",
              "\n",
              "     capital-loss  incident_hour_of_the_day  number_of_vehicles_involved  \\\n",
              "876        -49300                         5                            1   \n",
              "656             0                         8                            1   \n",
              "454        -42700                        23                            1   \n",
              "954        -36600                        16                            1   \n",
              "665        -43300                        23                            1   \n",
              "\n",
              "     bodily_injuries  witnesses  injury_claim  ...  \\\n",
              "876                1          2           770  ...   \n",
              "656                1          3           780  ...   \n",
              "454                2          3          4430  ...   \n",
              "954                0          3          5020  ...   \n",
              "665                2          1          5240  ...   \n",
              "\n",
              "     collision_type_Side Collision  incident_severity_Minor Damage  \\\n",
              "876                              0                               0   \n",
              "656                              0                               0   \n",
              "454                              1                               1   \n",
              "954                              0                               1   \n",
              "665                              0                               0   \n",
              "\n",
              "     incident_severity_Total Loss  incident_severity_Trivial Damage  \\\n",
              "876                             0                                 1   \n",
              "656                             0                                 1   \n",
              "454                             0                                 0   \n",
              "954                             0                                 0   \n",
              "665                             1                                 0   \n",
              "\n",
              "     authorities_contacted_Fire  authorities_contacted_None  \\\n",
              "876                           0                           0   \n",
              "656                           0                           0   \n",
              "454                           0                           0   \n",
              "954                           0                           0   \n",
              "665                           0                           0   \n",
              "\n",
              "     authorities_contacted_Other  authorities_contacted_Police  \\\n",
              "876                            0                             1   \n",
              "656                            0                             1   \n",
              "454                            1                             0   \n",
              "954                            0                             0   \n",
              "665                            0                             0   \n",
              "\n",
              "     property_damage_YES  police_report_available_YES  \n",
              "876                    1                            0  \n",
              "656                    0                            0  \n",
              "454                    0                            0  \n",
              "954                    1                            0  \n",
              "665                    0                            0  \n",
              "\n",
              "[5 rows x 52 columns]"
            ],
            "text/html": [
              "\n",
              "  <div id=\"df-7573bdf2-f529-4dbb-a29c-8439176d0862\">\n",
              "    <div class=\"colab-df-container\">\n",
              "      <div>\n",
              "<style scoped>\n",
              "    .dataframe tbody tr th:only-of-type {\n",
              "        vertical-align: middle;\n",
              "    }\n",
              "\n",
              "    .dataframe tbody tr th {\n",
              "        vertical-align: top;\n",
              "    }\n",
              "\n",
              "    .dataframe thead th {\n",
              "        text-align: right;\n",
              "    }\n",
              "</style>\n",
              "<table border=\"1\" class=\"dataframe\">\n",
              "  <thead>\n",
              "    <tr style=\"text-align: right;\">\n",
              "      <th></th>\n",
              "      <th>months_as_customer</th>\n",
              "      <th>policy_deductable</th>\n",
              "      <th>umbrella_limit</th>\n",
              "      <th>capital-gains</th>\n",
              "      <th>capital-loss</th>\n",
              "      <th>incident_hour_of_the_day</th>\n",
              "      <th>number_of_vehicles_involved</th>\n",
              "      <th>bodily_injuries</th>\n",
              "      <th>witnesses</th>\n",
              "      <th>injury_claim</th>\n",
              "      <th>...</th>\n",
              "      <th>collision_type_Side Collision</th>\n",
              "      <th>incident_severity_Minor Damage</th>\n",
              "      <th>incident_severity_Total Loss</th>\n",
              "      <th>incident_severity_Trivial Damage</th>\n",
              "      <th>authorities_contacted_Fire</th>\n",
              "      <th>authorities_contacted_None</th>\n",
              "      <th>authorities_contacted_Other</th>\n",
              "      <th>authorities_contacted_Police</th>\n",
              "      <th>property_damage_YES</th>\n",
              "      <th>police_report_available_YES</th>\n",
              "    </tr>\n",
              "  </thead>\n",
              "  <tbody>\n",
              "    <tr>\n",
              "      <th>876</th>\n",
              "      <td>247</td>\n",
              "      <td>500</td>\n",
              "      <td>0</td>\n",
              "      <td>0</td>\n",
              "      <td>-49300</td>\n",
              "      <td>5</td>\n",
              "      <td>1</td>\n",
              "      <td>1</td>\n",
              "      <td>2</td>\n",
              "      <td>770</td>\n",
              "      <td>...</td>\n",
              "      <td>0</td>\n",
              "      <td>0</td>\n",
              "      <td>0</td>\n",
              "      <td>1</td>\n",
              "      <td>0</td>\n",
              "      <td>0</td>\n",
              "      <td>0</td>\n",
              "      <td>1</td>\n",
              "      <td>1</td>\n",
              "      <td>0</td>\n",
              "    </tr>\n",
              "    <tr>\n",
              "      <th>656</th>\n",
              "      <td>107</td>\n",
              "      <td>500</td>\n",
              "      <td>4000000</td>\n",
              "      <td>82100</td>\n",
              "      <td>0</td>\n",
              "      <td>8</td>\n",
              "      <td>1</td>\n",
              "      <td>1</td>\n",
              "      <td>3</td>\n",
              "      <td>780</td>\n",
              "      <td>...</td>\n",
              "      <td>0</td>\n",
              "      <td>0</td>\n",
              "      <td>0</td>\n",
              "      <td>1</td>\n",
              "      <td>0</td>\n",
              "      <td>0</td>\n",
              "      <td>0</td>\n",
              "      <td>1</td>\n",
              "      <td>0</td>\n",
              "      <td>0</td>\n",
              "    </tr>\n",
              "    <tr>\n",
              "      <th>454</th>\n",
              "      <td>126</td>\n",
              "      <td>2000</td>\n",
              "      <td>0</td>\n",
              "      <td>46500</td>\n",
              "      <td>-42700</td>\n",
              "      <td>23</td>\n",
              "      <td>1</td>\n",
              "      <td>2</td>\n",
              "      <td>3</td>\n",
              "      <td>4430</td>\n",
              "      <td>...</td>\n",
              "      <td>1</td>\n",
              "      <td>1</td>\n",
              "      <td>0</td>\n",
              "      <td>0</td>\n",
              "      <td>0</td>\n",
              "      <td>0</td>\n",
              "      <td>1</td>\n",
              "      <td>0</td>\n",
              "      <td>0</td>\n",
              "      <td>0</td>\n",
              "    </tr>\n",
              "    <tr>\n",
              "      <th>954</th>\n",
              "      <td>246</td>\n",
              "      <td>1000</td>\n",
              "      <td>0</td>\n",
              "      <td>0</td>\n",
              "      <td>-36600</td>\n",
              "      <td>16</td>\n",
              "      <td>1</td>\n",
              "      <td>0</td>\n",
              "      <td>3</td>\n",
              "      <td>5020</td>\n",
              "      <td>...</td>\n",
              "      <td>0</td>\n",
              "      <td>1</td>\n",
              "      <td>0</td>\n",
              "      <td>0</td>\n",
              "      <td>0</td>\n",
              "      <td>0</td>\n",
              "      <td>0</td>\n",
              "      <td>0</td>\n",
              "      <td>1</td>\n",
              "      <td>0</td>\n",
              "    </tr>\n",
              "    <tr>\n",
              "      <th>665</th>\n",
              "      <td>435</td>\n",
              "      <td>500</td>\n",
              "      <td>5000000</td>\n",
              "      <td>73500</td>\n",
              "      <td>-43300</td>\n",
              "      <td>23</td>\n",
              "      <td>1</td>\n",
              "      <td>2</td>\n",
              "      <td>1</td>\n",
              "      <td>5240</td>\n",
              "      <td>...</td>\n",
              "      <td>0</td>\n",
              "      <td>0</td>\n",
              "      <td>1</td>\n",
              "      <td>0</td>\n",
              "      <td>0</td>\n",
              "      <td>0</td>\n",
              "      <td>0</td>\n",
              "      <td>0</td>\n",
              "      <td>0</td>\n",
              "      <td>0</td>\n",
              "    </tr>\n",
              "  </tbody>\n",
              "</table>\n",
              "<p>5 rows × 52 columns</p>\n",
              "</div>\n",
              "      <button class=\"colab-df-convert\" onclick=\"convertToInteractive('df-7573bdf2-f529-4dbb-a29c-8439176d0862')\"\n",
              "              title=\"Convert this dataframe to an interactive table.\"\n",
              "              style=\"display:none;\">\n",
              "        \n",
              "  <svg xmlns=\"http://www.w3.org/2000/svg\" height=\"24px\"viewBox=\"0 0 24 24\"\n",
              "       width=\"24px\">\n",
              "    <path d=\"M0 0h24v24H0V0z\" fill=\"none\"/>\n",
              "    <path d=\"M18.56 5.44l.94 2.06.94-2.06 2.06-.94-2.06-.94-.94-2.06-.94 2.06-2.06.94zm-11 1L8.5 8.5l.94-2.06 2.06-.94-2.06-.94L8.5 2.5l-.94 2.06-2.06.94zm10 10l.94 2.06.94-2.06 2.06-.94-2.06-.94-.94-2.06-.94 2.06-2.06.94z\"/><path d=\"M17.41 7.96l-1.37-1.37c-.4-.4-.92-.59-1.43-.59-.52 0-1.04.2-1.43.59L10.3 9.45l-7.72 7.72c-.78.78-.78 2.05 0 2.83L4 21.41c.39.39.9.59 1.41.59.51 0 1.02-.2 1.41-.59l7.78-7.78 2.81-2.81c.8-.78.8-2.07 0-2.86zM5.41 20L4 18.59l7.72-7.72 1.47 1.35L5.41 20z\"/>\n",
              "  </svg>\n",
              "      </button>\n",
              "      \n",
              "  <style>\n",
              "    .colab-df-container {\n",
              "      display:flex;\n",
              "      flex-wrap:wrap;\n",
              "      gap: 12px;\n",
              "    }\n",
              "\n",
              "    .colab-df-convert {\n",
              "      background-color: #E8F0FE;\n",
              "      border: none;\n",
              "      border-radius: 50%;\n",
              "      cursor: pointer;\n",
              "      display: none;\n",
              "      fill: #1967D2;\n",
              "      height: 32px;\n",
              "      padding: 0 0 0 0;\n",
              "      width: 32px;\n",
              "    }\n",
              "\n",
              "    .colab-df-convert:hover {\n",
              "      background-color: #E2EBFA;\n",
              "      box-shadow: 0px 1px 2px rgba(60, 64, 67, 0.3), 0px 1px 3px 1px rgba(60, 64, 67, 0.15);\n",
              "      fill: #174EA6;\n",
              "    }\n",
              "\n",
              "    [theme=dark] .colab-df-convert {\n",
              "      background-color: #3B4455;\n",
              "      fill: #D2E3FC;\n",
              "    }\n",
              "\n",
              "    [theme=dark] .colab-df-convert:hover {\n",
              "      background-color: #434B5C;\n",
              "      box-shadow: 0px 1px 3px 1px rgba(0, 0, 0, 0.15);\n",
              "      filter: drop-shadow(0px 1px 2px rgba(0, 0, 0, 0.3));\n",
              "      fill: #FFFFFF;\n",
              "    }\n",
              "  </style>\n",
              "\n",
              "      <script>\n",
              "        const buttonEl =\n",
              "          document.querySelector('#df-7573bdf2-f529-4dbb-a29c-8439176d0862 button.colab-df-convert');\n",
              "        buttonEl.style.display =\n",
              "          google.colab.kernel.accessAllowed ? 'block' : 'none';\n",
              "\n",
              "        async function convertToInteractive(key) {\n",
              "          const element = document.querySelector('#df-7573bdf2-f529-4dbb-a29c-8439176d0862');\n",
              "          const dataTable =\n",
              "            await google.colab.kernel.invokeFunction('convertToInteractive',\n",
              "                                                     [key], {});\n",
              "          if (!dataTable) return;\n",
              "\n",
              "          const docLinkHtml = 'Like what you see? Visit the ' +\n",
              "            '<a target=\"_blank\" href=https://colab.research.google.com/notebooks/data_table.ipynb>data table notebook</a>'\n",
              "            + ' to learn more about interactive tables.';\n",
              "          element.innerHTML = '';\n",
              "          dataTable['output_type'] = 'display_data';\n",
              "          await google.colab.output.renderOutput(dataTable, element);\n",
              "          const docLink = document.createElement('div');\n",
              "          docLink.innerHTML = docLinkHtml;\n",
              "          element.appendChild(docLink);\n",
              "        }\n",
              "      </script>\n",
              "    </div>\n",
              "  </div>\n",
              "  "
            ]
          },
          "metadata": {},
          "execution_count": 26
        }
      ]
    },
    {
      "cell_type": "code",
      "source": [
        "num_df = X_train[['months_as_customer', 'policy_deductable', 'umbrella_limit',\n",
        "       'capital-gains', 'capital-loss', 'incident_hour_of_the_day',\n",
        "       'number_of_vehicles_involved', 'bodily_injuries', 'witnesses', 'injury_claim', 'property_claim',\n",
        "       'vehicle_claim']]\n",
        "# Scaling the numeric values in the dataset\n",
        "\n",
        "from sklearn.preprocessing import StandardScaler\n",
        "\n",
        "scaler = StandardScaler()\n",
        "scaled_data = scaler.fit_transform(num_df)\n"
      ],
      "metadata": {
        "id": "FKtw-DEE31Xj"
      },
      "execution_count": null,
      "outputs": []
    },
    {
      "cell_type": "code",
      "source": [
        "scaled_num_df = pd.DataFrame(data = scaled_data, columns = num_df.columns, index = X_train.index)\n",
        "scaled_num_df.head()\n"
      ],
      "metadata": {
        "id": "ja9USOGh4LNg",
        "colab": {
          "base_uri": "https://localhost:8080/",
          "height": 287
        },
        "outputId": "a5bd08b1-2d17-43b5-ec31-eb488c1b70f4"
      },
      "execution_count": null,
      "outputs": [
        {
          "output_type": "execute_result",
          "data": {
            "text/plain": [
              "     months_as_customer  policy_deductable  umbrella_limit  capital-gains  \\\n",
              "876            0.416997          -1.050199       -0.479486      -0.900985   \n",
              "656           -0.822064          -1.050199        1.239103       2.027302   \n",
              "454           -0.653906           1.385830       -0.479486       0.757545   \n",
              "954            0.408147          -0.238190       -0.479486      -0.900985   \n",
              "665            2.080879          -1.050199        1.668750       1.720563   \n",
              "\n",
              "     capital-loss  incident_hour_of_the_day  number_of_vehicles_involved  \\\n",
              "876     -0.784904                 -0.932611                    -0.832758   \n",
              "656      0.968172                 -0.506026                    -0.832758   \n",
              "454     -0.550212                  1.626903                    -0.832758   \n",
              "954     -0.333300                  0.631537                    -0.832758   \n",
              "665     -0.571548                  1.626903                    -0.832758   \n",
              "\n",
              "     bodily_injuries  witnesses  injury_claim  property_claim  vehicle_claim  \n",
              "876          0.01960   0.433410     -1.322764       -1.191318      -1.662609  \n",
              "656          0.01960   1.328884     -1.320779       -1.425715      -1.800296  \n",
              "454          1.24458   1.328884     -0.596213       -0.602270       0.122141  \n",
              "954         -1.20538   1.328884     -0.479092       -0.482014      -0.122693  \n",
              "665          1.24458  -0.462065     -0.435419        0.630859       0.499485  "
            ],
            "text/html": [
              "\n",
              "  <div id=\"df-4a7ae2aa-7f19-4ece-a7b3-6d2dd895d44e\">\n",
              "    <div class=\"colab-df-container\">\n",
              "      <div>\n",
              "<style scoped>\n",
              "    .dataframe tbody tr th:only-of-type {\n",
              "        vertical-align: middle;\n",
              "    }\n",
              "\n",
              "    .dataframe tbody tr th {\n",
              "        vertical-align: top;\n",
              "    }\n",
              "\n",
              "    .dataframe thead th {\n",
              "        text-align: right;\n",
              "    }\n",
              "</style>\n",
              "<table border=\"1\" class=\"dataframe\">\n",
              "  <thead>\n",
              "    <tr style=\"text-align: right;\">\n",
              "      <th></th>\n",
              "      <th>months_as_customer</th>\n",
              "      <th>policy_deductable</th>\n",
              "      <th>umbrella_limit</th>\n",
              "      <th>capital-gains</th>\n",
              "      <th>capital-loss</th>\n",
              "      <th>incident_hour_of_the_day</th>\n",
              "      <th>number_of_vehicles_involved</th>\n",
              "      <th>bodily_injuries</th>\n",
              "      <th>witnesses</th>\n",
              "      <th>injury_claim</th>\n",
              "      <th>property_claim</th>\n",
              "      <th>vehicle_claim</th>\n",
              "    </tr>\n",
              "  </thead>\n",
              "  <tbody>\n",
              "    <tr>\n",
              "      <th>876</th>\n",
              "      <td>0.416997</td>\n",
              "      <td>-1.050199</td>\n",
              "      <td>-0.479486</td>\n",
              "      <td>-0.900985</td>\n",
              "      <td>-0.784904</td>\n",
              "      <td>-0.932611</td>\n",
              "      <td>-0.832758</td>\n",
              "      <td>0.01960</td>\n",
              "      <td>0.433410</td>\n",
              "      <td>-1.322764</td>\n",
              "      <td>-1.191318</td>\n",
              "      <td>-1.662609</td>\n",
              "    </tr>\n",
              "    <tr>\n",
              "      <th>656</th>\n",
              "      <td>-0.822064</td>\n",
              "      <td>-1.050199</td>\n",
              "      <td>1.239103</td>\n",
              "      <td>2.027302</td>\n",
              "      <td>0.968172</td>\n",
              "      <td>-0.506026</td>\n",
              "      <td>-0.832758</td>\n",
              "      <td>0.01960</td>\n",
              "      <td>1.328884</td>\n",
              "      <td>-1.320779</td>\n",
              "      <td>-1.425715</td>\n",
              "      <td>-1.800296</td>\n",
              "    </tr>\n",
              "    <tr>\n",
              "      <th>454</th>\n",
              "      <td>-0.653906</td>\n",
              "      <td>1.385830</td>\n",
              "      <td>-0.479486</td>\n",
              "      <td>0.757545</td>\n",
              "      <td>-0.550212</td>\n",
              "      <td>1.626903</td>\n",
              "      <td>-0.832758</td>\n",
              "      <td>1.24458</td>\n",
              "      <td>1.328884</td>\n",
              "      <td>-0.596213</td>\n",
              "      <td>-0.602270</td>\n",
              "      <td>0.122141</td>\n",
              "    </tr>\n",
              "    <tr>\n",
              "      <th>954</th>\n",
              "      <td>0.408147</td>\n",
              "      <td>-0.238190</td>\n",
              "      <td>-0.479486</td>\n",
              "      <td>-0.900985</td>\n",
              "      <td>-0.333300</td>\n",
              "      <td>0.631537</td>\n",
              "      <td>-0.832758</td>\n",
              "      <td>-1.20538</td>\n",
              "      <td>1.328884</td>\n",
              "      <td>-0.479092</td>\n",
              "      <td>-0.482014</td>\n",
              "      <td>-0.122693</td>\n",
              "    </tr>\n",
              "    <tr>\n",
              "      <th>665</th>\n",
              "      <td>2.080879</td>\n",
              "      <td>-1.050199</td>\n",
              "      <td>1.668750</td>\n",
              "      <td>1.720563</td>\n",
              "      <td>-0.571548</td>\n",
              "      <td>1.626903</td>\n",
              "      <td>-0.832758</td>\n",
              "      <td>1.24458</td>\n",
              "      <td>-0.462065</td>\n",
              "      <td>-0.435419</td>\n",
              "      <td>0.630859</td>\n",
              "      <td>0.499485</td>\n",
              "    </tr>\n",
              "  </tbody>\n",
              "</table>\n",
              "</div>\n",
              "      <button class=\"colab-df-convert\" onclick=\"convertToInteractive('df-4a7ae2aa-7f19-4ece-a7b3-6d2dd895d44e')\"\n",
              "              title=\"Convert this dataframe to an interactive table.\"\n",
              "              style=\"display:none;\">\n",
              "        \n",
              "  <svg xmlns=\"http://www.w3.org/2000/svg\" height=\"24px\"viewBox=\"0 0 24 24\"\n",
              "       width=\"24px\">\n",
              "    <path d=\"M0 0h24v24H0V0z\" fill=\"none\"/>\n",
              "    <path d=\"M18.56 5.44l.94 2.06.94-2.06 2.06-.94-2.06-.94-.94-2.06-.94 2.06-2.06.94zm-11 1L8.5 8.5l.94-2.06 2.06-.94-2.06-.94L8.5 2.5l-.94 2.06-2.06.94zm10 10l.94 2.06.94-2.06 2.06-.94-2.06-.94-.94-2.06-.94 2.06-2.06.94z\"/><path d=\"M17.41 7.96l-1.37-1.37c-.4-.4-.92-.59-1.43-.59-.52 0-1.04.2-1.43.59L10.3 9.45l-7.72 7.72c-.78.78-.78 2.05 0 2.83L4 21.41c.39.39.9.59 1.41.59.51 0 1.02-.2 1.41-.59l7.78-7.78 2.81-2.81c.8-.78.8-2.07 0-2.86zM5.41 20L4 18.59l7.72-7.72 1.47 1.35L5.41 20z\"/>\n",
              "  </svg>\n",
              "      </button>\n",
              "      \n",
              "  <style>\n",
              "    .colab-df-container {\n",
              "      display:flex;\n",
              "      flex-wrap:wrap;\n",
              "      gap: 12px;\n",
              "    }\n",
              "\n",
              "    .colab-df-convert {\n",
              "      background-color: #E8F0FE;\n",
              "      border: none;\n",
              "      border-radius: 50%;\n",
              "      cursor: pointer;\n",
              "      display: none;\n",
              "      fill: #1967D2;\n",
              "      height: 32px;\n",
              "      padding: 0 0 0 0;\n",
              "      width: 32px;\n",
              "    }\n",
              "\n",
              "    .colab-df-convert:hover {\n",
              "      background-color: #E2EBFA;\n",
              "      box-shadow: 0px 1px 2px rgba(60, 64, 67, 0.3), 0px 1px 3px 1px rgba(60, 64, 67, 0.15);\n",
              "      fill: #174EA6;\n",
              "    }\n",
              "\n",
              "    [theme=dark] .colab-df-convert {\n",
              "      background-color: #3B4455;\n",
              "      fill: #D2E3FC;\n",
              "    }\n",
              "\n",
              "    [theme=dark] .colab-df-convert:hover {\n",
              "      background-color: #434B5C;\n",
              "      box-shadow: 0px 1px 3px 1px rgba(0, 0, 0, 0.15);\n",
              "      filter: drop-shadow(0px 1px 2px rgba(0, 0, 0, 0.3));\n",
              "      fill: #FFFFFF;\n",
              "    }\n",
              "  </style>\n",
              "\n",
              "      <script>\n",
              "        const buttonEl =\n",
              "          document.querySelector('#df-4a7ae2aa-7f19-4ece-a7b3-6d2dd895d44e button.colab-df-convert');\n",
              "        buttonEl.style.display =\n",
              "          google.colab.kernel.accessAllowed ? 'block' : 'none';\n",
              "\n",
              "        async function convertToInteractive(key) {\n",
              "          const element = document.querySelector('#df-4a7ae2aa-7f19-4ece-a7b3-6d2dd895d44e');\n",
              "          const dataTable =\n",
              "            await google.colab.kernel.invokeFunction('convertToInteractive',\n",
              "                                                     [key], {});\n",
              "          if (!dataTable) return;\n",
              "\n",
              "          const docLinkHtml = 'Like what you see? Visit the ' +\n",
              "            '<a target=\"_blank\" href=https://colab.research.google.com/notebooks/data_table.ipynb>data table notebook</a>'\n",
              "            + ' to learn more about interactive tables.';\n",
              "          element.innerHTML = '';\n",
              "          dataTable['output_type'] = 'display_data';\n",
              "          await google.colab.output.renderOutput(dataTable, element);\n",
              "          const docLink = document.createElement('div');\n",
              "          docLink.innerHTML = docLinkHtml;\n",
              "          element.appendChild(docLink);\n",
              "        }\n",
              "      </script>\n",
              "    </div>\n",
              "  </div>\n",
              "  "
            ]
          },
          "metadata": {},
          "execution_count": 28
        }
      ]
    },
    {
      "cell_type": "code",
      "source": [
        "X_train.drop(columns = scaled_num_df.columns, inplace = True)\n",
        "X_train = pd.concat([scaled_num_df, X_train], axis = 1)\n",
        "X_train"
      ],
      "metadata": {
        "id": "X37xB7y54LLj",
        "colab": {
          "base_uri": "https://localhost:8080/",
          "height": 505
        },
        "outputId": "de90c418-255b-4fb3-ffec-01245de52357"
      },
      "execution_count": null,
      "outputs": [
        {
          "output_type": "execute_result",
          "data": {
            "text/plain": [
              "     months_as_customer  policy_deductable  umbrella_limit  capital-gains  \\\n",
              "876            0.416997          -1.050199       -0.479486      -0.900985   \n",
              "656           -0.822064          -1.050199        1.239103       2.027302   \n",
              "454           -0.653906           1.385830       -0.479486       0.757545   \n",
              "954            0.408147          -0.238190       -0.479486      -0.900985   \n",
              "665            2.080879          -1.050199        1.668750       1.720563   \n",
              "..                  ...                ...             ...            ...   \n",
              "94             0.629408          -1.050199       -0.479486      -0.900985   \n",
              "69             1.222387          -0.238190       -0.479486      -0.900985   \n",
              "827           -1.096428          -0.238190       -0.479486      -0.900985   \n",
              "600           -1.202633           1.385830       -0.479486      -0.900985   \n",
              "903           -0.512299          -1.050199       -0.479486       1.467325   \n",
              "\n",
              "     capital-loss  incident_hour_of_the_day  number_of_vehicles_involved  \\\n",
              "876     -0.784904                 -0.932611                    -0.832758   \n",
              "656      0.968172                 -0.506026                    -0.832758   \n",
              "454     -0.550212                  1.626903                    -0.832758   \n",
              "954     -0.333300                  0.631537                    -0.832758   \n",
              "665     -0.571548                  1.626903                    -0.832758   \n",
              "..            ...                       ...                          ...   \n",
              "94       0.968172                  1.342513                     1.112939   \n",
              "69      -0.863134                  0.204951                    -0.832758   \n",
              "827      0.968172                 -0.790416                     1.112939   \n",
              "600     -1.215172                 -1.074807                    -0.832758   \n",
              "903     -1.296958                  1.484708                    -0.832758   \n",
              "\n",
              "     bodily_injuries  witnesses  injury_claim  ...  \\\n",
              "876          0.01960   0.433410     -1.322764  ...   \n",
              "656          0.01960   1.328884     -1.320779  ...   \n",
              "454          1.24458   1.328884     -0.596213  ...   \n",
              "954         -1.20538   1.328884     -0.479092  ...   \n",
              "665          1.24458  -0.462065     -0.435419  ...   \n",
              "..               ...        ...           ...  ...   \n",
              "94           0.01960  -1.357540      1.907011  ...   \n",
              "69          -1.20538  -0.462065     -1.304898  ...   \n",
              "827          0.01960  -0.462065      1.490138  ...   \n",
              "600          0.01960   0.433410     -0.608124  ...   \n",
              "903          1.24458   1.328884      0.751677  ...   \n",
              "\n",
              "     collision_type_Side Collision  incident_severity_Minor Damage  \\\n",
              "876                              0                               0   \n",
              "656                              0                               0   \n",
              "454                              1                               1   \n",
              "954                              0                               1   \n",
              "665                              0                               0   \n",
              "..                             ...                             ...   \n",
              "94                               0                               0   \n",
              "69                               0                               1   \n",
              "827                              1                               0   \n",
              "600                              1                               1   \n",
              "903                              1                               1   \n",
              "\n",
              "     incident_severity_Total Loss  incident_severity_Trivial Damage  \\\n",
              "876                             0                                 1   \n",
              "656                             0                                 1   \n",
              "454                             0                                 0   \n",
              "954                             0                                 0   \n",
              "665                             1                                 0   \n",
              "..                            ...                               ...   \n",
              "94                              1                                 0   \n",
              "69                              0                                 0   \n",
              "827                             1                                 0   \n",
              "600                             0                                 0   \n",
              "903                             0                                 0   \n",
              "\n",
              "     authorities_contacted_Fire  authorities_contacted_None  \\\n",
              "876                           0                           0   \n",
              "656                           0                           0   \n",
              "454                           0                           0   \n",
              "954                           0                           0   \n",
              "665                           0                           0   \n",
              "..                          ...                         ...   \n",
              "94                            0                           0   \n",
              "69                            0                           1   \n",
              "827                           0                           0   \n",
              "600                           0                           0   \n",
              "903                           0                           0   \n",
              "\n",
              "     authorities_contacted_Other  authorities_contacted_Police  \\\n",
              "876                            0                             1   \n",
              "656                            0                             1   \n",
              "454                            1                             0   \n",
              "954                            0                             0   \n",
              "665                            0                             0   \n",
              "..                           ...                           ...   \n",
              "94                             0                             0   \n",
              "69                             0                             0   \n",
              "827                            0                             0   \n",
              "600                            0                             0   \n",
              "903                            1                             0   \n",
              "\n",
              "     property_damage_YES  police_report_available_YES  \n",
              "876                    1                            0  \n",
              "656                    0                            0  \n",
              "454                    0                            0  \n",
              "954                    1                            0  \n",
              "665                    0                            0  \n",
              "..                   ...                          ...  \n",
              "94                     0                            0  \n",
              "69                     0                            0  \n",
              "827                    0                            0  \n",
              "600                    0                            0  \n",
              "903                    1                            0  \n",
              "\n",
              "[750 rows x 52 columns]"
            ],
            "text/html": [
              "\n",
              "  <div id=\"df-5168858a-e43b-4d9e-af97-13dacedcf3cf\">\n",
              "    <div class=\"colab-df-container\">\n",
              "      <div>\n",
              "<style scoped>\n",
              "    .dataframe tbody tr th:only-of-type {\n",
              "        vertical-align: middle;\n",
              "    }\n",
              "\n",
              "    .dataframe tbody tr th {\n",
              "        vertical-align: top;\n",
              "    }\n",
              "\n",
              "    .dataframe thead th {\n",
              "        text-align: right;\n",
              "    }\n",
              "</style>\n",
              "<table border=\"1\" class=\"dataframe\">\n",
              "  <thead>\n",
              "    <tr style=\"text-align: right;\">\n",
              "      <th></th>\n",
              "      <th>months_as_customer</th>\n",
              "      <th>policy_deductable</th>\n",
              "      <th>umbrella_limit</th>\n",
              "      <th>capital-gains</th>\n",
              "      <th>capital-loss</th>\n",
              "      <th>incident_hour_of_the_day</th>\n",
              "      <th>number_of_vehicles_involved</th>\n",
              "      <th>bodily_injuries</th>\n",
              "      <th>witnesses</th>\n",
              "      <th>injury_claim</th>\n",
              "      <th>...</th>\n",
              "      <th>collision_type_Side Collision</th>\n",
              "      <th>incident_severity_Minor Damage</th>\n",
              "      <th>incident_severity_Total Loss</th>\n",
              "      <th>incident_severity_Trivial Damage</th>\n",
              "      <th>authorities_contacted_Fire</th>\n",
              "      <th>authorities_contacted_None</th>\n",
              "      <th>authorities_contacted_Other</th>\n",
              "      <th>authorities_contacted_Police</th>\n",
              "      <th>property_damage_YES</th>\n",
              "      <th>police_report_available_YES</th>\n",
              "    </tr>\n",
              "  </thead>\n",
              "  <tbody>\n",
              "    <tr>\n",
              "      <th>876</th>\n",
              "      <td>0.416997</td>\n",
              "      <td>-1.050199</td>\n",
              "      <td>-0.479486</td>\n",
              "      <td>-0.900985</td>\n",
              "      <td>-0.784904</td>\n",
              "      <td>-0.932611</td>\n",
              "      <td>-0.832758</td>\n",
              "      <td>0.01960</td>\n",
              "      <td>0.433410</td>\n",
              "      <td>-1.322764</td>\n",
              "      <td>...</td>\n",
              "      <td>0</td>\n",
              "      <td>0</td>\n",
              "      <td>0</td>\n",
              "      <td>1</td>\n",
              "      <td>0</td>\n",
              "      <td>0</td>\n",
              "      <td>0</td>\n",
              "      <td>1</td>\n",
              "      <td>1</td>\n",
              "      <td>0</td>\n",
              "    </tr>\n",
              "    <tr>\n",
              "      <th>656</th>\n",
              "      <td>-0.822064</td>\n",
              "      <td>-1.050199</td>\n",
              "      <td>1.239103</td>\n",
              "      <td>2.027302</td>\n",
              "      <td>0.968172</td>\n",
              "      <td>-0.506026</td>\n",
              "      <td>-0.832758</td>\n",
              "      <td>0.01960</td>\n",
              "      <td>1.328884</td>\n",
              "      <td>-1.320779</td>\n",
              "      <td>...</td>\n",
              "      <td>0</td>\n",
              "      <td>0</td>\n",
              "      <td>0</td>\n",
              "      <td>1</td>\n",
              "      <td>0</td>\n",
              "      <td>0</td>\n",
              "      <td>0</td>\n",
              "      <td>1</td>\n",
              "      <td>0</td>\n",
              "      <td>0</td>\n",
              "    </tr>\n",
              "    <tr>\n",
              "      <th>454</th>\n",
              "      <td>-0.653906</td>\n",
              "      <td>1.385830</td>\n",
              "      <td>-0.479486</td>\n",
              "      <td>0.757545</td>\n",
              "      <td>-0.550212</td>\n",
              "      <td>1.626903</td>\n",
              "      <td>-0.832758</td>\n",
              "      <td>1.24458</td>\n",
              "      <td>1.328884</td>\n",
              "      <td>-0.596213</td>\n",
              "      <td>...</td>\n",
              "      <td>1</td>\n",
              "      <td>1</td>\n",
              "      <td>0</td>\n",
              "      <td>0</td>\n",
              "      <td>0</td>\n",
              "      <td>0</td>\n",
              "      <td>1</td>\n",
              "      <td>0</td>\n",
              "      <td>0</td>\n",
              "      <td>0</td>\n",
              "    </tr>\n",
              "    <tr>\n",
              "      <th>954</th>\n",
              "      <td>0.408147</td>\n",
              "      <td>-0.238190</td>\n",
              "      <td>-0.479486</td>\n",
              "      <td>-0.900985</td>\n",
              "      <td>-0.333300</td>\n",
              "      <td>0.631537</td>\n",
              "      <td>-0.832758</td>\n",
              "      <td>-1.20538</td>\n",
              "      <td>1.328884</td>\n",
              "      <td>-0.479092</td>\n",
              "      <td>...</td>\n",
              "      <td>0</td>\n",
              "      <td>1</td>\n",
              "      <td>0</td>\n",
              "      <td>0</td>\n",
              "      <td>0</td>\n",
              "      <td>0</td>\n",
              "      <td>0</td>\n",
              "      <td>0</td>\n",
              "      <td>1</td>\n",
              "      <td>0</td>\n",
              "    </tr>\n",
              "    <tr>\n",
              "      <th>665</th>\n",
              "      <td>2.080879</td>\n",
              "      <td>-1.050199</td>\n",
              "      <td>1.668750</td>\n",
              "      <td>1.720563</td>\n",
              "      <td>-0.571548</td>\n",
              "      <td>1.626903</td>\n",
              "      <td>-0.832758</td>\n",
              "      <td>1.24458</td>\n",
              "      <td>-0.462065</td>\n",
              "      <td>-0.435419</td>\n",
              "      <td>...</td>\n",
              "      <td>0</td>\n",
              "      <td>0</td>\n",
              "      <td>1</td>\n",
              "      <td>0</td>\n",
              "      <td>0</td>\n",
              "      <td>0</td>\n",
              "      <td>0</td>\n",
              "      <td>0</td>\n",
              "      <td>0</td>\n",
              "      <td>0</td>\n",
              "    </tr>\n",
              "    <tr>\n",
              "      <th>...</th>\n",
              "      <td>...</td>\n",
              "      <td>...</td>\n",
              "      <td>...</td>\n",
              "      <td>...</td>\n",
              "      <td>...</td>\n",
              "      <td>...</td>\n",
              "      <td>...</td>\n",
              "      <td>...</td>\n",
              "      <td>...</td>\n",
              "      <td>...</td>\n",
              "      <td>...</td>\n",
              "      <td>...</td>\n",
              "      <td>...</td>\n",
              "      <td>...</td>\n",
              "      <td>...</td>\n",
              "      <td>...</td>\n",
              "      <td>...</td>\n",
              "      <td>...</td>\n",
              "      <td>...</td>\n",
              "      <td>...</td>\n",
              "      <td>...</td>\n",
              "    </tr>\n",
              "    <tr>\n",
              "      <th>94</th>\n",
              "      <td>0.629408</td>\n",
              "      <td>-1.050199</td>\n",
              "      <td>-0.479486</td>\n",
              "      <td>-0.900985</td>\n",
              "      <td>0.968172</td>\n",
              "      <td>1.342513</td>\n",
              "      <td>1.112939</td>\n",
              "      <td>0.01960</td>\n",
              "      <td>-1.357540</td>\n",
              "      <td>1.907011</td>\n",
              "      <td>...</td>\n",
              "      <td>0</td>\n",
              "      <td>0</td>\n",
              "      <td>1</td>\n",
              "      <td>0</td>\n",
              "      <td>0</td>\n",
              "      <td>0</td>\n",
              "      <td>0</td>\n",
              "      <td>0</td>\n",
              "      <td>0</td>\n",
              "      <td>0</td>\n",
              "    </tr>\n",
              "    <tr>\n",
              "      <th>69</th>\n",
              "      <td>1.222387</td>\n",
              "      <td>-0.238190</td>\n",
              "      <td>-0.479486</td>\n",
              "      <td>-0.900985</td>\n",
              "      <td>-0.863134</td>\n",
              "      <td>0.204951</td>\n",
              "      <td>-0.832758</td>\n",
              "      <td>-1.20538</td>\n",
              "      <td>-0.462065</td>\n",
              "      <td>-1.304898</td>\n",
              "      <td>...</td>\n",
              "      <td>0</td>\n",
              "      <td>1</td>\n",
              "      <td>0</td>\n",
              "      <td>0</td>\n",
              "      <td>0</td>\n",
              "      <td>1</td>\n",
              "      <td>0</td>\n",
              "      <td>0</td>\n",
              "      <td>0</td>\n",
              "      <td>0</td>\n",
              "    </tr>\n",
              "    <tr>\n",
              "      <th>827</th>\n",
              "      <td>-1.096428</td>\n",
              "      <td>-0.238190</td>\n",
              "      <td>-0.479486</td>\n",
              "      <td>-0.900985</td>\n",
              "      <td>0.968172</td>\n",
              "      <td>-0.790416</td>\n",
              "      <td>1.112939</td>\n",
              "      <td>0.01960</td>\n",
              "      <td>-0.462065</td>\n",
              "      <td>1.490138</td>\n",
              "      <td>...</td>\n",
              "      <td>1</td>\n",
              "      <td>0</td>\n",
              "      <td>1</td>\n",
              "      <td>0</td>\n",
              "      <td>0</td>\n",
              "      <td>0</td>\n",
              "      <td>0</td>\n",
              "      <td>0</td>\n",
              "      <td>0</td>\n",
              "      <td>0</td>\n",
              "    </tr>\n",
              "    <tr>\n",
              "      <th>600</th>\n",
              "      <td>-1.202633</td>\n",
              "      <td>1.385830</td>\n",
              "      <td>-0.479486</td>\n",
              "      <td>-0.900985</td>\n",
              "      <td>-1.215172</td>\n",
              "      <td>-1.074807</td>\n",
              "      <td>-0.832758</td>\n",
              "      <td>0.01960</td>\n",
              "      <td>0.433410</td>\n",
              "      <td>-0.608124</td>\n",
              "      <td>...</td>\n",
              "      <td>1</td>\n",
              "      <td>1</td>\n",
              "      <td>0</td>\n",
              "      <td>0</td>\n",
              "      <td>0</td>\n",
              "      <td>0</td>\n",
              "      <td>0</td>\n",
              "      <td>0</td>\n",
              "      <td>0</td>\n",
              "      <td>0</td>\n",
              "    </tr>\n",
              "    <tr>\n",
              "      <th>903</th>\n",
              "      <td>-0.512299</td>\n",
              "      <td>-1.050199</td>\n",
              "      <td>-0.479486</td>\n",
              "      <td>1.467325</td>\n",
              "      <td>-1.296958</td>\n",
              "      <td>1.484708</td>\n",
              "      <td>-0.832758</td>\n",
              "      <td>1.24458</td>\n",
              "      <td>1.328884</td>\n",
              "      <td>0.751677</td>\n",
              "      <td>...</td>\n",
              "      <td>1</td>\n",
              "      <td>1</td>\n",
              "      <td>0</td>\n",
              "      <td>0</td>\n",
              "      <td>0</td>\n",
              "      <td>0</td>\n",
              "      <td>1</td>\n",
              "      <td>0</td>\n",
              "      <td>1</td>\n",
              "      <td>0</td>\n",
              "    </tr>\n",
              "  </tbody>\n",
              "</table>\n",
              "<p>750 rows × 52 columns</p>\n",
              "</div>\n",
              "      <button class=\"colab-df-convert\" onclick=\"convertToInteractive('df-5168858a-e43b-4d9e-af97-13dacedcf3cf')\"\n",
              "              title=\"Convert this dataframe to an interactive table.\"\n",
              "              style=\"display:none;\">\n",
              "        \n",
              "  <svg xmlns=\"http://www.w3.org/2000/svg\" height=\"24px\"viewBox=\"0 0 24 24\"\n",
              "       width=\"24px\">\n",
              "    <path d=\"M0 0h24v24H0V0z\" fill=\"none\"/>\n",
              "    <path d=\"M18.56 5.44l.94 2.06.94-2.06 2.06-.94-2.06-.94-.94-2.06-.94 2.06-2.06.94zm-11 1L8.5 8.5l.94-2.06 2.06-.94-2.06-.94L8.5 2.5l-.94 2.06-2.06.94zm10 10l.94 2.06.94-2.06 2.06-.94-2.06-.94-.94-2.06-.94 2.06-2.06.94z\"/><path d=\"M17.41 7.96l-1.37-1.37c-.4-.4-.92-.59-1.43-.59-.52 0-1.04.2-1.43.59L10.3 9.45l-7.72 7.72c-.78.78-.78 2.05 0 2.83L4 21.41c.39.39.9.59 1.41.59.51 0 1.02-.2 1.41-.59l7.78-7.78 2.81-2.81c.8-.78.8-2.07 0-2.86zM5.41 20L4 18.59l7.72-7.72 1.47 1.35L5.41 20z\"/>\n",
              "  </svg>\n",
              "      </button>\n",
              "      \n",
              "  <style>\n",
              "    .colab-df-container {\n",
              "      display:flex;\n",
              "      flex-wrap:wrap;\n",
              "      gap: 12px;\n",
              "    }\n",
              "\n",
              "    .colab-df-convert {\n",
              "      background-color: #E8F0FE;\n",
              "      border: none;\n",
              "      border-radius: 50%;\n",
              "      cursor: pointer;\n",
              "      display: none;\n",
              "      fill: #1967D2;\n",
              "      height: 32px;\n",
              "      padding: 0 0 0 0;\n",
              "      width: 32px;\n",
              "    }\n",
              "\n",
              "    .colab-df-convert:hover {\n",
              "      background-color: #E2EBFA;\n",
              "      box-shadow: 0px 1px 2px rgba(60, 64, 67, 0.3), 0px 1px 3px 1px rgba(60, 64, 67, 0.15);\n",
              "      fill: #174EA6;\n",
              "    }\n",
              "\n",
              "    [theme=dark] .colab-df-convert {\n",
              "      background-color: #3B4455;\n",
              "      fill: #D2E3FC;\n",
              "    }\n",
              "\n",
              "    [theme=dark] .colab-df-convert:hover {\n",
              "      background-color: #434B5C;\n",
              "      box-shadow: 0px 1px 3px 1px rgba(0, 0, 0, 0.15);\n",
              "      filter: drop-shadow(0px 1px 2px rgba(0, 0, 0, 0.3));\n",
              "      fill: #FFFFFF;\n",
              "    }\n",
              "  </style>\n",
              "\n",
              "      <script>\n",
              "        const buttonEl =\n",
              "          document.querySelector('#df-5168858a-e43b-4d9e-af97-13dacedcf3cf button.colab-df-convert');\n",
              "        buttonEl.style.display =\n",
              "          google.colab.kernel.accessAllowed ? 'block' : 'none';\n",
              "\n",
              "        async function convertToInteractive(key) {\n",
              "          const element = document.querySelector('#df-5168858a-e43b-4d9e-af97-13dacedcf3cf');\n",
              "          const dataTable =\n",
              "            await google.colab.kernel.invokeFunction('convertToInteractive',\n",
              "                                                     [key], {});\n",
              "          if (!dataTable) return;\n",
              "\n",
              "          const docLinkHtml = 'Like what you see? Visit the ' +\n",
              "            '<a target=\"_blank\" href=https://colab.research.google.com/notebooks/data_table.ipynb>data table notebook</a>'\n",
              "            + ' to learn more about interactive tables.';\n",
              "          element.innerHTML = '';\n",
              "          dataTable['output_type'] = 'display_data';\n",
              "          await google.colab.output.renderOutput(dataTable, element);\n",
              "          const docLink = document.createElement('div');\n",
              "          docLink.innerHTML = docLinkHtml;\n",
              "          element.appendChild(docLink);\n",
              "        }\n",
              "      </script>\n",
              "    </div>\n",
              "  </div>\n",
              "  "
            ]
          },
          "metadata": {},
          "execution_count": 30
        }
      ]
    },
    {
      "cell_type": "markdown",
      "source": [
        "**Decision Tree**"
      ],
      "metadata": {
        "id": "TUFvTGRy5D2C"
      }
    },
    {
      "cell_type": "code",
      "source": [
        "from sklearn.tree import DecisionTreeClassifier\n",
        "\n",
        "dtc = DecisionTreeClassifier()\n",
        "dtc.fit(X_train, y_train)\n",
        "\n",
        "y_pred = dtc.predict(X_test)"
      ],
      "metadata": {
        "id": "MmqyoCaZnnR0"
      },
      "execution_count": null,
      "outputs": []
    },
    {
      "cell_type": "code",
      "source": [
        "from sklearn.metrics import accuracy_score, confusion_matrix, classification_report\n",
        "\n",
        "dtc_train_acc = accuracy_score(y_train, dtc.predict(X_train))\n",
        "dtc_test_acc = accuracy_score(y_test, y_pred)\n",
        "\n",
        "print(f\"Training accuracy of Decision Tree is : {dtc_train_acc}\")\n",
        "print(f\"Test accuracy of Decision Tree is : {dtc_test_acc}\")\n"
      ],
      "metadata": {
        "colab": {
          "base_uri": "https://localhost:8080/"
        },
        "id": "W4ktYBkBnof3",
        "outputId": "d79ff469-7584-4976-f7fb-2bc89b2c657e"
      },
      "execution_count": null,
      "outputs": [
        {
          "output_type": "stream",
          "name": "stdout",
          "text": [
            "Training accuracy of Decision Tree is : 1.0\n",
            "Test accuracy of Decision Tree is : 0.436\n"
          ]
        }
      ]
    },
    {
      "cell_type": "code",
      "source": [
        "cm0 =confusion_matrix(y_test, y_pred)\n",
        "print(cm0)\n",
        "print(classification_report(y_test, y_pred))\n",
        "sensitivity0=cm0[0,0]/(cm0[0,0]+cm0[0,1])\n",
        "print('Sensitivity : ', sensitivity0 )\n",
        "\n",
        "specificity0 = cm0[1,1]/(cm0[1,0]+cm0[1,1])\n",
        "print('Specificity : ', specificity0)"
      ],
      "metadata": {
        "colab": {
          "base_uri": "https://localhost:8080/"
        },
        "id": "5qIUSw_VoNqn",
        "outputId": "690a9982-2a23-42b2-980a-5f2afe630ee2"
      },
      "execution_count": null,
      "outputs": [
        {
          "output_type": "stream",
          "name": "stdout",
          "text": [
            "[[ 79 112]\n",
            " [ 29  30]]\n",
            "              precision    recall  f1-score   support\n",
            "\n",
            "           N       0.73      0.41      0.53       191\n",
            "           Y       0.21      0.51      0.30        59\n",
            "\n",
            "    accuracy                           0.44       250\n",
            "   macro avg       0.47      0.46      0.41       250\n",
            "weighted avg       0.61      0.44      0.47       250\n",
            "\n",
            "Sensitivity :  0.41361256544502617\n",
            "Specificity :  0.5084745762711864\n"
          ]
        }
      ]
    },
    {
      "cell_type": "code",
      "source": [
        "sns.heatmap(cm0, annot=True, fmt='d', cmap='Spectral')\n",
        "plt.show()"
      ],
      "metadata": {
        "colab": {
          "base_uri": "https://localhost:8080/",
          "height": 265
        },
        "id": "Eem-q1NekFQJ",
        "outputId": "62bb36d0-c614-4d1f-c1d5-2bcc4fbf9231"
      },
      "execution_count": null,
      "outputs": [
        {
          "output_type": "display_data",
          "data": {
            "text/plain": [
              "<Figure size 432x288 with 2 Axes>"
            ],
            "image/png": "[encoded data removed]"
          },
          "metadata": {
            "needs_background": "light"
          }
        }
      ]
    },
    {
      "cell_type": "markdown",
      "source": [
        "**Support vector machine**"
      ],
      "metadata": {
        "id": "edP93-8r22zf"
      }
    },
    {
      "cell_type": "code",
      "source": [
        "from sklearn.svm import SVC\n",
        "\n",
        "svc = SVC()\n",
        "svc.fit(X_train, y_train)\n",
        "\n",
        "y_pred = svc.predict(X_test)\n",
        "# accuracy_score, confusion_matrix and classification_report\n"
      ],
      "metadata": {
        "id": "Y2x71hiS21Bi"
      },
      "execution_count": null,
      "outputs": []
    },
    {
      "cell_type": "code",
      "source": [
        "from sklearn.metrics import accuracy_score, confusion_matrix, classification_report\n",
        "\n",
        "svc_train_acc = accuracy_score(y_train, svc.predict(X_train))\n",
        "svc_test_acc = accuracy_score(y_test, y_pred)\n",
        "\n",
        "print(f\"Training accuracy of Support Vector Classifier is : {svc_train_acc}\")\n",
        "print(f\"Test accuracy of Support Vector Classifier is : {svc_test_acc}\")\n",
        "\n",
        "cm1 =(confusion_matrix(y_test, y_pred))\n",
        "print(cm1)\n",
        "print(classification_report(y_test, y_pred))\n",
        "sensitivity1=cm1[0,0]/(cm1[0,0]+cm1[0,1])\n",
        "print('Sensitivity : ', sensitivity1 )\n",
        "\n",
        "specificity1 = cm1[1,1]/(cm1[1,0]+cm1[1,1])\n",
        "print('Specificity : ', specificity1)"
      ],
      "metadata": {
        "colab": {
          "base_uri": "https://localhost:8080/"
        },
        "id": "4NlLJkzb3Dyf",
        "outputId": "6cfbcc06-b045-4a8a-e563-92db4d71b0eb"
      },
      "execution_count": null,
      "outputs": [
        {
          "output_type": "stream",
          "name": "stdout",
          "text": [
            "Training accuracy of Support Vector Classifier is : 0.868\n",
            "Test accuracy of Support Vector Classifier is : 0.764\n",
            "[[191   0]\n",
            " [ 59   0]]\n",
            "              precision    recall  f1-score   support\n",
            "\n",
            "           N       0.76      1.00      0.87       191\n",
            "           Y       0.00      0.00      0.00        59\n",
            "\n",
            "    accuracy                           0.76       250\n",
            "   macro avg       0.38      0.50      0.43       250\n",
            "weighted avg       0.58      0.76      0.66       250\n",
            "\n",
            "Sensitivity :  1.0\n",
            "Specificity :  0.0\n"
          ]
        },
        {
          "output_type": "stream",
          "name": "stderr",
          "text": [
            "/usr/local/lib/python3.7/dist-packages/sklearn/metrics/_classification.py:1318: UndefinedMetricWarning: Precision and F-score are ill-defined and being set to 0.0 in labels with no predicted samples. Use `zero_division` parameter to control this behavior.\n",
            "  _warn_prf(average, modifier, msg_start, len(result))\n",
            "/usr/local/lib/python3.7/dist-packages/sklearn/metrics/_classification.py:1318: UndefinedMetricWarning: Precision and F-score are ill-defined and being set to 0.0 in labels with no predicted samples. Use `zero_division` parameter to control this behavior.\n",
            "  _warn_prf(average, modifier, msg_start, len(result))\n",
            "/usr/local/lib/python3.7/dist-packages/sklearn/metrics/_classification.py:1318: UndefinedMetricWarning: Precision and F-score are ill-defined and being set to 0.0 in labels with no predicted samples. Use `zero_division` parameter to control this behavior.\n",
            "  _warn_prf(average, modifier, msg_start, len(result))\n"
          ]
        }
      ]
    },
    {
      "cell_type": "code",
      "source": [
        "sns.heatmap(cm1, annot=True, fmt='d', cmap='Set3')\n",
        "plt.show()"
      ],
      "metadata": {
        "colab": {
          "base_uri": "https://localhost:8080/",
          "height": 265
        },
        "id": "g-SJCqr2Btuy",
        "outputId": "12c6f6af-2bf2-4d78-d1c5-271a0aaabfdc"
      },
      "execution_count": null,
      "outputs": [
        {
          "output_type": "display_data",
          "data": {
            "text/plain": [
              "<Figure size 432x288 with 2 Axes>"
            ],
            "image/png": "[encoded data removed]"
          },
          "metadata": {
            "needs_background": "light"
          }
        }
      ]
    },
    {
      "cell_type": "markdown",
      "source": [
        "**RANDOM FOREST CLASSIFIERS**"
      ],
      "metadata": {
        "id": "U90K3eTznkBF"
      }
    },
    {
      "cell_type": "code",
      "source": [
        "from sklearn.ensemble import RandomForestClassifier\n",
        "\n",
        "randomforest = RandomForestClassifier(criterion= 'entropy', max_depth= 10, max_features= 'sqrt', min_samples_leaf= 1, min_samples_split= 3, n_estimators= 140)\n",
        "randomforest.fit(X_train, y_train)\n",
        "\n",
        "y_pred = randomforest.predict(X_test)\n",
        "# accuracy_score, confusion_matrix and classification_report\n",
        "\n",
        "from sklearn.metrics import accuracy_score, confusion_matrix, classification_report\n",
        "\n",
        "randomforest_train_acc = accuracy_score(y_train, randomforest.predict(X_train))\n",
        "randomforest_test_acc = accuracy_score(y_test, y_pred)\n",
        "\n",
        "print(f\"Training accuracy of Random Forest is : {randomforest_train_acc}\")\n",
        "print(f\"Test accuracy of Random Forest is : {randomforest_test_acc}\")\n",
        "\n",
        "cm2 =(confusion_matrix(y_test, y_pred))\n",
        "print(cm2)\n",
        "print(classification_report(y_test, y_pred))\n",
        "sensitivity2=cm2[0,0]/(cm2[0,0]+cm2[0,1])\n",
        "print('Sensitivity : ', sensitivity2 )\n",
        "\n",
        "specificity2 = cm2[1,1]/(cm2[1,0]+cm2[1,1])\n",
        "print('Specificity : ', specificity2)"
      ],
      "metadata": {
        "colab": {
          "base_uri": "https://localhost:8080/"
        },
        "id": "3nJkAm8Lkxvn",
        "outputId": "78d3a8c1-e6ed-4b81-c8ab-03c60c965cf5"
      },
      "execution_count": null,
      "outputs": [
        {
          "output_type": "stream",
          "name": "stdout",
          "text": [
            "Training accuracy of Random Forest is : 0.976\n",
            "Test accuracy of Random Forest is : 0.784\n",
            "[[165  26]\n",
            " [ 28  31]]\n",
            "              precision    recall  f1-score   support\n",
            "\n",
            "           N       0.85      0.86      0.86       191\n",
            "           Y       0.54      0.53      0.53        59\n",
            "\n",
            "    accuracy                           0.78       250\n",
            "   macro avg       0.70      0.69      0.70       250\n",
            "weighted avg       0.78      0.78      0.78       250\n",
            "\n",
            "Sensitivity :  0.8638743455497382\n",
            "Specificity :  0.5254237288135594\n"
          ]
        }
      ]
    },
    {
      "cell_type": "code",
      "source": [
        "sns.heatmap(cm2, annot=True, fmt='d', cmap='Set3')\n",
        "plt.show()"
      ],
      "metadata": {
        "colab": {
          "base_uri": "https://localhost:8080/",
          "height": 265
        },
        "id": "5tTWZ6YmmKST",
        "outputId": "c01f9415-0e67-47c9-e814-c1d088e15a4a"
      },
      "execution_count": null,
      "outputs": [
        {
          "output_type": "display_data",
          "data": {
            "text/plain": [
              "<Figure size 432x288 with 2 Axes>"
            ],
            "image/png": "[encoded data removed]"
          },
          "metadata": {
            "needs_background": "light"
          }
        }
      ]
    },
    {
      "cell_type": "markdown",
      "source": [
        "**XGB CLASSIFIERS**"
      ],
      "metadata": {
        "id": "jFqstokFmeNZ"
      }
    },
    {
      "cell_type": "code",
      "source": [
        "from xgboost import XGBClassifier\n",
        "\n",
        "xgb = XGBClassifier()\n",
        "xgb.fit(X_train, y_train)\n",
        "\n",
        "y_pred = xgb.predict(X_test)"
      ],
      "metadata": {
        "id": "384u_PecB52Q"
      },
      "execution_count": null,
      "outputs": []
    },
    {
      "cell_type": "code",
      "source": [
        "xgb_train_acc = accuracy_score(y_train, xgb.predict(X_train))\n",
        "xgb_test_acc = accuracy_score(y_test, y_pred)\n",
        "\n",
        "print(f\"Training accuracy of XgBoost is : {xgb_train_acc}\")\n",
        "print(f\"Test accuracy of XgBoost is : {xgb_test_acc}\")\n",
        "\n",
        "cm3 = (confusion_matrix(y_test, y_pred))\n",
        "print(cm3)\n",
        "print(classification_report(y_test, y_pred))\n",
        "sensitivity3=cm3[0,0]/(cm3[0,0]+cm3[0,1])\n",
        "print('Sensitivity : ', sensitivity3 )\n",
        "\n",
        "specificity3 = cm3[1,1]/(cm3[1,0]+cm3[1,1])\n",
        "print('Specificity : ', specificity3)"
      ],
      "metadata": {
        "id": "aXTqczfOB_PK",
        "colab": {
          "base_uri": "https://localhost:8080/"
        },
        "outputId": "40720192-efe9-4aae-afc9-799a7cece508"
      },
      "execution_count": null,
      "outputs": [
        {
          "output_type": "stream",
          "name": "stdout",
          "text": [
            "Training accuracy of XgBoost is : 0.9066666666666666\n",
            "Test accuracy of XgBoost is : 0.728\n",
            "[[147  44]\n",
            " [ 24  35]]\n",
            "              precision    recall  f1-score   support\n",
            "\n",
            "           N       0.86      0.77      0.81       191\n",
            "           Y       0.44      0.59      0.51        59\n",
            "\n",
            "    accuracy                           0.73       250\n",
            "   macro avg       0.65      0.68      0.66       250\n",
            "weighted avg       0.76      0.73      0.74       250\n",
            "\n",
            "Sensitivity :  0.7696335078534031\n",
            "Specificity :  0.5932203389830508\n"
          ]
        }
      ]
    },
    {
      "cell_type": "code",
      "source": [
        "sns.heatmap(cm3, annot=True, fmt='d', cmap='Set3_r')\n",
        "plt.show()"
      ],
      "metadata": {
        "colab": {
          "base_uri": "https://localhost:8080/",
          "height": 265
        },
        "id": "KowCbWs4nMS_",
        "outputId": "8b015c81-076e-4e43-b8ca-2f23414c3ed2"
      },
      "execution_count": null,
      "outputs": [
        {
          "output_type": "display_data",
          "data": {
            "text/plain": [
              "<Figure size 432x288 with 2 Axes>"
            ],
            "image/png": "[encoded data removed]"
          },
          "metadata": {
            "needs_background": "light"
          }
        }
      ]
    },
    {
      "cell_type": "markdown",
      "source": [
        "**Plotting the imbalanceness**\n",
        "\n"
      ],
      "metadata": {
        "id": "_04h0VqClFqj"
      }
    },
    {
      "cell_type": "code",
      "source": [
        "plt.style.use('dark_background')\n",
        "ax = sns.countplot(x='fraud_reported', data=df, hue='fraud_reported',color ='red')"
      ],
      "metadata": {
        "id": "PBi9hR3JRgQH",
        "colab": {
          "base_uri": "https://localhost:8080/",
          "height": 280
        },
        "outputId": "1db66aa0-4822-4395-9c90-3cbecb786993"
      },
      "execution_count": null,
      "outputs": [
        {
          "output_type": "display_data",
          "data": {
            "text/plain": [
              "<Figure size 432x288 with 1 Axes>"
            ],
            "image/png": "[encoded data removed]"
          },
          "metadata": {}
        }
      ]
    },
    {
      "cell_type": "markdown",
      "source": [
        "**Applying oversampling to optimize the model - SMOTE**"
      ],
      "metadata": {
        "id": "WjRa2DKVl-SH"
      }
    },
    {
      "cell_type": "markdown",
      "source": [
        "**DECISION TREE WITH SMOTE**"
      ],
      "metadata": {
        "id": "IYNXg1-_m5JV"
      }
    },
    {
      "cell_type": "code",
      "source": [
        "from sklearn.tree import DecisionTreeClassifier\n",
        "from imblearn.over_sampling import SMOTE\n",
        "from sklearn.pipeline import make_pipeline\n",
        "from imblearn.pipeline import make_pipeline as make_pipeline_imb \n",
        "from imblearn.pipeline import make_pipeline as imbalanced_make_pipeline\n",
        "classifier = DecisionTreeClassifier #we will use the Random Forest classifier\n",
        "\n",
        "# build model with SMOTE imblearn\n",
        "smote_pipeline = make_pipeline_imb(SMOTE(random_state=4), \\\n",
        "                                   classifier(random_state=42))"
      ],
      "metadata": {
        "id": "TvH9n2cAoe8j"
      },
      "execution_count": null,
      "outputs": []
    },
    {
      "cell_type": "code",
      "source": [
        "smote_pipeline\n"
      ],
      "metadata": {
        "colab": {
          "base_uri": "https://localhost:8080/"
        },
        "id": "IvubrtrRoe8k",
        "outputId": "5e03902a-37b4-46d7-8cfa-fb8434278ad0"
      },
      "execution_count": null,
      "outputs": [
        {
          "output_type": "execute_result",
          "data": {
            "text/plain": [
              "Pipeline(steps=[('smote', SMOTE(random_state=4)),\n",
              "                ('decisiontreeclassifier',\n",
              "                 DecisionTreeClassifier(random_state=42))])"
            ]
          },
          "metadata": {},
          "execution_count": 45
        }
      ]
    },
    {
      "cell_type": "code",
      "source": [
        "smote_model = smote_pipeline.fit(X_train, y_train)"
      ],
      "metadata": {
        "id": "RyK12PKjoe8l"
      },
      "execution_count": null,
      "outputs": []
    },
    {
      "cell_type": "code",
      "source": [
        "y_train.shape"
      ],
      "metadata": {
        "colab": {
          "base_uri": "https://localhost:8080/"
        },
        "id": "aIORbtdtoe8l",
        "outputId": "287c1277-f4cd-4707-ada7-c9fe90fa8e85"
      },
      "execution_count": null,
      "outputs": [
        {
          "output_type": "execute_result",
          "data": {
            "text/plain": [
              "(750,)"
            ]
          },
          "metadata": {},
          "execution_count": 47
        }
      ]
    },
    {
      "cell_type": "code",
      "source": [
        "smote_prediction = smote_model.predict(X_test)"
      ],
      "metadata": {
        "id": "lgcZCYtEoe8l"
      },
      "execution_count": null,
      "outputs": []
    },
    {
      "cell_type": "code",
      "source": [
        "from collections import Counter\n",
        "print(\"normal data distribution: {}\".format(Counter(y)))\n",
        "X_smote, y_smote = SMOTE().fit_resample(X, y)\n",
        "\n",
        "print(\"SMOTE data distribution: {}\".format(Counter(y_smote)))"
      ],
      "metadata": {
        "colab": {
          "base_uri": "https://localhost:8080/"
        },
        "id": "uG-nh2t8oe8m",
        "outputId": "7804694a-496c-4103-83bf-0bf2c9f7da42"
      },
      "execution_count": null,
      "outputs": [
        {
          "output_type": "stream",
          "name": "stdout",
          "text": [
            "normal data distribution: Counter({'N': 753, 'Y': 247})\n",
            "SMOTE data distribution: Counter({'Y': 753, 'N': 753})\n"
          ]
        }
      ]
    },
    {
      "cell_type": "code",
      "source": [
        "DT = DecisionTreeClassifier(criterion= 'entropy', max_depth= 10, max_features= 'sqrt', min_samples_leaf= 1, min_samples_split= 3)\n",
        "DT.fit(X_smote, y_smote)\n",
        "\n",
        "y_pred = DT.predict(X_test)\n",
        "# accuracy_score, confusion_matrix and classification_report\n",
        "\n",
        "from sklearn.metrics import accuracy_score, confusion_matrix, classification_report\n",
        "\n",
        "DTsmote_train_acc = accuracy_score(y_smote, DT.predict(X_smote))\n",
        "DTsmote_test_acc = accuracy_score(y_test, y_pred)\n",
        "\n",
        "print(f\"Training accuracy of Decision tree is : {DTsmote_train_acc}\")\n",
        "print(f\"Test accuracy of Decision tree : {DTsmote_test_acc}\")\n",
        "\n",
        "cm4 =confusion_matrix(y_test, y_pred)\n",
        "print(cm4)\n",
        "print(classification_report(y_test, y_pred))\n",
        "sensitivity4 =cm4[0,0]/(cm4[0,0]+cm4[0,1])\n",
        "print('Sensitivity : ', sensitivity4 )\n",
        "\n",
        "specificity4 = cm4[1,1]/(cm4[1,0]+cm4[1,1])\n",
        "print('Specificity : ', specificity4)"
      ],
      "metadata": {
        "colab": {
          "base_uri": "https://localhost:8080/"
        },
        "id": "d3LamyUuoe8m",
        "outputId": "0accdd22-f2ca-4310-c8eb-89910cdec13a"
      },
      "execution_count": null,
      "outputs": [
        {
          "output_type": "stream",
          "name": "stdout",
          "text": [
            "Training accuracy of Decision tree is : 0.8911022576361222\n",
            "Test accuracy of Decision tree : 0.844\n",
            "[[174  17]\n",
            " [ 22  37]]\n",
            "              precision    recall  f1-score   support\n",
            "\n",
            "           N       0.89      0.91      0.90       191\n",
            "           Y       0.69      0.63      0.65        59\n",
            "\n",
            "    accuracy                           0.84       250\n",
            "   macro avg       0.79      0.77      0.78       250\n",
            "weighted avg       0.84      0.84      0.84       250\n",
            "\n",
            "Sensitivity :  0.9109947643979057\n",
            "Specificity :  0.6271186440677966\n"
          ]
        }
      ]
    },
    {
      "cell_type": "code",
      "source": [
        "sns.heatmap(cm4, annot=True, fmt='d', cmap='brg')\n",
        "plt.show()"
      ],
      "metadata": {
        "colab": {
          "base_uri": "https://localhost:8080/",
          "height": 265
        },
        "id": "5IBp56yhkiaF",
        "outputId": "1bd3f225-6317-40c8-8d08-5f36cdb8067c"
      },
      "execution_count": null,
      "outputs": [
        {
          "output_type": "display_data",
          "data": {
            "text/plain": [
              "<Figure size 432x288 with 2 Axes>"
            ],
            "image/png": "[encoded data removed]"
          },
          "metadata": {}
        }
      ]
    },
    {
      "cell_type": "markdown",
      "source": [
        "**SVC WITH SMOTE**"
      ],
      "metadata": {
        "id": "9J0z96C7E1hK"
      }
    },
    {
      "cell_type": "code",
      "source": [
        "from sklearn.svm import SVC\n",
        "from imblearn.over_sampling import SMOTE\n",
        "from sklearn.pipeline import make_pipeline\n",
        "from imblearn.pipeline import make_pipeline as make_pipeline_imb \n",
        "from imblearn.pipeline import make_pipeline as imbalanced_make_pipeline\n",
        "classifier = SVC #we will use the Random Forest classifier\n",
        "\n",
        "# build model with SMOTE imblearn\n",
        "smote_pipeline = make_pipeline_imb(SMOTE(random_state=4), \\\n",
        "                                   classifier(random_state=42))"
      ],
      "metadata": {
        "id": "_U-Mr3Ok3yzc"
      },
      "execution_count": null,
      "outputs": []
    },
    {
      "cell_type": "code",
      "source": [
        "smote_pipeline\n"
      ],
      "metadata": {
        "colab": {
          "base_uri": "https://localhost:8080/"
        },
        "outputId": "9c173abc-5531-4c35-8756-5a5025c33bd3",
        "id": "uEFsRaYl3yzc"
      },
      "execution_count": null,
      "outputs": [
        {
          "output_type": "execute_result",
          "data": {
            "text/plain": [
              "Pipeline(steps=[('smote', SMOTE(random_state=4)),\n",
              "                ('svc', SVC(random_state=42))])"
            ]
          },
          "metadata": {},
          "execution_count": 53
        }
      ]
    },
    {
      "cell_type": "code",
      "source": [
        "smote_model = smote_pipeline.fit(X_train, y_train)"
      ],
      "metadata": {
        "id": "n0K2pmd23yzd"
      },
      "execution_count": null,
      "outputs": []
    },
    {
      "cell_type": "code",
      "source": [
        "smote_prediction = smote_model.predict(X_test)"
      ],
      "metadata": {
        "id": "nOWsYg-h3yzd"
      },
      "execution_count": null,
      "outputs": []
    },
    {
      "cell_type": "code",
      "source": [
        "from collections import Counter\n",
        "print(\"normal data distribution: {}\".format(Counter(y)))\n",
        "X_smote, y_smote = SMOTE().fit_resample(X, y)\n",
        "\n",
        "print(\"SMOTE data distribution: {}\".format(Counter(y_smote)))"
      ],
      "metadata": {
        "colab": {
          "base_uri": "https://localhost:8080/"
        },
        "outputId": "7ab1f498-ee51-45e6-f41f-6418d519cd24",
        "id": "XRkR3PFd3yzd"
      },
      "execution_count": null,
      "outputs": [
        {
          "output_type": "stream",
          "name": "stdout",
          "text": [
            "normal data distribution: Counter({'N': 753, 'Y': 247})\n",
            "SMOTE data distribution: Counter({'Y': 753, 'N': 753})\n"
          ]
        }
      ]
    },
    {
      "cell_type": "code",
      "source": [
        "SV = SVC()\n",
        "SV.fit(X_smote, y_smote)\n",
        "\n",
        "y_pred = SV.predict(X_test)\n",
        "# accuracy_score, confusion_matrix and classification_report\n",
        "\n",
        "from sklearn.metrics import accuracy_score, confusion_matrix, classification_report\n",
        "\n",
        "SVsmote_train_acc = accuracy_score(y_smote, SV.predict(X_smote))\n",
        "SVsmote_test_acc = accuracy_score(y_test, y_pred)\n",
        "\n",
        "print(f\"Training accuracy of SVM is : {SVsmote_train_acc}\")\n",
        "print(f\"Test accuracy of SVM is : {SVsmote_test_acc}\")\n",
        "\n",
        "cm5 =confusion_matrix(y_test, y_pred)\n",
        "print(cm5)\n",
        "print(classification_report(y_test, y_pred))\n",
        "sensitivity5=cm5[0,0]/(cm5[0,0]+cm5[0,1])\n",
        "print('Sensitivity : ', sensitivity5 )\n",
        "\n",
        "specificity5 = cm5[1,1]/(cm5[1,0]+cm5[1,1])\n",
        "print('Specificity : ', specificity5)"
      ],
      "metadata": {
        "colab": {
          "base_uri": "https://localhost:8080/"
        },
        "outputId": "a297478b-ce18-4522-8d3e-46c912f4c343",
        "id": "qR8lMoaQ3yze"
      },
      "execution_count": null,
      "outputs": [
        {
          "output_type": "stream",
          "name": "stdout",
          "text": [
            "Training accuracy of SVM is : 0.5424966799468791\n",
            "Test accuracy of SVM is : 0.692\n",
            "[[157  34]\n",
            " [ 43  16]]\n",
            "              precision    recall  f1-score   support\n",
            "\n",
            "           N       0.79      0.82      0.80       191\n",
            "           Y       0.32      0.27      0.29        59\n",
            "\n",
            "    accuracy                           0.69       250\n",
            "   macro avg       0.55      0.55      0.55       250\n",
            "weighted avg       0.68      0.69      0.68       250\n",
            "\n",
            "Sensitivity :  0.8219895287958116\n",
            "Specificity :  0.2711864406779661\n"
          ]
        }
      ]
    },
    {
      "cell_type": "code",
      "source": [
        "sns.heatmap(cm5, annot=True, fmt='d', cmap='coolwarm')\n",
        "plt.show()"
      ],
      "metadata": {
        "colab": {
          "base_uri": "https://localhost:8080/",
          "height": 265
        },
        "outputId": "7e5a4ab3-b5cf-444f-f996-6eb6b7adc4bb",
        "id": "6VFOQLqp3yze"
      },
      "execution_count": null,
      "outputs": [
        {
          "output_type": "display_data",
          "data": {
            "text/plain": [
              "<Figure size 432x288 with 2 Axes>"
            ],
            "image/png": "[encoded data removed]"
          },
          "metadata": {}
        }
      ]
    },
    {
      "cell_type": "markdown",
      "source": [
        "**RANDOM FOREST WITH SMOTE**"
      ],
      "metadata": {
        "id": "zJIvg30P5JT5"
      }
    },
    {
      "cell_type": "code",
      "source": [
        "from sklearn.ensemble import RandomForestClassifier\n",
        "from imblearn.over_sampling import SMOTE\n",
        "from sklearn.pipeline import make_pipeline\n",
        "from imblearn.pipeline import make_pipeline as make_pipeline_imb \n",
        "from imblearn.pipeline import make_pipeline as imbalanced_make_pipeline\n",
        "classifier = RandomForestClassifier #we will use the Random Forest classifier\n",
        "\n",
        "# build model with SMOTE imblearn\n",
        "smote_pipeline = make_pipeline_imb(SMOTE(random_state=4), \\\n",
        "                                   classifier(random_state=42))"
      ],
      "metadata": {
        "id": "8_WrGK0JNlUr"
      },
      "execution_count": null,
      "outputs": []
    },
    {
      "cell_type": "code",
      "source": [
        "smote_pipeline\n"
      ],
      "metadata": {
        "id": "P89bh7_l4LIj",
        "colab": {
          "base_uri": "https://localhost:8080/"
        },
        "outputId": "8d0ed105-6beb-44eb-a68d-97fa797d6a0c"
      },
      "execution_count": null,
      "outputs": [
        {
          "output_type": "execute_result",
          "data": {
            "text/plain": [
              "Pipeline(steps=[('smote', SMOTE(random_state=4)),\n",
              "                ('randomforestclassifier',\n",
              "                 RandomForestClassifier(random_state=42))])"
            ]
          },
          "metadata": {},
          "execution_count": 60
        }
      ]
    },
    {
      "cell_type": "code",
      "source": [
        "smote_model = smote_pipeline.fit(X_train, y_train)"
      ],
      "metadata": {
        "id": "btrk7XYmNs0c"
      },
      "execution_count": null,
      "outputs": []
    },
    {
      "cell_type": "code",
      "source": [
        "y_train.shape"
      ],
      "metadata": {
        "id": "UGGbG6g_Nsy7",
        "colab": {
          "base_uri": "https://localhost:8080/"
        },
        "outputId": "b223b1f6-f25b-44b8-c6a0-5f6c45c881d9"
      },
      "execution_count": null,
      "outputs": [
        {
          "output_type": "execute_result",
          "data": {
            "text/plain": [
              "(750,)"
            ]
          },
          "metadata": {},
          "execution_count": 62
        }
      ]
    },
    {
      "cell_type": "code",
      "source": [
        "smote_prediction = smote_model.predict(X_test)"
      ],
      "metadata": {
        "id": "unrb4TQRNz5j"
      },
      "execution_count": null,
      "outputs": []
    },
    {
      "cell_type": "code",
      "source": [
        "from collections import Counter\n",
        "print(\"normal data distribution: {}\".format(Counter(y)))\n",
        "X_smote, y_smote = SMOTE().fit_resample(X, y)\n",
        "\n",
        "print(\"SMOTE data distribution: {}\".format(Counter(y_smote)))"
      ],
      "metadata": {
        "id": "GgsxsTCGNz4F",
        "colab": {
          "base_uri": "https://localhost:8080/"
        },
        "outputId": "0d9408f8-aaf7-43d8-c34c-514ac87d5517"
      },
      "execution_count": null,
      "outputs": [
        {
          "output_type": "stream",
          "name": "stdout",
          "text": [
            "normal data distribution: Counter({'N': 753, 'Y': 247})\n",
            "SMOTE data distribution: Counter({'Y': 753, 'N': 753})\n"
          ]
        }
      ]
    },
    {
      "cell_type": "code",
      "source": [
        "X_smote"
      ],
      "metadata": {
        "id": "PsyFI-2C2XOK",
        "colab": {
          "base_uri": "https://localhost:8080/",
          "height": 505
        },
        "outputId": "594799f8-b853-48e1-d3aa-1e42f113f1a2"
      },
      "execution_count": null,
      "outputs": [
        {
          "output_type": "execute_result",
          "data": {
            "text/plain": [
              "      months_as_customer  policy_deductable  umbrella_limit  capital-gains  \\\n",
              "0                    328               1000               0          53300   \n",
              "1                    228               2000         5000000              0   \n",
              "2                    134               2000         5000000          35100   \n",
              "3                    256               2000         6000000          48900   \n",
              "4                    228               1000         6000000          66000   \n",
              "...                  ...                ...             ...            ...   \n",
              "1501                  22               1996         6000000              0   \n",
              "1502                 104               1459               0          45085   \n",
              "1503                 176                633         7000000          48130   \n",
              "1504                 129                519               0          64397   \n",
              "1505                 219                615         7000000          31272   \n",
              "\n",
              "      capital-loss  incident_hour_of_the_day  number_of_vehicles_involved  \\\n",
              "0                0                         5                            1   \n",
              "1                0                         8                            1   \n",
              "2                0                         7                            3   \n",
              "3           -62400                         5                            1   \n",
              "4           -46000                        20                            1   \n",
              "...            ...                       ...                          ...   \n",
              "1501        -56073                        13                            1   \n",
              "1502             0                        13                            3   \n",
              "1503        -36459                         1                            3   \n",
              "1504        -44347                        16                            1   \n",
              "1505        -44564                         6                            3   \n",
              "\n",
              "      bodily_injuries  witnesses  injury_claim  ...  \\\n",
              "0                   1          2          6510  ...   \n",
              "1                   0          0           780  ...   \n",
              "2                   2          3          7700  ...   \n",
              "3                   1          2          6340  ...   \n",
              "4                   0          1          1300  ...   \n",
              "...               ...        ...           ...  ...   \n",
              "1501                2          2          7094  ...   \n",
              "1502                2          0         13598  ...   \n",
              "1503                1          2          7451  ...   \n",
              "1504                0          0         16097  ...   \n",
              "1505                1          2          6671  ...   \n",
              "\n",
              "      collision_type_Side Collision  incident_severity_Minor Damage  \\\n",
              "0                                 1                               0   \n",
              "1                                 0                               1   \n",
              "2                                 0                               1   \n",
              "3                                 0                               0   \n",
              "4                                 0                               1   \n",
              "...                             ...                             ...   \n",
              "1501                              0                               0   \n",
              "1502                              0                               0   \n",
              "1503                              0                               0   \n",
              "1504                              0                               1   \n",
              "1505                              0                               0   \n",
              "\n",
              "      incident_severity_Total Loss  incident_severity_Trivial Damage  \\\n",
              "0                                0                                 0   \n",
              "1                                0                                 0   \n",
              "2                                0                                 0   \n",
              "3                                0                                 0   \n",
              "4                                0                                 0   \n",
              "...                            ...                               ...   \n",
              "1501                             0                                 0   \n",
              "1502                             0                                 0   \n",
              "1503                             0                                 0   \n",
              "1504                             0                                 0   \n",
              "1505                             0                                 0   \n",
              "\n",
              "      authorities_contacted_Fire  authorities_contacted_None  \\\n",
              "0                              0                           0   \n",
              "1                              0                           0   \n",
              "2                              0                           0   \n",
              "3                              0                           0   \n",
              "4                              0                           1   \n",
              "...                          ...                         ...   \n",
              "1501                           0                           0   \n",
              "1502                           0                           0   \n",
              "1503                           0                           0   \n",
              "1504                           0                           0   \n",
              "1505                           0                           0   \n",
              "\n",
              "      authorities_contacted_Other  authorities_contacted_Police  \\\n",
              "0                               0                             1   \n",
              "1                               0                             1   \n",
              "2                               0                             1   \n",
              "3                               0                             1   \n",
              "4                               0                             0   \n",
              "...                           ...                           ...   \n",
              "1501                            0                             0   \n",
              "1502                            0                             1   \n",
              "1503                            0                             0   \n",
              "1504                            0                             0   \n",
              "1505                            0                             0   \n",
              "\n",
              "      property_damage_YES  police_report_available_YES  \n",
              "0                       1                            1  \n",
              "1                       0                            0  \n",
              "2                       0                            0  \n",
              "3                       0                            0  \n",
              "4                       0                            0  \n",
              "...                   ...                          ...  \n",
              "1501                    0                            0  \n",
              "1502                    1                            0  \n",
              "1503                    0                            0  \n",
              "1504                    1                            0  \n",
              "1505                    0                            0  \n",
              "\n",
              "[1506 rows x 52 columns]"
            ],
            "text/html": [
              "\n",
              "  <div id=\"df-8a20d7fe-66be-4a39-a739-e035c5341199\">\n",
              "    <div class=\"colab-df-container\">\n",
              "      <div>\n",
              "<style scoped>\n",
              "    .dataframe tbody tr th:only-of-type {\n",
              "        vertical-align: middle;\n",
              "    }\n",
              "\n",
              "    .dataframe tbody tr th {\n",
              "        vertical-align: top;\n",
              "    }\n",
              "\n",
              "    .dataframe thead th {\n",
              "        text-align: right;\n",
              "    }\n",
              "</style>\n",
              "<table border=\"1\" class=\"dataframe\">\n",
              "  <thead>\n",
              "    <tr style=\"text-align: right;\">\n",
              "      <th></th>\n",
              "      <th>months_as_customer</th>\n",
              "      <th>policy_deductable</th>\n",
              "      <th>umbrella_limit</th>\n",
              "      <th>capital-gains</th>\n",
              "      <th>capital-loss</th>\n",
              "      <th>incident_hour_of_the_day</th>\n",
              "      <th>number_of_vehicles_involved</th>\n",
              "      <th>bodily_injuries</th>\n",
              "      <th>witnesses</th>\n",
              "      <th>injury_claim</th>\n",
              "      <th>...</th>\n",
              "      <th>collision_type_Side Collision</th>\n",
              "      <th>incident_severity_Minor Damage</th>\n",
              "      <th>incident_severity_Total Loss</th>\n",
              "      <th>incident_severity_Trivial Damage</th>\n",
              "      <th>authorities_contacted_Fire</th>\n",
              "      <th>authorities_contacted_None</th>\n",
              "      <th>authorities_contacted_Other</th>\n",
              "      <th>authorities_contacted_Police</th>\n",
              "      <th>property_damage_YES</th>\n",
              "      <th>police_report_available_YES</th>\n",
              "    </tr>\n",
              "  </thead>\n",
              "  <tbody>\n",
              "    <tr>\n",
              "      <th>0</th>\n",
              "      <td>328</td>\n",
              "      <td>1000</td>\n",
              "      <td>0</td>\n",
              "      <td>53300</td>\n",
              "      <td>0</td>\n",
              "      <td>5</td>\n",
              "      <td>1</td>\n",
              "      <td>1</td>\n",
              "      <td>2</td>\n",
              "      <td>6510</td>\n",
              "      <td>...</td>\n",
              "      <td>1</td>\n",
              "      <td>0</td>\n",
              "      <td>0</td>\n",
              "      <td>0</td>\n",
              "      <td>0</td>\n",
              "      <td>0</td>\n",
              "      <td>0</td>\n",
              "      <td>1</td>\n",
              "      <td>1</td>\n",
              "      <td>1</td>\n",
              "    </tr>\n",
              "    <tr>\n",
              "      <th>1</th>\n",
              "      <td>228</td>\n",
              "      <td>2000</td>\n",
              "      <td>5000000</td>\n",
              "      <td>0</td>\n",
              "      <td>0</td>\n",
              "      <td>8</td>\n",
              "      <td>1</td>\n",
              "      <td>0</td>\n",
              "      <td>0</td>\n",
              "      <td>780</td>\n",
              "      <td>...</td>\n",
              "      <td>0</td>\n",
              "      <td>1</td>\n",
              "      <td>0</td>\n",
              "      <td>0</td>\n",
              "      <td>0</td>\n",
              "      <td>0</td>\n",
              "      <td>0</td>\n",
              "      <td>1</td>\n",
              "      <td>0</td>\n",
              "      <td>0</td>\n",
              "    </tr>\n",
              "    <tr>\n",
              "      <th>2</th>\n",
              "      <td>134</td>\n",
              "      <td>2000</td>\n",
              "      <td>5000000</td>\n",
              "      <td>35100</td>\n",
              "      <td>0</td>\n",
              "      <td>7</td>\n",
              "      <td>3</td>\n",
              "      <td>2</td>\n",
              "      <td>3</td>\n",
              "      <td>7700</td>\n",
              "      <td>...</td>\n",
              "      <td>0</td>\n",
              "      <td>1</td>\n",
              "      <td>0</td>\n",
              "      <td>0</td>\n",
              "      <td>0</td>\n",
              "      <td>0</td>\n",
              "      <td>0</td>\n",
              "      <td>1</td>\n",
              "      <td>0</td>\n",
              "      <td>0</td>\n",
              "    </tr>\n",
              "    <tr>\n",
              "      <th>3</th>\n",
              "      <td>256</td>\n",
              "      <td>2000</td>\n",
              "      <td>6000000</td>\n",
              "      <td>48900</td>\n",
              "      <td>-62400</td>\n",
              "      <td>5</td>\n",
              "      <td>1</td>\n",
              "      <td>1</td>\n",
              "      <td>2</td>\n",
              "      <td>6340</td>\n",
              "      <td>...</td>\n",
              "      <td>0</td>\n",
              "      <td>0</td>\n",
              "      <td>0</td>\n",
              "      <td>0</td>\n",
              "      <td>0</td>\n",
              "      <td>0</td>\n",
              "      <td>0</td>\n",
              "      <td>1</td>\n",
              "      <td>0</td>\n",
              "      <td>0</td>\n",
              "    </tr>\n",
              "    <tr>\n",
              "      <th>4</th>\n",
              "      <td>228</td>\n",
              "      <td>1000</td>\n",
              "      <td>6000000</td>\n",
              "      <td>66000</td>\n",
              "      <td>-46000</td>\n",
              "      <td>20</td>\n",
              "      <td>1</td>\n",
              "      <td>0</td>\n",
              "      <td>1</td>\n",
              "      <td>1300</td>\n",
              "      <td>...</td>\n",
              "      <td>0</td>\n",
              "      <td>1</td>\n",
              "      <td>0</td>\n",
              "      <td>0</td>\n",
              "      <td>0</td>\n",
              "      <td>1</td>\n",
              "      <td>0</td>\n",
              "      <td>0</td>\n",
              "      <td>0</td>\n",
              "      <td>0</td>\n",
              "    </tr>\n",
              "    <tr>\n",
              "      <th>...</th>\n",
              "      <td>...</td>\n",
              "      <td>...</td>\n",
              "      <td>...</td>\n",
              "      <td>...</td>\n",
              "      <td>...</td>\n",
              "      <td>...</td>\n",
              "      <td>...</td>\n",
              "      <td>...</td>\n",
              "      <td>...</td>\n",
              "      <td>...</td>\n",
              "      <td>...</td>\n",
              "      <td>...</td>\n",
              "      <td>...</td>\n",
              "      <td>...</td>\n",
              "      <td>...</td>\n",
              "      <td>...</td>\n",
              "      <td>...</td>\n",
              "      <td>...</td>\n",
              "      <td>...</td>\n",
              "      <td>...</td>\n",
              "      <td>...</td>\n",
              "    </tr>\n",
              "    <tr>\n",
              "      <th>1501</th>\n",
              "      <td>22</td>\n",
              "      <td>1996</td>\n",
              "      <td>6000000</td>\n",
              "      <td>0</td>\n",
              "      <td>-56073</td>\n",
              "      <td>13</td>\n",
              "      <td>1</td>\n",
              "      <td>2</td>\n",
              "      <td>2</td>\n",
              "      <td>7094</td>\n",
              "      <td>...</td>\n",
              "      <td>0</td>\n",
              "      <td>0</td>\n",
              "      <td>0</td>\n",
              "      <td>0</td>\n",
              "      <td>0</td>\n",
              "      <td>0</td>\n",
              "      <td>0</td>\n",
              "      <td>0</td>\n",
              "      <td>0</td>\n",
              "      <td>0</td>\n",
              "    </tr>\n",
              "    <tr>\n",
              "      <th>1502</th>\n",
              "      <td>104</td>\n",
              "      <td>1459</td>\n",
              "      <td>0</td>\n",
              "      <td>45085</td>\n",
              "      <td>0</td>\n",
              "      <td>13</td>\n",
              "      <td>3</td>\n",
              "      <td>2</td>\n",
              "      <td>0</td>\n",
              "      <td>13598</td>\n",
              "      <td>...</td>\n",
              "      <td>0</td>\n",
              "      <td>0</td>\n",
              "      <td>0</td>\n",
              "      <td>0</td>\n",
              "      <td>0</td>\n",
              "      <td>0</td>\n",
              "      <td>0</td>\n",
              "      <td>1</td>\n",
              "      <td>1</td>\n",
              "      <td>0</td>\n",
              "    </tr>\n",
              "    <tr>\n",
              "      <th>1503</th>\n",
              "      <td>176</td>\n",
              "      <td>633</td>\n",
              "      <td>7000000</td>\n",
              "      <td>48130</td>\n",
              "      <td>-36459</td>\n",
              "      <td>1</td>\n",
              "      <td>3</td>\n",
              "      <td>1</td>\n",
              "      <td>2</td>\n",
              "      <td>7451</td>\n",
              "      <td>...</td>\n",
              "      <td>0</td>\n",
              "      <td>0</td>\n",
              "      <td>0</td>\n",
              "      <td>0</td>\n",
              "      <td>0</td>\n",
              "      <td>0</td>\n",
              "      <td>0</td>\n",
              "      <td>0</td>\n",
              "      <td>0</td>\n",
              "      <td>0</td>\n",
              "    </tr>\n",
              "    <tr>\n",
              "      <th>1504</th>\n",
              "      <td>129</td>\n",
              "      <td>519</td>\n",
              "      <td>0</td>\n",
              "      <td>64397</td>\n",
              "      <td>-44347</td>\n",
              "      <td>16</td>\n",
              "      <td>1</td>\n",
              "      <td>0</td>\n",
              "      <td>0</td>\n",
              "      <td>16097</td>\n",
              "      <td>...</td>\n",
              "      <td>0</td>\n",
              "      <td>1</td>\n",
              "      <td>0</td>\n",
              "      <td>0</td>\n",
              "      <td>0</td>\n",
              "      <td>0</td>\n",
              "      <td>0</td>\n",
              "      <td>0</td>\n",
              "      <td>1</td>\n",
              "      <td>0</td>\n",
              "    </tr>\n",
              "    <tr>\n",
              "      <th>1505</th>\n",
              "      <td>219</td>\n",
              "      <td>615</td>\n",
              "      <td>7000000</td>\n",
              "      <td>31272</td>\n",
              "      <td>-44564</td>\n",
              "      <td>6</td>\n",
              "      <td>3</td>\n",
              "      <td>1</td>\n",
              "      <td>2</td>\n",
              "      <td>6671</td>\n",
              "      <td>...</td>\n",
              "      <td>0</td>\n",
              "      <td>0</td>\n",
              "      <td>0</td>\n",
              "      <td>0</td>\n",
              "      <td>0</td>\n",
              "      <td>0</td>\n",
              "      <td>0</td>\n",
              "      <td>0</td>\n",
              "      <td>0</td>\n",
              "      <td>0</td>\n",
              "    </tr>\n",
              "  </tbody>\n",
              "</table>\n",
              "<p>1506 rows × 52 columns</p>\n",
              "</div>\n",
              "      <button class=\"colab-df-convert\" onclick=\"convertToInteractive('df-8a20d7fe-66be-4a39-a739-e035c5341199')\"\n",
              "              title=\"Convert this dataframe to an interactive table.\"\n",
              "              style=\"display:none;\">\n",
              "        \n",
              "  <svg xmlns=\"http://www.w3.org/2000/svg\" height=\"24px\"viewBox=\"0 0 24 24\"\n",
              "       width=\"24px\">\n",
              "    <path d=\"M0 0h24v24H0V0z\" fill=\"none\"/>\n",
              "    <path d=\"M18.56 5.44l.94 2.06.94-2.06 2.06-.94-2.06-.94-.94-2.06-.94 2.06-2.06.94zm-11 1L8.5 8.5l.94-2.06 2.06-.94-2.06-.94L8.5 2.5l-.94 2.06-2.06.94zm10 10l.94 2.06.94-2.06 2.06-.94-2.06-.94-.94-2.06-.94 2.06-2.06.94z\"/><path d=\"M17.41 7.96l-1.37-1.37c-.4-.4-.92-.59-1.43-.59-.52 0-1.04.2-1.43.59L10.3 9.45l-7.72 7.72c-.78.78-.78 2.05 0 2.83L4 21.41c.39.39.9.59 1.41.59.51 0 1.02-.2 1.41-.59l7.78-7.78 2.81-2.81c.8-.78.8-2.07 0-2.86zM5.41 20L4 18.59l7.72-7.72 1.47 1.35L5.41 20z\"/>\n",
              "  </svg>\n",
              "      </button>\n",
              "      \n",
              "  <style>\n",
              "    .colab-df-container {\n",
              "      display:flex;\n",
              "      flex-wrap:wrap;\n",
              "      gap: 12px;\n",
              "    }\n",
              "\n",
              "    .colab-df-convert {\n",
              "      background-color: #E8F0FE;\n",
              "      border: none;\n",
              "      border-radius: 50%;\n",
              "      cursor: pointer;\n",
              "      display: none;\n",
              "      fill: #1967D2;\n",
              "      height: 32px;\n",
              "      padding: 0 0 0 0;\n",
              "      width: 32px;\n",
              "    }\n",
              "\n",
              "    .colab-df-convert:hover {\n",
              "      background-color: #E2EBFA;\n",
              "      box-shadow: 0px 1px 2px rgba(60, 64, 67, 0.3), 0px 1px 3px 1px rgba(60, 64, 67, 0.15);\n",
              "      fill: #174EA6;\n",
              "    }\n",
              "\n",
              "    [theme=dark] .colab-df-convert {\n",
              "      background-color: #3B4455;\n",
              "      fill: #D2E3FC;\n",
              "    }\n",
              "\n",
              "    [theme=dark] .colab-df-convert:hover {\n",
              "      background-color: #434B5C;\n",
              "      box-shadow: 0px 1px 3px 1px rgba(0, 0, 0, 0.15);\n",
              "      filter: drop-shadow(0px 1px 2px rgba(0, 0, 0, 0.3));\n",
              "      fill: #FFFFFF;\n",
              "    }\n",
              "  </style>\n",
              "\n",
              "      <script>\n",
              "        const buttonEl =\n",
              "          document.querySelector('#df-8a20d7fe-66be-4a39-a739-e035c5341199 button.colab-df-convert');\n",
              "        buttonEl.style.display =\n",
              "          google.colab.kernel.accessAllowed ? 'block' : 'none';\n",
              "\n",
              "        async function convertToInteractive(key) {\n",
              "          const element = document.querySelector('#df-8a20d7fe-66be-4a39-a739-e035c5341199');\n",
              "          const dataTable =\n",
              "            await google.colab.kernel.invokeFunction('convertToInteractive',\n",
              "                                                     [key], {});\n",
              "          if (!dataTable) return;\n",
              "\n",
              "          const docLinkHtml = 'Like what you see? Visit the ' +\n",
              "            '<a target=\"_blank\" href=https://colab.research.google.com/notebooks/data_table.ipynb>data table notebook</a>'\n",
              "            + ' to learn more about interactive tables.';\n",
              "          element.innerHTML = '';\n",
              "          dataTable['output_type'] = 'display_data';\n",
              "          await google.colab.output.renderOutput(dataTable, element);\n",
              "          const docLink = document.createElement('div');\n",
              "          docLink.innerHTML = docLinkHtml;\n",
              "          element.appendChild(docLink);\n",
              "        }\n",
              "      </script>\n",
              "    </div>\n",
              "  </div>\n",
              "  "
            ]
          },
          "metadata": {},
          "execution_count": 65
        }
      ]
    },
    {
      "cell_type": "code",
      "source": [
        "y_smote"
      ],
      "metadata": {
        "id": "Fv2TnaUr2c32",
        "colab": {
          "base_uri": "https://localhost:8080/"
        },
        "outputId": "6919d54c-7aa5-4c89-9ecd-e1d172cab73c"
      },
      "execution_count": null,
      "outputs": [
        {
          "output_type": "execute_result",
          "data": {
            "text/plain": [
              "0       Y\n",
              "1       Y\n",
              "2       N\n",
              "3       Y\n",
              "4       N\n",
              "       ..\n",
              "1501    Y\n",
              "1502    Y\n",
              "1503    Y\n",
              "1504    Y\n",
              "1505    Y\n",
              "Name: fraud_reported, Length: 1506, dtype: object"
            ]
          },
          "metadata": {},
          "execution_count": 66
        }
      ]
    },
    {
      "cell_type": "code",
      "source": [
        "randomforest = RandomForestClassifier(criterion= 'entropy', max_depth= 10, max_features= 'sqrt', min_samples_leaf= 1, min_samples_split= 3, n_estimators= 140)\n",
        "randomforest.fit(X_smote, y_smote)\n",
        "\n",
        "y_pred = randomforest.predict(X_test)\n",
        "# accuracy_score, confusion_matrix and classification_report\n",
        "\n",
        "from sklearn.metrics import accuracy_score, confusion_matrix, classification_report\n",
        "\n",
        "randomforestsmote_train_acc = accuracy_score(y_smote, randomforest.predict(X_smote))\n",
        "randomforestsmote_test_acc = accuracy_score(y_test, y_pred)\n",
        "\n",
        "print(f\"Training accuracy of Random Forest is : {randomforestsmote_train_acc}\")\n",
        "print(f\"Test accuracy of Random Forest is : {randomforestsmote_test_acc}\")\n",
        "\n",
        "cm6 =confusion_matrix(y_test, y_pred)\n",
        "print(cm6)\n",
        "print(classification_report(y_test, y_pred))\n",
        "sensitivity6=cm6[0,0]/(cm6[0,0]+cm6[0,1])\n",
        "print('Sensitivity : ', sensitivity6 )\n",
        "\n",
        "specificity6 = cm6[1,1]/(cm6[1,0]+cm6[1,1])\n",
        "print('Specificity : ', specificity6)"
      ],
      "metadata": {
        "id": "msGRiog32KQP",
        "colab": {
          "base_uri": "https://localhost:8080/"
        },
        "outputId": "dc0696cc-7eec-4ea6-c112-a94a996b942c"
      },
      "execution_count": null,
      "outputs": [
        {
          "output_type": "stream",
          "name": "stdout",
          "text": [
            "Training accuracy of Random Forest is : 0.9721115537848606\n",
            "Test accuracy of Random Forest is : 0.948\n",
            "[[185   6]\n",
            " [  7  52]]\n",
            "              precision    recall  f1-score   support\n",
            "\n",
            "           N       0.96      0.97      0.97       191\n",
            "           Y       0.90      0.88      0.89        59\n",
            "\n",
            "    accuracy                           0.95       250\n",
            "   macro avg       0.93      0.92      0.93       250\n",
            "weighted avg       0.95      0.95      0.95       250\n",
            "\n",
            "Sensitivity :  0.9685863874345549\n",
            "Specificity :  0.8813559322033898\n"
          ]
        }
      ]
    },
    {
      "cell_type": "code",
      "source": [
        "sns.heatmap(cm6, annot=True, fmt='d', cmap='Oranges')\n",
        "plt.show()"
      ],
      "metadata": {
        "id": "UUK1LCY64bu6",
        "colab": {
          "base_uri": "https://localhost:8080/",
          "height": 265
        },
        "outputId": "e53da291-d468-4df5-ca32-80edc0a9357b"
      },
      "execution_count": null,
      "outputs": [
        {
          "output_type": "display_data",
          "data": {
            "text/plain": [
              "<Figure size 432x288 with 2 Axes>"
            ],
            "image/png": "[encoded data removed]"
          },
          "metadata": {}
        }
      ]
    },
    {
      "cell_type": "markdown",
      "source": [
        "**XGBOOST USING SMOTE**"
      ],
      "metadata": {
        "id": "hgklDRu5D3qp"
      }
    },
    {
      "cell_type": "code",
      "source": [
        "from xgboost import XGBClassifier\n",
        "from imblearn.over_sampling import SMOTE\n",
        "from sklearn.pipeline import make_pipeline\n",
        "from imblearn.pipeline import make_pipeline as make_pipeline_imb \n",
        "from imblearn.pipeline import make_pipeline as imbalanced_make_pipeline\n",
        "\n",
        "classifier = XGBClassifier\n",
        "# build model with SMOTE imblearn\n",
        "smote_pipeline = make_pipeline_imb(SMOTE(random_state=4), \\\n",
        "                                   classifier(random_state=42))"
      ],
      "metadata": {
        "id": "-wcDviwrCPWS"
      },
      "execution_count": null,
      "outputs": []
    },
    {
      "cell_type": "code",
      "source": [
        "smote_pipeline\n"
      ],
      "metadata": {
        "id": "13kUBw7oCPWS",
        "colab": {
          "base_uri": "https://localhost:8080/"
        },
        "outputId": "b9628ffa-87d9-4cee-9680-bf3a02523974"
      },
      "execution_count": null,
      "outputs": [
        {
          "output_type": "execute_result",
          "data": {
            "text/plain": [
              "Pipeline(steps=[('smote', SMOTE(random_state=4)),\n",
              "                ('xgbclassifier', XGBClassifier(random_state=42))])"
            ]
          },
          "metadata": {},
          "execution_count": 70
        }
      ]
    },
    {
      "cell_type": "code",
      "source": [
        "smote_model = smote_pipeline.fit(X_train, y_train)"
      ],
      "metadata": {
        "id": "083XPuAhCPWS"
      },
      "execution_count": null,
      "outputs": []
    },
    {
      "cell_type": "code",
      "source": [
        "y_train.shape"
      ],
      "metadata": {
        "id": "E6oudFiUETA9",
        "colab": {
          "base_uri": "https://localhost:8080/"
        },
        "outputId": "d415c56e-ce6f-4dec-e373-afb5069b0c9d"
      },
      "execution_count": null,
      "outputs": [
        {
          "output_type": "execute_result",
          "data": {
            "text/plain": [
              "(750,)"
            ]
          },
          "metadata": {},
          "execution_count": 72
        }
      ]
    },
    {
      "cell_type": "code",
      "source": [
        "smote_prediction = smote_model.predict(X_test)"
      ],
      "metadata": {
        "id": "1wAV_MA4CPWS"
      },
      "execution_count": null,
      "outputs": []
    },
    {
      "cell_type": "code",
      "source": [
        "from collections import Counter\n",
        "print(\"normal data distribution: {}\".format(Counter(y)))\n",
        "X_smote, y_smote = SMOTE().fit_resample(X, y)\n",
        "\n",
        "print(\"SMOTE data distribution: {}\".format(Counter(y_smote)))"
      ],
      "metadata": {
        "id": "83aiC3wFCPWT",
        "colab": {
          "base_uri": "https://localhost:8080/"
        },
        "outputId": "5351f2a1-68f1-4b90-f08b-91a0ac05b735"
      },
      "execution_count": null,
      "outputs": [
        {
          "output_type": "stream",
          "name": "stdout",
          "text": [
            "normal data distribution: Counter({'N': 753, 'Y': 247})\n",
            "SMOTE data distribution: Counter({'Y': 753, 'N': 753})\n"
          ]
        }
      ]
    },
    {
      "cell_type": "code",
      "source": [
        "xgb = XGBClassifier()\n",
        "xgb.fit(X_smote, y_smote)\n",
        "\n",
        "y_pred = xgb.predict(X_test)\n",
        "# accuracy_score, confusion_matrix and classification_report\n",
        "\n",
        "from sklearn.metrics import accuracy_score, confusion_matrix, classification_report\n",
        "\n",
        "XGBsmote_train_acc = accuracy_score(y_smote, xgb.predict(X_smote))\n",
        "XGBsmote_test_acc = accuracy_score(y_test, y_pred)\n",
        "\n",
        "print(f\"Training accuracy of XGBOOST Classifier is : {XGBsmote_train_acc}\")\n",
        "print(f\"Test accuracy of XGBOOST Classifier is : {XGBsmote_test_acc}\")\n",
        "\n",
        "cm7 = (confusion_matrix(y_test, y_pred))\n",
        "print(cm7)\n",
        "print(classification_report(y_test, y_pred))\n",
        "sensitivity7=cm7[0,0]/(cm7[0,0]+cm7[0,1])\n",
        "print('Sensitivity : ', sensitivity7 )\n",
        "\n",
        "specificity7 = cm7[1,1]/(cm7[1,0]+cm7[1,1])\n",
        "print('Specificity : ', specificity7)"
      ],
      "metadata": {
        "id": "IB_sZ2eNCPWT",
        "colab": {
          "base_uri": "https://localhost:8080/"
        },
        "outputId": "37414a65-bba1-4d0b-b556-1528d0a644e6"
      },
      "execution_count": null,
      "outputs": [
        {
          "output_type": "stream",
          "name": "stdout",
          "text": [
            "Training accuracy of XGBOOST Classifier is : 0.9083665338645418\n",
            "Test accuracy of XGBOOST Classifier is : 0.86\n",
            "[[177  14]\n",
            " [ 21  38]]\n",
            "              precision    recall  f1-score   support\n",
            "\n",
            "           N       0.89      0.93      0.91       191\n",
            "           Y       0.73      0.64      0.68        59\n",
            "\n",
            "    accuracy                           0.86       250\n",
            "   macro avg       0.81      0.79      0.80       250\n",
            "weighted avg       0.86      0.86      0.86       250\n",
            "\n",
            "Sensitivity :  0.9267015706806283\n",
            "Specificity :  0.6440677966101694\n"
          ]
        }
      ]
    },
    {
      "cell_type": "code",
      "source": [
        "sns.heatmap(cm7, annot=True, fmt='d', cmap='Purples')\n",
        "plt.show()"
      ],
      "metadata": {
        "colab": {
          "base_uri": "https://localhost:8080/",
          "height": 265
        },
        "id": "zhcas8fyn-Ww",
        "outputId": "60d02df6-b575-46c8-822a-557cb8aa329f"
      },
      "execution_count": null,
      "outputs": [
        {
          "output_type": "display_data",
          "data": {
            "text/plain": [
              "<Figure size 432x288 with 2 Axes>"
            ],
            "image/png": "[encoded data removed]"
          },
          "metadata": {}
        }
      ]
    },
    {
      "cell_type": "markdown",
      "source": [
        "**ADASYN**"
      ],
      "metadata": {
        "id": "7lQKSKIdxb1P"
      }
    },
    {
      "cell_type": "markdown",
      "source": [
        "**DT with ADASYN**"
      ],
      "metadata": {
        "id": "C9OP4ICIxif9"
      }
    },
    {
      "cell_type": "code",
      "source": [
        "from sklearn.tree import DecisionTreeClassifier\n",
        "from imblearn.over_sampling import ADASYN\n",
        "from sklearn.pipeline import make_pipeline\n",
        "from imblearn.pipeline import make_pipeline as make_pipeline_imb \n",
        "from imblearn.pipeline import make_pipeline as imbalanced_make_pipeline\n",
        "classifier = DecisionTreeClassifier #we will use the Random Forest classifier\n",
        "\n",
        "# build model with SMOTE imblearn\n",
        "adasyn_pipeline = make_pipeline_imb(ADASYN(random_state=4), \\\n",
        "                                   classifier(random_state=42))"
      ],
      "metadata": {
        "id": "C6u9qHJKuCnJ"
      },
      "execution_count": null,
      "outputs": []
    },
    {
      "cell_type": "code",
      "source": [
        "adasyn_pipeline\n"
      ],
      "metadata": {
        "colab": {
          "base_uri": "https://localhost:8080/"
        },
        "outputId": "1b5bb1da-1624-4962-ed3c-26bcd02576ca",
        "id": "UI08VtqNuCnK"
      },
      "execution_count": null,
      "outputs": [
        {
          "output_type": "execute_result",
          "data": {
            "text/plain": [
              "Pipeline(steps=[('adasyn', ADASYN(random_state=4)),\n",
              "                ('decisiontreeclassifier',\n",
              "                 DecisionTreeClassifier(random_state=42))])"
            ]
          },
          "metadata": {},
          "execution_count": 78
        }
      ]
    },
    {
      "cell_type": "code",
      "source": [
        "adasyn_model = adasyn_pipeline.fit(X_train, y_train)"
      ],
      "metadata": {
        "id": "zfjePaL3uCnK"
      },
      "execution_count": null,
      "outputs": []
    },
    {
      "cell_type": "code",
      "source": [
        "y_train.shape"
      ],
      "metadata": {
        "colab": {
          "base_uri": "https://localhost:8080/"
        },
        "outputId": "0d584b60-f9de-47b2-fa09-bb7292660ae3",
        "id": "4Y4l8tuRuCnK"
      },
      "execution_count": null,
      "outputs": [
        {
          "output_type": "execute_result",
          "data": {
            "text/plain": [
              "(750,)"
            ]
          },
          "metadata": {},
          "execution_count": 80
        }
      ]
    },
    {
      "cell_type": "code",
      "source": [
        "adasyn_prediction = adasyn_model.predict(X_test)"
      ],
      "metadata": {
        "id": "5M1Umft2uCnK"
      },
      "execution_count": null,
      "outputs": []
    },
    {
      "cell_type": "code",
      "source": [
        "from imblearn.over_sampling import ADASYN\n",
        "from collections import Counter\n",
        "print(\"normal data distribution: {}\".format(Counter(y)))\n",
        "ada = ADASYN(random_state = 120)\n",
        "X_train_ada,y_train_ada = ada.fit_resample(X,y)\n",
        "\n",
        "print(\"ADASYN data distribution: {}\".format(Counter(y_train_ada)))\n",
        "\n",
        "\n"
      ],
      "metadata": {
        "colab": {
          "base_uri": "https://localhost:8080/"
        },
        "id": "gpBv_s5TpQsr",
        "outputId": "56f27362-30a2-466e-d194-561ca38f8412"
      },
      "execution_count": null,
      "outputs": [
        {
          "output_type": "stream",
          "name": "stdout",
          "text": [
            "normal data distribution: Counter({'N': 753, 'Y': 247})\n",
            "ADASYN data distribution: Counter({'N': 753, 'Y': 749})\n"
          ]
        }
      ]
    },
    {
      "cell_type": "code",
      "source": [
        "DT = DecisionTreeClassifier(criterion= 'entropy', max_depth= 10, max_features= 'sqrt', min_samples_leaf= 1, min_samples_split= 3)\n",
        "DT.fit(X_train_ada, y_train_ada)\n",
        "\n",
        "y_pred = DT.predict(X_test)\n",
        "# accuracy_score, confusion_matrix and classification_report\n",
        "\n",
        "from sklearn.metrics import accuracy_score, confusion_matrix, classification_report\n",
        "\n",
        "DTadasyn_train_acc = accuracy_score(y_train_ada, DT.predict(X_train_ada))\n",
        "DTadasyn_test_acc = accuracy_score(y_test, y_pred)\n",
        "\n",
        "print(f\"Training accuracy of Decision tree is : {DTadasyn_train_acc}\")\n",
        "print(f\"Test accuracy of Decision tree is : {DTadasyn_test_acc}\")\n",
        "\n",
        "cm8 =confusion_matrix(y_test, y_pred)\n",
        "print(cm8)\n",
        "print(classification_report(y_test, y_pred))\n",
        "sensitivity8=cm8[0,0]/(cm8[0,0]+cm8[0,1])\n",
        "print('Sensitivity : ', sensitivity8 )\n",
        "\n",
        "specificity8 = cm8[1,1]/(cm8[1,0]+cm8[1,1])\n",
        "print('Specificity : ', specificity8)"
      ],
      "metadata": {
        "colab": {
          "base_uri": "https://localhost:8080/"
        },
        "id": "MsADV7mkub3V",
        "outputId": "182c8710-b580-4939-d099-b3305c6c118f"
      },
      "execution_count": null,
      "outputs": [
        {
          "output_type": "stream",
          "name": "stdout",
          "text": [
            "Training accuracy of Decision tree is : 0.8708388814913449\n",
            "Test accuracy of Decision tree is : 0.816\n",
            "[[169  22]\n",
            " [ 24  35]]\n",
            "              precision    recall  f1-score   support\n",
            "\n",
            "           N       0.88      0.88      0.88       191\n",
            "           Y       0.61      0.59      0.60        59\n",
            "\n",
            "    accuracy                           0.82       250\n",
            "   macro avg       0.74      0.74      0.74       250\n",
            "weighted avg       0.81      0.82      0.81       250\n",
            "\n",
            "Sensitivity :  0.8848167539267016\n",
            "Specificity :  0.5932203389830508\n"
          ]
        }
      ]
    },
    {
      "cell_type": "code",
      "source": [
        "sns.heatmap(cm8, annot=True, fmt='d', cmap='Paired')\n",
        "plt.show()"
      ],
      "metadata": {
        "id": "ScgPxfWBx0KP",
        "colab": {
          "base_uri": "https://localhost:8080/",
          "height": 265
        },
        "outputId": "6f695b6f-638e-404e-bfd1-a3e3bcbfc467"
      },
      "execution_count": null,
      "outputs": [
        {
          "output_type": "display_data",
          "data": {
            "text/plain": [
              "<Figure size 432x288 with 2 Axes>"
            ],
            "image/png": "[encoded data removed]"
          },
          "metadata": {}
        }
      ]
    },
    {
      "cell_type": "markdown",
      "source": [
        "**SVM with ADASYN**"
      ],
      "metadata": {
        "id": "eJAPmJLmyRPZ"
      }
    },
    {
      "cell_type": "code",
      "source": [
        "from sklearn.svm import SVC\n",
        "from imblearn.over_sampling import ADASYN\n",
        "from sklearn.pipeline import make_pipeline\n",
        "from imblearn.pipeline import make_pipeline as make_pipeline_imb \n",
        "from imblearn.pipeline import make_pipeline as imbalanced_make_pipeline\n",
        "classifier = SVC #we will use the Random Forest classifier\n",
        "\n",
        "# build model with SMOTE imblearn\n",
        "adasyn_pipeline = make_pipeline_imb(ADASYN(random_state=4), \\\n",
        "                                   classifier(random_state=42))"
      ],
      "metadata": {
        "id": "iS7NdoF1yW-1"
      },
      "execution_count": null,
      "outputs": []
    },
    {
      "cell_type": "code",
      "source": [
        "adasyn_pipeline\n"
      ],
      "metadata": {
        "colab": {
          "base_uri": "https://localhost:8080/"
        },
        "outputId": "a2b6e11f-9cdf-41c7-9523-80dd2f0c4ab5",
        "id": "WRiLYSKhyW-1"
      },
      "execution_count": null,
      "outputs": [
        {
          "output_type": "execute_result",
          "data": {
            "text/plain": [
              "Pipeline(steps=[('adasyn', ADASYN(random_state=4)),\n",
              "                ('svc', SVC(random_state=42))])"
            ]
          },
          "metadata": {},
          "execution_count": 86
        }
      ]
    },
    {
      "cell_type": "code",
      "source": [
        "adasyn_model = adasyn_pipeline.fit(X_train, y_train)"
      ],
      "metadata": {
        "id": "8HeW3HLRyW-2"
      },
      "execution_count": null,
      "outputs": []
    },
    {
      "cell_type": "code",
      "source": [
        "y_train.shape"
      ],
      "metadata": {
        "colab": {
          "base_uri": "https://localhost:8080/"
        },
        "outputId": "5ce5dfc6-894a-4d1d-8fe0-be627ce2e5ef",
        "id": "nKLcDOveyW-2"
      },
      "execution_count": null,
      "outputs": [
        {
          "output_type": "execute_result",
          "data": {
            "text/plain": [
              "(750,)"
            ]
          },
          "metadata": {},
          "execution_count": 88
        }
      ]
    },
    {
      "cell_type": "code",
      "source": [
        "adasyn_prediction = adasyn_model.predict(X_test)"
      ],
      "metadata": {
        "id": "MGwjEX5ByW-2"
      },
      "execution_count": null,
      "outputs": []
    },
    {
      "cell_type": "code",
      "source": [
        "from imblearn.over_sampling import ADASYN\n",
        "from collections import Counter\n",
        "print(\"normal data distribution: {}\".format(Counter(y)))\n",
        "ada = ADASYN(random_state = 120)\n",
        "X_train_ada,y_train_ada = ada.fit_resample(X,y)\n",
        "\n",
        "print(\"ADASYN data distribution: {}\".format(Counter(y_train_ada)))\n",
        "\n",
        "\n"
      ],
      "metadata": {
        "colab": {
          "base_uri": "https://localhost:8080/"
        },
        "outputId": "45dce24c-4d58-41da-d4f3-f8c9d1c8a1f9",
        "id": "cZ7S3pX4yW-3"
      },
      "execution_count": null,
      "outputs": [
        {
          "output_type": "stream",
          "name": "stdout",
          "text": [
            "normal data distribution: Counter({'N': 753, 'Y': 247})\n",
            "ADASYN data distribution: Counter({'N': 753, 'Y': 749})\n"
          ]
        }
      ]
    },
    {
      "cell_type": "code",
      "source": [
        "svc_ada = SVC()\n",
        "svc_ada.fit(X_train_ada, y_train_ada)\n",
        "\n",
        "y_pred = svc_ada.predict(X_test)\n",
        "# accuracy_score, confusion_matrix and classification_report\n",
        "\n",
        "from sklearn.metrics import accuracy_score, confusion_matrix, classification_report\n",
        "\n",
        "svcadasyn_train_acc = accuracy_score(y_train_ada, svc.predict(X_train_ada))\n",
        "svcadasyn_test_acc = accuracy_score(y_test, y_pred)\n",
        "\n",
        "print(f\"Training accuracy of Support vector machine is : {svcadasyn_train_acc}\")\n",
        "print(f\"Test accuracy ofSupport vector machine is : {svcadasyn_test_acc}\")\n",
        "\n",
        "cm9 =confusion_matrix(y_test, y_pred)\n",
        "print(cm9)\n",
        "print(classification_report(y_test, y_pred))\n",
        "sensitivity9=cm9[0,0]/(cm9[0,0]+cm9[0,1])\n",
        "print('Sensitivity : ', sensitivity9 )\n",
        "\n",
        "specificity9 = cm9[1,1]/(cm9[1,0]+cm9[1,1])\n",
        "print('Specificity : ', specificity9)"
      ],
      "metadata": {
        "colab": {
          "base_uri": "https://localhost:8080/"
        },
        "outputId": "0d618fb7-1d35-41e0-ad1a-46eb156c355c",
        "id": "n1HqXdxyyW-3"
      },
      "execution_count": null,
      "outputs": [
        {
          "output_type": "stream",
          "name": "stdout",
          "text": [
            "Training accuracy of Support vector machine is : 0.5013315579227696\n",
            "Test accuracy ofSupport vector machine is : 0.692\n",
            "[[157  34]\n",
            " [ 43  16]]\n",
            "              precision    recall  f1-score   support\n",
            "\n",
            "           N       0.79      0.82      0.80       191\n",
            "           Y       0.32      0.27      0.29        59\n",
            "\n",
            "    accuracy                           0.69       250\n",
            "   macro avg       0.55      0.55      0.55       250\n",
            "weighted avg       0.68      0.69      0.68       250\n",
            "\n",
            "Sensitivity :  0.8219895287958116\n",
            "Specificity :  0.2711864406779661\n"
          ]
        }
      ]
    },
    {
      "cell_type": "code",
      "source": [
        "sns.heatmap(cm9, annot=True, fmt='d', cmap='PuBu')\n",
        "plt.show()"
      ],
      "metadata": {
        "colab": {
          "base_uri": "https://localhost:8080/",
          "height": 265
        },
        "id": "5UfzeEczyW-4",
        "outputId": "cebf647f-49dc-4c6b-8e46-ac1500d422a0"
      },
      "execution_count": null,
      "outputs": [
        {
          "output_type": "display_data",
          "data": {
            "text/plain": [
              "<Figure size 432x288 with 2 Axes>"
            ],
            "image/png": "[encoded data removed]"
          },
          "metadata": {}
        }
      ]
    },
    {
      "cell_type": "markdown",
      "source": [
        "**RF with ADASYN**"
      ],
      "metadata": {
        "id": "4RLvNmr6zjMo"
      }
    },
    {
      "cell_type": "code",
      "source": [
        "from sklearn.ensemble import RandomForestClassifier\n",
        "from imblearn.over_sampling import ADASYN\n",
        "from sklearn.pipeline import make_pipeline\n",
        "from imblearn.pipeline import make_pipeline as make_pipeline_imb \n",
        "from imblearn.pipeline import make_pipeline as imbalanced_make_pipeline\n",
        "classifier = RandomForestClassifier #we will use the Random Forest classifier\n",
        "\n",
        "# build model with SMOTE imblearn\n",
        "adasyn_pipeline = make_pipeline_imb(ADASYN(random_state=4), \\\n",
        "                                   classifier(random_state=42))"
      ],
      "metadata": {
        "id": "KFRpLb5uznRj"
      },
      "execution_count": null,
      "outputs": []
    },
    {
      "cell_type": "code",
      "source": [
        "adasyn_pipeline\n"
      ],
      "metadata": {
        "colab": {
          "base_uri": "https://localhost:8080/"
        },
        "outputId": "09f20fed-5db3-4f3d-b28f-b2ca074a1d40",
        "id": "xgmdq6MzznRk"
      },
      "execution_count": null,
      "outputs": [
        {
          "output_type": "execute_result",
          "data": {
            "text/plain": [
              "Pipeline(steps=[('adasyn', ADASYN(random_state=4)),\n",
              "                ('randomforestclassifier',\n",
              "                 RandomForestClassifier(random_state=42))])"
            ]
          },
          "metadata": {},
          "execution_count": 94
        }
      ]
    },
    {
      "cell_type": "code",
      "source": [
        "adasyn_model = adasyn_pipeline.fit(X_train, y_train)"
      ],
      "metadata": {
        "id": "fvXo95BQznRk"
      },
      "execution_count": null,
      "outputs": []
    },
    {
      "cell_type": "code",
      "source": [
        "y_train.shape"
      ],
      "metadata": {
        "colab": {
          "base_uri": "https://localhost:8080/"
        },
        "outputId": "e4240a0b-bc6d-40c6-96fc-14ce49b01c1e",
        "id": "yk-NFm4eznRk"
      },
      "execution_count": null,
      "outputs": [
        {
          "output_type": "execute_result",
          "data": {
            "text/plain": [
              "(750,)"
            ]
          },
          "metadata": {},
          "execution_count": 96
        }
      ]
    },
    {
      "cell_type": "code",
      "source": [
        "adasyn_prediction = adasyn_model.predict(X_test)"
      ],
      "metadata": {
        "id": "ooDoxEL7znRl"
      },
      "execution_count": null,
      "outputs": []
    },
    {
      "cell_type": "code",
      "source": [
        "from imblearn.over_sampling import ADASYN\n",
        "from collections import Counter\n",
        "print(\"normal data distribution: {}\".format(Counter(y)))\n",
        "ada = ADASYN(random_state = 120)\n",
        "X_train_ada,y_train_ada = ada.fit_resample(X,y)\n",
        "\n",
        "print(\"ADASYN data distribution: {}\".format(Counter(y_train_ada)))\n",
        "\n",
        "\n"
      ],
      "metadata": {
        "colab": {
          "base_uri": "https://localhost:8080/"
        },
        "outputId": "b5b1c627-e072-40e6-cea7-a6e4a53aa684",
        "id": "h_dXFqdLznRl"
      },
      "execution_count": null,
      "outputs": [
        {
          "output_type": "stream",
          "name": "stdout",
          "text": [
            "normal data distribution: Counter({'N': 753, 'Y': 247})\n",
            "ADASYN data distribution: Counter({'N': 753, 'Y': 749})\n"
          ]
        }
      ]
    },
    {
      "cell_type": "code",
      "source": [
        "rf_ada = RandomForestClassifier(criterion= 'entropy', max_depth= 10, max_features= 'sqrt', min_samples_leaf= 1, min_samples_split= 3, n_estimators= 140)\n",
        "rf_ada.fit(X_train_ada, y_train_ada)\n",
        "\n",
        "y_pred = rf_ada.predict(X_test)\n",
        "# accuracy_score, confusion_matrix and classification_report\n",
        "\n",
        "from sklearn.metrics import accuracy_score, confusion_matrix, classification_report\n",
        "\n",
        "rfadasyn_train_acc = accuracy_score(y_train_ada, rf_ada.predict(X_train_ada))\n",
        "rfadasyn_test_acc = accuracy_score(y_test, y_pred)\n",
        "\n",
        "print(f\"Training accuracy of RandomForest is : {rfadasyn_train_acc}\")\n",
        "print(f\"Test accuracy of RandomForest is : {rfadasyn_test_acc}\")\n",
        "\n",
        "cm10 =confusion_matrix(y_test, y_pred)\n",
        "print(cm10)\n",
        "print(classification_report(y_test, y_pred))\n",
        "sensitivity10=cm10[0,0]/(cm10[0,0]+cm10[0,1])\n",
        "print('Sensitivity : ', sensitivity10 )\n",
        "\n",
        "specificity10 = cm10[1,1]/(cm10[1,0]+cm10[1,1])\n",
        "print('Specificity : ', specificity10)"
      ],
      "metadata": {
        "colab": {
          "base_uri": "https://localhost:8080/"
        },
        "outputId": "bb0e6248-8e47-4ffc-ce20-afc5a3e897b7",
        "id": "7E2RS2EIznRl"
      },
      "execution_count": null,
      "outputs": [
        {
          "output_type": "stream",
          "name": "stdout",
          "text": [
            "Training accuracy of RandomForest is : 0.9753661784287616\n",
            "Test accuracy of RandomForest is : 0.956\n",
            "[[185   6]\n",
            " [  5  54]]\n",
            "              precision    recall  f1-score   support\n",
            "\n",
            "           N       0.97      0.97      0.97       191\n",
            "           Y       0.90      0.92      0.91        59\n",
            "\n",
            "    accuracy                           0.96       250\n",
            "   macro avg       0.94      0.94      0.94       250\n",
            "weighted avg       0.96      0.96      0.96       250\n",
            "\n",
            "Sensitivity :  0.9685863874345549\n",
            "Specificity :  0.9152542372881356\n"
          ]
        }
      ]
    },
    {
      "cell_type": "code",
      "source": [
        "sns.heatmap(cm10, annot=True, fmt='d', cmap='cividis')\n",
        "plt.show()"
      ],
      "metadata": {
        "colab": {
          "base_uri": "https://localhost:8080/",
          "height": 265
        },
        "outputId": "c2199acd-f5f9-44ad-8d33-f59b8938141b",
        "id": "JOwpHoNHznRm"
      },
      "execution_count": null,
      "outputs": [
        {
          "output_type": "display_data",
          "data": {
            "text/plain": [
              "<Figure size 432x288 with 2 Axes>"
            ],
            "image/png": "[encoded data removed]"
          },
          "metadata": {}
        }
      ]
    },
    {
      "cell_type": "markdown",
      "source": [
        "**XGBOOST with ADASYN**"
      ],
      "metadata": {
        "id": "myhwEkVk0xC9"
      }
    },
    {
      "cell_type": "code",
      "source": [
        "from xgboost import XGBClassifier\n",
        "from imblearn.over_sampling import ADASYN\n",
        "from sklearn.pipeline import make_pipeline\n",
        "from imblearn.pipeline import make_pipeline as make_pipeline_imb \n",
        "from imblearn.pipeline import make_pipeline as imbalanced_make_pipeline\n",
        "classifier = XGBClassifier #we will use the Random Forest classifier\n",
        "\n",
        "# build model with SMOTE imblearn\n",
        "adasyn_pipeline = make_pipeline_imb(ADASYN(random_state=4), \\\n",
        "                                   classifier(random_state=42))"
      ],
      "metadata": {
        "id": "kqcdlJA11MfM"
      },
      "execution_count": null,
      "outputs": []
    },
    {
      "cell_type": "code",
      "source": [
        "adasyn_pipeline\n"
      ],
      "metadata": {
        "colab": {
          "base_uri": "https://localhost:8080/"
        },
        "outputId": "2ba1512a-aead-47fa-a6d7-f0a8b1da9776",
        "id": "IdRNbdvU1MfN"
      },
      "execution_count": null,
      "outputs": [
        {
          "output_type": "execute_result",
          "data": {
            "text/plain": [
              "Pipeline(steps=[('adasyn', ADASYN(random_state=4)),\n",
              "                ('xgbclassifier', XGBClassifier(random_state=42))])"
            ]
          },
          "metadata": {},
          "execution_count": 102
        }
      ]
    },
    {
      "cell_type": "code",
      "source": [
        "adasyn_model = adasyn_pipeline.fit(X_train, y_train)"
      ],
      "metadata": {
        "id": "W7OP3Zac1MfN"
      },
      "execution_count": null,
      "outputs": []
    },
    {
      "cell_type": "code",
      "source": [
        "y_train.shape"
      ],
      "metadata": {
        "colab": {
          "base_uri": "https://localhost:8080/"
        },
        "outputId": "68f5d2bc-3863-4542-f815-afb4a3d63010",
        "id": "FNL8XOId1MfN"
      },
      "execution_count": null,
      "outputs": [
        {
          "output_type": "execute_result",
          "data": {
            "text/plain": [
              "(750,)"
            ]
          },
          "metadata": {},
          "execution_count": 104
        }
      ]
    },
    {
      "cell_type": "code",
      "source": [
        "adasyn_prediction = adasyn_model.predict(X_test)"
      ],
      "metadata": {
        "id": "0k0zYili1MfO"
      },
      "execution_count": null,
      "outputs": []
    },
    {
      "cell_type": "code",
      "source": [
        "from imblearn.over_sampling import ADASYN\n",
        "from collections import Counter\n",
        "print(\"normal data distribution: {}\".format(Counter(y)))\n",
        "ada = ADASYN(random_state = 120)\n",
        "X_train_ada,y_train_ada = ada.fit_resample(X,y)\n",
        "\n",
        "print(\"ADASYN data distribution: {}\".format(Counter(y_train_ada)))\n",
        "\n",
        "\n"
      ],
      "metadata": {
        "colab": {
          "base_uri": "https://localhost:8080/"
        },
        "outputId": "0f59b1e2-c28f-407e-9b99-d2755a90c77c",
        "id": "AhDybdlf1MfO"
      },
      "execution_count": null,
      "outputs": [
        {
          "output_type": "stream",
          "name": "stdout",
          "text": [
            "normal data distribution: Counter({'N': 753, 'Y': 247})\n",
            "ADASYN data distribution: Counter({'N': 753, 'Y': 749})\n"
          ]
        }
      ]
    },
    {
      "cell_type": "code",
      "source": [
        "xgb_ada = XGBClassifier()\n",
        "xgb_ada.fit(X_train_ada, y_train_ada)\n",
        "\n",
        "y_pred = xgb_ada.predict(X_test)\n",
        "# accuracy_score, confusion_matrix and classification_report\n",
        "\n",
        "from sklearn.metrics import accuracy_score, confusion_matrix, classification_report\n",
        "\n",
        "xgbadasyn_train_acc = accuracy_score(y_train_ada, xgb_ada.predict(X_train_ada))\n",
        "xgbadasyn_test_acc = accuracy_score(y_test, y_pred)\n",
        "\n",
        "print(f\"Training accuracy of XGBOOST is : {xgbadasyn_train_acc}\")\n",
        "print(f\"Test accuracy of XGBOOST is : {xgbadasyn_test_acc}\")\n",
        "\n",
        "cm11 =confusion_matrix(y_test, y_pred)\n",
        "print(cm11)\n",
        "print(classification_report(y_test, y_pred))\n",
        "sensitivity11=cm11[0,0]/(cm11[0,0]+cm11[0,1])\n",
        "print('Sensitivity : ', sensitivity11 )\n",
        "\n",
        "specificity11 = cm11[1,1]/(cm11[1,0]+cm11[1,1])\n",
        "print('Specificity : ', specificity11)"
      ],
      "metadata": {
        "colab": {
          "base_uri": "https://localhost:8080/"
        },
        "outputId": "18deb7a2-f67f-41a7-a7a1-2cd7753f405b",
        "id": "bDdbbijh1MfO"
      },
      "execution_count": null,
      "outputs": [
        {
          "output_type": "stream",
          "name": "stdout",
          "text": [
            "Training accuracy of XGBOOST is : 0.9121171770972037\n",
            "Test accuracy of XGBOOST is : 0.868\n",
            "[[177  14]\n",
            " [ 19  40]]\n",
            "              precision    recall  f1-score   support\n",
            "\n",
            "           N       0.90      0.93      0.91       191\n",
            "           Y       0.74      0.68      0.71        59\n",
            "\n",
            "    accuracy                           0.87       250\n",
            "   macro avg       0.82      0.80      0.81       250\n",
            "weighted avg       0.86      0.87      0.87       250\n",
            "\n",
            "Sensitivity :  0.9267015706806283\n",
            "Specificity :  0.6779661016949152\n"
          ]
        }
      ]
    },
    {
      "cell_type": "code",
      "source": [
        "sns.heatmap(cm11, annot=True, fmt='d', cmap='afmhot')\n",
        "plt.show()"
      ],
      "metadata": {
        "colab": {
          "base_uri": "https://localhost:8080/",
          "height": 265
        },
        "outputId": "971fd0b1-a671-48cb-dafc-f30b40f327c4",
        "id": "rNJUZ_6i1MfP"
      },
      "execution_count": null,
      "outputs": [
        {
          "output_type": "display_data",
          "data": {
            "text/plain": [
              "<Figure size 432x288 with 2 Axes>"
            ],
            "image/png": "[encoded data removed]"
          },
          "metadata": {}
        }
      ]
    },
    {
      "cell_type": "markdown",
      "source": [
        "**Tabulating the test accuracies of dataset before and after optimisation**"
      ],
      "metadata": {
        "id": "ZLf7ibFc6Frl"
      }
    },
    {
      "cell_type": "code",
      "source": [
        "model_list = ['Decision Tree','Support Vector Machine','Random Forest','XGBoost']\n",
        "\n",
        "testing_Acc = [dtc_test_acc,svc_test_acc,randomforest_test_acc,xgb_test_acc]\n",
        "testing_Acc_smote = [DTsmote_test_acc,SVsmote_test_acc,randomforestsmote_test_acc,XGBsmote_test_acc]\n",
        "testing_Acc_Adasyn = [DTadasyn_test_acc,svcadasyn_test_acc,rfadasyn_test_acc,xgbadasyn_test_acc]\n",
        "\n",
        "\n",
        "df1 = pd.DataFrame({'Model':model_list,'Accuracy': testing_Acc,'Accuracy after SMOTE oversampling':testing_Acc_smote, 'Accuracy after ADASYN oversampling':testing_Acc_Adasyn\n",
        "})\n",
        "df1"
      ],
      "metadata": {
        "colab": {
          "base_uri": "https://localhost:8080/",
          "height": 175
        },
        "id": "sNhnHdsJ0OmU",
        "outputId": "6a417b58-f66d-44f3-d105-9915e13c2894"
      },
      "execution_count": null,
      "outputs": [
        {
          "output_type": "execute_result",
          "data": {
            "text/plain": [
              "                    Model  Accuracy  Accuracy after SMOTE oversampling  \\\n",
              "0           Decision Tree     0.436                              0.844   \n",
              "1  Support Vector Machine     0.764                              0.692   \n",
              "2           Random Forest     0.784                              0.948   \n",
              "3                 XGBoost     0.728                              0.860   \n",
              "\n",
              "   Accuracy after ADASYN oversampling  \n",
              "0                               0.816  \n",
              "1                               0.692  \n",
              "2                               0.956  \n",
              "3                               0.868  "
            ],
            "text/html": [
              "\n",
              "  <div id=\"df-c5c8a352-9768-4ccf-8b86-2eae44fea75f\">\n",
              "    <div class=\"colab-df-container\">\n",
              "      <div>\n",
              "<style scoped>\n",
              "    .dataframe tbody tr th:only-of-type {\n",
              "        vertical-align: middle;\n",
              "    }\n",
              "\n",
              "    .dataframe tbody tr th {\n",
              "        vertical-align: top;\n",
              "    }\n",
              "\n",
              "    .dataframe thead th {\n",
              "        text-align: right;\n",
              "    }\n",
              "</style>\n",
              "<table border=\"1\" class=\"dataframe\">\n",
              "  <thead>\n",
              "    <tr style=\"text-align: right;\">\n",
              "      <th></th>\n",
              "      <th>Model</th>\n",
              "      <th>Accuracy</th>\n",
              "      <th>Accuracy after SMOTE oversampling</th>\n",
              "      <th>Accuracy after ADASYN oversampling</th>\n",
              "    </tr>\n",
              "  </thead>\n",
              "  <tbody>\n",
              "    <tr>\n",
              "      <th>0</th>\n",
              "      <td>Decision Tree</td>\n",
              "      <td>0.436</td>\n",
              "      <td>0.844</td>\n",
              "      <td>0.816</td>\n",
              "    </tr>\n",
              "    <tr>\n",
              "      <th>1</th>\n",
              "      <td>Support Vector Machine</td>\n",
              "      <td>0.764</td>\n",
              "      <td>0.692</td>\n",
              "      <td>0.692</td>\n",
              "    </tr>\n",
              "    <tr>\n",
              "      <th>2</th>\n",
              "      <td>Random Forest</td>\n",
              "      <td>0.784</td>\n",
              "      <td>0.948</td>\n",
              "      <td>0.956</td>\n",
              "    </tr>\n",
              "    <tr>\n",
              "      <th>3</th>\n",
              "      <td>XGBoost</td>\n",
              "      <td>0.728</td>\n",
              "      <td>0.860</td>\n",
              "      <td>0.868</td>\n",
              "    </tr>\n",
              "  </tbody>\n",
              "</table>\n",
              "</div>\n",
              "      <button class=\"colab-df-convert\" onclick=\"convertToInteractive('df-c5c8a352-9768-4ccf-8b86-2eae44fea75f')\"\n",
              "              title=\"Convert this dataframe to an interactive table.\"\n",
              "              style=\"display:none;\">\n",
              "        \n",
              "  <svg xmlns=\"http://www.w3.org/2000/svg\" height=\"24px\"viewBox=\"0 0 24 24\"\n",
              "       width=\"24px\">\n",
              "    <path d=\"M0 0h24v24H0V0z\" fill=\"none\"/>\n",
              "    <path d=\"M18.56 5.44l.94 2.06.94-2.06 2.06-.94-2.06-.94-.94-2.06-.94 2.06-2.06.94zm-11 1L8.5 8.5l.94-2.06 2.06-.94-2.06-.94L8.5 2.5l-.94 2.06-2.06.94zm10 10l.94 2.06.94-2.06 2.06-.94-2.06-.94-.94-2.06-.94 2.06-2.06.94z\"/><path d=\"M17.41 7.96l-1.37-1.37c-.4-.4-.92-.59-1.43-.59-.52 0-1.04.2-1.43.59L10.3 9.45l-7.72 7.72c-.78.78-.78 2.05 0 2.83L4 21.41c.39.39.9.59 1.41.59.51 0 1.02-.2 1.41-.59l7.78-7.78 2.81-2.81c.8-.78.8-2.07 0-2.86zM5.41 20L4 18.59l7.72-7.72 1.47 1.35L5.41 20z\"/>\n",
              "  </svg>\n",
              "      </button>\n",
              "      \n",
              "  <style>\n",
              "    .colab-df-container {\n",
              "      display:flex;\n",
              "      flex-wrap:wrap;\n",
              "      gap: 12px;\n",
              "    }\n",
              "\n",
              "    .colab-df-convert {\n",
              "      background-color: #E8F0FE;\n",
              "      border: none;\n",
              "      border-radius: 50%;\n",
              "      cursor: pointer;\n",
              "      display: none;\n",
              "      fill: #1967D2;\n",
              "      height: 32px;\n",
              "      padding: 0 0 0 0;\n",
              "      width: 32px;\n",
              "    }\n",
              "\n",
              "    .colab-df-convert:hover {\n",
              "      background-color: #E2EBFA;\n",
              "      box-shadow: 0px 1px 2px rgba(60, 64, 67, 0.3), 0px 1px 3px 1px rgba(60, 64, 67, 0.15);\n",
              "      fill: #174EA6;\n",
              "    }\n",
              "\n",
              "    [theme=dark] .colab-df-convert {\n",
              "      background-color: #3B4455;\n",
              "      fill: #D2E3FC;\n",
              "    }\n",
              "\n",
              "    [theme=dark] .colab-df-convert:hover {\n",
              "      background-color: #434B5C;\n",
              "      box-shadow: 0px 1px 3px 1px rgba(0, 0, 0, 0.15);\n",
              "      filter: drop-shadow(0px 1px 2px rgba(0, 0, 0, 0.3));\n",
              "      fill: #FFFFFF;\n",
              "    }\n",
              "  </style>\n",
              "\n",
              "      <script>\n",
              "        const buttonEl =\n",
              "          document.querySelector('#df-c5c8a352-9768-4ccf-8b86-2eae44fea75f button.colab-df-convert');\n",
              "        buttonEl.style.display =\n",
              "          google.colab.kernel.accessAllowed ? 'block' : 'none';\n",
              "\n",
              "        async function convertToInteractive(key) {\n",
              "          const element = document.querySelector('#df-c5c8a352-9768-4ccf-8b86-2eae44fea75f');\n",
              "          const dataTable =\n",
              "            await google.colab.kernel.invokeFunction('convertToInteractive',\n",
              "                                                     [key], {});\n",
              "          if (!dataTable) return;\n",
              "\n",
              "          const docLinkHtml = 'Like what you see? Visit the ' +\n",
              "            '<a target=\"_blank\" href=https://colab.research.google.com/notebooks/data_table.ipynb>data table notebook</a>'\n",
              "            + ' to learn more about interactive tables.';\n",
              "          element.innerHTML = '';\n",
              "          dataTable['output_type'] = 'display_data';\n",
              "          await google.colab.output.renderOutput(dataTable, element);\n",
              "          const docLink = document.createElement('div');\n",
              "          docLink.innerHTML = docLinkHtml;\n",
              "          element.appendChild(docLink);\n",
              "        }\n",
              "      </script>\n",
              "    </div>\n",
              "  </div>\n",
              "  "
            ]
          },
          "metadata": {},
          "execution_count": 109
        }
      ]
    },
    {
      "cell_type": "code",
      "source": [
        "#Accuracy before optimisation\n",
        "import matplotlib.pyplot as plt\n",
        "import seaborn as sns\n",
        "\n",
        "#set seaborn plotting aesthetics\n",
        "sns.set(style='dark')\n",
        "\n",
        "fig = plt.subplots(figsize =(8, 6))\n",
        "\n",
        "bp = sns.barplot(x='Model', y= 'Accuracy', data=df1,\n",
        "         palette=['purple', 'steelblue','green','grey'] )\n",
        "\n",
        "for bar in bp.patches:\n",
        "    bp.annotate(format(bar.get_height(), '.2f'),\n",
        "                   (bar.get_x() + bar.get_width() / 2,\n",
        "                    bar.get_height()), ha='center', va='center',\n",
        "                   size=10, xytext=(0, 8),\n",
        "                   textcoords='offset points')\n",
        "    \n",
        "  \n",
        "#add overall title\n",
        "plt.title('Accuracy before optimization', fontsize=16)\n",
        "\n",
        "#add axis titles\n",
        "plt.xlabel('Classifiers')\n",
        "plt.ylabel('Test Accuracy')\n",
        "\n",
        "#rotate x-axis labels\n",
        "plt.xticks(rotation=45)"
      ],
      "metadata": {
        "colab": {
          "base_uri": "https://localhost:8080/",
          "height": 520
        },
        "id": "2yMOr0RY_LMJ",
        "outputId": "00b7e0a5-7cb5-421d-c426-2259f25af8d8"
      },
      "execution_count": null,
      "outputs": [
        {
          "output_type": "execute_result",
          "data": {
            "text/plain": [
              "(array([0, 1, 2, 3]), <a list of 4 Text major ticklabel objects>)"
            ]
          },
          "metadata": {},
          "execution_count": 110
        },
        {
          "output_type": "display_data",
          "data": {
            "text/plain": [
              "<Figure size 576x432 with 1 Axes>"
            ],
            "image/png": "[encoded data removed]"
          },
          "metadata": {}
        }
      ]
    },
    {
      "cell_type": "code",
      "source": [
        "#Accuracy after using SMOTE\n",
        "import seaborn as sns\n",
        "import matplotlib.pyplot as plt\n",
        "fig = plt.subplots(figsize =(8, 6))\n",
        "GR = sns.barplot( x = 'Model',y='Accuracy after SMOTE oversampling',data = df1, palette=['blue', 'black','red','pink'])\n",
        "for bar in GR.patches:\n",
        "    GR.annotate(format(bar.get_height(), '.2f'),\n",
        "                   (bar.get_x() + bar.get_width() / 2,\n",
        "                    bar.get_height()), ha='center', va='center',\n",
        "                   size=10, xytext=(0, 8),\n",
        "                   textcoords='offset points')\n",
        "  \n",
        "plt.xlabel('Classifiers')\n",
        "plt.title('Test Accuracy after SMOTE oversampling')\n",
        "plt.xticks(rotation=45)"
      ],
      "metadata": {
        "id": "QsQvUDwV7A4i",
        "colab": {
          "base_uri": "https://localhost:8080/",
          "height": 518
        },
        "outputId": "66022580-e8e1-4a59-eaec-33a07176c0a8"
      },
      "execution_count": null,
      "outputs": [
        {
          "output_type": "execute_result",
          "data": {
            "text/plain": [
              "(array([0, 1, 2, 3]), <a list of 4 Text major ticklabel objects>)"
            ]
          },
          "metadata": {},
          "execution_count": 111
        },
        {
          "output_type": "display_data",
          "data": {
            "text/plain": [
              "<Figure size 576x432 with 1 Axes>"
            ],
            "image/png": "[encoded data removed]"
          },
          "metadata": {}
        }
      ]
    },
    {
      "cell_type": "code",
      "source": [
        "#Accuracy after using ADASYN\n",
        "import seaborn as sns\n",
        "import matplotlib.pyplot as plt\n",
        "fig = plt.subplots(figsize =(8, 6))\n",
        "GR = sns.barplot( x = 'Model',y='Accuracy after ADASYN oversampling',data = df1, palette=['purple', 'white','green','grey'])\n",
        "for bar in GR.patches:\n",
        "    GR.annotate(format(bar.get_height(), '.2f'),\n",
        "                   (bar.get_x() + bar.get_width() / 2,\n",
        "                    bar.get_height()), ha='center', va='center',\n",
        "                   size=10, xytext=(0, 8),\n",
        "                   textcoords='offset points')\n",
        "  \n",
        "plt.xlabel('Classifiers')\n",
        "plt.title('Test Accuracy after ADASYN oversampling')\n",
        "plt.xticks(rotation=45)"
      ],
      "metadata": {
        "id": "FX5PSEC_6qL6",
        "colab": {
          "base_uri": "https://localhost:8080/",
          "height": 518
        },
        "outputId": "7f6cf560-b50a-4e44-dbe4-5f53f1b9e448"
      },
      "execution_count": null,
      "outputs": [
        {
          "output_type": "execute_result",
          "data": {
            "text/plain": [
              "(array([0, 1, 2, 3]), <a list of 4 Text major ticklabel objects>)"
            ]
          },
          "metadata": {},
          "execution_count": 112
        },
        {
          "output_type": "display_data",
          "data": {
            "text/plain": [
              "<Figure size 576x432 with 1 Axes>"
            ],
            "image/png": "[encoded data removed]"
          },
          "metadata": {}
        }
      ]
    }
  ]
}